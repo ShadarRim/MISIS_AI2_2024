





<!DOCTYPE html>
<html
  lang="en"
  
  data-color-mode="auto" data-light-theme="light" data-dark-theme="dark"
  data-a11y-animated-images="system" data-a11y-link-underlines="true"
  >




  <head>
    <meta charset="utf-8">
  <link rel="dns-prefetch" href="https://github.githubassets.com">
  <link rel="dns-prefetch" href="https://avatars.githubusercontent.com">
  <link rel="dns-prefetch" href="https://github-cloud.s3.amazonaws.com">
  <link rel="dns-prefetch" href="https://user-images.githubusercontent.com/">
  <link rel="preconnect" href="https://github.githubassets.com" crossorigin>
  <link rel="preconnect" href="https://avatars.githubusercontent.com">

  


  <link crossorigin="anonymous" media="all" rel="stylesheet" href="https://github.githubassets.com/assets/light-0eace2597ca3.css" /><link crossorigin="anonymous" media="all" rel="stylesheet" href="https://github.githubassets.com/assets/dark-a167e256da9c.css" /><link data-color-theme="dark_dimmed" crossorigin="anonymous" media="all" rel="stylesheet" data-href="https://github.githubassets.com/assets/dark_dimmed-d11f2cf8009b.css" /><link data-color-theme="dark_high_contrast" crossorigin="anonymous" media="all" rel="stylesheet" data-href="https://github.githubassets.com/assets/dark_high_contrast-ea7373db06c8.css" /><link data-color-theme="dark_colorblind" crossorigin="anonymous" media="all" rel="stylesheet" data-href="https://github.githubassets.com/assets/dark_colorblind-afa99dcf40f7.css" /><link data-color-theme="light_colorblind" crossorigin="anonymous" media="all" rel="stylesheet" data-href="https://github.githubassets.com/assets/light_colorblind-af6c685139ba.css" /><link data-color-theme="light_high_contrast" crossorigin="anonymous" media="all" rel="stylesheet" data-href="https://github.githubassets.com/assets/light_high_contrast-578cdbc8a5a9.css" /><link data-color-theme="light_tritanopia" crossorigin="anonymous" media="all" rel="stylesheet" data-href="https://github.githubassets.com/assets/light_tritanopia-5cb699a7e247.css" /><link data-color-theme="dark_tritanopia" crossorigin="anonymous" media="all" rel="stylesheet" data-href="https://github.githubassets.com/assets/dark_tritanopia-9b32204967c6.css" />
    <link crossorigin="anonymous" media="all" rel="stylesheet" href="https://github.githubassets.com/assets/primer-primitives-971c6be3ec9f.css" />
    <link crossorigin="anonymous" media="all" rel="stylesheet" href="https://github.githubassets.com/assets/primer-08e422afeb43.css" />
    <link crossorigin="anonymous" media="all" rel="stylesheet" href="https://github.githubassets.com/assets/global-fcad22128422.css" />
    <link crossorigin="anonymous" media="all" rel="stylesheet" href="https://github.githubassets.com/assets/github-2f3974e4587d.css" />
  <link crossorigin="anonymous" media="all" rel="stylesheet" href="https://github.githubassets.com/assets/repository-b6b0e69bbb90.css" />
<link crossorigin="anonymous" media="all" rel="stylesheet" href="https://github.githubassets.com/assets/code-20736c7b619e.css" />

  


  <script type="application/json" id="client-env">{"locale":"en","featureFlags":["docset_management_ui","failbot_handle_non_errors","geojson_azure_maps","image_metric_tracking","repository_suggester_elastic_search","turbo_experiment_risky","sample_network_conn_type","no_character_key_shortcuts_in_inputs","remove_child_patch"]}</script>
<script crossorigin="anonymous" defer="defer" type="application/javascript" src="https://github.githubassets.com/assets/wp-runtime-31e3e745f0ca.js"></script>
<script crossorigin="anonymous" defer="defer" type="application/javascript" src="https://github.githubassets.com/assets/vendors-node_modules_dompurify_dist_purify_js-6890e890956f.js"></script>
<script crossorigin="anonymous" defer="defer" type="application/javascript" src="https://github.githubassets.com/assets/vendors-node_modules_stacktrace-parser_dist_stack-trace-parser_esm_js-node_modules_github_bro-a4c183-79f9611c275b.js"></script>
<script crossorigin="anonymous" defer="defer" type="application/javascript" src="https://github.githubassets.com/assets/vendors-node_modules_github_hydro-analytics-client_dist_analytics-client_js-node_modules_gith-6a10dd-e66ebda625fb.js"></script>
<script crossorigin="anonymous" defer="defer" type="application/javascript" src="https://github.githubassets.com/assets/ui_packages_failbot_failbot_ts-f344cfdbb3b8.js"></script>
<script crossorigin="anonymous" defer="defer" type="application/javascript" src="https://github.githubassets.com/assets/environment-8224c9e1bb22.js"></script>
<script crossorigin="anonymous" defer="defer" type="application/javascript" src="https://github.githubassets.com/assets/vendors-node_modules_github_selector-observer_dist_index_esm_js-9f960d9b217c.js"></script>
<script crossorigin="anonymous" defer="defer" type="application/javascript" src="https://github.githubassets.com/assets/vendors-node_modules_primer_behaviors_dist_esm_focus-zone_js-086f7a27bac0.js"></script>
<script crossorigin="anonymous" defer="defer" type="application/javascript" src="https://github.githubassets.com/assets/vendors-node_modules_github_relative-time-element_dist_index_js-c76945c5961a.js"></script>
<script crossorigin="anonymous" defer="defer" type="application/javascript" src="https://github.githubassets.com/assets/vendors-node_modules_github_combobox-nav_dist_index_js-node_modules_github_markdown-toolbar-e-820fc0-a7dea68af91d.js"></script>
<script crossorigin="anonymous" defer="defer" type="application/javascript" src="https://github.githubassets.com/assets/vendors-node_modules_delegated-events_dist_index_js-node_modules_github_details-dialog-elemen-29dc30-a2a71f11a507.js"></script>
<script crossorigin="anonymous" defer="defer" type="application/javascript" src="https://github.githubassets.com/assets/vendors-node_modules_github_filter-input-element_dist_index_js-node_modules_github_remote-inp-e4ab91-fdb0a0b1b6da.js"></script>
<script crossorigin="anonymous" defer="defer" type="application/javascript" src="https://github.githubassets.com/assets/vendors-node_modules_github_file-attachment-element_dist_index_js-node_modules_primer_view-co-eb424d-7baa8ec97711.js"></script>
<script crossorigin="anonymous" defer="defer" type="application/javascript" src="https://github.githubassets.com/assets/github-elements-43ec5d8facaf.js"></script>
<script crossorigin="anonymous" defer="defer" type="application/javascript" src="https://github.githubassets.com/assets/element-registry-a46483134d6e.js"></script>
<script crossorigin="anonymous" defer="defer" type="application/javascript" src="https://github.githubassets.com/assets/vendors-node_modules_github_catalyst_lib_index_js-node_modules_github_hydro-analytics-client_-978abc0-15861e0630b6.js"></script>
<script crossorigin="anonymous" defer="defer" type="application/javascript" src="https://github.githubassets.com/assets/vendors-node_modules_lit-html_lit-html_js-5b376145beff.js"></script>
<script crossorigin="anonymous" defer="defer" type="application/javascript" src="https://github.githubassets.com/assets/vendors-node_modules_github_mini-throttle_dist_index_js-node_modules_github_alive-client_dist-bf5aa2-1b562c29ab8e.js"></script>
<script crossorigin="anonymous" defer="defer" type="application/javascript" src="https://github.githubassets.com/assets/vendors-node_modules_morphdom_dist_morphdom-esm_js-5bff297a06de.js"></script>
<script crossorigin="anonymous" defer="defer" type="application/javascript" src="https://github.githubassets.com/assets/vendors-node_modules_github_turbo_dist_turbo_es2017-esm_js-c91f4ad18b62.js"></script>
<script crossorigin="anonymous" defer="defer" type="application/javascript" src="https://github.githubassets.com/assets/vendors-node_modules_color-convert_index_js-72c9fbde5ad4.js"></script>
<script crossorigin="anonymous" defer="defer" type="application/javascript" src="https://github.githubassets.com/assets/vendors-node_modules_github_remote-form_dist_index_js-node_modules_scroll-anchoring_dist_scro-231ccf-aa129238d13b.js"></script>
<script crossorigin="anonymous" defer="defer" type="application/javascript" src="https://github.githubassets.com/assets/vendors-node_modules_primer_behaviors_dist_esm_dimensions_js-node_modules_github_jtml_lib_index_js-95b84ee6bc34.js"></script>
<script crossorigin="anonymous" defer="defer" type="application/javascript" src="https://github.githubassets.com/assets/vendors-node_modules_github_paste-markdown_dist_index_esm_js-node_modules_github_quote-select-77da2d-3bdb0030c085.js"></script>
<script crossorigin="anonymous" defer="defer" type="application/javascript" src="https://github.githubassets.com/assets/app_assets_modules_github_updatable-content_ts-ba849e1b2585.js"></script>
<script crossorigin="anonymous" defer="defer" type="application/javascript" src="https://github.githubassets.com/assets/app_assets_modules_github_behaviors_task-list_ts-app_assets_modules_github_onfocus_ts-app_ass-421cec-751caa0072bd.js"></script>
<script crossorigin="anonymous" defer="defer" type="application/javascript" src="https://github.githubassets.com/assets/app_assets_modules_github_sticky-scroll-into-view_ts-cbcee0788fe3.js"></script>
<script crossorigin="anonymous" defer="defer" type="application/javascript" src="https://github.githubassets.com/assets/app_assets_modules_github_behaviors_ajax-error_ts-app_assets_modules_github_behaviors_include-467754-b59a2b2827ad.js"></script>
<script crossorigin="anonymous" defer="defer" type="application/javascript" src="https://github.githubassets.com/assets/app_assets_modules_github_behaviors_commenting_edit_ts-app_assets_modules_github_behaviors_ht-83c235-b85e9f4f1304.js"></script>
<script crossorigin="anonymous" defer="defer" type="application/javascript" src="https://github.githubassets.com/assets/behaviors-eb2a79c8201f.js"></script>
<script crossorigin="anonymous" defer="defer" type="application/javascript" src="https://github.githubassets.com/assets/vendors-node_modules_delegated-events_dist_index_js-node_modules_github_catalyst_lib_index_js-d0256ebff5cd.js"></script>
<script crossorigin="anonymous" defer="defer" type="application/javascript" src="https://github.githubassets.com/assets/notifications-global-99d196517b1b.js"></script>
<script crossorigin="anonymous" defer="defer" type="application/javascript" src="https://github.githubassets.com/assets/code-menu-2658b004279a.js"></script>
  
  <script crossorigin="anonymous" defer="defer" type="application/javascript" src="https://github.githubassets.com/assets/react-lib-1fbfc5be2c18.js"></script>
<script crossorigin="anonymous" defer="defer" type="application/javascript" src="https://github.githubassets.com/assets/vendors-node_modules_primer_octicons-react_dist_index_esm_js-node_modules_primer_react_lib-es-2e8e7c-58ed28fc02ee.js"></script>
<script crossorigin="anonymous" defer="defer" type="application/javascript" src="https://github.githubassets.com/assets/vendors-node_modules_primer_react_lib-esm_Box_Box_js-ebfceb11fb57.js"></script>
<script crossorigin="anonymous" defer="defer" type="application/javascript" src="https://github.githubassets.com/assets/vendors-node_modules_primer_react_lib-esm_Button_Button_js-1081163fdd55.js"></script>
<script crossorigin="anonymous" defer="defer" type="application/javascript" src="https://github.githubassets.com/assets/vendors-node_modules_primer_react_lib-esm_ActionList_index_js-cb47169cb123.js"></script>
<script crossorigin="anonymous" defer="defer" type="application/javascript" src="https://github.githubassets.com/assets/vendors-node_modules_primer_react_lib-esm_Overlay_Overlay_js-node_modules_primer_react_lib-es-fa1130-8d276499c3fb.js"></script>
<script crossorigin="anonymous" defer="defer" type="application/javascript" src="https://github.githubassets.com/assets/vendors-node_modules_primer_react_lib-esm_Text_Text_js-node_modules_primer_react_lib-esm_Text-85a14b-249efa9c2fae.js"></script>
<script crossorigin="anonymous" defer="defer" type="application/javascript" src="https://github.githubassets.com/assets/vendors-node_modules_primer_behaviors_dist_esm_scroll-into-view_js-node_modules_primer_react_-39745e-45b12e4b116b.js"></script>
<script crossorigin="anonymous" defer="defer" type="application/javascript" src="https://github.githubassets.com/assets/vendors-node_modules_primer_react_lib-esm_ActionMenu_ActionMenu_js-a3c61ff6363e.js"></script>
<script crossorigin="anonymous" defer="defer" type="application/javascript" src="https://github.githubassets.com/assets/vendors-node_modules_primer_react_lib-esm_FormControl_FormControl_js-e905f63cdd0f.js"></script>
<script crossorigin="anonymous" defer="defer" type="application/javascript" src="https://github.githubassets.com/assets/vendors-node_modules_react-router-dom_dist_index_js-3b41341d50fe.js"></script>
<script crossorigin="anonymous" defer="defer" type="application/javascript" src="https://github.githubassets.com/assets/vendors-node_modules_primer_react_lib-esm_PageLayout_PageLayout_js-a0f5dc4acaba.js"></script>
<script crossorigin="anonymous" defer="defer" type="application/javascript" src="https://github.githubassets.com/assets/vendors-node_modules_primer_react_lib-esm_ConfirmationDialog_ConfirmationDialog_js-1396cd0754d9.js"></script>
<script crossorigin="anonymous" defer="defer" type="application/javascript" src="https://github.githubassets.com/assets/vendors-node_modules_primer_react_lib-esm_Dialog_js-node_modules_primer_react_lib-esm_Flash_F-ad64b6-7663299a84eb.js"></script>
<script crossorigin="anonymous" defer="defer" type="application/javascript" src="https://github.githubassets.com/assets/vendors-node_modules_primer_react_lib-esm_TreeView_TreeView_js-5d623f8c8e93.js"></script>
<script crossorigin="anonymous" defer="defer" type="application/javascript" src="https://github.githubassets.com/assets/vendors-node_modules_primer_react_lib-esm_Avatar_Avatar_js-node_modules_primer_react_lib-esm_-abca1b-e1f48b432bcb.js"></script>
<script crossorigin="anonymous" defer="defer" type="application/javascript" src="https://github.githubassets.com/assets/vendors-node_modules_primer_react_lib-esm_UnderlineNav_index_js-68debb3ba7c5.js"></script>
<script crossorigin="anonymous" defer="defer" type="application/javascript" src="https://github.githubassets.com/assets/vendors-node_modules_primer_react_lib-esm_AvatarStack_AvatarStack_js-node_modules_primer_reac-d08703-77fc545ff585.js"></script>
<script crossorigin="anonymous" defer="defer" type="application/javascript" src="https://github.githubassets.com/assets/ui_packages_react-core_create-browser-history_ts-ui_packages_react-core_deferred-registry_ts--ebbb92-64923177f972.js"></script>
<script crossorigin="anonymous" defer="defer" type="application/javascript" src="https://github.githubassets.com/assets/ui_packages_react-core_register-app_ts-f7fc9821bc0f.js"></script>
<script crossorigin="anonymous" defer="defer" type="application/javascript" src="https://github.githubassets.com/assets/ui_packages_paths_index_ts-90db45a9ff3f.js"></script>
<script crossorigin="anonymous" defer="defer" type="application/javascript" src="https://github.githubassets.com/assets/ui_packages_ref-selector_RefSelector_tsx-858bb94813b1.js"></script>
<script crossorigin="anonymous" defer="defer" type="application/javascript" src="https://github.githubassets.com/assets/app_assets_modules_github_blob-anchor_ts-app_assets_modules_github_filter-sort_ts-app_assets_-681869-6d4ac1c994bf.js"></script>
<script crossorigin="anonymous" defer="defer" type="application/javascript" src="https://github.githubassets.com/assets/ui_packages_commit-attribution_index_ts-ui_packages_commit-checks-status_index_ts-ui_packages-390327-ba6acb060cf4.js"></script>
<script crossorigin="anonymous" defer="defer" type="application/javascript" src="https://github.githubassets.com/assets/app_assets_modules_react-code-view_pages_CodeView_tsx-c13269f39fa4.js"></script>
<script crossorigin="anonymous" defer="defer" type="application/javascript" src="https://github.githubassets.com/assets/react-code-view-4751ea116b86.js"></script>


  <title>MISiSAI1/13_Обучение_без_градиента.ipynb at main · ShadarRim/MISiSAI1</title>



  <meta name="route-pattern" content="/:user_id/:repository/blob/*name(/*path)">

    
  <meta name="current-catalog-service-hash" content="82c569b93da5c18ed649ebd4c2c79437db4611a6a1373e805a3cb001c64130b7">


  <meta name="request-id" content="0644:2C9876:2C303F24:2CC38031:65C13AB2" data-turbo-transient="true" /><meta name="html-safe-nonce" content="bf040f15d05dff682fa1b6b76e8619bbd3f0d624b418668979f6431dc3d0e5dd" data-turbo-transient="true" /><meta name="visitor-payload" content="eyJyZWZlcnJlciI6Imh0dHBzOi8vZ2l0aHViLmNvbS9TaGFkYXJSaW0vTUlTaVNBSTEiLCJyZXF1ZXN0X2lkIjoiMDY0NDoyQzk4NzY6MkMzMDNGMjQ6MkNDMzgwMzE6NjVDMTNBQjIiLCJ2aXNpdG9yX2lkIjoiNzEzODE1MzYwOTQ4MTMwMDE5MSIsInJlZ2lvbl9lZGdlIjoiZnJhIiwicmVnaW9uX3JlbmRlciI6ImlhZCJ9" data-turbo-transient="true" /><meta name="visitor-hmac" content="6ccfd4b35685e55527f419f4452cc224516531846b5ac032699858d9edc42923" data-turbo-transient="true" />


    <meta name="hovercard-subject-tag" content="repository:610465109" data-turbo-transient>


  <meta name="github-keyboard-shortcuts" content="repository,source-code,file-tree,copilot" data-turbo-transient="true" />
  

  <meta name="selected-link" value="repo_source" data-turbo-transient>
  <link rel="assets" href="https://github.githubassets.com/">

    <meta name="google-site-verification" content="c1kuD-K2HIVF635lypcsWPoD4kilo5-jA_wBFyT4uMY">
  <meta name="google-site-verification" content="KT5gs8h0wvaagLKAVWq8bbeNwnZZK1r1XQysX3xurLU">
  <meta name="google-site-verification" content="ZzhVyEFwb7w3e0-uOTltm8Jsck2F5StVihD0exw2fsA">
  <meta name="google-site-verification" content="GXs5KoUUkNCoaAZn7wPN-t01Pywp9M3sEjnt_3_ZWPc">
  <meta name="google-site-verification" content="Apib7-x98H0j5cPqHWwSMm6dNU4GmODRoqxLiDzdx9I">

<meta name="octolytics-url" content="https://collector.github.com/github/collect" /><meta name="octolytics-actor-id" content="2856046" /><meta name="octolytics-actor-login" content="ShadarRim" /><meta name="octolytics-actor-hash" content="ee71229d737a9d2bc2db6e5eb212b3391d9cd8fd778af9e76ff5db9e18a2dee0" />

  <meta name="analytics-location" content="/&lt;user-name&gt;/&lt;repo-name&gt;/blob/show" data-turbo-transient="true" />

  




  

    <meta name="user-login" content="ShadarRim">

  <link rel="sudo-modal" href="/sessions/sudo_modal">

    <meta name="viewport" content="width=device-width">
    
      <meta name="description" content="Contribute to ShadarRim/MISiSAI1 development by creating an account on GitHub.">
      <link rel="search" type="application/opensearchdescription+xml" href="/opensearch.xml" title="GitHub">
    <link rel="fluid-icon" href="https://github.com/fluidicon.png" title="GitHub">
    <meta property="fb:app_id" content="1401488693436528">
    <meta name="apple-itunes-app" content="app-id=1477376905, app-argument=https://github.com/ShadarRim/MISiSAI1/blob/main/13_%D0%9E%D0%B1%D1%83%D1%87%D0%B5%D0%BD%D0%B8%D0%B5_%D0%B1%D0%B5%D0%B7_%D0%B3%D1%80%D0%B0%D0%B4%D0%B8%D0%B5%D0%BD%D1%82%D0%B0.ipynb" />
      <meta name="twitter:image:src" content="https://opengraph.githubassets.com/324eccf3dd4eff66bf0954170e0498f1d95c5d5348eb618e5971ccb7dc926ea7/ShadarRim/MISiSAI1" /><meta name="twitter:site" content="@github" /><meta name="twitter:card" content="summary_large_image" /><meta name="twitter:title" content="MISiSAI1/13_Обучение_без_градиента.ipynb at main · ShadarRim/MISiSAI1" /><meta name="twitter:description" content="Contribute to ShadarRim/MISiSAI1 development by creating an account on GitHub." />
      <meta property="og:image" content="https://opengraph.githubassets.com/324eccf3dd4eff66bf0954170e0498f1d95c5d5348eb618e5971ccb7dc926ea7/ShadarRim/MISiSAI1" /><meta property="og:image:alt" content="Contribute to ShadarRim/MISiSAI1 development by creating an account on GitHub." /><meta property="og:image:width" content="1200" /><meta property="og:image:height" content="600" /><meta property="og:site_name" content="GitHub" /><meta property="og:type" content="object" /><meta property="og:title" content="MISiSAI1/13_Обучение_без_градиента.ipynb at main · ShadarRim/MISiSAI1" /><meta property="og:url" content="https://github.com/ShadarRim/MISiSAI1/blob/main/13_%D0%9E%D0%B1%D1%83%D1%87%D0%B5%D0%BD%D0%B8%D0%B5_%D0%B1%D0%B5%D0%B7_%D0%B3%D1%80%D0%B0%D0%B4%D0%B8%D0%B5%D0%BD%D1%82%D0%B0.ipynb" /><meta property="og:description" content="Contribute to ShadarRim/MISiSAI1 development by creating an account on GitHub." />
      

      <link rel="shared-web-socket" href="wss://alive.github.com/_sockets/u/2856046/ws?session=eyJ2IjoiVjMiLCJ1IjoyODU2MDQ2LCJzIjoxMzA1NzY3NjIwLCJjIjoyMTYzNDIzOTg4LCJ0IjoxNzA3MTYyMjk4fQ==--7352ca72da86042f9e22cd7ba4ff1d43d42f202f07d6e50d97b50ef1988e125c" data-refresh-url="/_alive" data-session-id="a0bd7bcb492f2311f47c2175c4f75fe8ac0d2647fa9822d850989973a89127e3">
      <link rel="shared-web-socket-src" href="/assets-cdn/worker/socket-worker-9cc1149b224c.js">


        <meta name="hostname" content="github.com">


      <meta name="keyboard-shortcuts-preference" content="all">

        <meta name="expected-hostname" content="github.com">


  <meta http-equiv="x-pjax-version" content="e9be89fd714696cce87bf6b4b81e39a9eeae13b9e92990931a3d271ec3e8eaea" data-turbo-track="reload">
  <meta http-equiv="x-pjax-csp-version" content="ae103d46751402deb32ef7558344b3317ecae6ba395248ce5ba8ccc1a7ed94e6" data-turbo-track="reload">
  <meta http-equiv="x-pjax-css-version" content="7d2e94a2c3fb0bacb9f5f771b06fffc77ca2e8977ced5fc49e070a597afea14f" data-turbo-track="reload">
  <meta http-equiv="x-pjax-js-version" content="cdcd6211a31548d0ccbbade80925f8d1aa9c3e6f10c247c46b161fed44673efa" data-turbo-track="reload">

  <meta name="turbo-cache-control" content="no-preview" data-turbo-transient="">

      <meta name="turbo-cache-control" content="no-cache" data-turbo-transient>
    <meta data-hydrostats="publish">

  <meta name="go-import" content="github.com/ShadarRim/MISiSAI1 git https://github.com/ShadarRim/MISiSAI1.git">

  <meta name="octolytics-dimension-user_id" content="2856046" /><meta name="octolytics-dimension-user_login" content="ShadarRim" /><meta name="octolytics-dimension-repository_id" content="610465109" /><meta name="octolytics-dimension-repository_nwo" content="ShadarRim/MISiSAI1" /><meta name="octolytics-dimension-repository_public" content="true" /><meta name="octolytics-dimension-repository_is_fork" content="false" /><meta name="octolytics-dimension-repository_network_root_id" content="610465109" /><meta name="octolytics-dimension-repository_network_root_nwo" content="ShadarRim/MISiSAI1" />



  <meta name="turbo-body-classes" content="logged-in env-production page-responsive">


  <meta name="browser-stats-url" content="https://api.github.com/_private/browser/stats">

  <meta name="browser-errors-url" content="https://api.github.com/_private/browser/errors">

  <meta name="browser-optimizely-client-errors-url" content="https://api.github.com/_private/browser/optimizely_client/errors">

  <link rel="mask-icon" href="https://github.githubassets.com/assets/pinned-octocat-093da3e6fa40.svg" color="#000000">
  <link rel="alternate icon" class="js-site-favicon" type="image/png" href="https://github.githubassets.com/favicons/favicon.png">
  <link rel="icon" class="js-site-favicon" type="image/svg+xml" href="https://github.githubassets.com/favicons/favicon.svg">

<meta name="theme-color" content="#1e2327">
<meta name="color-scheme" content="light dark" />


  <link rel="manifest" href="/manifest.json" crossOrigin="use-credentials">

  </head>

  <body class="logged-in env-production page-responsive" style="word-wrap: break-word;">
    <div data-turbo-body class="logged-in env-production page-responsive" style="word-wrap: break-word;">
      


    <div class="position-relative js-header-wrapper ">
      <a href="#start-of-content" class="p-3 color-bg-accent-emphasis color-fg-on-emphasis show-on-focus js-skip-to-content">Skip to content</a>
      <span data-view-component="true" class="progress-pjax-loader Progress position-fixed width-full">
    <span style="width: 0%;" data-view-component="true" class="Progress-item progress-pjax-loader-bar left-0 top-0 color-bg-accent-emphasis"></span>
</span>      
      
  




<script crossorigin="anonymous" defer="defer" type="application/javascript" src="https://github.githubassets.com/assets/vendors-node_modules_primer_react_lib-esm_Button_IconButton_js-node_modules_primer_react_lib--23bcad-ccf1d5fc6054.js"></script>

<script crossorigin="anonymous" defer="defer" type="application/javascript" src="https://github.githubassets.com/assets/keyboard-shortcuts-dialog-d95ec4d45114.js"></script>

<react-partial
  partial-name="keyboard-shortcuts-dialog"
  data-ssr="false"
>
  
  <script type="application/json" data-target="react-partial.embeddedData">{"props":{}}</script>
  <div data-target="react-partial.reactRoot"></div>
</react-partial>



      

        <script crossorigin="anonymous" defer="defer" type="application/javascript" src="https://github.githubassets.com/assets/vendors-node_modules_allex_crc32_lib_crc32_esm_js-node_modules_github_mini-throttle_dist_deco-b38cad-748e74df23ce.js"></script>
<script crossorigin="anonymous" defer="defer" type="application/javascript" src="https://github.githubassets.com/assets/vendors-node_modules_github_clipboard-copy-element_dist_index_esm_js-node_modules_delegated-e-b37f7d-2f24d321a3fb.js"></script>
<script crossorigin="anonymous" defer="defer" type="application/javascript" src="https://github.githubassets.com/assets/app_assets_modules_github_command-palette_items_help-item_ts-app_assets_modules_github_comman-48ad9d-b64c1039e04d.js"></script>
<script crossorigin="anonymous" defer="defer" type="application/javascript" src="https://github.githubassets.com/assets/command-palette-4a91d9475ff6.js"></script>

            <header class="AppHeader">
    

    <div class="AppHeader-globalBar pb-2 js-global-bar">
      <div class="AppHeader-globalBar-start">
          <deferred-side-panel data-url="/_side-panels/global">
  <include-fragment data-target="deferred-side-panel.fragment">
      <button aria-label="Open global navigation menu" data-action="click:deferred-side-panel#loadPanel click:deferred-side-panel#panelOpened" data-show-dialog-id="dialog-2a83700c-e647-4f29-8733-fc2386844609" id="dialog-show-dialog-2a83700c-e647-4f29-8733-fc2386844609" type="button" data-view-component="true" class="Button Button--iconOnly Button--secondary Button--medium AppHeader-button color-bg-transparent p-0 color-fg-muted">  <svg aria-hidden="true" height="16" viewBox="0 0 16 16" version="1.1" width="16" data-view-component="true" class="octicon octicon-three-bars Button-visual">
    <path d="M1 2.75A.75.75 0 0 1 1.75 2h12.5a.75.75 0 0 1 0 1.5H1.75A.75.75 0 0 1 1 2.75Zm0 5A.75.75 0 0 1 1.75 7h12.5a.75.75 0 0 1 0 1.5H1.75A.75.75 0 0 1 1 7.75ZM1.75 12h12.5a.75.75 0 0 1 0 1.5H1.75a.75.75 0 0 1 0-1.5Z"></path>
</svg>
</button>

<dialog-helper>
  <dialog data-target="deferred-side-panel.panel" id="dialog-2a83700c-e647-4f29-8733-fc2386844609" aria-modal="true" aria-disabled="true" aria-labelledby="dialog-2a83700c-e647-4f29-8733-fc2386844609-title" aria-describedby="dialog-2a83700c-e647-4f29-8733-fc2386844609-description" data-view-component="true" class="Overlay Overlay-whenNarrow Overlay--size-small-portrait Overlay--motion-scaleFade Overlay--placement-left SidePanel">
    <div styles="flex-direction: row;" data-view-component="true" class="Overlay-header">
  <div class="Overlay-headerContentWrap">
    <div class="Overlay-titleWrap">
      <h1 class="Overlay-title sr-only" id="dialog-2a83700c-e647-4f29-8733-fc2386844609-title">
        Global navigation
      </h1>
            <div data-view-component="true" class="d-flex">
      <div data-view-component="true" class="AppHeader-logo position-relative">
        <svg aria-hidden="true" height="24" viewBox="0 0 16 16" version="1.1" width="24" data-view-component="true" class="octicon octicon-mark-github">
    <path d="M8 0c4.42 0 8 3.58 8 8a8.013 8.013 0 0 1-5.45 7.59c-.4.08-.55-.17-.55-.38 0-.27.01-1.13.01-2.2 0-.75-.25-1.23-.54-1.48 1.78-.2 3.65-.88 3.65-3.95 0-.88-.31-1.59-.82-2.15.08-.2.36-1.02-.08-2.12 0 0-.67-.22-2.2.82-.64-.18-1.32-.27-2-.27-.68 0-1.36.09-2 .27-1.53-1.03-2.2-.82-2.2-.82-.44 1.1-.16 1.92-.08 2.12-.51.56-.82 1.28-.82 2.15 0 3.06 1.86 3.75 3.64 3.95-.23.2-.44.55-.51 1.07-.46.21-1.61.55-2.33-.66-.15-.24-.6-.83-1.23-.82-.67.01-.27.38.01.53.34.19.73.9.82 1.13.16.45.68 1.31 2.69.94 0 .67.01 1.3.01 1.49 0 .21-.15.45-.55.38A7.995 7.995 0 0 1 0 8c0-4.42 3.58-8 8-8Z"></path>
</svg>
</div></div>
    </div>
    <div class="Overlay-actionWrap">
      <button data-close-dialog-id="dialog-2a83700c-e647-4f29-8733-fc2386844609" aria-label="Close" type="button" data-view-component="true" class="close-button Overlay-closeButton"><svg aria-hidden="true" height="16" viewBox="0 0 16 16" version="1.1" width="16" data-view-component="true" class="octicon octicon-x">
    <path d="M3.72 3.72a.75.75 0 0 1 1.06 0L8 6.94l3.22-3.22a.749.749 0 0 1 1.275.326.749.749 0 0 1-.215.734L9.06 8l3.22 3.22a.749.749 0 0 1-.326 1.275.749.749 0 0 1-.734-.215L8 9.06l-3.22 3.22a.751.751 0 0 1-1.042-.018.751.751 0 0 1-.018-1.042L6.94 8 3.72 4.78a.75.75 0 0 1 0-1.06Z"></path>
</svg></button>
    </div>
  </div>
</div>
      <scrollable-region data-labelled-by="dialog-2a83700c-e647-4f29-8733-fc2386844609-title">
        <div data-view-component="true" class="Overlay-body d-flex flex-column px-2">    <div data-view-component="true" class="d-flex flex-column mb-3">
        <nav aria-label="Site navigation" data-view-component="true" class="ActionList">
  
  <nav-list>
    <ul data-view-component="true" class="ActionListWrap">
        
          
<li data-targets="nav-list.items nav-list.items" data-item-id="" data-view-component="true" class="ActionListItem">
    
    <a data-hotkey="g d" data-analytics-event="{&quot;category&quot;:&quot;Global navigation&quot;,&quot;action&quot;:&quot;HOME&quot;,&quot;label&quot;:null}" id="item-6010dffc-a53c-4901-98f7-a1f85453ace0" href="/dashboard" data-view-component="true" class="ActionListContent ActionListContent--visual16">
        <span class="ActionListItem-visual ActionListItem-visual--leading">
          <svg aria-hidden="true" height="16" viewBox="0 0 16 16" version="1.1" width="16" data-view-component="true" class="octicon octicon-home">
    <path d="M6.906.664a1.749 1.749 0 0 1 2.187 0l5.25 4.2c.415.332.657.835.657 1.367v7.019A1.75 1.75 0 0 1 13.25 15h-3.5a.75.75 0 0 1-.75-.75V9H7v5.25a.75.75 0 0 1-.75.75h-3.5A1.75 1.75 0 0 1 1 13.25V6.23c0-.531.242-1.034.657-1.366l5.25-4.2Zm1.25 1.171a.25.25 0 0 0-.312 0l-5.25 4.2a.25.25 0 0 0-.094.196v7.019c0 .138.112.25.25.25H5.5V8.25a.75.75 0 0 1 .75-.75h3.5a.75.75 0 0 1 .75.75v5.25h2.75a.25.25 0 0 0 .25-.25V6.23a.25.25 0 0 0-.094-.195Z"></path>
</svg>
        </span>
      
        <span data-view-component="true" class="ActionListItem-label">
          Home
</span></a>
  
  
</li>

        
          
<li data-targets="nav-list.items nav-list.items" data-item-id="" data-view-component="true" class="ActionListItem">
    
    <a data-hotkey="g i" data-analytics-event="{&quot;category&quot;:&quot;Global navigation&quot;,&quot;action&quot;:&quot;ISSUES&quot;,&quot;label&quot;:null}" id="item-0d7c9b4b-1b86-499f-ac43-fbddb0c9d2b7" href="/issues" data-view-component="true" class="ActionListContent ActionListContent--visual16">
        <span class="ActionListItem-visual ActionListItem-visual--leading">
          <svg aria-hidden="true" height="16" viewBox="0 0 16 16" version="1.1" width="16" data-view-component="true" class="octicon octicon-issue-opened">
    <path d="M8 9.5a1.5 1.5 0 1 0 0-3 1.5 1.5 0 0 0 0 3Z"></path><path d="M8 0a8 8 0 1 1 0 16A8 8 0 0 1 8 0ZM1.5 8a6.5 6.5 0 1 0 13 0 6.5 6.5 0 0 0-13 0Z"></path>
</svg>
        </span>
      
        <span data-view-component="true" class="ActionListItem-label">
          Issues
</span></a>
  
  
</li>

        
          
<li data-targets="nav-list.items nav-list.items" data-item-id="" data-view-component="true" class="ActionListItem">
    
    <a data-hotkey="g p" data-analytics-event="{&quot;category&quot;:&quot;Global navigation&quot;,&quot;action&quot;:&quot;PULL_REQUESTS&quot;,&quot;label&quot;:null}" id="item-a8b0d4aa-98a8-46e2-9b14-8f26b2d8e3d2" href="/pulls" data-view-component="true" class="ActionListContent ActionListContent--visual16">
        <span class="ActionListItem-visual ActionListItem-visual--leading">
          <svg aria-hidden="true" height="16" viewBox="0 0 16 16" version="1.1" width="16" data-view-component="true" class="octicon octicon-git-pull-request">
    <path d="M1.5 3.25a2.25 2.25 0 1 1 3 2.122v5.256a2.251 2.251 0 1 1-1.5 0V5.372A2.25 2.25 0 0 1 1.5 3.25Zm5.677-.177L9.573.677A.25.25 0 0 1 10 .854V2.5h1A2.5 2.5 0 0 1 13.5 5v5.628a2.251 2.251 0 1 1-1.5 0V5a1 1 0 0 0-1-1h-1v1.646a.25.25 0 0 1-.427.177L7.177 3.427a.25.25 0 0 1 0-.354ZM3.75 2.5a.75.75 0 1 0 0 1.5.75.75 0 0 0 0-1.5Zm0 9.5a.75.75 0 1 0 0 1.5.75.75 0 0 0 0-1.5Zm8.25.75a.75.75 0 1 0 1.5 0 .75.75 0 0 0-1.5 0Z"></path>
</svg>
        </span>
      
        <span data-view-component="true" class="ActionListItem-label">
          Pull requests
</span></a>
  
  
</li>

        
          
<li data-targets="nav-list.items nav-list.items" data-item-id="" data-item-id="projects" data-view-component="true" class="ActionListItem">
    
    <a data-analytics-event="{&quot;category&quot;:&quot;Global navigation&quot;,&quot;action&quot;:&quot;PROJECTS&quot;,&quot;label&quot;:null}" id="item-31ea0634-dc15-441c-87d5-d4dc4112a6ae" href="/projects" data-view-component="true" class="ActionListContent ActionListContent--visual16">
        <span class="ActionListItem-visual ActionListItem-visual--leading">
          <svg aria-hidden="true" height="16" viewBox="0 0 16 16" version="1.1" width="16" data-view-component="true" class="octicon octicon-table">
    <path d="M0 1.75C0 .784.784 0 1.75 0h12.5C15.216 0 16 .784 16 1.75v12.5A1.75 1.75 0 0 1 14.25 16H1.75A1.75 1.75 0 0 1 0 14.25ZM6.5 6.5v8h7.75a.25.25 0 0 0 .25-.25V6.5Zm8-1.5V1.75a.25.25 0 0 0-.25-.25H6.5V5Zm-13 1.5v7.75c0 .138.112.25.25.25H5v-8ZM5 5V1.5H1.75a.25.25 0 0 0-.25.25V5Z"></path>
</svg>
        </span>
      
        <span data-view-component="true" class="ActionListItem-label">
          Projects
</span></a>
  
  
</li>

        
          
<li data-targets="nav-list.items nav-list.items" data-item-id="" data-view-component="true" class="ActionListItem">
    
    <a data-analytics-event="{&quot;category&quot;:&quot;Global navigation&quot;,&quot;action&quot;:&quot;DISCUSSIONS&quot;,&quot;label&quot;:null}" id="item-edf8b3ad-030c-4ce5-a5bd-91d86a605401" href="/discussions" data-view-component="true" class="ActionListContent ActionListContent--visual16">
        <span class="ActionListItem-visual ActionListItem-visual--leading">
          <svg aria-hidden="true" height="16" viewBox="0 0 16 16" version="1.1" width="16" data-view-component="true" class="octicon octicon-comment-discussion">
    <path d="M1.75 1h8.5c.966 0 1.75.784 1.75 1.75v5.5A1.75 1.75 0 0 1 10.25 10H7.061l-2.574 2.573A1.458 1.458 0 0 1 2 11.543V10h-.25A1.75 1.75 0 0 1 0 8.25v-5.5C0 1.784.784 1 1.75 1ZM1.5 2.75v5.5c0 .138.112.25.25.25h1a.75.75 0 0 1 .75.75v2.19l2.72-2.72a.749.749 0 0 1 .53-.22h3.5a.25.25 0 0 0 .25-.25v-5.5a.25.25 0 0 0-.25-.25h-8.5a.25.25 0 0 0-.25.25Zm13 2a.25.25 0 0 0-.25-.25h-.5a.75.75 0 0 1 0-1.5h.5c.966 0 1.75.784 1.75 1.75v5.5A1.75 1.75 0 0 1 14.25 12H14v1.543a1.458 1.458 0 0 1-2.487 1.03L9.22 12.28a.749.749 0 0 1 .326-1.275.749.749 0 0 1 .734.215l2.22 2.22v-2.19a.75.75 0 0 1 .75-.75h1a.25.25 0 0 0 .25-.25Z"></path>
</svg>
        </span>
      
        <span data-view-component="true" class="ActionListItem-label">
          Discussions
</span></a>
  
  
</li>

        
          
<li data-targets="nav-list.items nav-list.items" data-item-id="" data-view-component="true" class="ActionListItem">
    
    <a data-analytics-event="{&quot;category&quot;:&quot;Global navigation&quot;,&quot;action&quot;:&quot;CODESPACES&quot;,&quot;label&quot;:null}" id="item-30ad2a30-d86d-4ade-9894-e9f0ab7ae576" href="https://github.com/codespaces" data-view-component="true" class="ActionListContent ActionListContent--visual16">
        <span class="ActionListItem-visual ActionListItem-visual--leading">
          <svg aria-hidden="true" height="16" viewBox="0 0 16 16" version="1.1" width="16" data-view-component="true" class="octicon octicon-codespaces">
    <path d="M0 11.25c0-.966.784-1.75 1.75-1.75h12.5c.966 0 1.75.784 1.75 1.75v3A1.75 1.75 0 0 1 14.25 16H1.75A1.75 1.75 0 0 1 0 14.25Zm2-9.5C2 .784 2.784 0 3.75 0h8.5C13.216 0 14 .784 14 1.75v5a1.75 1.75 0 0 1-1.75 1.75h-8.5A1.75 1.75 0 0 1 2 6.75Zm1.75-.25a.25.25 0 0 0-.25.25v5c0 .138.112.25.25.25h8.5a.25.25 0 0 0 .25-.25v-5a.25.25 0 0 0-.25-.25Zm-2 9.5a.25.25 0 0 0-.25.25v3c0 .138.112.25.25.25h12.5a.25.25 0 0 0 .25-.25v-3a.25.25 0 0 0-.25-.25Z"></path><path d="M7 12.75a.75.75 0 0 1 .75-.75h4.5a.75.75 0 0 1 0 1.5h-4.5a.75.75 0 0 1-.75-.75Zm-4 0a.75.75 0 0 1 .75-.75h.5a.75.75 0 0 1 0 1.5h-.5a.75.75 0 0 1-.75-.75Z"></path>
</svg>
        </span>
      
        <span data-view-component="true" class="ActionListItem-label">
          Codespaces
</span></a>
  
  
</li>

        
          <li role="presentation" aria-hidden="true" data-view-component="true" class="ActionList-sectionDivider"></li>
        
          
<li data-targets="nav-list.items nav-list.items" data-item-id="" data-view-component="true" class="ActionListItem">
    
    <a data-analytics-event="{&quot;category&quot;:&quot;Global navigation&quot;,&quot;action&quot;:&quot;EXPLORE&quot;,&quot;label&quot;:null}" id="item-7cccac9c-1377-442e-b7b3-392edde9a2a8" href="/explore" data-view-component="true" class="ActionListContent ActionListContent--visual16">
        <span class="ActionListItem-visual ActionListItem-visual--leading">
          <svg aria-hidden="true" height="16" viewBox="0 0 16 16" version="1.1" width="16" data-view-component="true" class="octicon octicon-telescope">
    <path d="M14.184 1.143v-.001l1.422 2.464a1.75 1.75 0 0 1-.757 2.451L3.104 11.713a1.75 1.75 0 0 1-2.275-.702l-.447-.775a1.75 1.75 0 0 1 .53-2.32L11.682.573a1.748 1.748 0 0 1 2.502.57Zm-4.709 9.32h-.001l2.644 3.863a.75.75 0 1 1-1.238.848l-1.881-2.75v2.826a.75.75 0 0 1-1.5 0v-2.826l-1.881 2.75a.75.75 0 1 1-1.238-.848l2.049-2.992a.746.746 0 0 1 .293-.253l1.809-.87a.749.749 0 0 1 .944.252ZM9.436 3.92h-.001l-4.97 3.39.942 1.63 5.42-2.61Zm3.091-2.108h.001l-1.85 1.26 1.505 2.605 2.016-.97a.247.247 0 0 0 .13-.151.247.247 0 0 0-.022-.199l-1.422-2.464a.253.253 0 0 0-.161-.119.254.254 0 0 0-.197.038ZM1.756 9.157a.25.25 0 0 0-.075.33l.447.775a.25.25 0 0 0 .325.1l1.598-.769-.83-1.436-1.465 1Z"></path>
</svg>
        </span>
      
        <span data-view-component="true" class="ActionListItem-label">
          Explore
</span></a>
  
  
</li>

        
          
<li data-targets="nav-list.items nav-list.items" data-item-id="" data-view-component="true" class="ActionListItem">
    
    <a data-analytics-event="{&quot;category&quot;:&quot;Global navigation&quot;,&quot;action&quot;:&quot;MARKETPLACE&quot;,&quot;label&quot;:null}" id="item-ddfa17cd-a4b7-4989-bae5-77f234bfb244" href="/marketplace" data-view-component="true" class="ActionListContent ActionListContent--visual16">
        <span class="ActionListItem-visual ActionListItem-visual--leading">
          <svg aria-hidden="true" height="16" viewBox="0 0 16 16" version="1.1" width="16" data-view-component="true" class="octicon octicon-gift">
    <path d="M2 2.75A2.75 2.75 0 0 1 4.75 0c.983 0 1.873.42 2.57 1.232.268.318.497.668.68 1.042.183-.375.411-.725.68-1.044C9.376.42 10.266 0 11.25 0a2.75 2.75 0 0 1 2.45 4h.55c.966 0 1.75.784 1.75 1.75v2c0 .698-.409 1.301-1 1.582v4.918A1.75 1.75 0 0 1 13.25 16H2.75A1.75 1.75 0 0 1 1 14.25V9.332C.409 9.05 0 8.448 0 7.75v-2C0 4.784.784 4 1.75 4h.55c-.192-.375-.3-.8-.3-1.25ZM7.25 9.5H2.5v4.75c0 .138.112.25.25.25h4.5Zm1.5 0v5h4.5a.25.25 0 0 0 .25-.25V9.5Zm0-4V8h5.5a.25.25 0 0 0 .25-.25v-2a.25.25 0 0 0-.25-.25Zm-7 0a.25.25 0 0 0-.25.25v2c0 .138.112.25.25.25h5.5V5.5h-5.5Zm3-4a1.25 1.25 0 0 0 0 2.5h2.309c-.233-.818-.542-1.401-.878-1.793-.43-.502-.915-.707-1.431-.707ZM8.941 4h2.309a1.25 1.25 0 0 0 0-2.5c-.516 0-1 .205-1.43.707-.337.392-.646.975-.879 1.793Z"></path>
</svg>
        </span>
      
        <span data-view-component="true" class="ActionListItem-label">
          Marketplace
</span></a>
  
  
</li>

</ul>  </nav-list>
</nav>

        <div data-view-component="true" class="my-3 d-flex flex-justify-center height-full">
          <svg style="box-sizing: content-box; color: var(--color-icon-primary);" width="16" height="16" viewBox="0 0 16 16" fill="none" data-view-component="true" class="anim-rotate">
  <circle cx="8" cy="8" r="7" stroke="currentColor" stroke-opacity="0.25" stroke-width="2" vector-effect="non-scaling-stroke" fill="none" />
  <path d="M15 8a7.002 7.002 0 00-7-7" stroke="currentColor" stroke-width="2" stroke-linecap="round" vector-effect="non-scaling-stroke" />
</svg>
</div>
</div>
      <div data-view-component="true" class="flex-1"></div>


      <div data-view-component="true" class="px-2">      <p class="color-fg-subtle text-small text-light">&copy; 2024 GitHub, Inc.</p>

      <div data-view-component="true" class="d-flex flex-wrap text-small text-light">
          <a target="_blank" href="https://github.com/about" data-view-component="true" class="Link mr-2">About</a>
          <a target="_blank" href="https://github.blog" data-view-component="true" class="Link mr-2">Blog</a>
          <a target="_blank" href="https://docs.github.com/site-policy/github-terms/github-terms-of-service" data-view-component="true" class="Link mr-2">Terms</a>
          <a target="_blank" href="https://docs.github.com/site-policy/privacy-policies/github-privacy-statement" data-view-component="true" class="Link mr-2">Privacy</a>
          <a target="_blank" href="https://github.com/security" data-view-component="true" class="Link mr-2">Security</a>
          <a target="_blank" href="https://www.githubstatus.com/" data-view-component="true" class="Link mr-3">Status</a>

</div></div>
</div>
      </scrollable-region>
      
</dialog></dialog-helper>

  </include-fragment>
</deferred-side-panel>

        <a
          class="AppHeader-logo ml-2"
          href="https://github.com/"
          data-hotkey="g d"
          aria-label="Homepage "
          data-turbo="false"
          data-analytics-event="{&quot;category&quot;:&quot;Header&quot;,&quot;action&quot;:&quot;go to dashboard&quot;,&quot;label&quot;:&quot;icon:logo&quot;}"
        >
          <svg height="32" aria-hidden="true" viewBox="0 0 16 16" version="1.1" width="32" data-view-component="true" class="octicon octicon-mark-github v-align-middle color-fg-default">
    <path d="M8 0c4.42 0 8 3.58 8 8a8.013 8.013 0 0 1-5.45 7.59c-.4.08-.55-.17-.55-.38 0-.27.01-1.13.01-2.2 0-.75-.25-1.23-.54-1.48 1.78-.2 3.65-.88 3.65-3.95 0-.88-.31-1.59-.82-2.15.08-.2.36-1.02-.08-2.12 0 0-.67-.22-2.2.82-.64-.18-1.32-.27-2-.27-.68 0-1.36.09-2 .27-1.53-1.03-2.2-.82-2.2-.82-.44 1.1-.16 1.92-.08 2.12-.51.56-.82 1.28-.82 2.15 0 3.06 1.86 3.75 3.64 3.95-.23.2-.44.55-.51 1.07-.46.21-1.61.55-2.33-.66-.15-.24-.6-.83-1.23-.82-.67.01-.27.38.01.53.34.19.73.9.82 1.13.16.45.68 1.31 2.69.94 0 .67.01 1.3.01 1.49 0 .21-.15.45-.55.38A7.995 7.995 0 0 1 0 8c0-4.42 3.58-8 8-8Z"></path>
</svg>
        </a>

          <div class="AppHeader-context" >
  <div class="AppHeader-context-compact">
      <button aria-expanded="false" aria-haspopup="dialog" aria-label="Page context: ShadarRim / MISiSAI1" id="dialog-show-context-region-dialog" data-show-dialog-id="context-region-dialog" type="button" data-view-component="true" class="AppHeader-context-compact-trigger Truncate Button--secondary Button--medium Button box-shadow-none">  <span class="Button-content">
    <span class="Button-label"><span class="AppHeader-context-compact-lead">
                <span class="AppHeader-context-compact-parentItem">ShadarRim</span>
                <span class="no-wrap">&nbsp;/</span>

            </span>

            <strong class="AppHeader-context-compact-mainItem d-flex flex-items-center Truncate" >
  <span class="Truncate-text ">MISiSAI1</span>

</strong></span>
  </span>
</button>

<dialog-helper>
  <dialog id="context-region-dialog" aria-modal="true" aria-disabled="true" aria-labelledby="context-region-dialog-title" aria-describedby="context-region-dialog-description" data-view-component="true" class="Overlay Overlay-whenNarrow Overlay--size-medium Overlay--motion-scaleFade">
    <div data-view-component="true" class="Overlay-header">
  <div class="Overlay-headerContentWrap">
    <div class="Overlay-titleWrap">
      <h1 class="Overlay-title " id="context-region-dialog-title">
        Navigate back to
      </h1>
    </div>
    <div class="Overlay-actionWrap">
      <button data-close-dialog-id="context-region-dialog" aria-label="Close" type="button" data-view-component="true" class="close-button Overlay-closeButton"><svg aria-hidden="true" height="16" viewBox="0 0 16 16" version="1.1" width="16" data-view-component="true" class="octicon octicon-x">
    <path d="M3.72 3.72a.75.75 0 0 1 1.06 0L8 6.94l3.22-3.22a.749.749 0 0 1 1.275.326.749.749 0 0 1-.215.734L9.06 8l3.22 3.22a.749.749 0 0 1-.326 1.275.749.749 0 0 1-.734-.215L8 9.06l-3.22 3.22a.751.751 0 0 1-1.042-.018.751.751 0 0 1-.018-1.042L6.94 8 3.72 4.78a.75.75 0 0 1 0-1.06Z"></path>
</svg></button>
    </div>
  </div>
</div>
      <scrollable-region data-labelled-by="context-region-dialog-title">
        <div data-view-component="true" class="Overlay-body">          <ul role="list" class="list-style-none" >
    <li>
      <a data-analytics-event="{&quot;category&quot;:&quot;SiteHeaderComponent&quot;,&quot;action&quot;:&quot;context_region_crumb&quot;,&quot;label&quot;:&quot;ShadarRim&quot;,&quot;screen_size&quot;:&quot;compact&quot;}" href="/ShadarRim" data-view-component="true" class="Link--primary Truncate d-flex flex-items-center py-1">
        <span class="AppHeader-context-item-label Truncate-text ">
            <svg aria-hidden="true" height="12" viewBox="0 0 16 16" version="1.1" width="12" data-view-component="true" class="octicon octicon-person mr-1">
    <path d="M10.561 8.073a6.005 6.005 0 0 1 3.432 5.142.75.75 0 1 1-1.498.07 4.5 4.5 0 0 0-8.99 0 .75.75 0 0 1-1.498-.07 6.004 6.004 0 0 1 3.431-5.142 3.999 3.999 0 1 1 5.123 0ZM10.5 5a2.5 2.5 0 1 0-5 0 2.5 2.5 0 0 0 5 0Z"></path>
</svg>

          ShadarRim
        </span>

</a>
    </li>
    <li>
      <a data-analytics-event="{&quot;category&quot;:&quot;SiteHeaderComponent&quot;,&quot;action&quot;:&quot;context_region_crumb&quot;,&quot;label&quot;:&quot;MISiSAI1&quot;,&quot;screen_size&quot;:&quot;compact&quot;}" href="/ShadarRim/MISiSAI1" data-view-component="true" class="Link--primary Truncate d-flex flex-items-center py-1">
        <span class="AppHeader-context-item-label Truncate-text ">
            <svg aria-hidden="true" height="12" viewBox="0 0 16 16" version="1.1" width="12" data-view-component="true" class="octicon octicon-repo mr-1">
    <path d="M2 2.5A2.5 2.5 0 0 1 4.5 0h8.75a.75.75 0 0 1 .75.75v12.5a.75.75 0 0 1-.75.75h-2.5a.75.75 0 0 1 0-1.5h1.75v-2h-8a1 1 0 0 0-.714 1.7.75.75 0 1 1-1.072 1.05A2.495 2.495 0 0 1 2 11.5Zm10.5-1h-8a1 1 0 0 0-1 1v6.708A2.486 2.486 0 0 1 4.5 9h8ZM5 12.25a.25.25 0 0 1 .25-.25h3.5a.25.25 0 0 1 .25.25v3.25a.25.25 0 0 1-.4.2l-1.45-1.087a.249.249 0 0 0-.3 0L5.4 15.7a.25.25 0 0 1-.4-.2Z"></path>
</svg>

          MISiSAI1
        </span>

</a>
    </li>
</ul>

</div>
      </scrollable-region>
      
</dialog></dialog-helper>
  </div>

  <div class="AppHeader-context-full">
    <nav role="navigation" aria-label="Page context">
      <ul role="list" class="list-style-none" >
    <li>
      <a data-analytics-event="{&quot;category&quot;:&quot;SiteHeaderComponent&quot;,&quot;action&quot;:&quot;context_region_crumb&quot;,&quot;label&quot;:&quot;ShadarRim&quot;,&quot;screen_size&quot;:&quot;full&quot;}" data-hovercard-type="user" data-hovercard-url="/users/ShadarRim/hovercard" data-octo-click="hovercard-link-click" data-octo-dimensions="link_type:self" href="/ShadarRim" data-view-component="true" class="AppHeader-context-item">
        <span class="AppHeader-context-item-label  ">

          ShadarRim
        </span>

</a>
        <span class="AppHeader-context-item-separator">/</span>
    </li>
    <li>
      <a data-analytics-event="{&quot;category&quot;:&quot;SiteHeaderComponent&quot;,&quot;action&quot;:&quot;context_region_crumb&quot;,&quot;label&quot;:&quot;MISiSAI1&quot;,&quot;screen_size&quot;:&quot;full&quot;}" href="/ShadarRim/MISiSAI1" data-view-component="true" class="AppHeader-context-item">
        <span class="AppHeader-context-item-label  ">

          MISiSAI1
        </span>

</a>
    </li>
</ul>

    </nav>
  </div>
</div>

      </div>
      <div class="AppHeader-globalBar-end">
          <div class="AppHeader-search" >
              


<qbsearch-input class="search-input" data-scope="repo:ShadarRim/MISiSAI1" data-custom-scopes-path="/search/custom_scopes" data-delete-custom-scopes-csrf="0ElgJU68cKNT8ZoqG0kgotK5bnAmIZiqOwohqgT64wffNCNwWdInhJs_SkaF1xzprC3asJ9ccxgcnM0HFpleOQ" data-max-custom-scopes="10" data-header-redesign-enabled="true" data-initial-value="" data-blackbird-suggestions-path="/search/suggestions" data-jump-to-suggestions-path="/_graphql/GetSuggestedNavigationDestinations" data-current-repository="ShadarRim/MISiSAI1" data-current-org="" data-current-owner="ShadarRim" data-logged-in="true" data-copilot-chat-enabled="false" data-blackbird-indexed-repo-csrf="<input type=&quot;hidden&quot; value=&quot;axQ6cLPyX3i-VVJJjD5_W7RjwlSAk0f7PAc9Bd5Qnyx4ENh3OjD4323hgXunTjh-a8kWbJDRIqqYJsxoRLooBQ&quot; data-csrf=&quot;true&quot; />">
  <div
    class="search-input-container search-with-dialog position-relative d-flex flex-row flex-items-center height-auto color-bg-transparent border-0 color-fg-subtle mx-0"
    data-action="click:qbsearch-input#searchInputContainerClicked"
  >
      
            <button type="button" data-action="click:qbsearch-input#handleExpand" class="AppHeader-button AppHeader-search-whenNarrow" aria-label="Search or jump to…" aria-expanded="false" aria-haspopup="dialog">
            <svg aria-hidden="true" height="16" viewBox="0 0 16 16" version="1.1" width="16" data-view-component="true" class="octicon octicon-search">
    <path d="M10.68 11.74a6 6 0 0 1-7.922-8.982 6 6 0 0 1 8.982 7.922l3.04 3.04a.749.749 0 0 1-.326 1.275.749.749 0 0 1-.734-.215ZM11.5 7a4.499 4.499 0 1 0-8.997 0A4.499 4.499 0 0 0 11.5 7Z"></path>
</svg>
          </button>


<div class="AppHeader-search-whenRegular">
  <div class="AppHeader-search-wrap AppHeader-search-wrap--hasTrailing">
    <div class="AppHeader-search-control">
      <label
        for="AppHeader-searchInput"
        aria-label="Search or jump to…"
        class="AppHeader-search-visual--leading"
      >
        <svg aria-hidden="true" height="16" viewBox="0 0 16 16" version="1.1" width="16" data-view-component="true" class="octicon octicon-search">
    <path d="M10.68 11.74a6 6 0 0 1-7.922-8.982 6 6 0 0 1 8.982 7.922l3.04 3.04a.749.749 0 0 1-.326 1.275.749.749 0 0 1-.734-.215ZM11.5 7a4.499 4.499 0 1 0-8.997 0A4.499 4.499 0 0 0 11.5 7Z"></path>
</svg>
      </label>

                <button
            type="button"
            data-target="qbsearch-input.inputButton"
            data-action="click:qbsearch-input#handleExpand"
            class="AppHeader-searchButton form-control input-contrast text-left color-fg-subtle no-wrap"
            data-hotkey="s,/"
            data-analytics-event="{&quot;category&quot;:&quot;Global navigation&quot;,&quot;action&quot;:&quot;SEARCH&quot;,&quot;label&quot;:null}"
          >
            <div class="overflow-hidden">
              <span id="qb-input-query" data-target="qbsearch-input.inputButtonText">
                  Type <kbd class="AppHeader-search-kbd">/</kbd> to search
              </span>
            </div>
          </button>

    </div>


      <button type="button" id="AppHeader-commandPalette-button" class="AppHeader-search-action--trailing js-activate-command-palette" data-analytics-event="{&quot;category&quot;:&quot;SiteHeaderComponent&quot;,&quot;action&quot;:&quot;command_palette&quot;,&quot;label&quot;:&quot;open command palette&quot;}">
        <svg aria-hidden="true" height="16" viewBox="0 0 16 16" version="1.1" width="16" data-view-component="true" class="octicon octicon-command-palette">
    <path d="m6.354 8.04-4.773 4.773a.75.75 0 1 0 1.061 1.06L7.945 8.57a.75.75 0 0 0 0-1.06L2.642 2.206a.75.75 0 0 0-1.06 1.061L6.353 8.04ZM8.75 11.5a.75.75 0 0 0 0 1.5h5.5a.75.75 0 0 0 0-1.5h-5.5Z"></path>
</svg>
      </button>

      <tool-tip id="tooltip-385d91eb-c133-4708-be62-3a3336ac0c48" for="AppHeader-commandPalette-button" popover="manual" data-direction="s" data-type="label" data-view-component="true" class="sr-only position-absolute">Command palette</tool-tip>
  </div>
</div>

    <input type="hidden" name="type" class="js-site-search-type-field">

    
<div class="Overlay--hidden " data-modal-dialog-overlay>
  <modal-dialog data-action="close:qbsearch-input#handleClose cancel:qbsearch-input#handleClose" data-target="qbsearch-input.searchSuggestionsDialog" role="dialog" id="search-suggestions-dialog" aria-modal="true" aria-labelledby="search-suggestions-dialog-header" data-view-component="true" class="Overlay Overlay--width-medium Overlay--height-auto">
      <h1 id="search-suggestions-dialog-header" class="sr-only">Search code, repositories, users, issues, pull requests...</h1>
    <div class="Overlay-body Overlay-body--paddingNone">
      
          <div data-view-component="true">        <div class="search-suggestions position-absolute width-full color-shadow-large border color-fg-default color-bg-default overflow-hidden d-flex flex-column query-builder-container"
          style="border-radius: 12px;"
          data-target="qbsearch-input.queryBuilderContainer"
          hidden
        >
          <!-- '"` --><!-- </textarea></xmp> --></option></form><form id="query-builder-test-form" action="" accept-charset="UTF-8" method="get">
  <query-builder data-target="qbsearch-input.queryBuilder" id="query-builder-query-builder-test" data-filter-key=":" data-view-component="true" class="QueryBuilder search-query-builder">
    <div class="FormControl FormControl--fullWidth">
      <label id="query-builder-test-label" for="query-builder-test" class="FormControl-label sr-only">
        Search
      </label>
      <div
        class="QueryBuilder-StyledInput width-fit "
        data-target="query-builder.styledInput"
      >
          <span id="query-builder-test-leadingvisual-wrap" class="FormControl-input-leadingVisualWrap QueryBuilder-leadingVisualWrap">
            <svg aria-hidden="true" height="16" viewBox="0 0 16 16" version="1.1" width="16" data-view-component="true" class="octicon octicon-search FormControl-input-leadingVisual">
    <path d="M10.68 11.74a6 6 0 0 1-7.922-8.982 6 6 0 0 1 8.982 7.922l3.04 3.04a.749.749 0 0 1-.326 1.275.749.749 0 0 1-.734-.215ZM11.5 7a4.499 4.499 0 1 0-8.997 0A4.499 4.499 0 0 0 11.5 7Z"></path>
</svg>
          </span>
        <div data-target="query-builder.styledInputContainer" class="QueryBuilder-StyledInputContainer">
          <div
            aria-hidden="true"
            class="QueryBuilder-StyledInputContent"
            data-target="query-builder.styledInputContent"
          ></div>
          <div class="QueryBuilder-InputWrapper">
            <div aria-hidden="true" class="QueryBuilder-Sizer" data-target="query-builder.sizer"></div>
            <input id="query-builder-test" name="query-builder-test" value="" autocomplete="off" type="text" role="combobox" spellcheck="false" aria-expanded="false" aria-describedby="validation-7b4caa46-4f45-4773-b8f2-4ab9507c86c3" data-target="query-builder.input" data-action="
          input:query-builder#inputChange
          blur:query-builder#inputBlur
          keydown:query-builder#inputKeydown
          focus:query-builder#inputFocus
        " data-view-component="true" class="FormControl-input QueryBuilder-Input FormControl-medium" />
          </div>
        </div>
          <span class="sr-only" id="query-builder-test-clear">Clear</span>
          <button role="button" id="query-builder-test-clear-button" aria-labelledby="query-builder-test-clear query-builder-test-label" data-target="query-builder.clearButton" data-action="
                click:query-builder#clear
                focus:query-builder#clearButtonFocus
                blur:query-builder#clearButtonBlur
              " variant="small" hidden="hidden" type="button" data-view-component="true" class="Button Button--iconOnly Button--invisible Button--medium mr-1 px-2 py-0 d-flex flex-items-center rounded-1 color-fg-muted">  <svg aria-hidden="true" height="16" viewBox="0 0 16 16" version="1.1" width="16" data-view-component="true" class="octicon octicon-x-circle-fill Button-visual">
    <path d="M2.343 13.657A8 8 0 1 1 13.658 2.343 8 8 0 0 1 2.343 13.657ZM6.03 4.97a.751.751 0 0 0-1.042.018.751.751 0 0 0-.018 1.042L6.94 8 4.97 9.97a.749.749 0 0 0 .326 1.275.749.749 0 0 0 .734-.215L8 9.06l1.97 1.97a.749.749 0 0 0 1.275-.326.749.749 0 0 0-.215-.734L9.06 8l1.97-1.97a.749.749 0 0 0-.326-1.275.749.749 0 0 0-.734.215L8 6.94Z"></path>
</svg>
</button>

      </div>
      <template id="search-icon">
  <svg aria-hidden="true" height="16" viewBox="0 0 16 16" version="1.1" width="16" data-view-component="true" class="octicon octicon-search">
    <path d="M10.68 11.74a6 6 0 0 1-7.922-8.982 6 6 0 0 1 8.982 7.922l3.04 3.04a.749.749 0 0 1-.326 1.275.749.749 0 0 1-.734-.215ZM11.5 7a4.499 4.499 0 1 0-8.997 0A4.499 4.499 0 0 0 11.5 7Z"></path>
</svg>
</template>

<template id="code-icon">
  <svg aria-hidden="true" height="16" viewBox="0 0 16 16" version="1.1" width="16" data-view-component="true" class="octicon octicon-code">
    <path d="m11.28 3.22 4.25 4.25a.75.75 0 0 1 0 1.06l-4.25 4.25a.749.749 0 0 1-1.275-.326.749.749 0 0 1 .215-.734L13.94 8l-3.72-3.72a.749.749 0 0 1 .326-1.275.749.749 0 0 1 .734.215Zm-6.56 0a.751.751 0 0 1 1.042.018.751.751 0 0 1 .018 1.042L2.06 8l3.72 3.72a.749.749 0 0 1-.326 1.275.749.749 0 0 1-.734-.215L.47 8.53a.75.75 0 0 1 0-1.06Z"></path>
</svg>
</template>

<template id="file-code-icon">
  <svg aria-hidden="true" height="16" viewBox="0 0 16 16" version="1.1" width="16" data-view-component="true" class="octicon octicon-file-code">
    <path d="M4 1.75C4 .784 4.784 0 5.75 0h5.586c.464 0 .909.184 1.237.513l2.914 2.914c.329.328.513.773.513 1.237v8.586A1.75 1.75 0 0 1 14.25 15h-9a.75.75 0 0 1 0-1.5h9a.25.25 0 0 0 .25-.25V6h-2.75A1.75 1.75 0 0 1 10 4.25V1.5H5.75a.25.25 0 0 0-.25.25v2.5a.75.75 0 0 1-1.5 0Zm1.72 4.97a.75.75 0 0 1 1.06 0l2 2a.75.75 0 0 1 0 1.06l-2 2a.749.749 0 0 1-1.275-.326.749.749 0 0 1 .215-.734l1.47-1.47-1.47-1.47a.75.75 0 0 1 0-1.06ZM3.28 7.78 1.81 9.25l1.47 1.47a.751.751 0 0 1-.018 1.042.751.751 0 0 1-1.042.018l-2-2a.75.75 0 0 1 0-1.06l2-2a.751.751 0 0 1 1.042.018.751.751 0 0 1 .018 1.042Zm8.22-6.218V4.25c0 .138.112.25.25.25h2.688l-.011-.013-2.914-2.914-.013-.011Z"></path>
</svg>
</template>

<template id="history-icon">
  <svg aria-hidden="true" height="16" viewBox="0 0 16 16" version="1.1" width="16" data-view-component="true" class="octicon octicon-history">
    <path d="m.427 1.927 1.215 1.215a8.002 8.002 0 1 1-1.6 5.685.75.75 0 1 1 1.493-.154 6.5 6.5 0 1 0 1.18-4.458l1.358 1.358A.25.25 0 0 1 3.896 6H.25A.25.25 0 0 1 0 5.75V2.104a.25.25 0 0 1 .427-.177ZM7.75 4a.75.75 0 0 1 .75.75v2.992l2.028.812a.75.75 0 0 1-.557 1.392l-2.5-1A.751.751 0 0 1 7 8.25v-3.5A.75.75 0 0 1 7.75 4Z"></path>
</svg>
</template>

<template id="repo-icon">
  <svg aria-hidden="true" height="16" viewBox="0 0 16 16" version="1.1" width="16" data-view-component="true" class="octicon octicon-repo">
    <path d="M2 2.5A2.5 2.5 0 0 1 4.5 0h8.75a.75.75 0 0 1 .75.75v12.5a.75.75 0 0 1-.75.75h-2.5a.75.75 0 0 1 0-1.5h1.75v-2h-8a1 1 0 0 0-.714 1.7.75.75 0 1 1-1.072 1.05A2.495 2.495 0 0 1 2 11.5Zm10.5-1h-8a1 1 0 0 0-1 1v6.708A2.486 2.486 0 0 1 4.5 9h8ZM5 12.25a.25.25 0 0 1 .25-.25h3.5a.25.25 0 0 1 .25.25v3.25a.25.25 0 0 1-.4.2l-1.45-1.087a.249.249 0 0 0-.3 0L5.4 15.7a.25.25 0 0 1-.4-.2Z"></path>
</svg>
</template>

<template id="bookmark-icon">
  <svg aria-hidden="true" height="16" viewBox="0 0 16 16" version="1.1" width="16" data-view-component="true" class="octicon octicon-bookmark">
    <path d="M3 2.75C3 1.784 3.784 1 4.75 1h6.5c.966 0 1.75.784 1.75 1.75v11.5a.75.75 0 0 1-1.227.579L8 11.722l-3.773 3.107A.751.751 0 0 1 3 14.25Zm1.75-.25a.25.25 0 0 0-.25.25v9.91l3.023-2.489a.75.75 0 0 1 .954 0l3.023 2.49V2.75a.25.25 0 0 0-.25-.25Z"></path>
</svg>
</template>

<template id="plus-circle-icon">
  <svg aria-hidden="true" height="16" viewBox="0 0 16 16" version="1.1" width="16" data-view-component="true" class="octicon octicon-plus-circle">
    <path d="M8 0a8 8 0 1 1 0 16A8 8 0 0 1 8 0ZM1.5 8a6.5 6.5 0 1 0 13 0 6.5 6.5 0 0 0-13 0Zm7.25-3.25v2.5h2.5a.75.75 0 0 1 0 1.5h-2.5v2.5a.75.75 0 0 1-1.5 0v-2.5h-2.5a.75.75 0 0 1 0-1.5h2.5v-2.5a.75.75 0 0 1 1.5 0Z"></path>
</svg>
</template>

<template id="circle-icon">
  <svg aria-hidden="true" height="16" viewBox="0 0 16 16" version="1.1" width="16" data-view-component="true" class="octicon octicon-dot-fill">
    <path d="M8 4a4 4 0 1 1 0 8 4 4 0 0 1 0-8Z"></path>
</svg>
</template>

<template id="trash-icon">
  <svg aria-hidden="true" height="16" viewBox="0 0 16 16" version="1.1" width="16" data-view-component="true" class="octicon octicon-trash">
    <path d="M11 1.75V3h2.25a.75.75 0 0 1 0 1.5H2.75a.75.75 0 0 1 0-1.5H5V1.75C5 .784 5.784 0 6.75 0h2.5C10.216 0 11 .784 11 1.75ZM4.496 6.675l.66 6.6a.25.25 0 0 0 .249.225h5.19a.25.25 0 0 0 .249-.225l.66-6.6a.75.75 0 0 1 1.492.149l-.66 6.6A1.748 1.748 0 0 1 10.595 15h-5.19a1.75 1.75 0 0 1-1.741-1.575l-.66-6.6a.75.75 0 1 1 1.492-.15ZM6.5 1.75V3h3V1.75a.25.25 0 0 0-.25-.25h-2.5a.25.25 0 0 0-.25.25Z"></path>
</svg>
</template>

<template id="team-icon">
  <svg aria-hidden="true" height="16" viewBox="0 0 16 16" version="1.1" width="16" data-view-component="true" class="octicon octicon-people">
    <path d="M2 5.5a3.5 3.5 0 1 1 5.898 2.549 5.508 5.508 0 0 1 3.034 4.084.75.75 0 1 1-1.482.235 4 4 0 0 0-7.9 0 .75.75 0 0 1-1.482-.236A5.507 5.507 0 0 1 3.102 8.05 3.493 3.493 0 0 1 2 5.5ZM11 4a3.001 3.001 0 0 1 2.22 5.018 5.01 5.01 0 0 1 2.56 3.012.749.749 0 0 1-.885.954.752.752 0 0 1-.549-.514 3.507 3.507 0 0 0-2.522-2.372.75.75 0 0 1-.574-.73v-.352a.75.75 0 0 1 .416-.672A1.5 1.5 0 0 0 11 5.5.75.75 0 0 1 11 4Zm-5.5-.5a2 2 0 1 0-.001 3.999A2 2 0 0 0 5.5 3.5Z"></path>
</svg>
</template>

<template id="project-icon">
  <svg aria-hidden="true" height="16" viewBox="0 0 16 16" version="1.1" width="16" data-view-component="true" class="octicon octicon-project">
    <path d="M1.75 0h12.5C15.216 0 16 .784 16 1.75v12.5A1.75 1.75 0 0 1 14.25 16H1.75A1.75 1.75 0 0 1 0 14.25V1.75C0 .784.784 0 1.75 0ZM1.5 1.75v12.5c0 .138.112.25.25.25h12.5a.25.25 0 0 0 .25-.25V1.75a.25.25 0 0 0-.25-.25H1.75a.25.25 0 0 0-.25.25ZM11.75 3a.75.75 0 0 1 .75.75v7.5a.75.75 0 0 1-1.5 0v-7.5a.75.75 0 0 1 .75-.75Zm-8.25.75a.75.75 0 0 1 1.5 0v5.5a.75.75 0 0 1-1.5 0ZM8 3a.75.75 0 0 1 .75.75v3.5a.75.75 0 0 1-1.5 0v-3.5A.75.75 0 0 1 8 3Z"></path>
</svg>
</template>

<template id="pencil-icon">
  <svg aria-hidden="true" height="16" viewBox="0 0 16 16" version="1.1" width="16" data-view-component="true" class="octicon octicon-pencil">
    <path d="M11.013 1.427a1.75 1.75 0 0 1 2.474 0l1.086 1.086a1.75 1.75 0 0 1 0 2.474l-8.61 8.61c-.21.21-.47.364-.756.445l-3.251.93a.75.75 0 0 1-.927-.928l.929-3.25c.081-.286.235-.547.445-.758l8.61-8.61Zm.176 4.823L9.75 4.81l-6.286 6.287a.253.253 0 0 0-.064.108l-.558 1.953 1.953-.558a.253.253 0 0 0 .108-.064Zm1.238-3.763a.25.25 0 0 0-.354 0L10.811 3.75l1.439 1.44 1.263-1.263a.25.25 0 0 0 0-.354Z"></path>
</svg>
</template>

<template id="copilot-icon">
  <svg aria-hidden="true" height="16" viewBox="0 0 16 16" version="1.1" width="16" data-view-component="true" class="octicon octicon-copilot">
    <path d="M7.998 15.035c-4.562 0-7.873-2.914-7.998-3.749V9.338c.085-.628.677-1.686 1.588-2.065.013-.07.024-.143.036-.218.029-.183.06-.384.126-.612-.201-.508-.254-1.084-.254-1.656 0-.87.128-1.769.693-2.484.579-.733 1.494-1.124 2.724-1.261 1.206-.134 2.262.034 2.944.765.05.053.096.108.139.165.044-.057.094-.112.143-.165.682-.731 1.738-.899 2.944-.765 1.23.137 2.145.528 2.724 1.261.566.715.693 1.614.693 2.484 0 .572-.053 1.148-.254 1.656.066.228.098.429.126.612.012.076.024.148.037.218.924.385 1.522 1.471 1.591 2.095v1.872c0 .766-3.351 3.795-8.002 3.795Zm0-1.485c2.28 0 4.584-1.11 5.002-1.433V7.862l-.023-.116c-.49.21-1.075.291-1.727.291-1.146 0-2.059-.327-2.71-.991A3.222 3.222 0 0 1 8 6.303a3.24 3.24 0 0 1-.544.743c-.65.664-1.563.991-2.71.991-.652 0-1.236-.081-1.727-.291l-.023.116v4.255c.419.323 2.722 1.433 5.002 1.433ZM6.762 2.83c-.193-.206-.637-.413-1.682-.297-1.019.113-1.479.404-1.713.7-.247.312-.369.789-.369 1.554 0 .793.129 1.171.308 1.371.162.181.519.379 1.442.379.853 0 1.339-.235 1.638-.54.315-.322.527-.827.617-1.553.117-.935-.037-1.395-.241-1.614Zm4.155-.297c-1.044-.116-1.488.091-1.681.297-.204.219-.359.679-.242 1.614.091.726.303 1.231.618 1.553.299.305.784.54 1.638.54.922 0 1.28-.198 1.442-.379.179-.2.308-.578.308-1.371 0-.765-.123-1.242-.37-1.554-.233-.296-.693-.587-1.713-.7Z"></path><path d="M6.25 9.037a.75.75 0 0 1 .75.75v1.501a.75.75 0 0 1-1.5 0V9.787a.75.75 0 0 1 .75-.75Zm4.25.75v1.501a.75.75 0 0 1-1.5 0V9.787a.75.75 0 0 1 1.5 0Z"></path>
</svg>
</template>

        <div class="position-relative">
                <ul
                  role="listbox"
                  class="ActionListWrap QueryBuilder-ListWrap"
                  aria-label="Suggestions"
                  data-action="
                    combobox-commit:query-builder#comboboxCommit
                    mousedown:query-builder#resultsMousedown
                  "
                  data-target="query-builder.resultsList"
                  data-persist-list=false
                  id="query-builder-test-results"
                ></ul>
        </div>
      <div class="FormControl-inlineValidation" id="validation-7b4caa46-4f45-4773-b8f2-4ab9507c86c3" hidden="hidden">
        <span class="FormControl-inlineValidation--visual">
          <svg aria-hidden="true" height="12" viewBox="0 0 12 12" version="1.1" width="12" data-view-component="true" class="octicon octicon-alert-fill">
    <path d="M4.855.708c.5-.896 1.79-.896 2.29 0l4.675 8.351a1.312 1.312 0 0 1-1.146 1.954H1.33A1.313 1.313 0 0 1 .183 9.058ZM7 7V3H5v4Zm-1 3a1 1 0 1 0 0-2 1 1 0 0 0 0 2Z"></path>
</svg>
        </span>
        <span></span>
</div>    </div>
    <div data-target="query-builder.screenReaderFeedback" aria-live="polite" aria-atomic="true" class="sr-only"></div>
</query-builder></form>
          <div class="d-flex flex-row color-fg-muted px-3 text-small color-bg-default search-feedback-prompt">
            <a target="_blank" href="https://docs.github.com/search-github/github-code-search/understanding-github-code-search-syntax" data-view-component="true" class="Link color-fg-accent text-normal ml-2">
              Search syntax tips
</a>            <div class="d-flex flex-1"></div>
              <button data-action="click:qbsearch-input#showFeedbackDialog" type="button" data-view-component="true" class="Button--link Button--medium Button color-fg-accent text-normal ml-2">  <span class="Button-content">
    <span class="Button-label">Give feedback</span>
  </span>
</button>
          </div>
        </div>
</div>

    </div>
</modal-dialog></div>
  </div>
  <div data-action="click:qbsearch-input#retract" class="dark-backdrop position-fixed" hidden data-target="qbsearch-input.darkBackdrop"></div>
  <div class="color-fg-default">
    
<dialog-helper>
  <dialog data-target="qbsearch-input.feedbackDialog" data-action="close:qbsearch-input#handleDialogClose cancel:qbsearch-input#handleDialogClose" id="feedback-dialog" aria-modal="true" aria-disabled="true" aria-labelledby="feedback-dialog-title" aria-describedby="feedback-dialog-description" data-view-component="true" class="Overlay Overlay-whenNarrow Overlay--size-medium Overlay--motion-scaleFade">
    <div data-view-component="true" class="Overlay-header">
  <div class="Overlay-headerContentWrap">
    <div class="Overlay-titleWrap">
      <h1 class="Overlay-title " id="feedback-dialog-title">
        Provide feedback
      </h1>
    </div>
    <div class="Overlay-actionWrap">
      <button data-close-dialog-id="feedback-dialog" aria-label="Close" type="button" data-view-component="true" class="close-button Overlay-closeButton"><svg aria-hidden="true" height="16" viewBox="0 0 16 16" version="1.1" width="16" data-view-component="true" class="octicon octicon-x">
    <path d="M3.72 3.72a.75.75 0 0 1 1.06 0L8 6.94l3.22-3.22a.749.749 0 0 1 1.275.326.749.749 0 0 1-.215.734L9.06 8l3.22 3.22a.749.749 0 0 1-.326 1.275.749.749 0 0 1-.734-.215L8 9.06l-3.22 3.22a.751.751 0 0 1-1.042-.018.751.751 0 0 1-.018-1.042L6.94 8 3.72 4.78a.75.75 0 0 1 0-1.06Z"></path>
</svg></button>
    </div>
  </div>
</div>
      <scrollable-region data-labelled-by="feedback-dialog-title">
        <div data-view-component="true" class="Overlay-body">        <!-- '"` --><!-- </textarea></xmp> --></option></form><form id="code-search-feedback-form" data-turbo="false" action="/search/feedback" accept-charset="UTF-8" method="post"><input type="hidden" name="authenticity_token" value="jSKVVOAJ8iqqygENEXqEDoP16tl_jDH_2qgRqh7L4_eKk6cQeq1u_cKvGenyEsZt3jFWltOLzH7WICwI-Bc8bA" />
          <p>We read every piece of feedback, and take your input very seriously.</p>
          <textarea name="feedback" class="form-control width-full mb-2" style="height: 120px" id="feedback"></textarea>
          <input name="include_email" id="include_email" aria-label="Include my email address so I can be contacted" class="form-control mr-2" type="checkbox">
          <label for="include_email" style="font-weight: normal">Include my email address so I can be contacted</label>
</form></div>
      </scrollable-region>
      <div data-view-component="true" class="Overlay-footer Overlay-footer--alignEnd">          <button data-close-dialog-id="feedback-dialog" type="button" data-view-component="true" class="btn">    Cancel
</button>
          <button form="code-search-feedback-form" data-action="click:qbsearch-input#submitFeedback" type="submit" data-view-component="true" class="btn-primary btn">    Submit feedback
</button>
</div>
</dialog></dialog-helper>

    <custom-scopes data-target="qbsearch-input.customScopesManager">
    
<dialog-helper>
  <dialog data-target="custom-scopes.customScopesModalDialog" data-action="close:qbsearch-input#handleDialogClose cancel:qbsearch-input#handleDialogClose" id="custom-scopes-dialog" aria-modal="true" aria-disabled="true" aria-labelledby="custom-scopes-dialog-title" aria-describedby="custom-scopes-dialog-description" data-view-component="true" class="Overlay Overlay-whenNarrow Overlay--size-medium Overlay--motion-scaleFade">
    <div data-view-component="true" class="Overlay-header Overlay-header--divided">
  <div class="Overlay-headerContentWrap">
    <div class="Overlay-titleWrap">
      <h1 class="Overlay-title " id="custom-scopes-dialog-title">
        Saved searches
      </h1>
        <h2 id="custom-scopes-dialog-description" class="Overlay-description">Use saved searches to filter your results more quickly</h2>
    </div>
    <div class="Overlay-actionWrap">
      <button data-close-dialog-id="custom-scopes-dialog" aria-label="Close" type="button" data-view-component="true" class="close-button Overlay-closeButton"><svg aria-hidden="true" height="16" viewBox="0 0 16 16" version="1.1" width="16" data-view-component="true" class="octicon octicon-x">
    <path d="M3.72 3.72a.75.75 0 0 1 1.06 0L8 6.94l3.22-3.22a.749.749 0 0 1 1.275.326.749.749 0 0 1-.215.734L9.06 8l3.22 3.22a.749.749 0 0 1-.326 1.275.749.749 0 0 1-.734-.215L8 9.06l-3.22 3.22a.751.751 0 0 1-1.042-.018.751.751 0 0 1-.018-1.042L6.94 8 3.72 4.78a.75.75 0 0 1 0-1.06Z"></path>
</svg></button>
    </div>
  </div>
</div>
      <scrollable-region data-labelled-by="custom-scopes-dialog-title">
        <div data-view-component="true" class="Overlay-body">        <div data-target="custom-scopes.customScopesModalDialogFlash"></div>

        <div hidden class="create-custom-scope-form" data-target="custom-scopes.createCustomScopeForm">
        <!-- '"` --><!-- </textarea></xmp> --></option></form><form id="custom-scopes-dialog-form" data-turbo="false" action="/search/custom_scopes" accept-charset="UTF-8" method="post"><input type="hidden" name="authenticity_token" value="N8CEhVsFUwLYhmjlhZTL1s-pQDtXhYqTgVpGlIhw1Dp515K0DrPVlcxP6J0vN5rP-wP0h2Xyy4SEJsemR5PRLA" />
          <div data-target="custom-scopes.customScopesModalDialogFlash"></div>

          <input type="hidden" id="custom_scope_id" name="custom_scope_id" data-target="custom-scopes.customScopesIdField">

          <div class="form-group">
            <label for="custom_scope_name">Name</label>
            <auto-check src="/search/custom_scopes/check_name" required>
              <input
                type="text"
                name="custom_scope_name"
                id="custom_scope_name"
                data-target="custom-scopes.customScopesNameField"
                class="form-control"
                autocomplete="off"
                placeholder="github-ruby"
                required
                maxlength="50">
              <input type="hidden" value="RN5Di_nInTNoyYhKc-0isGM3G9rCyFw-pcXowqZqbHvlFwKGdA0taDU7BHOPWLClES29yuMBEp4stQBccqxRyA" data-csrf="true" />
            </auto-check>
          </div>

          <div class="form-group">
            <label for="custom_scope_query">Query</label>
            <input
              type="text"
              name="custom_scope_query"
              id="custom_scope_query"
              data-target="custom-scopes.customScopesQueryField"
              class="form-control"
              autocomplete="off"
              placeholder="(repo:mona/a OR repo:mona/b) AND lang:python"
              required
              maxlength="500">
          </div>

          <p class="text-small color-fg-muted">
            To see all available qualifiers, see our <a class="Link--inTextBlock" href="https://docs.github.com/search-github/github-code-search/understanding-github-code-search-syntax">documentation</a>.
          </p>
</form>        </div>

        <div data-target="custom-scopes.manageCustomScopesForm">
          <div data-target="custom-scopes.list"></div>
        </div>

</div>
      </scrollable-region>
      <div data-view-component="true" class="Overlay-footer Overlay-footer--alignEnd Overlay-footer--divided">          <button data-action="click:custom-scopes#customScopesCancel" type="button" data-view-component="true" class="btn">    Cancel
</button>
          <button form="custom-scopes-dialog-form" data-action="click:custom-scopes#customScopesSubmit" data-target="custom-scopes.customScopesSubmitButton" type="submit" data-view-component="true" class="btn-primary btn">    Create saved search
</button>
</div>
</dialog></dialog-helper>
    </custom-scopes>
  </div>
</qbsearch-input><input type="hidden" value="kJtKZwjJnDMbQ3451hK8iu3sjCkzdBSZFNBSx6W2seEjx86zSNpmDoUHLe6v-0MFPZ8ml0YIstxI9Cd9NmnGRg" data-csrf="true" class="js-data-jump-to-suggestions-path-csrf" />

          </div>

        <div class="AppHeader-actions position-relative">
          <action-menu data-select-variant="none" data-view-component="true">
  <focus-group direction="vertical" mnemonics retain>
    <button id="global-create-menu-button" popovertarget="global-create-menu-overlay" aria-label="Create something new" aria-controls="global-create-menu-list" aria-haspopup="true" type="button" data-view-component="true" class="AppHeader-button Button--secondary Button--small Button width-auto color-fg-muted">  <span class="Button-content">
      <span class="Button-visual Button-leadingVisual">
        <svg aria-hidden="true" height="16" viewBox="0 0 16 16" version="1.1" width="16" data-view-component="true" class="octicon octicon-plus">
    <path d="M7.75 2a.75.75 0 0 1 .75.75V7h4.25a.75.75 0 0 1 0 1.5H8.5v4.25a.75.75 0 0 1-1.5 0V8.5H2.75a.75.75 0 0 1 0-1.5H7V2.75A.75.75 0 0 1 7.75 2Z"></path>
</svg>
      </span>
    <span class="Button-label"><svg aria-hidden="true" height="16" viewBox="0 0 16 16" version="1.1" width="16" data-view-component="true" class="octicon octicon-triangle-down">
    <path d="m4.427 7.427 3.396 3.396a.25.25 0 0 0 .354 0l3.396-3.396A.25.25 0 0 0 11.396 7H4.604a.25.25 0 0 0-.177.427Z"></path>
</svg></span>
  </span>
</button><tool-tip id="tooltip-4aa1d898-93a2-4552-ab02-6767008187de" for="global-create-menu-button" popover="manual" data-direction="s" data-type="description" data-view-component="true" class="sr-only position-absolute">Create new...</tool-tip>


<anchored-position id="global-create-menu-overlay" anchor="global-create-menu-button" align="end" side="outside-bottom" anchor-offset="normal" popover="auto" data-view-component="true">
  <div data-view-component="true" class="Overlay Overlay--size-auto">
    
      <div data-view-component="true" class="Overlay-body Overlay-body--paddingNone">          <div data-view-component="true">
  <ul aria-labelledby="global-create-menu-button" id="global-create-menu-list" role="menu" data-view-component="true" class="ActionListWrap--inset ActionListWrap">
      <li data-analytics-event="{&quot;category&quot;:&quot;SiteHeaderComponent&quot;,&quot;action&quot;:&quot;add_dropdown&quot;,&quot;label&quot;:&quot;new repository&quot;}" data-targets="action-list.items action-list.items" role="none" data-view-component="true" class="ActionListItem">
    
    <a href="/new" tabindex="-1" id="item-b4cd9956-c3cf-41b2-a68f-49db4e681419" role="menuitem" data-view-component="true" class="ActionListContent ActionListContent--visual16">
        <span class="ActionListItem-visual ActionListItem-visual--leading">
          <svg aria-hidden="true" height="16" viewBox="0 0 16 16" version="1.1" width="16" data-view-component="true" class="octicon octicon-repo">
    <path d="M2 2.5A2.5 2.5 0 0 1 4.5 0h8.75a.75.75 0 0 1 .75.75v12.5a.75.75 0 0 1-.75.75h-2.5a.75.75 0 0 1 0-1.5h1.75v-2h-8a1 1 0 0 0-.714 1.7.75.75 0 1 1-1.072 1.05A2.495 2.495 0 0 1 2 11.5Zm10.5-1h-8a1 1 0 0 0-1 1v6.708A2.486 2.486 0 0 1 4.5 9h8ZM5 12.25a.25.25 0 0 1 .25-.25h3.5a.25.25 0 0 1 .25.25v3.25a.25.25 0 0 1-.4.2l-1.45-1.087a.249.249 0 0 0-.3 0L5.4 15.7a.25.25 0 0 1-.4-.2Z"></path>
</svg>
        </span>
      
        <span data-view-component="true" class="ActionListItem-label">
              New repository

</span></a>
  
  
</li>
      <li data-analytics-event="{&quot;category&quot;:&quot;SiteHeaderComponent&quot;,&quot;action&quot;:&quot;add_dropdown&quot;,&quot;label&quot;:&quot;import repository&quot;}" data-targets="action-list.items action-list.items" role="none" data-view-component="true" class="ActionListItem">
    
    <a href="/new/import" tabindex="-1" id="item-e245c870-f987-4964-b8de-e664469c9f7e" role="menuitem" data-view-component="true" class="ActionListContent ActionListContent--visual16">
        <span class="ActionListItem-visual ActionListItem-visual--leading">
          <svg aria-hidden="true" height="16" viewBox="0 0 16 16" version="1.1" width="16" data-view-component="true" class="octicon octicon-repo-push">
    <path d="M1 2.5A2.5 2.5 0 0 1 3.5 0h8.75a.75.75 0 0 1 .75.75v3.5a.75.75 0 0 1-1.5 0V1.5h-8a1 1 0 0 0-1 1v6.708A2.493 2.493 0 0 1 3.5 9h3.25a.75.75 0 0 1 0 1.5H3.5a1 1 0 0 0 0 2h5.75a.75.75 0 0 1 0 1.5H3.5A2.5 2.5 0 0 1 1 11.5Zm13.23 7.79h-.001l-1.224-1.224v6.184a.75.75 0 0 1-1.5 0V9.066L10.28 10.29a.75.75 0 0 1-1.06-1.061l2.505-2.504a.75.75 0 0 1 1.06 0L15.29 9.23a.751.751 0 0 1-.018 1.042.751.751 0 0 1-1.042.018Z"></path>
</svg>
        </span>
      
        <span data-view-component="true" class="ActionListItem-label">
                Import repository

</span></a>
  
  
</li>
      <li role="presentation" aria-hidden="true" data-view-component="true" class="ActionList-sectionDivider"></li>
      <li data-analytics-event="{&quot;category&quot;:&quot;SiteHeaderComponent&quot;,&quot;action&quot;:&quot;add_dropdown&quot;,&quot;label&quot;:&quot;new codespace&quot;}" data-targets="action-list.items action-list.items" role="none" data-view-component="true" class="ActionListItem">
    
    <a href="/codespaces/new" tabindex="-1" id="item-75d294ca-d77a-4873-bc5e-4ef09ca9bf77" role="menuitem" data-view-component="true" class="ActionListContent ActionListContent--visual16">
        <span class="ActionListItem-visual ActionListItem-visual--leading">
          <svg aria-hidden="true" height="16" viewBox="0 0 16 16" version="1.1" width="16" data-view-component="true" class="octicon octicon-codespaces">
    <path d="M0 11.25c0-.966.784-1.75 1.75-1.75h12.5c.966 0 1.75.784 1.75 1.75v3A1.75 1.75 0 0 1 14.25 16H1.75A1.75 1.75 0 0 1 0 14.25Zm2-9.5C2 .784 2.784 0 3.75 0h8.5C13.216 0 14 .784 14 1.75v5a1.75 1.75 0 0 1-1.75 1.75h-8.5A1.75 1.75 0 0 1 2 6.75Zm1.75-.25a.25.25 0 0 0-.25.25v5c0 .138.112.25.25.25h8.5a.25.25 0 0 0 .25-.25v-5a.25.25 0 0 0-.25-.25Zm-2 9.5a.25.25 0 0 0-.25.25v3c0 .138.112.25.25.25h12.5a.25.25 0 0 0 .25-.25v-3a.25.25 0 0 0-.25-.25Z"></path><path d="M7 12.75a.75.75 0 0 1 .75-.75h4.5a.75.75 0 0 1 0 1.5h-4.5a.75.75 0 0 1-.75-.75Zm-4 0a.75.75 0 0 1 .75-.75h.5a.75.75 0 0 1 0 1.5h-.5a.75.75 0 0 1-.75-.75Z"></path>
</svg>
        </span>
      
        <span data-view-component="true" class="ActionListItem-label">
                New codespace

</span></a>
  
  
</li>
      <li data-analytics-event="{&quot;category&quot;:&quot;SiteHeaderComponent&quot;,&quot;action&quot;:&quot;add_dropdown&quot;,&quot;label&quot;:&quot;new gist&quot;}" data-targets="action-list.items action-list.items" role="none" data-view-component="true" class="ActionListItem">
    
    <a href="https://gist.github.com/" tabindex="-1" id="item-e73a089a-bbe3-4fd9-bf69-ca8f0b484275" role="menuitem" data-view-component="true" class="ActionListContent ActionListContent--visual16">
        <span class="ActionListItem-visual ActionListItem-visual--leading">
          <svg aria-hidden="true" height="16" viewBox="0 0 16 16" version="1.1" width="16" data-view-component="true" class="octicon octicon-code">
    <path d="m11.28 3.22 4.25 4.25a.75.75 0 0 1 0 1.06l-4.25 4.25a.749.749 0 0 1-1.275-.326.749.749 0 0 1 .215-.734L13.94 8l-3.72-3.72a.749.749 0 0 1 .326-1.275.749.749 0 0 1 .734.215Zm-6.56 0a.751.751 0 0 1 1.042.018.751.751 0 0 1 .018 1.042L2.06 8l3.72 3.72a.749.749 0 0 1-.326 1.275.749.749 0 0 1-.734-.215L.47 8.53a.75.75 0 0 1 0-1.06Z"></path>
</svg>
        </span>
      
        <span data-view-component="true" class="ActionListItem-label">
                New gist

</span></a>
  
  
</li>
      <li role="presentation" aria-hidden="true" data-view-component="true" class="ActionList-sectionDivider"></li>
      <li data-targets="action-list.items action-list.items" role="none" data-view-component="true" class="ActionListItem">
    
    <a href="/account/organizations/new" tabindex="-1" data-dont-follow-via-test="true" data-analytics-event="{&quot;category&quot;:&quot;SiteHeaderComponent&quot;,&quot;action&quot;:&quot;add_dropdown&quot;,&quot;label&quot;:&quot;new organization&quot;}" id="item-a352157b-58be-4e35-9868-2f11fef70779" role="menuitem" data-view-component="true" class="ActionListContent ActionListContent--visual16">
        <span class="ActionListItem-visual ActionListItem-visual--leading">
          <svg aria-hidden="true" height="16" viewBox="0 0 16 16" version="1.1" width="16" data-view-component="true" class="octicon octicon-organization">
    <path d="M1.75 16A1.75 1.75 0 0 1 0 14.25V1.75C0 .784.784 0 1.75 0h8.5C11.216 0 12 .784 12 1.75v12.5c0 .085-.006.168-.018.25h2.268a.25.25 0 0 0 .25-.25V8.285a.25.25 0 0 0-.111-.208l-1.055-.703a.749.749 0 1 1 .832-1.248l1.055.703c.487.325.779.871.779 1.456v5.965A1.75 1.75 0 0 1 14.25 16h-3.5a.766.766 0 0 1-.197-.026c-.099.017-.2.026-.303.026h-3a.75.75 0 0 1-.75-.75V14h-1v1.25a.75.75 0 0 1-.75.75Zm-.25-1.75c0 .138.112.25.25.25H4v-1.25a.75.75 0 0 1 .75-.75h2.5a.75.75 0 0 1 .75.75v1.25h2.25a.25.25 0 0 0 .25-.25V1.75a.25.25 0 0 0-.25-.25h-8.5a.25.25 0 0 0-.25.25ZM3.75 6h.5a.75.75 0 0 1 0 1.5h-.5a.75.75 0 0 1 0-1.5ZM3 3.75A.75.75 0 0 1 3.75 3h.5a.75.75 0 0 1 0 1.5h-.5A.75.75 0 0 1 3 3.75Zm4 3A.75.75 0 0 1 7.75 6h.5a.75.75 0 0 1 0 1.5h-.5A.75.75 0 0 1 7 6.75ZM7.75 3h.5a.75.75 0 0 1 0 1.5h-.5a.75.75 0 0 1 0-1.5ZM3 9.75A.75.75 0 0 1 3.75 9h.5a.75.75 0 0 1 0 1.5h-.5A.75.75 0 0 1 3 9.75ZM7.75 9h.5a.75.75 0 0 1 0 1.5h-.5a.75.75 0 0 1 0-1.5Z"></path>
</svg>
        </span>
      
        <span data-view-component="true" class="ActionListItem-label">
                New organization

</span></a>
  
  
</li>
</ul>  
</div>

</div>
      
</div></anchored-position>  </focus-group>
</action-menu>


          <a href="/issues" data-analytics-event="{&quot;category&quot;:&quot;Global navigation&quot;,&quot;action&quot;:&quot;ISSUES_HEADER&quot;,&quot;label&quot;:null}" id="icon-button-01effb71-6072-4e72-97a7-48363fd2a66a" aria-labelledby="tooltip-1be8cb6f-ef84-4452-9156-7609658820bf" data-view-component="true" class="Button Button--iconOnly Button--secondary Button--medium AppHeader-button color-fg-muted">  <svg aria-hidden="true" height="16" viewBox="0 0 16 16" version="1.1" width="16" data-view-component="true" class="octicon octicon-issue-opened Button-visual">
    <path d="M8 9.5a1.5 1.5 0 1 0 0-3 1.5 1.5 0 0 0 0 3Z"></path><path d="M8 0a8 8 0 1 1 0 16A8 8 0 0 1 8 0ZM1.5 8a6.5 6.5 0 1 0 13 0 6.5 6.5 0 0 0-13 0Z"></path>
</svg>
</a><tool-tip id="tooltip-1be8cb6f-ef84-4452-9156-7609658820bf" for="icon-button-01effb71-6072-4e72-97a7-48363fd2a66a" popover="manual" data-direction="s" data-type="label" data-view-component="true" class="sr-only position-absolute">Issues</tool-tip>

          <a href="/pulls" data-analytics-event="{&quot;category&quot;:&quot;Global navigation&quot;,&quot;action&quot;:&quot;PULL_REQUESTS_HEADER&quot;,&quot;label&quot;:null}" id="icon-button-9742ec0c-dfe1-4cee-b7e7-8b26cbf41f56" aria-labelledby="tooltip-5425706c-4fed-447f-84a7-86727f21dd25" data-view-component="true" class="Button Button--iconOnly Button--secondary Button--medium AppHeader-button color-fg-muted">  <svg aria-hidden="true" height="16" viewBox="0 0 16 16" version="1.1" width="16" data-view-component="true" class="octicon octicon-git-pull-request Button-visual">
    <path d="M1.5 3.25a2.25 2.25 0 1 1 3 2.122v5.256a2.251 2.251 0 1 1-1.5 0V5.372A2.25 2.25 0 0 1 1.5 3.25Zm5.677-.177L9.573.677A.25.25 0 0 1 10 .854V2.5h1A2.5 2.5 0 0 1 13.5 5v5.628a2.251 2.251 0 1 1-1.5 0V5a1 1 0 0 0-1-1h-1v1.646a.25.25 0 0 1-.427.177L7.177 3.427a.25.25 0 0 1 0-.354ZM3.75 2.5a.75.75 0 1 0 0 1.5.75.75 0 0 0 0-1.5Zm0 9.5a.75.75 0 1 0 0 1.5.75.75 0 0 0 0-1.5Zm8.25.75a.75.75 0 1 0 1.5 0 .75.75 0 0 0-1.5 0Z"></path>
</svg>
</a><tool-tip id="tooltip-5425706c-4fed-447f-84a7-86727f21dd25" for="icon-button-9742ec0c-dfe1-4cee-b7e7-8b26cbf41f56" popover="manual" data-direction="s" data-type="label" data-view-component="true" class="sr-only position-absolute">Pull requests</tool-tip>

        </div>

        
<notification-indicator data-channel="eyJjIjoibm90aWZpY2F0aW9uLWNoYW5nZWQ6Mjg1NjA0NiIsInQiOjE3MDcxNjIyOTh9--ba61d60a66f631417d9e6b115e116d5b3773a7845ef2f5e420da58ed1ff0153c" data-indicator-mode="none" data-tooltip-global="You have unread notifications" data-tooltip-unavailable="Notifications are unavailable at the moment." data-tooltip-none="You have no unread notifications" data-header-redesign-enabled="true" data-fetch-indicator-src="/notifications/indicator" data-fetch-indicator-enabled="true" data-view-component="true" class="js-socket-channel">
    <a id="AppHeader-notifications-button" href="/notifications" aria-label="Notifications" data-hotkey="g n" data-target="notification-indicator.link" data-analytics-event="{&quot;category&quot;:&quot;Global navigation&quot;,&quot;action&quot;:&quot;NOTIFICATIONS_HEADER&quot;,&quot;label&quot;:null}" data-view-component="true" class="Button Button--iconOnly Button--secondary Button--medium AppHeader-button  color-fg-muted">  <svg aria-hidden="true" height="16" viewBox="0 0 16 16" version="1.1" width="16" data-view-component="true" class="octicon octicon-inbox Button-visual">
    <path d="M2.8 2.06A1.75 1.75 0 0 1 4.41 1h7.18c.7 0 1.333.417 1.61 1.06l2.74 6.395c.04.093.06.194.06.295v4.5A1.75 1.75 0 0 1 14.25 15H1.75A1.75 1.75 0 0 1 0 13.25v-4.5c0-.101.02-.202.06-.295Zm1.61.44a.25.25 0 0 0-.23.152L1.887 8H4.75a.75.75 0 0 1 .6.3L6.625 10h2.75l1.275-1.7a.75.75 0 0 1 .6-.3h2.863L11.82 2.652a.25.25 0 0 0-.23-.152Zm10.09 7h-2.875l-1.275 1.7a.75.75 0 0 1-.6.3h-3.5a.75.75 0 0 1-.6-.3L4.375 9.5H1.5v3.75c0 .138.112.25.25.25h12.5a.25.25 0 0 0 .25-.25Z"></path>
</svg>
</a>

    <tool-tip data-target="notification-indicator.tooltip" id="tooltip-28b50181-8d15-49f5-8222-827007add3d6" for="AppHeader-notifications-button" popover="manual" data-direction="s" data-type="description" data-view-component="true" class="sr-only position-absolute">Notifications</tool-tip>
</notification-indicator>

        

        <div class="AppHeader-user">
          <deferred-side-panel data-url="/_side-panels/user?repository_id=610465109">
  <include-fragment data-target="deferred-side-panel.fragment">
      <user-drawer-side-panel>
    <button aria-label="Open user account menu" data-action="click:deferred-side-panel#loadPanel click:deferred-side-panel#panelOpened" data-show-dialog-id="dialog-8632d7a6-3cd1-47fe-a6ec-3998138c922d" id="dialog-show-dialog-8632d7a6-3cd1-47fe-a6ec-3998138c922d" type="button" data-view-component="true" class="AppHeader-logo Button--invisible Button--medium Button Button--invisible-noVisuals color-bg-transparent p-0">  <span class="Button-content">
    <span class="Button-label"><img src="https://avatars.githubusercontent.com/u/2856046?v=4" alt="" size="32" height="32" width="32" data-view-component="true" class="avatar circle" /></span>
  </span>
</button>

<dialog-helper>
  <dialog data-target="deferred-side-panel.panel" id="dialog-8632d7a6-3cd1-47fe-a6ec-3998138c922d" aria-modal="true" aria-disabled="true" aria-labelledby="dialog-8632d7a6-3cd1-47fe-a6ec-3998138c922d-title" aria-describedby="dialog-8632d7a6-3cd1-47fe-a6ec-3998138c922d-description" data-view-component="true" class="Overlay Overlay-whenNarrow Overlay--size-small-portrait Overlay--motion-scaleFade Overlay--placement-right SidePanel">
    <div styles="flex-direction: row;" data-view-component="true" class="Overlay-header">
  <div class="Overlay-headerContentWrap">
    <div class="Overlay-titleWrap">
      <h1 class="Overlay-title sr-only" id="dialog-8632d7a6-3cd1-47fe-a6ec-3998138c922d-title">
        Account menu
      </h1>
            <div data-view-component="true" class="d-flex">
      <div data-view-component="true" class="AppHeader-logo position-relative">
        <img src="https://avatars.githubusercontent.com/u/2856046?v=4" alt="" size="32" height="32" width="32" data-view-component="true" class="avatar circle" />
</div>        <div data-view-component="true" class="overflow-hidden d-flex width-full">        <div data-view-component="true" class="lh-condensed overflow-hidden d-flex flex-column flex-justify-center ml-2 f5 mr-auto width-full">
          <span data-view-component="true" class="Truncate text-bold">
    <span data-view-component="true" class="Truncate-text">
            ShadarRim
</span>
</span>          </div>
        <action-menu data-select-variant="none" data-view-component="true" class="d-sm-none d-md-none d-lg-none">
  <focus-group direction="vertical" mnemonics retain>
    <button id="user-create-menu-button" popovertarget="user-create-menu-overlay" aria-label="Create something new" aria-controls="user-create-menu-list" aria-haspopup="true" type="button" data-view-component="true" class="AppHeader-button Button--secondary Button--small Button width-auto color-fg-muted">  <span class="Button-content">
      <span class="Button-visual Button-leadingVisual">
        <svg aria-hidden="true" height="16" viewBox="0 0 16 16" version="1.1" width="16" data-view-component="true" class="octicon octicon-plus">
    <path d="M7.75 2a.75.75 0 0 1 .75.75V7h4.25a.75.75 0 0 1 0 1.5H8.5v4.25a.75.75 0 0 1-1.5 0V8.5H2.75a.75.75 0 0 1 0-1.5H7V2.75A.75.75 0 0 1 7.75 2Z"></path>
</svg>
      </span>
    <span class="Button-label"><svg aria-hidden="true" height="16" viewBox="0 0 16 16" version="1.1" width="16" data-view-component="true" class="octicon octicon-triangle-down">
    <path d="m4.427 7.427 3.396 3.396a.25.25 0 0 0 .354 0l3.396-3.396A.25.25 0 0 0 11.396 7H4.604a.25.25 0 0 0-.177.427Z"></path>
</svg></span>
  </span>
</button><tool-tip id="tooltip-a1062bdb-4812-4254-b061-482c12bbfc2a" for="user-create-menu-button" popover="manual" data-direction="s" data-type="description" data-view-component="true" class="sr-only position-absolute">Create new...</tool-tip>


<anchored-position id="user-create-menu-overlay" anchor="user-create-menu-button" align="end" side="outside-bottom" anchor-offset="normal" popover="auto" data-view-component="true">
  <div data-view-component="true" class="Overlay Overlay--size-auto">
    
      <div data-view-component="true" class="Overlay-body Overlay-body--paddingNone">          <div data-view-component="true">
  <ul aria-labelledby="user-create-menu-button" id="user-create-menu-list" role="menu" data-view-component="true" class="ActionListWrap--inset ActionListWrap">
      <li data-analytics-event="{&quot;category&quot;:&quot;SiteHeaderComponent&quot;,&quot;action&quot;:&quot;add_dropdown&quot;,&quot;label&quot;:&quot;new repository&quot;}" data-targets="action-list.items action-list.items" role="none" data-view-component="true" class="ActionListItem">
    
    <a href="/new" tabindex="-1" id="item-a5fd6f96-a219-480a-8805-99031963afc7" role="menuitem" data-view-component="true" class="ActionListContent ActionListContent--visual16">
        <span class="ActionListItem-visual ActionListItem-visual--leading">
          <svg aria-hidden="true" height="16" viewBox="0 0 16 16" version="1.1" width="16" data-view-component="true" class="octicon octicon-repo">
    <path d="M2 2.5A2.5 2.5 0 0 1 4.5 0h8.75a.75.75 0 0 1 .75.75v12.5a.75.75 0 0 1-.75.75h-2.5a.75.75 0 0 1 0-1.5h1.75v-2h-8a1 1 0 0 0-.714 1.7.75.75 0 1 1-1.072 1.05A2.495 2.495 0 0 1 2 11.5Zm10.5-1h-8a1 1 0 0 0-1 1v6.708A2.486 2.486 0 0 1 4.5 9h8ZM5 12.25a.25.25 0 0 1 .25-.25h3.5a.25.25 0 0 1 .25.25v3.25a.25.25 0 0 1-.4.2l-1.45-1.087a.249.249 0 0 0-.3 0L5.4 15.7a.25.25 0 0 1-.4-.2Z"></path>
</svg>
        </span>
      
        <span data-view-component="true" class="ActionListItem-label">
              New repository

</span></a>
  
  
</li>
      <li data-analytics-event="{&quot;category&quot;:&quot;SiteHeaderComponent&quot;,&quot;action&quot;:&quot;add_dropdown&quot;,&quot;label&quot;:&quot;import repository&quot;}" data-targets="action-list.items action-list.items" role="none" data-view-component="true" class="ActionListItem">
    
    <a href="/new/import" tabindex="-1" id="item-3feebb24-4522-45ac-840c-7b8c5ca3b8ab" role="menuitem" data-view-component="true" class="ActionListContent ActionListContent--visual16">
        <span class="ActionListItem-visual ActionListItem-visual--leading">
          <svg aria-hidden="true" height="16" viewBox="0 0 16 16" version="1.1" width="16" data-view-component="true" class="octicon octicon-repo-push">
    <path d="M1 2.5A2.5 2.5 0 0 1 3.5 0h8.75a.75.75 0 0 1 .75.75v3.5a.75.75 0 0 1-1.5 0V1.5h-8a1 1 0 0 0-1 1v6.708A2.493 2.493 0 0 1 3.5 9h3.25a.75.75 0 0 1 0 1.5H3.5a1 1 0 0 0 0 2h5.75a.75.75 0 0 1 0 1.5H3.5A2.5 2.5 0 0 1 1 11.5Zm13.23 7.79h-.001l-1.224-1.224v6.184a.75.75 0 0 1-1.5 0V9.066L10.28 10.29a.75.75 0 0 1-1.06-1.061l2.505-2.504a.75.75 0 0 1 1.06 0L15.29 9.23a.751.751 0 0 1-.018 1.042.751.751 0 0 1-1.042.018Z"></path>
</svg>
        </span>
      
        <span data-view-component="true" class="ActionListItem-label">
                Import repository

</span></a>
  
  
</li>
      <li role="presentation" aria-hidden="true" data-view-component="true" class="ActionList-sectionDivider"></li>
      <li data-analytics-event="{&quot;category&quot;:&quot;SiteHeaderComponent&quot;,&quot;action&quot;:&quot;add_dropdown&quot;,&quot;label&quot;:&quot;new codespace&quot;}" data-targets="action-list.items action-list.items" role="none" data-view-component="true" class="ActionListItem">
    
    <a href="/codespaces/new" tabindex="-1" id="item-f5c545a4-db32-4fbd-adcc-9006e14179b6" role="menuitem" data-view-component="true" class="ActionListContent ActionListContent--visual16">
        <span class="ActionListItem-visual ActionListItem-visual--leading">
          <svg aria-hidden="true" height="16" viewBox="0 0 16 16" version="1.1" width="16" data-view-component="true" class="octicon octicon-codespaces">
    <path d="M0 11.25c0-.966.784-1.75 1.75-1.75h12.5c.966 0 1.75.784 1.75 1.75v3A1.75 1.75 0 0 1 14.25 16H1.75A1.75 1.75 0 0 1 0 14.25Zm2-9.5C2 .784 2.784 0 3.75 0h8.5C13.216 0 14 .784 14 1.75v5a1.75 1.75 0 0 1-1.75 1.75h-8.5A1.75 1.75 0 0 1 2 6.75Zm1.75-.25a.25.25 0 0 0-.25.25v5c0 .138.112.25.25.25h8.5a.25.25 0 0 0 .25-.25v-5a.25.25 0 0 0-.25-.25Zm-2 9.5a.25.25 0 0 0-.25.25v3c0 .138.112.25.25.25h12.5a.25.25 0 0 0 .25-.25v-3a.25.25 0 0 0-.25-.25Z"></path><path d="M7 12.75a.75.75 0 0 1 .75-.75h4.5a.75.75 0 0 1 0 1.5h-4.5a.75.75 0 0 1-.75-.75Zm-4 0a.75.75 0 0 1 .75-.75h.5a.75.75 0 0 1 0 1.5h-.5a.75.75 0 0 1-.75-.75Z"></path>
</svg>
        </span>
      
        <span data-view-component="true" class="ActionListItem-label">
                New codespace

</span></a>
  
  
</li>
      <li data-analytics-event="{&quot;category&quot;:&quot;SiteHeaderComponent&quot;,&quot;action&quot;:&quot;add_dropdown&quot;,&quot;label&quot;:&quot;new gist&quot;}" data-targets="action-list.items action-list.items" role="none" data-view-component="true" class="ActionListItem">
    
    <a href="https://gist.github.com/" tabindex="-1" id="item-4017f78a-71ea-45cb-abbd-755b4f2fc460" role="menuitem" data-view-component="true" class="ActionListContent ActionListContent--visual16">
        <span class="ActionListItem-visual ActionListItem-visual--leading">
          <svg aria-hidden="true" height="16" viewBox="0 0 16 16" version="1.1" width="16" data-view-component="true" class="octicon octicon-code">
    <path d="m11.28 3.22 4.25 4.25a.75.75 0 0 1 0 1.06l-4.25 4.25a.749.749 0 0 1-1.275-.326.749.749 0 0 1 .215-.734L13.94 8l-3.72-3.72a.749.749 0 0 1 .326-1.275.749.749 0 0 1 .734.215Zm-6.56 0a.751.751 0 0 1 1.042.018.751.751 0 0 1 .018 1.042L2.06 8l3.72 3.72a.749.749 0 0 1-.326 1.275.749.749 0 0 1-.734-.215L.47 8.53a.75.75 0 0 1 0-1.06Z"></path>
</svg>
        </span>
      
        <span data-view-component="true" class="ActionListItem-label">
                New gist

</span></a>
  
  
</li>
      <li role="presentation" aria-hidden="true" data-view-component="true" class="ActionList-sectionDivider"></li>
      <li data-targets="action-list.items action-list.items" role="none" data-view-component="true" class="ActionListItem">
    
    <a href="/account/organizations/new" tabindex="-1" data-dont-follow-via-test="true" data-analytics-event="{&quot;category&quot;:&quot;SiteHeaderComponent&quot;,&quot;action&quot;:&quot;add_dropdown&quot;,&quot;label&quot;:&quot;new organization&quot;}" id="item-59e3b677-1189-4e4a-a548-005a82d44d48" role="menuitem" data-view-component="true" class="ActionListContent ActionListContent--visual16">
        <span class="ActionListItem-visual ActionListItem-visual--leading">
          <svg aria-hidden="true" height="16" viewBox="0 0 16 16" version="1.1" width="16" data-view-component="true" class="octicon octicon-organization">
    <path d="M1.75 16A1.75 1.75 0 0 1 0 14.25V1.75C0 .784.784 0 1.75 0h8.5C11.216 0 12 .784 12 1.75v12.5c0 .085-.006.168-.018.25h2.268a.25.25 0 0 0 .25-.25V8.285a.25.25 0 0 0-.111-.208l-1.055-.703a.749.749 0 1 1 .832-1.248l1.055.703c.487.325.779.871.779 1.456v5.965A1.75 1.75 0 0 1 14.25 16h-3.5a.766.766 0 0 1-.197-.026c-.099.017-.2.026-.303.026h-3a.75.75 0 0 1-.75-.75V14h-1v1.25a.75.75 0 0 1-.75.75Zm-.25-1.75c0 .138.112.25.25.25H4v-1.25a.75.75 0 0 1 .75-.75h2.5a.75.75 0 0 1 .75.75v1.25h2.25a.25.25 0 0 0 .25-.25V1.75a.25.25 0 0 0-.25-.25h-8.5a.25.25 0 0 0-.25.25ZM3.75 6h.5a.75.75 0 0 1 0 1.5h-.5a.75.75 0 0 1 0-1.5ZM3 3.75A.75.75 0 0 1 3.75 3h.5a.75.75 0 0 1 0 1.5h-.5A.75.75 0 0 1 3 3.75Zm4 3A.75.75 0 0 1 7.75 6h.5a.75.75 0 0 1 0 1.5h-.5A.75.75 0 0 1 7 6.75ZM7.75 3h.5a.75.75 0 0 1 0 1.5h-.5a.75.75 0 0 1 0-1.5ZM3 9.75A.75.75 0 0 1 3.75 9h.5a.75.75 0 0 1 0 1.5h-.5A.75.75 0 0 1 3 9.75ZM7.75 9h.5a.75.75 0 0 1 0 1.5h-.5a.75.75 0 0 1 0-1.5Z"></path>
</svg>
        </span>
      
        <span data-view-component="true" class="ActionListItem-label">
                New organization

</span></a>
  
  
</li>
</ul>  
</div>

</div>
      
</div></anchored-position>  </focus-group>
</action-menu>

</div>
</div>
    </div>
    <div class="Overlay-actionWrap">
      <button data-close-dialog-id="dialog-8632d7a6-3cd1-47fe-a6ec-3998138c922d" aria-label="Close" type="button" data-view-component="true" class="close-button Overlay-closeButton"><svg aria-hidden="true" height="16" viewBox="0 0 16 16" version="1.1" width="16" data-view-component="true" class="octicon octicon-x">
    <path d="M3.72 3.72a.75.75 0 0 1 1.06 0L8 6.94l3.22-3.22a.749.749 0 0 1 1.275.326.749.749 0 0 1-.215.734L9.06 8l3.22 3.22a.749.749 0 0 1-.326 1.275.749.749 0 0 1-.734-.215L8 9.06l-3.22 3.22a.751.751 0 0 1-1.042-.018.751.751 0 0 1-.018-1.042L6.94 8 3.72 4.78a.75.75 0 0 1 0-1.06Z"></path>
</svg></button>
    </div>
  </div>
</div>
      <scrollable-region data-labelled-by="dialog-8632d7a6-3cd1-47fe-a6ec-3998138c922d-title">
        <div data-view-component="true" class="Overlay-body d-flex flex-column px-2">    <div data-view-component="true" class="d-flex flex-column mb-3">
        <nav aria-label="User navigation" data-view-component="true" class="ActionList">
  
  <nav-list>
    <ul data-view-component="true" class="ActionListWrap">
        
          
<li data-targets="nav-list.items nav-list.items" data-item-id="" data-view-component="true" class="ActionListItem">
    
    <button id="item-8aa590f0-3137-4bda-a6c5-6071a6e9a1f4" type="button" data-view-component="true" class="ActionListContent ActionListContent--visual16">
        <span class="ActionListItem-visual ActionListItem-visual--leading">
          <span data-view-component="true" class="d-flex flex-items-center">    <svg style="box-sizing: content-box; color: var(--color-icon-primary);" width="16" height="16" viewBox="0 0 16 16" fill="none" data-view-component="true" class="anim-rotate">
  <circle cx="8" cy="8" r="7" stroke="currentColor" stroke-opacity="0.25" stroke-width="2" vector-effect="non-scaling-stroke" fill="none" />
  <path d="M15 8a7.002 7.002 0 00-7-7" stroke="currentColor" stroke-width="2" stroke-linecap="round" vector-effect="non-scaling-stroke" />
</svg>
</span>
        </span>
      
        <span data-view-component="true" class="ActionListItem-label">
          

  <span class="color-fg-muted">
    Loading...
  </span>

</span></button>
  
  
</li>

        
          <li role="presentation" aria-hidden="true" data-view-component="true" class="ActionList-sectionDivider"></li>
        
          
<li data-targets="nav-list.items nav-list.items" data-item-id="" data-view-component="true" class="ActionListItem">
    
    <a data-analytics-event="{&quot;category&quot;:&quot;Global navigation&quot;,&quot;action&quot;:&quot;PROFILE&quot;,&quot;label&quot;:null}" id="item-8d69d2cb-940a-41ac-9f9e-b3fcc98455cd" href="https://github.com/ShadarRim" data-view-component="true" class="ActionListContent ActionListContent--visual16">
        <span class="ActionListItem-visual ActionListItem-visual--leading">
          <svg aria-hidden="true" height="16" viewBox="0 0 16 16" version="1.1" width="16" data-view-component="true" class="octicon octicon-person">
    <path d="M10.561 8.073a6.005 6.005 0 0 1 3.432 5.142.75.75 0 1 1-1.498.07 4.5 4.5 0 0 0-8.99 0 .75.75 0 0 1-1.498-.07 6.004 6.004 0 0 1 3.431-5.142 3.999 3.999 0 1 1 5.123 0ZM10.5 5a2.5 2.5 0 1 0-5 0 2.5 2.5 0 0 0 5 0Z"></path>
</svg>
        </span>
      
        <span data-view-component="true" class="ActionListItem-label">
          Your profile
</span></a>
  
  
</li>

        
          
<li data-targets="nav-list.items nav-list.items" data-item-id="" data-view-component="true" class="ActionListItem">
    
    <button id="item-092903f3-0fd6-43d5-87bd-7375a5a3f4b4" type="button" data-view-component="true" class="ActionListContent ActionListContent--visual16">
        <span class="ActionListItem-visual ActionListItem-visual--leading">
          <span data-view-component="true" class="d-flex flex-items-center">    <svg style="box-sizing: content-box; color: var(--color-icon-primary);" width="16" height="16" viewBox="0 0 16 16" fill="none" data-view-component="true" class="anim-rotate">
  <circle cx="8" cy="8" r="7" stroke="currentColor" stroke-opacity="0.25" stroke-width="2" vector-effect="non-scaling-stroke" fill="none" />
  <path d="M15 8a7.002 7.002 0 00-7-7" stroke="currentColor" stroke-width="2" stroke-linecap="round" vector-effect="non-scaling-stroke" />
</svg>
</span>
        </span>
      
        <span data-view-component="true" class="ActionListItem-label">
          

  <span class="color-fg-muted">
    Loading...
  </span>

</span></button>
  
  
</li>

        
          <li role="presentation" aria-hidden="true" data-view-component="true" class="ActionList-sectionDivider"></li>
        
          
<li data-targets="nav-list.items nav-list.items" data-item-id="" data-view-component="true" class="ActionListItem">
    
    <a data-analytics-event="{&quot;category&quot;:&quot;Global navigation&quot;,&quot;action&quot;:&quot;YOUR_REPOSITORIES&quot;,&quot;label&quot;:null}" id="item-00c92d7e-146b-4fc1-bf61-3afadd9be794" href="/ShadarRim?tab=repositories" data-view-component="true" class="ActionListContent ActionListContent--visual16">
        <span class="ActionListItem-visual ActionListItem-visual--leading">
          <svg aria-hidden="true" height="16" viewBox="0 0 16 16" version="1.1" width="16" data-view-component="true" class="octicon octicon-repo">
    <path d="M2 2.5A2.5 2.5 0 0 1 4.5 0h8.75a.75.75 0 0 1 .75.75v12.5a.75.75 0 0 1-.75.75h-2.5a.75.75 0 0 1 0-1.5h1.75v-2h-8a1 1 0 0 0-.714 1.7.75.75 0 1 1-1.072 1.05A2.495 2.495 0 0 1 2 11.5Zm10.5-1h-8a1 1 0 0 0-1 1v6.708A2.486 2.486 0 0 1 4.5 9h8ZM5 12.25a.25.25 0 0 1 .25-.25h3.5a.25.25 0 0 1 .25.25v3.25a.25.25 0 0 1-.4.2l-1.45-1.087a.249.249 0 0 0-.3 0L5.4 15.7a.25.25 0 0 1-.4-.2Z"></path>
</svg>
        </span>
      
        <span data-view-component="true" class="ActionListItem-label">
          Your repositories
</span></a>
  
  
</li>

        
          
<li data-targets="nav-list.items nav-list.items" data-item-id="" data-view-component="true" class="ActionListItem">
    
    <a data-analytics-event="{&quot;category&quot;:&quot;Global navigation&quot;,&quot;action&quot;:&quot;YOUR_PROJECTS&quot;,&quot;label&quot;:null}" id="item-1ca42b57-56b6-407b-a4f2-6fd3943c4a78" href="/ShadarRim?tab=projects" data-view-component="true" class="ActionListContent ActionListContent--visual16">
        <span class="ActionListItem-visual ActionListItem-visual--leading">
          <svg aria-hidden="true" height="16" viewBox="0 0 16 16" version="1.1" width="16" data-view-component="true" class="octicon octicon-project">
    <path d="M1.75 0h12.5C15.216 0 16 .784 16 1.75v12.5A1.75 1.75 0 0 1 14.25 16H1.75A1.75 1.75 0 0 1 0 14.25V1.75C0 .784.784 0 1.75 0ZM1.5 1.75v12.5c0 .138.112.25.25.25h12.5a.25.25 0 0 0 .25-.25V1.75a.25.25 0 0 0-.25-.25H1.75a.25.25 0 0 0-.25.25ZM11.75 3a.75.75 0 0 1 .75.75v7.5a.75.75 0 0 1-1.5 0v-7.5a.75.75 0 0 1 .75-.75Zm-8.25.75a.75.75 0 0 1 1.5 0v5.5a.75.75 0 0 1-1.5 0ZM8 3a.75.75 0 0 1 .75.75v3.5a.75.75 0 0 1-1.5 0v-3.5A.75.75 0 0 1 8 3Z"></path>
</svg>
        </span>
      
        <span data-view-component="true" class="ActionListItem-label">
          Your projects
</span></a>
  
  
</li>

        
          
<li data-targets="nav-list.items nav-list.items" data-item-id="" data-view-component="true" class="ActionListItem">
    
    <button id="item-844ea34f-3c6b-428b-90bb-fe15e2f914c5" type="button" data-view-component="true" class="ActionListContent ActionListContent--visual16">
        <span class="ActionListItem-visual ActionListItem-visual--leading">
          <span data-view-component="true" class="d-flex flex-items-center">    <svg style="box-sizing: content-box; color: var(--color-icon-primary);" width="16" height="16" viewBox="0 0 16 16" fill="none" data-view-component="true" class="anim-rotate">
  <circle cx="8" cy="8" r="7" stroke="currentColor" stroke-opacity="0.25" stroke-width="2" vector-effect="non-scaling-stroke" fill="none" />
  <path d="M15 8a7.002 7.002 0 00-7-7" stroke="currentColor" stroke-width="2" stroke-linecap="round" vector-effect="non-scaling-stroke" />
</svg>
</span>
        </span>
      
        <span data-view-component="true" class="ActionListItem-label">
          

  <span class="color-fg-muted">
    Loading...
  </span>

</span></button>
  
  
</li>

        
          
<li data-targets="nav-list.items nav-list.items" data-item-id="" data-view-component="true" class="ActionListItem">
    
    <a data-analytics-event="{&quot;category&quot;:&quot;Global navigation&quot;,&quot;action&quot;:&quot;YOUR_STARS&quot;,&quot;label&quot;:null}" id="item-6f1c0dc6-18ee-47f0-8a20-72f797fe7783" href="/ShadarRim?tab=stars" data-view-component="true" class="ActionListContent ActionListContent--visual16">
        <span class="ActionListItem-visual ActionListItem-visual--leading">
          <svg aria-hidden="true" height="16" viewBox="0 0 16 16" version="1.1" width="16" data-view-component="true" class="octicon octicon-star">
    <path d="M8 .25a.75.75 0 0 1 .673.418l1.882 3.815 4.21.612a.75.75 0 0 1 .416 1.279l-3.046 2.97.719 4.192a.751.751 0 0 1-1.088.791L8 12.347l-3.766 1.98a.75.75 0 0 1-1.088-.79l.72-4.194L.818 6.374a.75.75 0 0 1 .416-1.28l4.21-.611L7.327.668A.75.75 0 0 1 8 .25Zm0 2.445L6.615 5.5a.75.75 0 0 1-.564.41l-3.097.45 2.24 2.184a.75.75 0 0 1 .216.664l-.528 3.084 2.769-1.456a.75.75 0 0 1 .698 0l2.77 1.456-.53-3.084a.75.75 0 0 1 .216-.664l2.24-2.183-3.096-.45a.75.75 0 0 1-.564-.41L8 2.694Z"></path>
</svg>
        </span>
      
        <span data-view-component="true" class="ActionListItem-label">
          Your stars
</span></a>
  
  
</li>

        
          
<li data-targets="nav-list.items nav-list.items" data-item-id="" data-view-component="true" class="ActionListItem">
    
    <a data-analytics-event="{&quot;category&quot;:&quot;Global navigation&quot;,&quot;action&quot;:&quot;SPONSORS&quot;,&quot;label&quot;:null}" id="item-5469bd6d-7f17-49a0-a6c7-e356560252ec" href="/sponsors/accounts" data-view-component="true" class="ActionListContent ActionListContent--visual16">
        <span class="ActionListItem-visual ActionListItem-visual--leading">
          <svg aria-hidden="true" height="16" viewBox="0 0 16 16" version="1.1" width="16" data-view-component="true" class="octicon octicon-heart">
    <path d="m8 14.25.345.666a.75.75 0 0 1-.69 0l-.008-.004-.018-.01a7.152 7.152 0 0 1-.31-.17 22.055 22.055 0 0 1-3.434-2.414C2.045 10.731 0 8.35 0 5.5 0 2.836 2.086 1 4.25 1 5.797 1 7.153 1.802 8 3.02 8.847 1.802 10.203 1 11.75 1 13.914 1 16 2.836 16 5.5c0 2.85-2.045 5.231-3.885 6.818a22.066 22.066 0 0 1-3.744 2.584l-.018.01-.006.003h-.002ZM4.25 2.5c-1.336 0-2.75 1.164-2.75 3 0 2.15 1.58 4.144 3.365 5.682A20.58 20.58 0 0 0 8 13.393a20.58 20.58 0 0 0 3.135-2.211C12.92 9.644 14.5 7.65 14.5 5.5c0-1.836-1.414-3-2.75-3-1.373 0-2.609.986-3.029 2.456a.749.749 0 0 1-1.442 0C6.859 3.486 5.623 2.5 4.25 2.5Z"></path>
</svg>
        </span>
      
        <span data-view-component="true" class="ActionListItem-label">
          Your sponsors
</span></a>
  
  
</li>

        
          
<li data-targets="nav-list.items nav-list.items" data-item-id="" data-view-component="true" class="ActionListItem">
    
    <a data-analytics-event="{&quot;category&quot;:&quot;Global navigation&quot;,&quot;action&quot;:&quot;YOUR_GISTS&quot;,&quot;label&quot;:null}" id="item-8b1860dc-2c93-4c6c-9b4f-03a0c5ec2b1a" href="https://gist.github.com/mine" data-view-component="true" class="ActionListContent ActionListContent--visual16">
        <span class="ActionListItem-visual ActionListItem-visual--leading">
          <svg aria-hidden="true" height="16" viewBox="0 0 16 16" version="1.1" width="16" data-view-component="true" class="octicon octicon-code-square">
    <path d="M0 1.75C0 .784.784 0 1.75 0h12.5C15.216 0 16 .784 16 1.75v12.5A1.75 1.75 0 0 1 14.25 16H1.75A1.75 1.75 0 0 1 0 14.25Zm1.75-.25a.25.25 0 0 0-.25.25v12.5c0 .138.112.25.25.25h12.5a.25.25 0 0 0 .25-.25V1.75a.25.25 0 0 0-.25-.25Zm7.47 3.97a.75.75 0 0 1 1.06 0l2 2a.75.75 0 0 1 0 1.06l-2 2a.749.749 0 0 1-1.275-.326.749.749 0 0 1 .215-.734L10.69 8 9.22 6.53a.75.75 0 0 1 0-1.06ZM6.78 6.53 5.31 8l1.47 1.47a.749.749 0 0 1-.326 1.275.749.749 0 0 1-.734-.215l-2-2a.75.75 0 0 1 0-1.06l2-2a.751.751 0 0 1 1.042.018.751.751 0 0 1 .018 1.042Z"></path>
</svg>
        </span>
      
        <span data-view-component="true" class="ActionListItem-label">
          Your gists
</span></a>
  
  
</li>

        
          <li role="presentation" aria-hidden="true" data-view-component="true" class="ActionList-sectionDivider"></li>
        
          
<li data-targets="nav-list.items nav-list.items" data-item-id="" data-view-component="true" class="ActionListItem">
    
    <button id="item-471d0946-2057-4089-b8cb-f8e915a4f6c0" type="button" data-view-component="true" class="ActionListContent ActionListContent--visual16">
        <span class="ActionListItem-visual ActionListItem-visual--leading">
          <span data-view-component="true" class="d-flex flex-items-center">    <svg style="box-sizing: content-box; color: var(--color-icon-primary);" width="16" height="16" viewBox="0 0 16 16" fill="none" data-view-component="true" class="anim-rotate">
  <circle cx="8" cy="8" r="7" stroke="currentColor" stroke-opacity="0.25" stroke-width="2" vector-effect="non-scaling-stroke" fill="none" />
  <path d="M15 8a7.002 7.002 0 00-7-7" stroke="currentColor" stroke-width="2" stroke-linecap="round" vector-effect="non-scaling-stroke" />
</svg>
</span>
        </span>
      
        <span data-view-component="true" class="ActionListItem-label">
          

  <span class="color-fg-muted">
    Loading...
  </span>

</span></button>
  
  
</li>

        
          
<li data-targets="nav-list.items nav-list.items" data-item-id="" data-view-component="true" class="ActionListItem">
    
    <button id="item-6d8367b7-f278-465f-9012-5116718b14a6" type="button" data-view-component="true" class="ActionListContent ActionListContent--visual16">
        <span class="ActionListItem-visual ActionListItem-visual--leading">
          <span data-view-component="true" class="d-flex flex-items-center">    <svg style="box-sizing: content-box; color: var(--color-icon-primary);" width="16" height="16" viewBox="0 0 16 16" fill="none" data-view-component="true" class="anim-rotate">
  <circle cx="8" cy="8" r="7" stroke="currentColor" stroke-opacity="0.25" stroke-width="2" vector-effect="non-scaling-stroke" fill="none" />
  <path d="M15 8a7.002 7.002 0 00-7-7" stroke="currentColor" stroke-width="2" stroke-linecap="round" vector-effect="non-scaling-stroke" />
</svg>
</span>
        </span>
      
        <span data-view-component="true" class="ActionListItem-label">
          

  <span class="color-fg-muted">
    Loading...
  </span>

</span></button>
  
  
</li>

        
          
<li data-targets="nav-list.items nav-list.items" data-item-id="" data-view-component="true" class="ActionListItem">
    
    <button id="item-61e9b46f-7786-447e-9452-5b2c57924c37" type="button" data-view-component="true" class="ActionListContent ActionListContent--visual16">
        <span class="ActionListItem-visual ActionListItem-visual--leading">
          <span data-view-component="true" class="d-flex flex-items-center">    <svg style="box-sizing: content-box; color: var(--color-icon-primary);" width="16" height="16" viewBox="0 0 16 16" fill="none" data-view-component="true" class="anim-rotate">
  <circle cx="8" cy="8" r="7" stroke="currentColor" stroke-opacity="0.25" stroke-width="2" vector-effect="non-scaling-stroke" fill="none" />
  <path d="M15 8a7.002 7.002 0 00-7-7" stroke="currentColor" stroke-width="2" stroke-linecap="round" vector-effect="non-scaling-stroke" />
</svg>
</span>
        </span>
      
        <span data-view-component="true" class="ActionListItem-label">
          

  <span class="color-fg-muted">
    Loading...
  </span>

</span></button>
  
  
</li>

        
          
<li data-targets="nav-list.items nav-list.items" data-item-id="" data-view-component="true" class="ActionListItem">
    
    <a data-analytics-event="{&quot;category&quot;:&quot;Global navigation&quot;,&quot;action&quot;:&quot;SETTINGS&quot;,&quot;label&quot;:null}" id="item-dee19576-7da2-457a-9980-a12b566d1e69" href="/settings/profile" data-view-component="true" class="ActionListContent ActionListContent--visual16">
        <span class="ActionListItem-visual ActionListItem-visual--leading">
          <svg aria-hidden="true" height="16" viewBox="0 0 16 16" version="1.1" width="16" data-view-component="true" class="octicon octicon-gear">
    <path d="M8 0a8.2 8.2 0 0 1 .701.031C9.444.095 9.99.645 10.16 1.29l.288 1.107c.018.066.079.158.212.224.231.114.454.243.668.386.123.082.233.09.299.071l1.103-.303c.644-.176 1.392.021 1.82.63.27.385.506.792.704 1.218.315.675.111 1.422-.364 1.891l-.814.806c-.049.048-.098.147-.088.294.016.257.016.515 0 .772-.01.147.038.246.088.294l.814.806c.475.469.679 1.216.364 1.891a7.977 7.977 0 0 1-.704 1.217c-.428.61-1.176.807-1.82.63l-1.102-.302c-.067-.019-.177-.011-.3.071a5.909 5.909 0 0 1-.668.386c-.133.066-.194.158-.211.224l-.29 1.106c-.168.646-.715 1.196-1.458 1.26a8.006 8.006 0 0 1-1.402 0c-.743-.064-1.289-.614-1.458-1.26l-.289-1.106c-.018-.066-.079-.158-.212-.224a5.738 5.738 0 0 1-.668-.386c-.123-.082-.233-.09-.299-.071l-1.103.303c-.644.176-1.392-.021-1.82-.63a8.12 8.12 0 0 1-.704-1.218c-.315-.675-.111-1.422.363-1.891l.815-.806c.05-.048.098-.147.088-.294a6.214 6.214 0 0 1 0-.772c.01-.147-.038-.246-.088-.294l-.815-.806C.635 6.045.431 5.298.746 4.623a7.92 7.92 0 0 1 .704-1.217c.428-.61 1.176-.807 1.82-.63l1.102.302c.067.019.177.011.3-.071.214-.143.437-.272.668-.386.133-.066.194-.158.211-.224l.29-1.106C6.009.645 6.556.095 7.299.03 7.53.01 7.764 0 8 0Zm-.571 1.525c-.036.003-.108.036-.137.146l-.289 1.105c-.147.561-.549.967-.998 1.189-.173.086-.34.183-.5.29-.417.278-.97.423-1.529.27l-1.103-.303c-.109-.03-.175.016-.195.045-.22.312-.412.644-.573.99-.014.031-.021.11.059.19l.815.806c.411.406.562.957.53 1.456a4.709 4.709 0 0 0 0 .582c.032.499-.119 1.05-.53 1.456l-.815.806c-.081.08-.073.159-.059.19.162.346.353.677.573.989.02.03.085.076.195.046l1.102-.303c.56-.153 1.113-.008 1.53.27.161.107.328.204.501.29.447.222.85.629.997 1.189l.289 1.105c.029.109.101.143.137.146a6.6 6.6 0 0 0 1.142 0c.036-.003.108-.036.137-.146l.289-1.105c.147-.561.549-.967.998-1.189.173-.086.34-.183.5-.29.417-.278.97-.423 1.529-.27l1.103.303c.109.029.175-.016.195-.045.22-.313.411-.644.573-.99.014-.031.021-.11-.059-.19l-.815-.806c-.411-.406-.562-.957-.53-1.456a4.709 4.709 0 0 0 0-.582c-.032-.499.119-1.05.53-1.456l.815-.806c.081-.08.073-.159.059-.19a6.464 6.464 0 0 0-.573-.989c-.02-.03-.085-.076-.195-.046l-1.102.303c-.56.153-1.113.008-1.53-.27a4.44 4.44 0 0 0-.501-.29c-.447-.222-.85-.629-.997-1.189l-.289-1.105c-.029-.11-.101-.143-.137-.146a6.6 6.6 0 0 0-1.142 0ZM11 8a3 3 0 1 1-6 0 3 3 0 0 1 6 0ZM9.5 8a1.5 1.5 0 1 0-3.001.001A1.5 1.5 0 0 0 9.5 8Z"></path>
</svg>
        </span>
      
        <span data-view-component="true" class="ActionListItem-label">
          Settings
</span></a>
  
  
</li>

        
          <li role="presentation" aria-hidden="true" data-view-component="true" class="ActionList-sectionDivider"></li>
        
          
<li data-targets="nav-list.items nav-list.items" data-item-id="" data-view-component="true" class="ActionListItem">
    
    <a data-analytics-event="{&quot;category&quot;:&quot;Global navigation&quot;,&quot;action&quot;:&quot;DOCS&quot;,&quot;label&quot;:null}" id="item-ed805506-f3b0-43cd-89db-907a1e598f25" href="https://docs.github.com" data-view-component="true" class="ActionListContent ActionListContent--visual16">
        <span class="ActionListItem-visual ActionListItem-visual--leading">
          <svg aria-hidden="true" height="16" viewBox="0 0 16 16" version="1.1" width="16" data-view-component="true" class="octicon octicon-book">
    <path d="M0 1.75A.75.75 0 0 1 .75 1h4.253c1.227 0 2.317.59 3 1.501A3.743 3.743 0 0 1 11.006 1h4.245a.75.75 0 0 1 .75.75v10.5a.75.75 0 0 1-.75.75h-4.507a2.25 2.25 0 0 0-1.591.659l-.622.621a.75.75 0 0 1-1.06 0l-.622-.621A2.25 2.25 0 0 0 5.258 13H.75a.75.75 0 0 1-.75-.75Zm7.251 10.324.004-5.073-.002-2.253A2.25 2.25 0 0 0 5.003 2.5H1.5v9h3.757a3.75 3.75 0 0 1 1.994.574ZM8.755 4.75l-.004 7.322a3.752 3.752 0 0 1 1.992-.572H14.5v-9h-3.495a2.25 2.25 0 0 0-2.25 2.25Z"></path>
</svg>
        </span>
      
        <span data-view-component="true" class="ActionListItem-label">
          GitHub Docs
</span></a>
  
  
</li>

        
          
<li data-targets="nav-list.items nav-list.items" data-item-id="" data-view-component="true" class="ActionListItem">
    
    <a data-analytics-event="{&quot;category&quot;:&quot;Global navigation&quot;,&quot;action&quot;:&quot;SUPPORT&quot;,&quot;label&quot;:null}" id="item-6be6f409-0f3c-4896-b55b-ee08182059fb" href="https://support.github.com" data-view-component="true" class="ActionListContent ActionListContent--visual16">
        <span class="ActionListItem-visual ActionListItem-visual--leading">
          <svg aria-hidden="true" height="16" viewBox="0 0 16 16" version="1.1" width="16" data-view-component="true" class="octicon octicon-people">
    <path d="M2 5.5a3.5 3.5 0 1 1 5.898 2.549 5.508 5.508 0 0 1 3.034 4.084.75.75 0 1 1-1.482.235 4 4 0 0 0-7.9 0 .75.75 0 0 1-1.482-.236A5.507 5.507 0 0 1 3.102 8.05 3.493 3.493 0 0 1 2 5.5ZM11 4a3.001 3.001 0 0 1 2.22 5.018 5.01 5.01 0 0 1 2.56 3.012.749.749 0 0 1-.885.954.752.752 0 0 1-.549-.514 3.507 3.507 0 0 0-2.522-2.372.75.75 0 0 1-.574-.73v-.352a.75.75 0 0 1 .416-.672A1.5 1.5 0 0 0 11 5.5.75.75 0 0 1 11 4Zm-5.5-.5a2 2 0 1 0-.001 3.999A2 2 0 0 0 5.5 3.5Z"></path>
</svg>
        </span>
      
        <span data-view-component="true" class="ActionListItem-label">
          GitHub Support
</span></a>
  
  
</li>

        
          <li role="presentation" aria-hidden="true" data-view-component="true" class="ActionList-sectionDivider"></li>
        
          
<li data-targets="nav-list.items nav-list.items" data-item-id="" data-view-component="true" class="ActionListItem">
    
    <a data-analytics-event="{&quot;category&quot;:&quot;Global navigation&quot;,&quot;action&quot;:&quot;LOGOUT&quot;,&quot;label&quot;:null}" id="item-d11cacdc-34ad-4b09-b920-cfb43a1d87cc" href="/logout" data-view-component="true" class="ActionListContent">
      
        <span data-view-component="true" class="ActionListItem-label">
          Sign out
</span></a>
  
  
</li>

</ul>  </nav-list>
</nav>


</div>
</div>
      </scrollable-region>
      
</dialog></dialog-helper>
  </user-drawer-side-panel>

  </include-fragment>
</deferred-side-panel>
          
        </div>

        <div class="position-absolute mt-2">
            
<site-header-logged-in-user-menu>

</site-header-logged-in-user-menu>

        </div>
      </div>
    </div>


      <div class="AppHeader-localBar" >
        <nav data-pjax="#js-repo-pjax-container" aria-label="Repository" data-view-component="true" class="js-repo-nav js-sidenav-container-pjax js-responsive-underlinenav overflow-hidden UnderlineNav">

  <ul data-view-component="true" class="UnderlineNav-body list-style-none">
      <li data-view-component="true" class="d-inline-flex">
  <a id="code-tab" href="/ShadarRim/MISiSAI1" data-tab-item="i0code-tab" data-selected-links="repo_source repo_downloads repo_commits repo_releases repo_tags repo_branches repo_packages repo_deployments repo_attestations /ShadarRim/MISiSAI1" data-pjax="#repo-content-pjax-container" data-turbo-frame="repo-content-turbo-frame" data-hotkey="g c" data-analytics-event="{&quot;category&quot;:&quot;Underline navbar&quot;,&quot;action&quot;:&quot;Click tab&quot;,&quot;label&quot;:&quot;Code&quot;,&quot;target&quot;:&quot;UNDERLINE_NAV.TAB&quot;}" data-view-component="true" class="UnderlineNav-item no-wrap js-responsive-underlinenav-item js-selected-navigation-item">
    
              <svg aria-hidden="true" height="16" viewBox="0 0 16 16" version="1.1" width="16" data-view-component="true" class="octicon octicon-code UnderlineNav-octicon d-none d-sm-inline">
    <path d="m11.28 3.22 4.25 4.25a.75.75 0 0 1 0 1.06l-4.25 4.25a.749.749 0 0 1-1.275-.326.749.749 0 0 1 .215-.734L13.94 8l-3.72-3.72a.749.749 0 0 1 .326-1.275.749.749 0 0 1 .734.215Zm-6.56 0a.751.751 0 0 1 1.042.018.751.751 0 0 1 .018 1.042L2.06 8l3.72 3.72a.749.749 0 0 1-.326 1.275.749.749 0 0 1-.734-.215L.47 8.53a.75.75 0 0 1 0-1.06Z"></path>
</svg>
        <span data-content="Code">Code</span>
          <span id="code-repo-tab-count" data-pjax-replace="" data-turbo-replace="" title="Not available" data-view-component="true" class="Counter"></span>


    
</a></li>
      <li data-view-component="true" class="d-inline-flex">
  <a id="issues-tab" href="/ShadarRim/MISiSAI1/issues" data-tab-item="i1issues-tab" data-selected-links="repo_issues repo_labels repo_milestones /ShadarRim/MISiSAI1/issues" data-pjax="#repo-content-pjax-container" data-turbo-frame="repo-content-turbo-frame" data-hotkey="g i" data-analytics-event="{&quot;category&quot;:&quot;Underline navbar&quot;,&quot;action&quot;:&quot;Click tab&quot;,&quot;label&quot;:&quot;Issues&quot;,&quot;target&quot;:&quot;UNDERLINE_NAV.TAB&quot;}" data-view-component="true" class="UnderlineNav-item no-wrap js-responsive-underlinenav-item js-selected-navigation-item">
    
              <svg aria-hidden="true" height="16" viewBox="0 0 16 16" version="1.1" width="16" data-view-component="true" class="octicon octicon-issue-opened UnderlineNav-octicon d-none d-sm-inline">
    <path d="M8 9.5a1.5 1.5 0 1 0 0-3 1.5 1.5 0 0 0 0 3Z"></path><path d="M8 0a8 8 0 1 1 0 16A8 8 0 0 1 8 0ZM1.5 8a6.5 6.5 0 1 0 13 0 6.5 6.5 0 0 0-13 0Z"></path>
</svg>
        <span data-content="Issues">Issues</span>
          <span id="issues-repo-tab-count" data-pjax-replace="" data-turbo-replace="" title="0" hidden="hidden" data-view-component="true" class="Counter">0</span>


    
</a></li>
      <li data-view-component="true" class="d-inline-flex">
  <a id="pull-requests-tab" href="/ShadarRim/MISiSAI1/pulls" data-tab-item="i2pull-requests-tab" data-selected-links="repo_pulls checks /ShadarRim/MISiSAI1/pulls" data-pjax="#repo-content-pjax-container" data-turbo-frame="repo-content-turbo-frame" data-hotkey="g p" data-analytics-event="{&quot;category&quot;:&quot;Underline navbar&quot;,&quot;action&quot;:&quot;Click tab&quot;,&quot;label&quot;:&quot;Pull requests&quot;,&quot;target&quot;:&quot;UNDERLINE_NAV.TAB&quot;}" data-view-component="true" class="UnderlineNav-item no-wrap js-responsive-underlinenav-item js-selected-navigation-item">
    
              <svg aria-hidden="true" height="16" viewBox="0 0 16 16" version="1.1" width="16" data-view-component="true" class="octicon octicon-git-pull-request UnderlineNav-octicon d-none d-sm-inline">
    <path d="M1.5 3.25a2.25 2.25 0 1 1 3 2.122v5.256a2.251 2.251 0 1 1-1.5 0V5.372A2.25 2.25 0 0 1 1.5 3.25Zm5.677-.177L9.573.677A.25.25 0 0 1 10 .854V2.5h1A2.5 2.5 0 0 1 13.5 5v5.628a2.251 2.251 0 1 1-1.5 0V5a1 1 0 0 0-1-1h-1v1.646a.25.25 0 0 1-.427.177L7.177 3.427a.25.25 0 0 1 0-.354ZM3.75 2.5a.75.75 0 1 0 0 1.5.75.75 0 0 0 0-1.5Zm0 9.5a.75.75 0 1 0 0 1.5.75.75 0 0 0 0-1.5Zm8.25.75a.75.75 0 1 0 1.5 0 .75.75 0 0 0-1.5 0Z"></path>
</svg>
        <span data-content="Pull requests">Pull requests</span>
          <span id="pull-requests-repo-tab-count" data-pjax-replace="" data-turbo-replace="" title="0" hidden="hidden" data-view-component="true" class="Counter">0</span>


    
</a></li>
      <li data-view-component="true" class="d-inline-flex">
  <a id="actions-tab" href="/ShadarRim/MISiSAI1/actions" data-tab-item="i3actions-tab" data-selected-links="repo_actions /ShadarRim/MISiSAI1/actions" data-pjax="#repo-content-pjax-container" data-turbo-frame="repo-content-turbo-frame" data-hotkey="g a" data-analytics-event="{&quot;category&quot;:&quot;Underline navbar&quot;,&quot;action&quot;:&quot;Click tab&quot;,&quot;label&quot;:&quot;Actions&quot;,&quot;target&quot;:&quot;UNDERLINE_NAV.TAB&quot;}" data-view-component="true" class="UnderlineNav-item no-wrap js-responsive-underlinenav-item js-selected-navigation-item">
    
              <svg aria-hidden="true" height="16" viewBox="0 0 16 16" version="1.1" width="16" data-view-component="true" class="octicon octicon-play UnderlineNav-octicon d-none d-sm-inline">
    <path d="M8 0a8 8 0 1 1 0 16A8 8 0 0 1 8 0ZM1.5 8a6.5 6.5 0 1 0 13 0 6.5 6.5 0 0 0-13 0Zm4.879-2.773 4.264 2.559a.25.25 0 0 1 0 .428l-4.264 2.559A.25.25 0 0 1 6 10.559V5.442a.25.25 0 0 1 .379-.215Z"></path>
</svg>
        <span data-content="Actions">Actions</span>
          <span id="actions-repo-tab-count" data-pjax-replace="" data-turbo-replace="" title="Not available" data-view-component="true" class="Counter"></span>


    
</a></li>
      <li data-view-component="true" class="d-inline-flex">
  <a id="projects-tab" href="/ShadarRim/MISiSAI1/projects" data-tab-item="i4projects-tab" data-selected-links="repo_projects new_repo_project repo_project /ShadarRim/MISiSAI1/projects" data-pjax="#repo-content-pjax-container" data-turbo-frame="repo-content-turbo-frame" data-hotkey="g b" data-analytics-event="{&quot;category&quot;:&quot;Underline navbar&quot;,&quot;action&quot;:&quot;Click tab&quot;,&quot;label&quot;:&quot;Projects&quot;,&quot;target&quot;:&quot;UNDERLINE_NAV.TAB&quot;}" data-view-component="true" class="UnderlineNav-item no-wrap js-responsive-underlinenav-item js-selected-navigation-item">
    
              <svg aria-hidden="true" height="16" viewBox="0 0 16 16" version="1.1" width="16" data-view-component="true" class="octicon octicon-table UnderlineNav-octicon d-none d-sm-inline">
    <path d="M0 1.75C0 .784.784 0 1.75 0h12.5C15.216 0 16 .784 16 1.75v12.5A1.75 1.75 0 0 1 14.25 16H1.75A1.75 1.75 0 0 1 0 14.25ZM6.5 6.5v8h7.75a.25.25 0 0 0 .25-.25V6.5Zm8-1.5V1.75a.25.25 0 0 0-.25-.25H6.5V5Zm-13 1.5v7.75c0 .138.112.25.25.25H5v-8ZM5 5V1.5H1.75a.25.25 0 0 0-.25.25V5Z"></path>
</svg>
        <span data-content="Projects">Projects</span>
          <span id="projects-repo-tab-count" data-pjax-replace="" data-turbo-replace="" title="0" hidden="hidden" data-view-component="true" class="Counter">0</span>


    
</a></li>
      <li data-view-component="true" class="d-inline-flex">
  <a id="wiki-tab" href="/ShadarRim/MISiSAI1/wiki" data-tab-item="i5wiki-tab" data-selected-links="repo_wiki /ShadarRim/MISiSAI1/wiki" data-pjax="#repo-content-pjax-container" data-turbo-frame="repo-content-turbo-frame" data-hotkey="g w" data-analytics-event="{&quot;category&quot;:&quot;Underline navbar&quot;,&quot;action&quot;:&quot;Click tab&quot;,&quot;label&quot;:&quot;Wiki&quot;,&quot;target&quot;:&quot;UNDERLINE_NAV.TAB&quot;}" data-view-component="true" class="UnderlineNav-item no-wrap js-responsive-underlinenav-item js-selected-navigation-item">
    
              <svg aria-hidden="true" height="16" viewBox="0 0 16 16" version="1.1" width="16" data-view-component="true" class="octicon octicon-book UnderlineNav-octicon d-none d-sm-inline">
    <path d="M0 1.75A.75.75 0 0 1 .75 1h4.253c1.227 0 2.317.59 3 1.501A3.743 3.743 0 0 1 11.006 1h4.245a.75.75 0 0 1 .75.75v10.5a.75.75 0 0 1-.75.75h-4.507a2.25 2.25 0 0 0-1.591.659l-.622.621a.75.75 0 0 1-1.06 0l-.622-.621A2.25 2.25 0 0 0 5.258 13H.75a.75.75 0 0 1-.75-.75Zm7.251 10.324.004-5.073-.002-2.253A2.25 2.25 0 0 0 5.003 2.5H1.5v9h3.757a3.75 3.75 0 0 1 1.994.574ZM8.755 4.75l-.004 7.322a3.752 3.752 0 0 1 1.992-.572H14.5v-9h-3.495a2.25 2.25 0 0 0-2.25 2.25Z"></path>
</svg>
        <span data-content="Wiki">Wiki</span>
          <span id="wiki-repo-tab-count" data-pjax-replace="" data-turbo-replace="" title="Not available" data-view-component="true" class="Counter"></span>


    
</a></li>
      <li data-view-component="true" class="d-inline-flex">
  <a id="security-tab" href="/ShadarRim/MISiSAI1/security" data-tab-item="i6security-tab" data-selected-links="security overview alerts policy token_scanning code_scanning /ShadarRim/MISiSAI1/security" data-pjax="#repo-content-pjax-container" data-turbo-frame="repo-content-turbo-frame" data-hotkey="g s" data-analytics-event="{&quot;category&quot;:&quot;Underline navbar&quot;,&quot;action&quot;:&quot;Click tab&quot;,&quot;label&quot;:&quot;Security&quot;,&quot;target&quot;:&quot;UNDERLINE_NAV.TAB&quot;}" data-view-component="true" class="UnderlineNav-item no-wrap js-responsive-underlinenav-item js-selected-navigation-item">
    
              <svg aria-hidden="true" height="16" viewBox="0 0 16 16" version="1.1" width="16" data-view-component="true" class="octicon octicon-shield UnderlineNav-octicon d-none d-sm-inline">
    <path d="M7.467.133a1.748 1.748 0 0 1 1.066 0l5.25 1.68A1.75 1.75 0 0 1 15 3.48V7c0 1.566-.32 3.182-1.303 4.682-.983 1.498-2.585 2.813-5.032 3.855a1.697 1.697 0 0 1-1.33 0c-2.447-1.042-4.049-2.357-5.032-3.855C1.32 10.182 1 8.566 1 7V3.48a1.75 1.75 0 0 1 1.217-1.667Zm.61 1.429a.25.25 0 0 0-.153 0l-5.25 1.68a.25.25 0 0 0-.174.238V7c0 1.358.275 2.666 1.057 3.86.784 1.194 2.121 2.34 4.366 3.297a.196.196 0 0 0 .154 0c2.245-.956 3.582-2.104 4.366-3.298C13.225 9.666 13.5 8.36 13.5 7V3.48a.251.251 0 0 0-.174-.237l-5.25-1.68ZM8.75 4.75v3a.75.75 0 0 1-1.5 0v-3a.75.75 0 0 1 1.5 0ZM9 10.5a1 1 0 1 1-2 0 1 1 0 0 1 2 0Z"></path>
</svg>
        <span data-content="Security">Security</span>
          <include-fragment src="/ShadarRim/MISiSAI1/security/overall-count" accept="text/fragment+html"></include-fragment>

    
</a></li>
      <li data-view-component="true" class="d-inline-flex">
  <a id="insights-tab" href="/ShadarRim/MISiSAI1/pulse" data-tab-item="i7insights-tab" data-selected-links="repo_graphs repo_contributors dependency_graph dependabot_updates pulse people community /ShadarRim/MISiSAI1/pulse" data-pjax="#repo-content-pjax-container" data-turbo-frame="repo-content-turbo-frame" data-analytics-event="{&quot;category&quot;:&quot;Underline navbar&quot;,&quot;action&quot;:&quot;Click tab&quot;,&quot;label&quot;:&quot;Insights&quot;,&quot;target&quot;:&quot;UNDERLINE_NAV.TAB&quot;}" data-view-component="true" class="UnderlineNav-item no-wrap js-responsive-underlinenav-item js-selected-navigation-item">
    
              <svg aria-hidden="true" height="16" viewBox="0 0 16 16" version="1.1" width="16" data-view-component="true" class="octicon octicon-graph UnderlineNav-octicon d-none d-sm-inline">
    <path d="M1.5 1.75V13.5h13.75a.75.75 0 0 1 0 1.5H.75a.75.75 0 0 1-.75-.75V1.75a.75.75 0 0 1 1.5 0Zm14.28 2.53-5.25 5.25a.75.75 0 0 1-1.06 0L7 7.06 4.28 9.78a.751.751 0 0 1-1.042-.018.751.751 0 0 1-.018-1.042l3.25-3.25a.75.75 0 0 1 1.06 0L10 7.94l4.72-4.72a.751.751 0 0 1 1.042.018.751.751 0 0 1 .018 1.042Z"></path>
</svg>
        <span data-content="Insights">Insights</span>
          <span id="insights-repo-tab-count" data-pjax-replace="" data-turbo-replace="" title="Not available" data-view-component="true" class="Counter"></span>


    
</a></li>
      <li data-view-component="true" class="d-inline-flex">
  <a id="settings-tab" href="/ShadarRim/MISiSAI1/settings" data-tab-item="i8settings-tab" data-selected-links="code_review_limits codespaces_repository_settings collaborators custom_tabs hooks integration_installations interaction_limits issue_template_editor key_links_settings notifications repo_actions_settings repo_announcements repo_branch_settings repo_keys_settings repo_pages_settings repo_rule_insights repo_rulesets repo_protected_tags_settings repo_settings reported_content repo_custom_properties repository_actions_settings_add_new_runner repository_actions_settings_general repository_actions_settings_runners repository_environments role_details secrets secrets_settings_actions secrets_settings_codespaces secrets_settings_dependabot security_analysis security_products /ShadarRim/MISiSAI1/settings" data-pjax="#repo-content-pjax-container" data-turbo-frame="repo-content-turbo-frame" data-analytics-event="{&quot;category&quot;:&quot;Underline navbar&quot;,&quot;action&quot;:&quot;Click tab&quot;,&quot;label&quot;:&quot;Settings&quot;,&quot;target&quot;:&quot;UNDERLINE_NAV.TAB&quot;}" data-view-component="true" class="UnderlineNav-item no-wrap js-responsive-underlinenav-item js-selected-navigation-item">
    
              <svg aria-hidden="true" height="16" viewBox="0 0 16 16" version="1.1" width="16" data-view-component="true" class="octicon octicon-gear UnderlineNav-octicon d-none d-sm-inline">
    <path d="M8 0a8.2 8.2 0 0 1 .701.031C9.444.095 9.99.645 10.16 1.29l.288 1.107c.018.066.079.158.212.224.231.114.454.243.668.386.123.082.233.09.299.071l1.103-.303c.644-.176 1.392.021 1.82.63.27.385.506.792.704 1.218.315.675.111 1.422-.364 1.891l-.814.806c-.049.048-.098.147-.088.294.016.257.016.515 0 .772-.01.147.038.246.088.294l.814.806c.475.469.679 1.216.364 1.891a7.977 7.977 0 0 1-.704 1.217c-.428.61-1.176.807-1.82.63l-1.102-.302c-.067-.019-.177-.011-.3.071a5.909 5.909 0 0 1-.668.386c-.133.066-.194.158-.211.224l-.29 1.106c-.168.646-.715 1.196-1.458 1.26a8.006 8.006 0 0 1-1.402 0c-.743-.064-1.289-.614-1.458-1.26l-.289-1.106c-.018-.066-.079-.158-.212-.224a5.738 5.738 0 0 1-.668-.386c-.123-.082-.233-.09-.299-.071l-1.103.303c-.644.176-1.392-.021-1.82-.63a8.12 8.12 0 0 1-.704-1.218c-.315-.675-.111-1.422.363-1.891l.815-.806c.05-.048.098-.147.088-.294a6.214 6.214 0 0 1 0-.772c.01-.147-.038-.246-.088-.294l-.815-.806C.635 6.045.431 5.298.746 4.623a7.92 7.92 0 0 1 .704-1.217c.428-.61 1.176-.807 1.82-.63l1.102.302c.067.019.177.011.3-.071.214-.143.437-.272.668-.386.133-.066.194-.158.211-.224l.29-1.106C6.009.645 6.556.095 7.299.03 7.53.01 7.764 0 8 0Zm-.571 1.525c-.036.003-.108.036-.137.146l-.289 1.105c-.147.561-.549.967-.998 1.189-.173.086-.34.183-.5.29-.417.278-.97.423-1.529.27l-1.103-.303c-.109-.03-.175.016-.195.045-.22.312-.412.644-.573.99-.014.031-.021.11.059.19l.815.806c.411.406.562.957.53 1.456a4.709 4.709 0 0 0 0 .582c.032.499-.119 1.05-.53 1.456l-.815.806c-.081.08-.073.159-.059.19.162.346.353.677.573.989.02.03.085.076.195.046l1.102-.303c.56-.153 1.113-.008 1.53.27.161.107.328.204.501.29.447.222.85.629.997 1.189l.289 1.105c.029.109.101.143.137.146a6.6 6.6 0 0 0 1.142 0c.036-.003.108-.036.137-.146l.289-1.105c.147-.561.549-.967.998-1.189.173-.086.34-.183.5-.29.417-.278.97-.423 1.529-.27l1.103.303c.109.029.175-.016.195-.045.22-.313.411-.644.573-.99.014-.031.021-.11-.059-.19l-.815-.806c-.411-.406-.562-.957-.53-1.456a4.709 4.709 0 0 0 0-.582c-.032-.499.119-1.05.53-1.456l.815-.806c.081-.08.073-.159.059-.19a6.464 6.464 0 0 0-.573-.989c-.02-.03-.085-.076-.195-.046l-1.102.303c-.56.153-1.113.008-1.53-.27a4.44 4.44 0 0 0-.501-.29c-.447-.222-.85-.629-.997-1.189l-.289-1.105c-.029-.11-.101-.143-.137-.146a6.6 6.6 0 0 0-1.142 0ZM11 8a3 3 0 1 1-6 0 3 3 0 0 1 6 0ZM9.5 8a1.5 1.5 0 1 0-3.001.001A1.5 1.5 0 0 0 9.5 8Z"></path>
</svg>
        <span data-content="Settings">Settings</span>
          <span id="settings-repo-tab-count" data-pjax-replace="" data-turbo-replace="" title="Not available" data-view-component="true" class="Counter"></span>


    
</a></li>
</ul>
    <div style="visibility:hidden;" data-view-component="true" class="UnderlineNav-actions js-responsive-underlinenav-overflow position-absolute pr-3 pr-md-4 pr-lg-5 right-0">      <action-menu data-select-variant="none" data-view-component="true">
  <focus-group direction="vertical" mnemonics retain>
    <button id="action-menu-dcb764dc-fb60-4814-bf71-8f3040691ec0-button" popovertarget="action-menu-dcb764dc-fb60-4814-bf71-8f3040691ec0-overlay" aria-controls="action-menu-dcb764dc-fb60-4814-bf71-8f3040691ec0-list" aria-haspopup="true" aria-labelledby="tooltip-db9a2c04-dc0c-4258-9059-c017495451d0" type="button" data-view-component="true" class="Button Button--iconOnly Button--secondary Button--medium UnderlineNav-item">  <svg aria-hidden="true" height="16" viewBox="0 0 16 16" version="1.1" width="16" data-view-component="true" class="octicon octicon-kebab-horizontal Button-visual">
    <path d="M8 9a1.5 1.5 0 1 0 0-3 1.5 1.5 0 0 0 0 3ZM1.5 9a1.5 1.5 0 1 0 0-3 1.5 1.5 0 0 0 0 3Zm13 0a1.5 1.5 0 1 0 0-3 1.5 1.5 0 0 0 0 3Z"></path>
</svg>
</button><tool-tip id="tooltip-db9a2c04-dc0c-4258-9059-c017495451d0" for="action-menu-dcb764dc-fb60-4814-bf71-8f3040691ec0-button" popover="manual" data-direction="s" data-type="label" data-view-component="true" class="sr-only position-absolute">Additional navigation options</tool-tip>


<anchored-position id="action-menu-dcb764dc-fb60-4814-bf71-8f3040691ec0-overlay" anchor="action-menu-dcb764dc-fb60-4814-bf71-8f3040691ec0-button" align="start" side="outside-bottom" anchor-offset="normal" popover="auto" data-view-component="true">
  <div data-view-component="true" class="Overlay Overlay--size-auto">
    
      <div data-view-component="true" class="Overlay-body Overlay-body--paddingNone">          <div data-view-component="true">
  <ul aria-labelledby="action-menu-dcb764dc-fb60-4814-bf71-8f3040691ec0-button" id="action-menu-dcb764dc-fb60-4814-bf71-8f3040691ec0-list" role="menu" data-view-component="true" class="ActionListWrap--inset ActionListWrap">
      <li hidden="hidden" data-menu-item="i0code-tab" data-targets="action-list.items action-list.items" role="none" data-view-component="true" class="ActionListItem">
    
    <a tabindex="-1" id="item-d1dc591e-2ad5-4293-8227-01dfc744874c" href="/ShadarRim/MISiSAI1" role="menuitem" data-view-component="true" class="ActionListContent ActionListContent--visual16">
        <span class="ActionListItem-visual ActionListItem-visual--leading">
          <svg aria-hidden="true" height="16" viewBox="0 0 16 16" version="1.1" width="16" data-view-component="true" class="octicon octicon-code">
    <path d="m11.28 3.22 4.25 4.25a.75.75 0 0 1 0 1.06l-4.25 4.25a.749.749 0 0 1-1.275-.326.749.749 0 0 1 .215-.734L13.94 8l-3.72-3.72a.749.749 0 0 1 .326-1.275.749.749 0 0 1 .734.215Zm-6.56 0a.751.751 0 0 1 1.042.018.751.751 0 0 1 .018 1.042L2.06 8l3.72 3.72a.749.749 0 0 1-.326 1.275.749.749 0 0 1-.734-.215L.47 8.53a.75.75 0 0 1 0-1.06Z"></path>
</svg>
        </span>
      
        <span data-view-component="true" class="ActionListItem-label">
          Code
</span></a>
  
  
</li>
      <li hidden="hidden" data-menu-item="i1issues-tab" data-targets="action-list.items action-list.items" role="none" data-view-component="true" class="ActionListItem">
    
    <a tabindex="-1" id="item-44eb87d0-eb32-48ef-a599-e4d09cbacebb" href="/ShadarRim/MISiSAI1/issues" role="menuitem" data-view-component="true" class="ActionListContent ActionListContent--visual16">
        <span class="ActionListItem-visual ActionListItem-visual--leading">
          <svg aria-hidden="true" height="16" viewBox="0 0 16 16" version="1.1" width="16" data-view-component="true" class="octicon octicon-issue-opened">
    <path d="M8 9.5a1.5 1.5 0 1 0 0-3 1.5 1.5 0 0 0 0 3Z"></path><path d="M8 0a8 8 0 1 1 0 16A8 8 0 0 1 8 0ZM1.5 8a6.5 6.5 0 1 0 13 0 6.5 6.5 0 0 0-13 0Z"></path>
</svg>
        </span>
      
        <span data-view-component="true" class="ActionListItem-label">
          Issues
</span></a>
  
  
</li>
      <li hidden="hidden" data-menu-item="i2pull-requests-tab" data-targets="action-list.items action-list.items" role="none" data-view-component="true" class="ActionListItem">
    
    <a tabindex="-1" id="item-0c85628a-caae-4adc-a9a0-899ab9fecf87" href="/ShadarRim/MISiSAI1/pulls" role="menuitem" data-view-component="true" class="ActionListContent ActionListContent--visual16">
        <span class="ActionListItem-visual ActionListItem-visual--leading">
          <svg aria-hidden="true" height="16" viewBox="0 0 16 16" version="1.1" width="16" data-view-component="true" class="octicon octicon-git-pull-request">
    <path d="M1.5 3.25a2.25 2.25 0 1 1 3 2.122v5.256a2.251 2.251 0 1 1-1.5 0V5.372A2.25 2.25 0 0 1 1.5 3.25Zm5.677-.177L9.573.677A.25.25 0 0 1 10 .854V2.5h1A2.5 2.5 0 0 1 13.5 5v5.628a2.251 2.251 0 1 1-1.5 0V5a1 1 0 0 0-1-1h-1v1.646a.25.25 0 0 1-.427.177L7.177 3.427a.25.25 0 0 1 0-.354ZM3.75 2.5a.75.75 0 1 0 0 1.5.75.75 0 0 0 0-1.5Zm0 9.5a.75.75 0 1 0 0 1.5.75.75 0 0 0 0-1.5Zm8.25.75a.75.75 0 1 0 1.5 0 .75.75 0 0 0-1.5 0Z"></path>
</svg>
        </span>
      
        <span data-view-component="true" class="ActionListItem-label">
          Pull requests
</span></a>
  
  
</li>
      <li hidden="hidden" data-menu-item="i3actions-tab" data-targets="action-list.items action-list.items" role="none" data-view-component="true" class="ActionListItem">
    
    <a tabindex="-1" id="item-4f02d200-be63-4570-9543-0d16b6d332c9" href="/ShadarRim/MISiSAI1/actions" role="menuitem" data-view-component="true" class="ActionListContent ActionListContent--visual16">
        <span class="ActionListItem-visual ActionListItem-visual--leading">
          <svg aria-hidden="true" height="16" viewBox="0 0 16 16" version="1.1" width="16" data-view-component="true" class="octicon octicon-play">
    <path d="M8 0a8 8 0 1 1 0 16A8 8 0 0 1 8 0ZM1.5 8a6.5 6.5 0 1 0 13 0 6.5 6.5 0 0 0-13 0Zm4.879-2.773 4.264 2.559a.25.25 0 0 1 0 .428l-4.264 2.559A.25.25 0 0 1 6 10.559V5.442a.25.25 0 0 1 .379-.215Z"></path>
</svg>
        </span>
      
        <span data-view-component="true" class="ActionListItem-label">
          Actions
</span></a>
  
  
</li>
      <li hidden="hidden" data-menu-item="i4projects-tab" data-targets="action-list.items action-list.items" role="none" data-view-component="true" class="ActionListItem">
    
    <a tabindex="-1" id="item-0b4d7ca2-9fca-4962-8778-7aec37a731cb" href="/ShadarRim/MISiSAI1/projects" role="menuitem" data-view-component="true" class="ActionListContent ActionListContent--visual16">
        <span class="ActionListItem-visual ActionListItem-visual--leading">
          <svg aria-hidden="true" height="16" viewBox="0 0 16 16" version="1.1" width="16" data-view-component="true" class="octicon octicon-table">
    <path d="M0 1.75C0 .784.784 0 1.75 0h12.5C15.216 0 16 .784 16 1.75v12.5A1.75 1.75 0 0 1 14.25 16H1.75A1.75 1.75 0 0 1 0 14.25ZM6.5 6.5v8h7.75a.25.25 0 0 0 .25-.25V6.5Zm8-1.5V1.75a.25.25 0 0 0-.25-.25H6.5V5Zm-13 1.5v7.75c0 .138.112.25.25.25H5v-8ZM5 5V1.5H1.75a.25.25 0 0 0-.25.25V5Z"></path>
</svg>
        </span>
      
        <span data-view-component="true" class="ActionListItem-label">
          Projects
</span></a>
  
  
</li>
      <li hidden="hidden" data-menu-item="i5wiki-tab" data-targets="action-list.items action-list.items" role="none" data-view-component="true" class="ActionListItem">
    
    <a tabindex="-1" id="item-90508f18-17e2-4186-82ab-a104ea313cb7" href="/ShadarRim/MISiSAI1/wiki" role="menuitem" data-view-component="true" class="ActionListContent ActionListContent--visual16">
        <span class="ActionListItem-visual ActionListItem-visual--leading">
          <svg aria-hidden="true" height="16" viewBox="0 0 16 16" version="1.1" width="16" data-view-component="true" class="octicon octicon-book">
    <path d="M0 1.75A.75.75 0 0 1 .75 1h4.253c1.227 0 2.317.59 3 1.501A3.743 3.743 0 0 1 11.006 1h4.245a.75.75 0 0 1 .75.75v10.5a.75.75 0 0 1-.75.75h-4.507a2.25 2.25 0 0 0-1.591.659l-.622.621a.75.75 0 0 1-1.06 0l-.622-.621A2.25 2.25 0 0 0 5.258 13H.75a.75.75 0 0 1-.75-.75Zm7.251 10.324.004-5.073-.002-2.253A2.25 2.25 0 0 0 5.003 2.5H1.5v9h3.757a3.75 3.75 0 0 1 1.994.574ZM8.755 4.75l-.004 7.322a3.752 3.752 0 0 1 1.992-.572H14.5v-9h-3.495a2.25 2.25 0 0 0-2.25 2.25Z"></path>
</svg>
        </span>
      
        <span data-view-component="true" class="ActionListItem-label">
          Wiki
</span></a>
  
  
</li>
      <li hidden="hidden" data-menu-item="i6security-tab" data-targets="action-list.items action-list.items" role="none" data-view-component="true" class="ActionListItem">
    
    <a tabindex="-1" id="item-ec565b7f-4157-4442-bd4c-65313217d4ef" href="/ShadarRim/MISiSAI1/security" role="menuitem" data-view-component="true" class="ActionListContent ActionListContent--visual16">
        <span class="ActionListItem-visual ActionListItem-visual--leading">
          <svg aria-hidden="true" height="16" viewBox="0 0 16 16" version="1.1" width="16" data-view-component="true" class="octicon octicon-shield">
    <path d="M7.467.133a1.748 1.748 0 0 1 1.066 0l5.25 1.68A1.75 1.75 0 0 1 15 3.48V7c0 1.566-.32 3.182-1.303 4.682-.983 1.498-2.585 2.813-5.032 3.855a1.697 1.697 0 0 1-1.33 0c-2.447-1.042-4.049-2.357-5.032-3.855C1.32 10.182 1 8.566 1 7V3.48a1.75 1.75 0 0 1 1.217-1.667Zm.61 1.429a.25.25 0 0 0-.153 0l-5.25 1.68a.25.25 0 0 0-.174.238V7c0 1.358.275 2.666 1.057 3.86.784 1.194 2.121 2.34 4.366 3.297a.196.196 0 0 0 .154 0c2.245-.956 3.582-2.104 4.366-3.298C13.225 9.666 13.5 8.36 13.5 7V3.48a.251.251 0 0 0-.174-.237l-5.25-1.68ZM8.75 4.75v3a.75.75 0 0 1-1.5 0v-3a.75.75 0 0 1 1.5 0ZM9 10.5a1 1 0 1 1-2 0 1 1 0 0 1 2 0Z"></path>
</svg>
        </span>
      
        <span data-view-component="true" class="ActionListItem-label">
          Security
</span></a>
  
  
</li>
      <li hidden="hidden" data-menu-item="i7insights-tab" data-targets="action-list.items action-list.items" role="none" data-view-component="true" class="ActionListItem">
    
    <a tabindex="-1" id="item-bfcffcec-b2b0-4f0c-a939-99713168f3e5" href="/ShadarRim/MISiSAI1/pulse" role="menuitem" data-view-component="true" class="ActionListContent ActionListContent--visual16">
        <span class="ActionListItem-visual ActionListItem-visual--leading">
          <svg aria-hidden="true" height="16" viewBox="0 0 16 16" version="1.1" width="16" data-view-component="true" class="octicon octicon-graph">
    <path d="M1.5 1.75V13.5h13.75a.75.75 0 0 1 0 1.5H.75a.75.75 0 0 1-.75-.75V1.75a.75.75 0 0 1 1.5 0Zm14.28 2.53-5.25 5.25a.75.75 0 0 1-1.06 0L7 7.06 4.28 9.78a.751.751 0 0 1-1.042-.018.751.751 0 0 1-.018-1.042l3.25-3.25a.75.75 0 0 1 1.06 0L10 7.94l4.72-4.72a.751.751 0 0 1 1.042.018.751.751 0 0 1 .018 1.042Z"></path>
</svg>
        </span>
      
        <span data-view-component="true" class="ActionListItem-label">
          Insights
</span></a>
  
  
</li>
      <li hidden="hidden" data-menu-item="i8settings-tab" data-targets="action-list.items action-list.items" role="none" data-view-component="true" class="ActionListItem">
    
    <a tabindex="-1" id="item-ce526f59-83ae-4151-89ae-f87488d262e3" href="/ShadarRim/MISiSAI1/settings" role="menuitem" data-view-component="true" class="ActionListContent ActionListContent--visual16">
        <span class="ActionListItem-visual ActionListItem-visual--leading">
          <svg aria-hidden="true" height="16" viewBox="0 0 16 16" version="1.1" width="16" data-view-component="true" class="octicon octicon-gear">
    <path d="M8 0a8.2 8.2 0 0 1 .701.031C9.444.095 9.99.645 10.16 1.29l.288 1.107c.018.066.079.158.212.224.231.114.454.243.668.386.123.082.233.09.299.071l1.103-.303c.644-.176 1.392.021 1.82.63.27.385.506.792.704 1.218.315.675.111 1.422-.364 1.891l-.814.806c-.049.048-.098.147-.088.294.016.257.016.515 0 .772-.01.147.038.246.088.294l.814.806c.475.469.679 1.216.364 1.891a7.977 7.977 0 0 1-.704 1.217c-.428.61-1.176.807-1.82.63l-1.102-.302c-.067-.019-.177-.011-.3.071a5.909 5.909 0 0 1-.668.386c-.133.066-.194.158-.211.224l-.29 1.106c-.168.646-.715 1.196-1.458 1.26a8.006 8.006 0 0 1-1.402 0c-.743-.064-1.289-.614-1.458-1.26l-.289-1.106c-.018-.066-.079-.158-.212-.224a5.738 5.738 0 0 1-.668-.386c-.123-.082-.233-.09-.299-.071l-1.103.303c-.644.176-1.392-.021-1.82-.63a8.12 8.12 0 0 1-.704-1.218c-.315-.675-.111-1.422.363-1.891l.815-.806c.05-.048.098-.147.088-.294a6.214 6.214 0 0 1 0-.772c.01-.147-.038-.246-.088-.294l-.815-.806C.635 6.045.431 5.298.746 4.623a7.92 7.92 0 0 1 .704-1.217c.428-.61 1.176-.807 1.82-.63l1.102.302c.067.019.177.011.3-.071.214-.143.437-.272.668-.386.133-.066.194-.158.211-.224l.29-1.106C6.009.645 6.556.095 7.299.03 7.53.01 7.764 0 8 0Zm-.571 1.525c-.036.003-.108.036-.137.146l-.289 1.105c-.147.561-.549.967-.998 1.189-.173.086-.34.183-.5.29-.417.278-.97.423-1.529.27l-1.103-.303c-.109-.03-.175.016-.195.045-.22.312-.412.644-.573.99-.014.031-.021.11.059.19l.815.806c.411.406.562.957.53 1.456a4.709 4.709 0 0 0 0 .582c.032.499-.119 1.05-.53 1.456l-.815.806c-.081.08-.073.159-.059.19.162.346.353.677.573.989.02.03.085.076.195.046l1.102-.303c.56-.153 1.113-.008 1.53.27.161.107.328.204.501.29.447.222.85.629.997 1.189l.289 1.105c.029.109.101.143.137.146a6.6 6.6 0 0 0 1.142 0c.036-.003.108-.036.137-.146l.289-1.105c.147-.561.549-.967.998-1.189.173-.086.34-.183.5-.29.417-.278.97-.423 1.529-.27l1.103.303c.109.029.175-.016.195-.045.22-.313.411-.644.573-.99.014-.031.021-.11-.059-.19l-.815-.806c-.411-.406-.562-.957-.53-1.456a4.709 4.709 0 0 0 0-.582c-.032-.499.119-1.05.53-1.456l.815-.806c.081-.08.073-.159.059-.19a6.464 6.464 0 0 0-.573-.989c-.02-.03-.085-.076-.195-.046l-1.102.303c-.56.153-1.113.008-1.53-.27a4.44 4.44 0 0 0-.501-.29c-.447-.222-.85-.629-.997-1.189l-.289-1.105c-.029-.11-.101-.143-.137-.146a6.6 6.6 0 0 0-1.142 0ZM11 8a3 3 0 1 1-6 0 3 3 0 0 1 6 0ZM9.5 8a1.5 1.5 0 1 0-3.001.001A1.5 1.5 0 0 0 9.5 8Z"></path>
</svg>
        </span>
      
        <span data-view-component="true" class="ActionListItem-label">
          Settings
</span></a>
  
  
</li>
</ul>  
</div>

</div>
      
</div></anchored-position>  </focus-group>
</action-menu></div>
</nav>
      </div>
</header>


      <div hidden="hidden" data-view-component="true" class="js-stale-session-flash stale-session-flash flash flash-warn flash-full mb-3">
  
        <svg aria-hidden="true" height="16" viewBox="0 0 16 16" version="1.1" width="16" data-view-component="true" class="octicon octicon-alert">
    <path d="M6.457 1.047c.659-1.234 2.427-1.234 3.086 0l6.082 11.378A1.75 1.75 0 0 1 14.082 15H1.918a1.75 1.75 0 0 1-1.543-2.575Zm1.763.707a.25.25 0 0 0-.44 0L1.698 13.132a.25.25 0 0 0 .22.368h12.164a.25.25 0 0 0 .22-.368Zm.53 3.996v2.5a.75.75 0 0 1-1.5 0v-2.5a.75.75 0 0 1 1.5 0ZM9 11a1 1 0 1 1-2 0 1 1 0 0 1 2 0Z"></path>
</svg>
        <span class="js-stale-session-flash-signed-in" hidden>You signed in with another tab or window. <a class="Link--inTextBlock" href="">Reload</a> to refresh your session.</span>
        <span class="js-stale-session-flash-signed-out" hidden>You signed out in another tab or window. <a class="Link--inTextBlock" href="">Reload</a> to refresh your session.</span>
        <span class="js-stale-session-flash-switched" hidden>You switched accounts on another tab or window. <a class="Link--inTextBlock" href="">Reload</a> to refresh your session.</span>

    <button id="icon-button-db0ce7cb-2549-41c7-ac3f-32e0cacde50c" aria-labelledby="tooltip-db701878-de52-4795-b2c7-403c75bd5e9b" type="button" data-view-component="true" class="Button Button--iconOnly Button--invisible Button--medium flash-close js-flash-close">  <svg aria-hidden="true" height="16" viewBox="0 0 16 16" version="1.1" width="16" data-view-component="true" class="octicon octicon-x Button-visual">
    <path d="M3.72 3.72a.75.75 0 0 1 1.06 0L8 6.94l3.22-3.22a.749.749 0 0 1 1.275.326.749.749 0 0 1-.215.734L9.06 8l3.22 3.22a.749.749 0 0 1-.326 1.275.749.749 0 0 1-.734-.215L8 9.06l-3.22 3.22a.751.751 0 0 1-1.042-.018.751.751 0 0 1-.018-1.042L6.94 8 3.72 4.78a.75.75 0 0 1 0-1.06Z"></path>
</svg>
</button><tool-tip id="tooltip-db701878-de52-4795-b2c7-403c75bd5e9b" for="icon-button-db0ce7cb-2549-41c7-ac3f-32e0cacde50c" popover="manual" data-direction="s" data-type="label" data-view-component="true" class="sr-only position-absolute">Dismiss alert</tool-tip>


  
</div>
          
    </div>

  <div id="start-of-content" class="show-on-focus"></div>








    <div id="js-flash-container" data-turbo-replace>


      <include-fragment src="/settings/two_factor_authentication/holiday_warning_banner"></include-fragment>



  <template class="js-flash-template">
    
<div class="flash flash-full   {{ className }}">
  <div class="px-2" >
    <button autofocus class="flash-close js-flash-close" type="button" aria-label="Dismiss this message">
      <svg aria-hidden="true" height="16" viewBox="0 0 16 16" version="1.1" width="16" data-view-component="true" class="octicon octicon-x">
    <path d="M3.72 3.72a.75.75 0 0 1 1.06 0L8 6.94l3.22-3.22a.749.749 0 0 1 1.275.326.749.749 0 0 1-.215.734L9.06 8l3.22 3.22a.749.749 0 0 1-.326 1.275.749.749 0 0 1-.734-.215L8 9.06l-3.22 3.22a.751.751 0 0 1-1.042-.018.751.751 0 0 1-.018-1.042L6.94 8 3.72 4.78a.75.75 0 0 1 0-1.06Z"></path>
</svg>
    </button>
    <div aria-atomic="true" role="alert" class="js-flash-alert">
      
      <div>{{ message }}</div>

    </div>
  </div>
</div>
  </template>
</div>


    
    <notification-shelf-watcher data-base-url="https://github.com/notifications/beta/shelf" data-channel="eyJjIjoibm90aWZpY2F0aW9uLWNoYW5nZWQ6Mjg1NjA0NiIsInQiOjE3MDcxNjIyOTh9--ba61d60a66f631417d9e6b115e116d5b3773a7845ef2f5e420da58ed1ff0153c" data-view-component="true" class="js-socket-channel"></notification-shelf-watcher>
  <div hidden data-initial data-target="notification-shelf-watcher.placeholder"></div>






      <details
  class="details-reset details-overlay details-overlay-dark js-command-palette-dialog"
  id="command-palette-pjax-container"
  data-turbo-replace
>
  <summary aria-label="Command palette trigger" tabindex="-1"></summary>
  <details-dialog class="command-palette-details-dialog d-flex flex-column flex-justify-center height-fit" aria-label="Command palette">
    <command-palette
      class="command-palette color-bg-default rounded-3 border color-shadow-small"
      return-to=/ShadarRim/MISiSAI1/blob/main/13_%D0%9E%D0%B1%D1%83%D1%87%D0%B5%D0%BD%D0%B8%D0%B5_%D0%B1%D0%B5%D0%B7_%D0%B3%D1%80%D0%B0%D0%B4%D0%B8%D0%B5%D0%BD%D1%82%D0%B0.ipynb
      user-id="2856046"
      activation-hotkey="Mod+k,Mod+Alt+k"
      command-mode-hotkey="Mod+Shift+K"
      data-action="
        command-palette-input-ready:command-palette#inputReady
        command-palette-page-stack-updated:command-palette#updateInputScope
        itemsUpdated:command-palette#itemsUpdated
        keydown:command-palette#onKeydown
        loadingStateChanged:command-palette#loadingStateChanged
        selectedItemChanged:command-palette#selectedItemChanged
        pageFetchError:command-palette#pageFetchError
      ">

        <command-palette-mode
          data-char="#"
            data-scope-types="[&quot;&quot;]"
            data-placeholder="Search issues and pull requests"
        ></command-palette-mode>
        <command-palette-mode
          data-char="#"
            data-scope-types="[&quot;owner&quot;,&quot;repository&quot;]"
            data-placeholder="Search issues, pull requests, discussions, and projects"
        ></command-palette-mode>
        <command-palette-mode
          data-char="!"
            data-scope-types="[&quot;owner&quot;,&quot;repository&quot;]"
            data-placeholder="Search projects"
        ></command-palette-mode>
        <command-palette-mode
          data-char="@"
            data-scope-types="[&quot;&quot;]"
            data-placeholder="Search or jump to a user, organization, or repository"
        ></command-palette-mode>
        <command-palette-mode
          data-char="@"
            data-scope-types="[&quot;owner&quot;]"
            data-placeholder="Search or jump to a repository"
        ></command-palette-mode>
        <command-palette-mode
          data-char="/"
            data-scope-types="[&quot;repository&quot;]"
            data-placeholder="Search files"
        ></command-palette-mode>
        <command-palette-mode
          data-char="?"
        ></command-palette-mode>
        <command-palette-mode
          data-char="&gt;"
            data-placeholder="Run a command"
        ></command-palette-mode>
        <command-palette-mode
          data-char=""
            data-scope-types="[&quot;&quot;]"
            data-placeholder="Search or jump to..."
        ></command-palette-mode>
        <command-palette-mode
          data-char=""
            data-scope-types="[&quot;owner&quot;]"
            data-placeholder="Search or jump to..."
        ></command-palette-mode>
      <command-palette-mode
        class="js-command-palette-default-mode"
        data-char=""
        data-placeholder="Search or jump to..."
      ></command-palette-mode>

      <command-palette-input placeholder="Search or jump to..."

        data-action="
          command-palette-input:command-palette#onInput
          command-palette-select:command-palette#onSelect
          command-palette-descope:command-palette#onDescope
          command-palette-cleared:command-palette#onInputClear
        "
      >
        <div class="js-search-icon d-flex flex-items-center mr-2" style="height: 26px">
          <svg aria-hidden="true" height="16" viewBox="0 0 16 16" version="1.1" width="16" data-view-component="true" class="octicon octicon-search color-fg-muted">
    <path d="M10.68 11.74a6 6 0 0 1-7.922-8.982 6 6 0 0 1 8.982 7.922l3.04 3.04a.749.749 0 0 1-.326 1.275.749.749 0 0 1-.734-.215ZM11.5 7a4.499 4.499 0 1 0-8.997 0A4.499 4.499 0 0 0 11.5 7Z"></path>
</svg>
        </div>
        <div class="js-spinner d-flex flex-items-center mr-2 color-fg-muted" hidden>
          <svg aria-label="Loading" class="anim-rotate" viewBox="0 0 16 16" fill="none" width="16" height="16">
            <circle
              cx="8"
              cy="8"
              r="7"
              stroke="currentColor"
              stroke-opacity="0.25"
              stroke-width="2"
              vector-effect="non-scaling-stroke"
            ></circle>
            <path
              d="M15 8a7.002 7.002 0 00-7-7"
              stroke="currentColor"
              stroke-width="2"
              stroke-linecap="round"
              vector-effect="non-scaling-stroke"
            ></path>
          </svg>
        </div>
        <command-palette-scope >
          <div data-target="command-palette-scope.placeholder" hidden class="color-fg-subtle">/&nbsp;&nbsp;<span class="text-semibold color-fg-default">...</span>&nbsp;&nbsp;/&nbsp;&nbsp;</div>
              <command-palette-token
                data-text="ShadarRim"
                data-id="MDQ6VXNlcjI4NTYwNDY="
                data-type="owner"
                data-value="ShadarRim"
                data-targets="command-palette-scope.tokens"
                class="color-fg-default text-semibold"
                style="white-space:nowrap;line-height:20px;"
                >ShadarRim<span class="color-fg-subtle text-normal">&nbsp;&nbsp;/&nbsp;&nbsp;</span></command-palette-token>
              <command-palette-token
                data-text="MISiSAI1"
                data-id="R_kgDOJGL1VQ"
                data-type="repository"
                data-value="MISiSAI1"
                data-targets="command-palette-scope.tokens"
                class="color-fg-default text-semibold"
                style="white-space:nowrap;line-height:20px;"
                >MISiSAI1<span class="color-fg-subtle text-normal">&nbsp;&nbsp;/&nbsp;&nbsp;</span></command-palette-token>
        </command-palette-scope>
        <div class="command-palette-input-group flex-1 form-control border-0 box-shadow-none" style="z-index: 0">
          <div class="command-palette-typeahead position-absolute d-flex flex-items-center Truncate">
            <span class="typeahead-segment input-mirror" data-target="command-palette-input.mirror"></span>
            <span class="Truncate-text" data-target="command-palette-input.typeaheadText"></span>
            <span class="typeahead-segment" data-target="command-palette-input.typeaheadPlaceholder"></span>
          </div>
          <input
            class="js-overlay-input typeahead-input d-none"
            disabled
            tabindex="-1"
            aria-label="Hidden input for typeahead"
          >
          <input
            type="text"
            autocomplete="off"
            autocorrect="off"
            autocapitalize="off"
            spellcheck="false"
            class="js-input typeahead-input form-control border-0 box-shadow-none input-block width-full no-focus-indicator"
            aria-label="Command palette input"
            aria-haspopup="listbox"
            aria-expanded="false"
            aria-autocomplete="list"
            aria-controls="command-palette-page-stack"
            role="combobox"
            data-action="
              input:command-palette-input#onInput
              keydown:command-palette-input#onKeydown
            "
          >
        </div>
          <div data-view-component="true" class="position-relative d-inline-block">
    <button aria-keyshortcuts="Control+Backspace" data-action="click:command-palette-input#onClear keypress:command-palette-input#onClear" data-target="command-palette-input.clearButton" id="command-palette-clear-button" hidden="hidden" type="button" data-view-component="true" class="btn-octicon command-palette-input-clear-button">      <svg aria-hidden="true" height="16" viewBox="0 0 16 16" version="1.1" width="16" data-view-component="true" class="octicon octicon-x-circle-fill">
    <path d="M2.343 13.657A8 8 0 1 1 13.658 2.343 8 8 0 0 1 2.343 13.657ZM6.03 4.97a.751.751 0 0 0-1.042.018.751.751 0 0 0-.018 1.042L6.94 8 4.97 9.97a.749.749 0 0 0 .326 1.275.749.749 0 0 0 .734-.215L8 9.06l1.97 1.97a.749.749 0 0 0 1.275-.326.749.749 0 0 0-.215-.734L9.06 8l1.97-1.97a.749.749 0 0 0-.326-1.275.749.749 0 0 0-.734.215L8 6.94Z"></path>
</svg>
</button>    <tool-tip id="tooltip-97ae2e3d-a8dd-4e29-a929-f17375c5d400" for="command-palette-clear-button" popover="manual" data-direction="w" data-type="label" data-view-component="true" class="sr-only position-absolute">Clear Command Palette</tool-tip>
</div>
      </command-palette-input>

      <command-palette-page-stack
        data-default-scope-id="R_kgDOJGL1VQ"
        data-default-scope-type="Repository"
        data-action="command-palette-page-octicons-cached:command-palette-page-stack#cacheOcticons"
      >
          <command-palette-tip
            class="color-fg-muted f6 px-3 py-1 my-2"
              data-scope-types="[&quot;&quot;,&quot;owner&quot;,&quot;repository&quot;]"
            data-mode=""
            data-value="">
            <div class="d-flex flex-items-start flex-justify-between">
              <div>
                <span class="text-bold">Tip:</span>
                  Type <kbd class="hx_kbd">#</kbd> to search pull requests
              </div>
              <div class="ml-2 flex-shrink-0">
                Type <kbd class="hx_kbd">?</kbd> for help and tips
              </div>
            </div>
          </command-palette-tip>
          <command-palette-tip
            class="color-fg-muted f6 px-3 py-1 my-2"
              data-scope-types="[&quot;&quot;,&quot;owner&quot;,&quot;repository&quot;]"
            data-mode=""
            data-value="">
            <div class="d-flex flex-items-start flex-justify-between">
              <div>
                <span class="text-bold">Tip:</span>
                  Type <kbd class="hx_kbd">#</kbd> to search issues
              </div>
              <div class="ml-2 flex-shrink-0">
                Type <kbd class="hx_kbd">?</kbd> for help and tips
              </div>
            </div>
          </command-palette-tip>
          <command-palette-tip
            class="color-fg-muted f6 px-3 py-1 my-2"
              data-scope-types="[&quot;owner&quot;,&quot;repository&quot;]"
            data-mode=""
            data-value="">
            <div class="d-flex flex-items-start flex-justify-between">
              <div>
                <span class="text-bold">Tip:</span>
                  Type <kbd class="hx_kbd">#</kbd> to search discussions
              </div>
              <div class="ml-2 flex-shrink-0">
                Type <kbd class="hx_kbd">?</kbd> for help and tips
              </div>
            </div>
          </command-palette-tip>
          <command-palette-tip
            class="color-fg-muted f6 px-3 py-1 my-2"
              data-scope-types="[&quot;owner&quot;,&quot;repository&quot;]"
            data-mode=""
            data-value="">
            <div class="d-flex flex-items-start flex-justify-between">
              <div>
                <span class="text-bold">Tip:</span>
                  Type <kbd class="hx_kbd">!</kbd> to search projects
              </div>
              <div class="ml-2 flex-shrink-0">
                Type <kbd class="hx_kbd">?</kbd> for help and tips
              </div>
            </div>
          </command-palette-tip>
          <command-palette-tip
            class="color-fg-muted f6 px-3 py-1 my-2"
              data-scope-types="[&quot;owner&quot;]"
            data-mode=""
            data-value="">
            <div class="d-flex flex-items-start flex-justify-between">
              <div>
                <span class="text-bold">Tip:</span>
                  Type <kbd class="hx_kbd">@</kbd> to search teams
              </div>
              <div class="ml-2 flex-shrink-0">
                Type <kbd class="hx_kbd">?</kbd> for help and tips
              </div>
            </div>
          </command-palette-tip>
          <command-palette-tip
            class="color-fg-muted f6 px-3 py-1 my-2"
              data-scope-types="[&quot;&quot;]"
            data-mode=""
            data-value="">
            <div class="d-flex flex-items-start flex-justify-between">
              <div>
                <span class="text-bold">Tip:</span>
                  Type <kbd class="hx_kbd">@</kbd> to search people and organizations
              </div>
              <div class="ml-2 flex-shrink-0">
                Type <kbd class="hx_kbd">?</kbd> for help and tips
              </div>
            </div>
          </command-palette-tip>
          <command-palette-tip
            class="color-fg-muted f6 px-3 py-1 my-2"
              data-scope-types="[&quot;&quot;,&quot;owner&quot;,&quot;repository&quot;]"
            data-mode=""
            data-value="">
            <div class="d-flex flex-items-start flex-justify-between">
              <div>
                <span class="text-bold">Tip:</span>
                  Type <kbd class="hx_kbd">&gt;</kbd> to activate command mode
              </div>
              <div class="ml-2 flex-shrink-0">
                Type <kbd class="hx_kbd">?</kbd> for help and tips
              </div>
            </div>
          </command-palette-tip>
          <command-palette-tip
            class="color-fg-muted f6 px-3 py-1 my-2"
              data-scope-types="[&quot;&quot;,&quot;owner&quot;,&quot;repository&quot;]"
            data-mode=""
            data-value="">
            <div class="d-flex flex-items-start flex-justify-between">
              <div>
                <span class="text-bold">Tip:</span>
                  Go to your accessibility settings to change your keyboard shortcuts
              </div>
              <div class="ml-2 flex-shrink-0">
                Type <kbd class="hx_kbd">?</kbd> for help and tips
              </div>
            </div>
          </command-palette-tip>
          <command-palette-tip
            class="color-fg-muted f6 px-3 py-1 my-2"
              data-scope-types="[&quot;&quot;,&quot;owner&quot;,&quot;repository&quot;]"
            data-mode="#"
            data-value="">
            <div class="d-flex flex-items-start flex-justify-between">
              <div>
                <span class="text-bold">Tip:</span>
                  Type author:@me to search your content
              </div>
              <div class="ml-2 flex-shrink-0">
                Type <kbd class="hx_kbd">?</kbd> for help and tips
              </div>
            </div>
          </command-palette-tip>
          <command-palette-tip
            class="color-fg-muted f6 px-3 py-1 my-2"
              data-scope-types="[&quot;&quot;,&quot;owner&quot;,&quot;repository&quot;]"
            data-mode="#"
            data-value="">
            <div class="d-flex flex-items-start flex-justify-between">
              <div>
                <span class="text-bold">Tip:</span>
                  Type is:pr to filter to pull requests
              </div>
              <div class="ml-2 flex-shrink-0">
                Type <kbd class="hx_kbd">?</kbd> for help and tips
              </div>
            </div>
          </command-palette-tip>
          <command-palette-tip
            class="color-fg-muted f6 px-3 py-1 my-2"
              data-scope-types="[&quot;&quot;,&quot;owner&quot;,&quot;repository&quot;]"
            data-mode="#"
            data-value="">
            <div class="d-flex flex-items-start flex-justify-between">
              <div>
                <span class="text-bold">Tip:</span>
                  Type is:issue to filter to issues
              </div>
              <div class="ml-2 flex-shrink-0">
                Type <kbd class="hx_kbd">?</kbd> for help and tips
              </div>
            </div>
          </command-palette-tip>
          <command-palette-tip
            class="color-fg-muted f6 px-3 py-1 my-2"
              data-scope-types="[&quot;owner&quot;,&quot;repository&quot;]"
            data-mode="#"
            data-value="">
            <div class="d-flex flex-items-start flex-justify-between">
              <div>
                <span class="text-bold">Tip:</span>
                  Type is:project to filter to projects
              </div>
              <div class="ml-2 flex-shrink-0">
                Type <kbd class="hx_kbd">?</kbd> for help and tips
              </div>
            </div>
          </command-palette-tip>
          <command-palette-tip
            class="color-fg-muted f6 px-3 py-1 my-2"
              data-scope-types="[&quot;&quot;,&quot;owner&quot;,&quot;repository&quot;]"
            data-mode="#"
            data-value="">
            <div class="d-flex flex-items-start flex-justify-between">
              <div>
                <span class="text-bold">Tip:</span>
                  Type is:open to filter to open content
              </div>
              <div class="ml-2 flex-shrink-0">
                Type <kbd class="hx_kbd">?</kbd> for help and tips
              </div>
            </div>
          </command-palette-tip>
        <command-palette-tip class="mx-3 my-2 flash flash-error d-flex flex-items-center" data-scope-types="*" data-on-error>
          <div>
            <svg aria-hidden="true" height="16" viewBox="0 0 16 16" version="1.1" width="16" data-view-component="true" class="octicon octicon-alert">
    <path d="M6.457 1.047c.659-1.234 2.427-1.234 3.086 0l6.082 11.378A1.75 1.75 0 0 1 14.082 15H1.918a1.75 1.75 0 0 1-1.543-2.575Zm1.763.707a.25.25 0 0 0-.44 0L1.698 13.132a.25.25 0 0 0 .22.368h12.164a.25.25 0 0 0 .22-.368Zm.53 3.996v2.5a.75.75 0 0 1-1.5 0v-2.5a.75.75 0 0 1 1.5 0ZM9 11a1 1 0 1 1-2 0 1 1 0 0 1 2 0Z"></path>
</svg>
          </div>
          <div class="px-2">
            We’ve encountered an error and some results aren't available at this time. Type a new search or try again later.
          </div>
        </command-palette-tip>
        <command-palette-tip class="h4 color-fg-default pl-3 pb-2 pt-3" data-on-empty data-scope-types="*" data-match-mode="[^?]|^$">
          No results matched your search
        </command-palette-tip>

        <div hidden>

            <div data-targets="command-palette-page-stack.localOcticons" data-octicon-id="arrow-right-color-fg-muted">
              <svg height="16" class="octicon octicon-arrow-right color-fg-muted" viewBox="0 0 16 16" version="1.1" width="16" aria-hidden="true"><path d="M8.22 2.97a.75.75 0 0 1 1.06 0l4.25 4.25a.75.75 0 0 1 0 1.06l-4.25 4.25a.751.751 0 0 1-1.042-.018.751.751 0 0 1-.018-1.042l2.97-2.97H3.75a.75.75 0 0 1 0-1.5h7.44L8.22 4.03a.75.75 0 0 1 0-1.06Z"></path></svg>
            </div>
            <div data-targets="command-palette-page-stack.localOcticons" data-octicon-id="arrow-right-color-fg-default">
              <svg height="16" class="octicon octicon-arrow-right color-fg-default" viewBox="0 0 16 16" version="1.1" width="16" aria-hidden="true"><path d="M8.22 2.97a.75.75 0 0 1 1.06 0l4.25 4.25a.75.75 0 0 1 0 1.06l-4.25 4.25a.751.751 0 0 1-1.042-.018.751.751 0 0 1-.018-1.042l2.97-2.97H3.75a.75.75 0 0 1 0-1.5h7.44L8.22 4.03a.75.75 0 0 1 0-1.06Z"></path></svg>
            </div>
            <div data-targets="command-palette-page-stack.localOcticons" data-octicon-id="codespaces-color-fg-muted">
              <svg height="16" class="octicon octicon-codespaces color-fg-muted" viewBox="0 0 16 16" version="1.1" width="16" aria-hidden="true"><path d="M0 11.25c0-.966.784-1.75 1.75-1.75h12.5c.966 0 1.75.784 1.75 1.75v3A1.75 1.75 0 0 1 14.25 16H1.75A1.75 1.75 0 0 1 0 14.25Zm2-9.5C2 .784 2.784 0 3.75 0h8.5C13.216 0 14 .784 14 1.75v5a1.75 1.75 0 0 1-1.75 1.75h-8.5A1.75 1.75 0 0 1 2 6.75Zm1.75-.25a.25.25 0 0 0-.25.25v5c0 .138.112.25.25.25h8.5a.25.25 0 0 0 .25-.25v-5a.25.25 0 0 0-.25-.25Zm-2 9.5a.25.25 0 0 0-.25.25v3c0 .138.112.25.25.25h12.5a.25.25 0 0 0 .25-.25v-3a.25.25 0 0 0-.25-.25Z"></path><path d="M7 12.75a.75.75 0 0 1 .75-.75h4.5a.75.75 0 0 1 0 1.5h-4.5a.75.75 0 0 1-.75-.75Zm-4 0a.75.75 0 0 1 .75-.75h.5a.75.75 0 0 1 0 1.5h-.5a.75.75 0 0 1-.75-.75Z"></path></svg>
            </div>
            <div data-targets="command-palette-page-stack.localOcticons" data-octicon-id="copy-color-fg-muted">
              <svg height="16" class="octicon octicon-copy color-fg-muted" viewBox="0 0 16 16" version="1.1" width="16" aria-hidden="true"><path d="M0 6.75C0 5.784.784 5 1.75 5h1.5a.75.75 0 0 1 0 1.5h-1.5a.25.25 0 0 0-.25.25v7.5c0 .138.112.25.25.25h7.5a.25.25 0 0 0 .25-.25v-1.5a.75.75 0 0 1 1.5 0v1.5A1.75 1.75 0 0 1 9.25 16h-7.5A1.75 1.75 0 0 1 0 14.25Z"></path><path d="M5 1.75C5 .784 5.784 0 6.75 0h7.5C15.216 0 16 .784 16 1.75v7.5A1.75 1.75 0 0 1 14.25 11h-7.5A1.75 1.75 0 0 1 5 9.25Zm1.75-.25a.25.25 0 0 0-.25.25v7.5c0 .138.112.25.25.25h7.5a.25.25 0 0 0 .25-.25v-7.5a.25.25 0 0 0-.25-.25Z"></path></svg>
            </div>
            <div data-targets="command-palette-page-stack.localOcticons" data-octicon-id="dash-color-fg-muted">
              <svg height="16" class="octicon octicon-dash color-fg-muted" viewBox="0 0 16 16" version="1.1" width="16" aria-hidden="true"><path d="M2 7.75A.75.75 0 0 1 2.75 7h10a.75.75 0 0 1 0 1.5h-10A.75.75 0 0 1 2 7.75Z"></path></svg>
            </div>
            <div data-targets="command-palette-page-stack.localOcticons" data-octicon-id="file-color-fg-muted">
              <svg height="16" class="octicon octicon-file color-fg-muted" viewBox="0 0 16 16" version="1.1" width="16" aria-hidden="true"><path d="M2 1.75C2 .784 2.784 0 3.75 0h6.586c.464 0 .909.184 1.237.513l2.914 2.914c.329.328.513.773.513 1.237v9.586A1.75 1.75 0 0 1 13.25 16h-9.5A1.75 1.75 0 0 1 2 14.25Zm1.75-.25a.25.25 0 0 0-.25.25v12.5c0 .138.112.25.25.25h9.5a.25.25 0 0 0 .25-.25V6h-2.75A1.75 1.75 0 0 1 9 4.25V1.5Zm6.75.062V4.25c0 .138.112.25.25.25h2.688l-.011-.013-2.914-2.914-.013-.011Z"></path></svg>
            </div>
            <div data-targets="command-palette-page-stack.localOcticons" data-octicon-id="gear-color-fg-muted">
              <svg height="16" class="octicon octicon-gear color-fg-muted" viewBox="0 0 16 16" version="1.1" width="16" aria-hidden="true"><path d="M8 0a8.2 8.2 0 0 1 .701.031C9.444.095 9.99.645 10.16 1.29l.288 1.107c.018.066.079.158.212.224.231.114.454.243.668.386.123.082.233.09.299.071l1.103-.303c.644-.176 1.392.021 1.82.63.27.385.506.792.704 1.218.315.675.111 1.422-.364 1.891l-.814.806c-.049.048-.098.147-.088.294.016.257.016.515 0 .772-.01.147.038.246.088.294l.814.806c.475.469.679 1.216.364 1.891a7.977 7.977 0 0 1-.704 1.217c-.428.61-1.176.807-1.82.63l-1.102-.302c-.067-.019-.177-.011-.3.071a5.909 5.909 0 0 1-.668.386c-.133.066-.194.158-.211.224l-.29 1.106c-.168.646-.715 1.196-1.458 1.26a8.006 8.006 0 0 1-1.402 0c-.743-.064-1.289-.614-1.458-1.26l-.289-1.106c-.018-.066-.079-.158-.212-.224a5.738 5.738 0 0 1-.668-.386c-.123-.082-.233-.09-.299-.071l-1.103.303c-.644.176-1.392-.021-1.82-.63a8.12 8.12 0 0 1-.704-1.218c-.315-.675-.111-1.422.363-1.891l.815-.806c.05-.048.098-.147.088-.294a6.214 6.214 0 0 1 0-.772c.01-.147-.038-.246-.088-.294l-.815-.806C.635 6.045.431 5.298.746 4.623a7.92 7.92 0 0 1 .704-1.217c.428-.61 1.176-.807 1.82-.63l1.102.302c.067.019.177.011.3-.071.214-.143.437-.272.668-.386.133-.066.194-.158.211-.224l.29-1.106C6.009.645 6.556.095 7.299.03 7.53.01 7.764 0 8 0Zm-.571 1.525c-.036.003-.108.036-.137.146l-.289 1.105c-.147.561-.549.967-.998 1.189-.173.086-.34.183-.5.29-.417.278-.97.423-1.529.27l-1.103-.303c-.109-.03-.175.016-.195.045-.22.312-.412.644-.573.99-.014.031-.021.11.059.19l.815.806c.411.406.562.957.53 1.456a4.709 4.709 0 0 0 0 .582c.032.499-.119 1.05-.53 1.456l-.815.806c-.081.08-.073.159-.059.19.162.346.353.677.573.989.02.03.085.076.195.046l1.102-.303c.56-.153 1.113-.008 1.53.27.161.107.328.204.501.29.447.222.85.629.997 1.189l.289 1.105c.029.109.101.143.137.146a6.6 6.6 0 0 0 1.142 0c.036-.003.108-.036.137-.146l.289-1.105c.147-.561.549-.967.998-1.189.173-.086.34-.183.5-.29.417-.278.97-.423 1.529-.27l1.103.303c.109.029.175-.016.195-.045.22-.313.411-.644.573-.99.014-.031.021-.11-.059-.19l-.815-.806c-.411-.406-.562-.957-.53-1.456a4.709 4.709 0 0 0 0-.582c-.032-.499.119-1.05.53-1.456l.815-.806c.081-.08.073-.159.059-.19a6.464 6.464 0 0 0-.573-.989c-.02-.03-.085-.076-.195-.046l-1.102.303c-.56.153-1.113.008-1.53-.27a4.44 4.44 0 0 0-.501-.29c-.447-.222-.85-.629-.997-1.189l-.289-1.105c-.029-.11-.101-.143-.137-.146a6.6 6.6 0 0 0-1.142 0ZM11 8a3 3 0 1 1-6 0 3 3 0 0 1 6 0ZM9.5 8a1.5 1.5 0 1 0-3.001.001A1.5 1.5 0 0 0 9.5 8Z"></path></svg>
            </div>
            <div data-targets="command-palette-page-stack.localOcticons" data-octicon-id="lock-color-fg-muted">
              <svg height="16" class="octicon octicon-lock color-fg-muted" viewBox="0 0 16 16" version="1.1" width="16" aria-hidden="true"><path d="M4 4a4 4 0 0 1 8 0v2h.25c.966 0 1.75.784 1.75 1.75v5.5A1.75 1.75 0 0 1 12.25 15h-8.5A1.75 1.75 0 0 1 2 13.25v-5.5C2 6.784 2.784 6 3.75 6H4Zm8.25 3.5h-8.5a.25.25 0 0 0-.25.25v5.5c0 .138.112.25.25.25h8.5a.25.25 0 0 0 .25-.25v-5.5a.25.25 0 0 0-.25-.25ZM10.5 6V4a2.5 2.5 0 1 0-5 0v2Z"></path></svg>
            </div>
            <div data-targets="command-palette-page-stack.localOcticons" data-octicon-id="moon-color-fg-muted">
              <svg height="16" class="octicon octicon-moon color-fg-muted" viewBox="0 0 16 16" version="1.1" width="16" aria-hidden="true"><path d="M9.598 1.591a.749.749 0 0 1 .785-.175 7.001 7.001 0 1 1-8.967 8.967.75.75 0 0 1 .961-.96 5.5 5.5 0 0 0 7.046-7.046.75.75 0 0 1 .175-.786Zm1.616 1.945a7 7 0 0 1-7.678 7.678 5.499 5.499 0 1 0 7.678-7.678Z"></path></svg>
            </div>
            <div data-targets="command-palette-page-stack.localOcticons" data-octicon-id="person-color-fg-muted">
              <svg height="16" class="octicon octicon-person color-fg-muted" viewBox="0 0 16 16" version="1.1" width="16" aria-hidden="true"><path d="M10.561 8.073a6.005 6.005 0 0 1 3.432 5.142.75.75 0 1 1-1.498.07 4.5 4.5 0 0 0-8.99 0 .75.75 0 0 1-1.498-.07 6.004 6.004 0 0 1 3.431-5.142 3.999 3.999 0 1 1 5.123 0ZM10.5 5a2.5 2.5 0 1 0-5 0 2.5 2.5 0 0 0 5 0Z"></path></svg>
            </div>
            <div data-targets="command-palette-page-stack.localOcticons" data-octicon-id="pencil-color-fg-muted">
              <svg height="16" class="octicon octicon-pencil color-fg-muted" viewBox="0 0 16 16" version="1.1" width="16" aria-hidden="true"><path d="M11.013 1.427a1.75 1.75 0 0 1 2.474 0l1.086 1.086a1.75 1.75 0 0 1 0 2.474l-8.61 8.61c-.21.21-.47.364-.756.445l-3.251.93a.75.75 0 0 1-.927-.928l.929-3.25c.081-.286.235-.547.445-.758l8.61-8.61Zm.176 4.823L9.75 4.81l-6.286 6.287a.253.253 0 0 0-.064.108l-.558 1.953 1.953-.558a.253.253 0 0 0 .108-.064Zm1.238-3.763a.25.25 0 0 0-.354 0L10.811 3.75l1.439 1.44 1.263-1.263a.25.25 0 0 0 0-.354Z"></path></svg>
            </div>
            <div data-targets="command-palette-page-stack.localOcticons" data-octicon-id="issue-opened-open">
              <svg height="16" class="octicon octicon-issue-opened open" viewBox="0 0 16 16" version="1.1" width="16" aria-hidden="true"><path d="M8 9.5a1.5 1.5 0 1 0 0-3 1.5 1.5 0 0 0 0 3Z"></path><path d="M8 0a8 8 0 1 1 0 16A8 8 0 0 1 8 0ZM1.5 8a6.5 6.5 0 1 0 13 0 6.5 6.5 0 0 0-13 0Z"></path></svg>
            </div>
            <div data-targets="command-palette-page-stack.localOcticons" data-octicon-id="git-pull-request-draft-color-fg-muted">
              <svg height="16" class="octicon octicon-git-pull-request-draft color-fg-muted" viewBox="0 0 16 16" version="1.1" width="16" aria-hidden="true"><path d="M3.25 1A2.25 2.25 0 0 1 4 5.372v5.256a2.251 2.251 0 1 1-1.5 0V5.372A2.251 2.251 0 0 1 3.25 1Zm9.5 14a2.25 2.25 0 1 1 0-4.5 2.25 2.25 0 0 1 0 4.5ZM2.5 3.25a.75.75 0 1 0 1.5 0 .75.75 0 0 0-1.5 0ZM3.25 12a.75.75 0 1 0 0 1.5.75.75 0 0 0 0-1.5Zm9.5 0a.75.75 0 1 0 0 1.5.75.75 0 0 0 0-1.5ZM14 7.5a1.25 1.25 0 1 1-2.5 0 1.25 1.25 0 0 1 2.5 0Zm0-4.25a1.25 1.25 0 1 1-2.5 0 1.25 1.25 0 0 1 2.5 0Z"></path></svg>
            </div>
            <div data-targets="command-palette-page-stack.localOcticons" data-octicon-id="search-color-fg-muted">
              <svg height="16" class="octicon octicon-search color-fg-muted" viewBox="0 0 16 16" version="1.1" width="16" aria-hidden="true"><path d="M10.68 11.74a6 6 0 0 1-7.922-8.982 6 6 0 0 1 8.982 7.922l3.04 3.04a.749.749 0 0 1-.326 1.275.749.749 0 0 1-.734-.215ZM11.5 7a4.499 4.499 0 1 0-8.997 0A4.499 4.499 0 0 0 11.5 7Z"></path></svg>
            </div>
            <div data-targets="command-palette-page-stack.localOcticons" data-octicon-id="sun-color-fg-muted">
              <svg height="16" class="octicon octicon-sun color-fg-muted" viewBox="0 0 16 16" version="1.1" width="16" aria-hidden="true"><path d="M8 12a4 4 0 1 1 0-8 4 4 0 0 1 0 8Zm0-1.5a2.5 2.5 0 1 0 0-5 2.5 2.5 0 0 0 0 5Zm5.657-8.157a.75.75 0 0 1 0 1.061l-1.061 1.06a.749.749 0 0 1-1.275-.326.749.749 0 0 1 .215-.734l1.06-1.06a.75.75 0 0 1 1.06 0Zm-9.193 9.193a.75.75 0 0 1 0 1.06l-1.06 1.061a.75.75 0 1 1-1.061-1.06l1.06-1.061a.75.75 0 0 1 1.061 0ZM8 0a.75.75 0 0 1 .75.75v1.5a.75.75 0 0 1-1.5 0V.75A.75.75 0 0 1 8 0ZM3 8a.75.75 0 0 1-.75.75H.75a.75.75 0 0 1 0-1.5h1.5A.75.75 0 0 1 3 8Zm13 0a.75.75 0 0 1-.75.75h-1.5a.75.75 0 0 1 0-1.5h1.5A.75.75 0 0 1 16 8Zm-8 5a.75.75 0 0 1 .75.75v1.5a.75.75 0 0 1-1.5 0v-1.5A.75.75 0 0 1 8 13Zm3.536-1.464a.75.75 0 0 1 1.06 0l1.061 1.06a.75.75 0 0 1-1.06 1.061l-1.061-1.06a.75.75 0 0 1 0-1.061ZM2.343 2.343a.75.75 0 0 1 1.061 0l1.06 1.061a.751.751 0 0 1-.018 1.042.751.751 0 0 1-1.042.018l-1.06-1.06a.75.75 0 0 1 0-1.06Z"></path></svg>
            </div>
            <div data-targets="command-palette-page-stack.localOcticons" data-octicon-id="sync-color-fg-muted">
              <svg height="16" class="octicon octicon-sync color-fg-muted" viewBox="0 0 16 16" version="1.1" width="16" aria-hidden="true"><path d="M1.705 8.005a.75.75 0 0 1 .834.656 5.5 5.5 0 0 0 9.592 2.97l-1.204-1.204a.25.25 0 0 1 .177-.427h3.646a.25.25 0 0 1 .25.25v3.646a.25.25 0 0 1-.427.177l-1.38-1.38A7.002 7.002 0 0 1 1.05 8.84a.75.75 0 0 1 .656-.834ZM8 2.5a5.487 5.487 0 0 0-4.131 1.869l1.204 1.204A.25.25 0 0 1 4.896 6H1.25A.25.25 0 0 1 1 5.75V2.104a.25.25 0 0 1 .427-.177l1.38 1.38A7.002 7.002 0 0 1 14.95 7.16a.75.75 0 0 1-1.49.178A5.5 5.5 0 0 0 8 2.5Z"></path></svg>
            </div>
            <div data-targets="command-palette-page-stack.localOcticons" data-octicon-id="trash-color-fg-muted">
              <svg height="16" class="octicon octicon-trash color-fg-muted" viewBox="0 0 16 16" version="1.1" width="16" aria-hidden="true"><path d="M11 1.75V3h2.25a.75.75 0 0 1 0 1.5H2.75a.75.75 0 0 1 0-1.5H5V1.75C5 .784 5.784 0 6.75 0h2.5C10.216 0 11 .784 11 1.75ZM4.496 6.675l.66 6.6a.25.25 0 0 0 .249.225h5.19a.25.25 0 0 0 .249-.225l.66-6.6a.75.75 0 0 1 1.492.149l-.66 6.6A1.748 1.748 0 0 1 10.595 15h-5.19a1.75 1.75 0 0 1-1.741-1.575l-.66-6.6a.75.75 0 1 1 1.492-.15ZM6.5 1.75V3h3V1.75a.25.25 0 0 0-.25-.25h-2.5a.25.25 0 0 0-.25.25Z"></path></svg>
            </div>
            <div data-targets="command-palette-page-stack.localOcticons" data-octicon-id="key-color-fg-muted">
              <svg height="16" class="octicon octicon-key color-fg-muted" viewBox="0 0 16 16" version="1.1" width="16" aria-hidden="true"><path d="M10.5 0a5.499 5.499 0 1 1-1.288 10.848l-.932.932a.749.749 0 0 1-.53.22H7v.75a.749.749 0 0 1-.22.53l-.5.5a.749.749 0 0 1-.53.22H5v.75a.749.749 0 0 1-.22.53l-.5.5a.749.749 0 0 1-.53.22h-2A1.75 1.75 0 0 1 0 14.25v-2c0-.199.079-.389.22-.53l4.932-4.932A5.5 5.5 0 0 1 10.5 0Zm-4 5.5c-.001.431.069.86.205 1.269a.75.75 0 0 1-.181.768L1.5 12.56v1.69c0 .138.112.25.25.25h1.69l.06-.06v-1.19a.75.75 0 0 1 .75-.75h1.19l.06-.06v-1.19a.75.75 0 0 1 .75-.75h1.19l1.023-1.025a.75.75 0 0 1 .768-.18A4 4 0 1 0 6.5 5.5ZM11 6a1 1 0 1 1 0-2 1 1 0 0 1 0 2Z"></path></svg>
            </div>
            <div data-targets="command-palette-page-stack.localOcticons" data-octicon-id="comment-discussion-color-fg-muted">
              <svg height="16" class="octicon octicon-comment-discussion color-fg-muted" viewBox="0 0 16 16" version="1.1" width="16" aria-hidden="true"><path d="M1.75 1h8.5c.966 0 1.75.784 1.75 1.75v5.5A1.75 1.75 0 0 1 10.25 10H7.061l-2.574 2.573A1.458 1.458 0 0 1 2 11.543V10h-.25A1.75 1.75 0 0 1 0 8.25v-5.5C0 1.784.784 1 1.75 1ZM1.5 2.75v5.5c0 .138.112.25.25.25h1a.75.75 0 0 1 .75.75v2.19l2.72-2.72a.749.749 0 0 1 .53-.22h3.5a.25.25 0 0 0 .25-.25v-5.5a.25.25 0 0 0-.25-.25h-8.5a.25.25 0 0 0-.25.25Zm13 2a.25.25 0 0 0-.25-.25h-.5a.75.75 0 0 1 0-1.5h.5c.966 0 1.75.784 1.75 1.75v5.5A1.75 1.75 0 0 1 14.25 12H14v1.543a1.458 1.458 0 0 1-2.487 1.03L9.22 12.28a.749.749 0 0 1 .326-1.275.749.749 0 0 1 .734.215l2.22 2.22v-2.19a.75.75 0 0 1 .75-.75h1a.25.25 0 0 0 .25-.25Z"></path></svg>
            </div>
            <div data-targets="command-palette-page-stack.localOcticons" data-octicon-id="bell-color-fg-muted">
              <svg height="16" class="octicon octicon-bell color-fg-muted" viewBox="0 0 16 16" version="1.1" width="16" aria-hidden="true"><path d="M8 16a2 2 0 0 0 1.985-1.75c.017-.137-.097-.25-.235-.25h-3.5c-.138 0-.252.113-.235.25A2 2 0 0 0 8 16ZM3 5a5 5 0 0 1 10 0v2.947c0 .05.015.098.042.139l1.703 2.555A1.519 1.519 0 0 1 13.482 13H2.518a1.516 1.516 0 0 1-1.263-2.36l1.703-2.554A.255.255 0 0 0 3 7.947Zm5-3.5A3.5 3.5 0 0 0 4.5 5v2.947c0 .346-.102.683-.294.97l-1.703 2.556a.017.017 0 0 0-.003.01l.001.006c0 .002.002.004.004.006l.006.004.007.001h10.964l.007-.001.006-.004.004-.006.001-.007a.017.017 0 0 0-.003-.01l-1.703-2.554a1.745 1.745 0 0 1-.294-.97V5A3.5 3.5 0 0 0 8 1.5Z"></path></svg>
            </div>
            <div data-targets="command-palette-page-stack.localOcticons" data-octicon-id="bell-slash-color-fg-muted">
              <svg height="16" class="octicon octicon-bell-slash color-fg-muted" viewBox="0 0 16 16" version="1.1" width="16" aria-hidden="true"><path d="m4.182 4.31.016.011 10.104 7.316.013.01 1.375.996a.75.75 0 1 1-.88 1.214L13.626 13H2.518a1.516 1.516 0 0 1-1.263-2.36l1.703-2.554A.255.255 0 0 0 3 7.947V5.305L.31 3.357a.75.75 0 1 1 .88-1.214Zm7.373 7.19L4.5 6.391v1.556c0 .346-.102.683-.294.97l-1.703 2.556a.017.017 0 0 0-.003.01c0 .005.002.009.005.012l.006.004.007.001ZM8 1.5c-.997 0-1.895.416-2.534 1.086A.75.75 0 1 1 4.38 1.55 5 5 0 0 1 13 5v2.373a.75.75 0 0 1-1.5 0V5A3.5 3.5 0 0 0 8 1.5ZM8 16a2 2 0 0 1-1.985-1.75c-.017-.137.097-.25.235-.25h3.5c.138 0 .252.113.235.25A2 2 0 0 1 8 16Z"></path></svg>
            </div>
            <div data-targets="command-palette-page-stack.localOcticons" data-octicon-id="paintbrush-color-fg-muted">
              <svg height="16" class="octicon octicon-paintbrush color-fg-muted" viewBox="0 0 16 16" version="1.1" width="16" aria-hidden="true"><path d="M11.134 1.535c.7-.509 1.416-.942 2.076-1.155.649-.21 1.463-.267 2.069.34.603.601.568 1.411.368 2.07-.202.668-.624 1.39-1.125 2.096-1.011 1.424-2.496 2.987-3.775 4.249-1.098 1.084-2.132 1.839-3.04 2.3a3.744 3.744 0 0 1-1.055 3.217c-.431.431-1.065.691-1.657.861-.614.177-1.294.287-1.914.357A21.151 21.151 0 0 1 .797 16H.743l.007-.75H.749L.742 16a.75.75 0 0 1-.743-.742l.743-.008-.742.007v-.054a21.25 21.25 0 0 1 .13-2.284c.067-.647.187-1.287.358-1.914.17-.591.43-1.226.86-1.657a3.746 3.746 0 0 1 3.227-1.054c.466-.893 1.225-1.907 2.314-2.982 1.271-1.255 2.833-2.75 4.245-3.777ZM1.62 13.089c-.051.464-.086.929-.104 1.395.466-.018.932-.053 1.396-.104a10.511 10.511 0 0 0 1.668-.309c.526-.151.856-.325 1.011-.48a2.25 2.25 0 1 0-3.182-3.182c-.155.155-.329.485-.48 1.01a10.515 10.515 0 0 0-.309 1.67Zm10.396-10.34c-1.224.89-2.605 2.189-3.822 3.384l1.718 1.718c1.21-1.205 2.51-2.597 3.387-3.833.47-.662.78-1.227.912-1.662.134-.444.032-.551.009-.575h-.001V1.78c-.014-.014-.113-.113-.548.027-.432.14-.995.462-1.655.942Zm-4.832 7.266-.001.001a9.859 9.859 0 0 0 1.63-1.142L7.155 7.216a9.7 9.7 0 0 0-1.161 1.607c.482.302.889.71 1.19 1.192Z"></path></svg>
            </div>

            <command-palette-item-group
              data-group-id="top"
              data-group-title="Top result"
              data-group-hint=""
              data-group-limits="{}"
              data-default-priority="0"
            >
            </command-palette-item-group>
            <command-palette-item-group
              data-group-id="commands"
              data-group-title="Commands"
              data-group-hint="Type &gt; to filter"
              data-group-limits="{&quot;static_items_page&quot;:50,&quot;issue&quot;:50,&quot;pull_request&quot;:50,&quot;discussion&quot;:50}"
              data-default-priority="1"
            >
            </command-palette-item-group>
            <command-palette-item-group
              data-group-id="global_commands"
              data-group-title="Global Commands"
              data-group-hint="Type &gt; to filter"
              data-group-limits="{&quot;issue&quot;:0,&quot;pull_request&quot;:0,&quot;discussion&quot;:0}"
              data-default-priority="2"
            >
            </command-palette-item-group>
            <command-palette-item-group
              data-group-id="this_page"
              data-group-title="This Page"
              data-group-hint=""
              data-group-limits="{}"
              data-default-priority="3"
            >
            </command-palette-item-group>
            <command-palette-item-group
              data-group-id="files"
              data-group-title="Files"
              data-group-hint=""
              data-group-limits="{}"
              data-default-priority="4"
            >
            </command-palette-item-group>
            <command-palette-item-group
              data-group-id="default"
              data-group-title="Default"
              data-group-hint=""
              data-group-limits="{&quot;static_items_page&quot;:50}"
              data-default-priority="5"
            >
            </command-palette-item-group>
            <command-palette-item-group
              data-group-id="pages"
              data-group-title="Pages"
              data-group-hint=""
              data-group-limits="{&quot;repository&quot;:10}"
              data-default-priority="6"
            >
            </command-palette-item-group>
            <command-palette-item-group
              data-group-id="access_policies"
              data-group-title="Access Policies"
              data-group-hint=""
              data-group-limits="{}"
              data-default-priority="7"
            >
            </command-palette-item-group>
            <command-palette-item-group
              data-group-id="organizations"
              data-group-title="Organizations"
              data-group-hint=""
              data-group-limits="{}"
              data-default-priority="8"
            >
            </command-palette-item-group>
            <command-palette-item-group
              data-group-id="repositories"
              data-group-title="Repositories"
              data-group-hint=""
              data-group-limits="{}"
              data-default-priority="9"
            >
            </command-palette-item-group>
            <command-palette-item-group
              data-group-id="references"
              data-group-title="Issues, pull requests, and discussions"
              data-group-hint="Type # to filter"
              data-group-limits="{}"
              data-default-priority="10"
            >
            </command-palette-item-group>
            <command-palette-item-group
              data-group-id="teams"
              data-group-title="Teams"
              data-group-hint=""
              data-group-limits="{}"
              data-default-priority="11"
            >
            </command-palette-item-group>
            <command-palette-item-group
              data-group-id="users"
              data-group-title="Users"
              data-group-hint=""
              data-group-limits="{}"
              data-default-priority="12"
            >
            </command-palette-item-group>
            <command-palette-item-group
              data-group-id="memex_projects"
              data-group-title="Projects"
              data-group-hint=""
              data-group-limits="{}"
              data-default-priority="13"
            >
            </command-palette-item-group>
            <command-palette-item-group
              data-group-id="projects"
              data-group-title="Projects (classic)"
              data-group-hint=""
              data-group-limits="{}"
              data-default-priority="14"
            >
            </command-palette-item-group>
            <command-palette-item-group
              data-group-id="footer"
              data-group-title="Footer"
              data-group-hint=""
              data-group-limits="{}"
              data-default-priority="15"
            >
            </command-palette-item-group>
            <command-palette-item-group
              data-group-id="modes_help"
              data-group-title="Modes"
              data-group-hint=""
              data-group-limits="{}"
              data-default-priority="16"
            >
            </command-palette-item-group>
            <command-palette-item-group
              data-group-id="filters_help"
              data-group-title="Use filters in issues, pull requests, discussions, and projects"
              data-group-hint=""
              data-group-limits="{}"
              data-default-priority="17"
            >
            </command-palette-item-group>

            <command-palette-page
              data-page-title="ShadarRim"
              data-scope-id="MDQ6VXNlcjI4NTYwNDY="
              data-scope-type="owner"
              data-targets="command-palette-page-stack.defaultPages"
              hidden
            >
            </command-palette-page>
            <command-palette-page
              data-page-title="MISiSAI1"
              data-scope-id="R_kgDOJGL1VQ"
              data-scope-type="repository"
              data-targets="command-palette-page-stack.defaultPages"
              hidden
            >
            </command-palette-page>
        </div>

        <command-palette-page data-is-root>
        </command-palette-page>
          <command-palette-page
            data-page-title="ShadarRim"
            data-scope-id="MDQ6VXNlcjI4NTYwNDY="
            data-scope-type="owner"
          >
          </command-palette-page>
          <command-palette-page
            data-page-title="MISiSAI1"
            data-scope-id="R_kgDOJGL1VQ"
            data-scope-type="repository"
          >
          </command-palette-page>
      </command-palette-page-stack>

      <server-defined-provider data-type="search-links" data-targets="command-palette.serverDefinedProviderElements"></server-defined-provider>
      <server-defined-provider data-type="help" data-targets="command-palette.serverDefinedProviderElements">
          <command-palette-help
            data-group="modes_help"
              data-prefix="#"
              data-scope-types="[&quot;&quot;]"
          >
            <span data-target="command-palette-help.titleElement">Search for <strong>issues</strong> and <strong>pull requests</strong></span>
              <span data-target="command-palette-help.hintElement">
                <kbd class="hx_kbd">#</kbd>
              </span>
          </command-palette-help>
          <command-palette-help
            data-group="modes_help"
              data-prefix="#"
              data-scope-types="[&quot;owner&quot;,&quot;repository&quot;]"
          >
            <span data-target="command-palette-help.titleElement">Search for <strong>issues, pull requests, discussions,</strong> and <strong>projects</strong></span>
              <span data-target="command-palette-help.hintElement">
                <kbd class="hx_kbd">#</kbd>
              </span>
          </command-palette-help>
          <command-palette-help
            data-group="modes_help"
              data-prefix="@"
              data-scope-types="[&quot;&quot;]"
          >
            <span data-target="command-palette-help.titleElement">Search for <strong>organizations, repositories,</strong> and <strong>users</strong></span>
              <span data-target="command-palette-help.hintElement">
                <kbd class="hx_kbd">@</kbd>
              </span>
          </command-palette-help>
          <command-palette-help
            data-group="modes_help"
              data-prefix="!"
              data-scope-types="[&quot;owner&quot;,&quot;repository&quot;]"
          >
            <span data-target="command-palette-help.titleElement">Search for <strong>projects</strong></span>
              <span data-target="command-palette-help.hintElement">
                <kbd class="hx_kbd">!</kbd>
              </span>
          </command-palette-help>
          <command-palette-help
            data-group="modes_help"
              data-prefix="/"
              data-scope-types="[&quot;repository&quot;]"
          >
            <span data-target="command-palette-help.titleElement">Search for <strong>files</strong></span>
              <span data-target="command-palette-help.hintElement">
                <kbd class="hx_kbd">/</kbd>
              </span>
          </command-palette-help>
          <command-palette-help
            data-group="modes_help"
              data-prefix="&gt;"
          >
            <span data-target="command-palette-help.titleElement">Activate <strong>command mode</strong></span>
              <span data-target="command-palette-help.hintElement">
                <kbd class="hx_kbd">&gt;</kbd>
              </span>
          </command-palette-help>
          <command-palette-help
            data-group="filters_help"
              data-prefix="# author:@me"
          >
            <span data-target="command-palette-help.titleElement">Search your issues, pull requests, and discussions</span>
              <span data-target="command-palette-help.hintElement">
                <kbd class="hx_kbd"># author:@me</kbd>
              </span>
          </command-palette-help>
          <command-palette-help
            data-group="filters_help"
              data-prefix="# author:@me"
          >
            <span data-target="command-palette-help.titleElement">Search your issues, pull requests, and discussions</span>
              <span data-target="command-palette-help.hintElement">
                <kbd class="hx_kbd"># author:@me</kbd>
              </span>
          </command-palette-help>
          <command-palette-help
            data-group="filters_help"
              data-prefix="# is:pr"
          >
            <span data-target="command-palette-help.titleElement">Filter to pull requests</span>
              <span data-target="command-palette-help.hintElement">
                <kbd class="hx_kbd"># is:pr</kbd>
              </span>
          </command-palette-help>
          <command-palette-help
            data-group="filters_help"
              data-prefix="# is:issue"
          >
            <span data-target="command-palette-help.titleElement">Filter to issues</span>
              <span data-target="command-palette-help.hintElement">
                <kbd class="hx_kbd"># is:issue</kbd>
              </span>
          </command-palette-help>
          <command-palette-help
            data-group="filters_help"
              data-prefix="# is:discussion"
              data-scope-types="[&quot;owner&quot;,&quot;repository&quot;]"
          >
            <span data-target="command-palette-help.titleElement">Filter to discussions</span>
              <span data-target="command-palette-help.hintElement">
                <kbd class="hx_kbd"># is:discussion</kbd>
              </span>
          </command-palette-help>
          <command-palette-help
            data-group="filters_help"
              data-prefix="# is:project"
              data-scope-types="[&quot;owner&quot;,&quot;repository&quot;]"
          >
            <span data-target="command-palette-help.titleElement">Filter to projects</span>
              <span data-target="command-palette-help.hintElement">
                <kbd class="hx_kbd"># is:project</kbd>
              </span>
          </command-palette-help>
          <command-palette-help
            data-group="filters_help"
              data-prefix="# is:open"
          >
            <span data-target="command-palette-help.titleElement">Filter to open issues, pull requests, and discussions</span>
              <span data-target="command-palette-help.hintElement">
                <kbd class="hx_kbd"># is:open</kbd>
              </span>
          </command-palette-help>
      </server-defined-provider>

        <server-defined-provider
          data-type="commands"
          data-fetch-debounce="0"
            data-src="/command_palette/commands"
          data-supported-modes="[]"
            data-supports-commands
          
          data-targets="command-palette.serverDefinedProviderElements"
          ></server-defined-provider>
        <server-defined-provider
          data-type="prefetched"
          data-fetch-debounce="0"
            data-src="/command_palette/jump_to_page_navigation"
          data-supported-modes="[&quot;&quot;]"
            data-supported-scope-types="[&quot;&quot;,&quot;owner&quot;,&quot;repository&quot;]"
          
          data-targets="command-palette.serverDefinedProviderElements"
          ></server-defined-provider>
        <server-defined-provider
          data-type="remote"
          data-fetch-debounce="200"
            data-src="/command_palette/issues"
          data-supported-modes="[&quot;#&quot;,&quot;#&quot;]"
            data-supported-scope-types="[&quot;owner&quot;,&quot;repository&quot;,&quot;&quot;]"
          
          data-targets="command-palette.serverDefinedProviderElements"
          ></server-defined-provider>
        <server-defined-provider
          data-type="remote"
          data-fetch-debounce="200"
            data-src="/command_palette/jump_to"
          data-supported-modes="[&quot;@&quot;,&quot;@&quot;]"
            data-supported-scope-types="[&quot;&quot;,&quot;owner&quot;]"
          
          data-targets="command-palette.serverDefinedProviderElements"
          ></server-defined-provider>
        <server-defined-provider
          data-type="remote"
          data-fetch-debounce="200"
            data-src="/command_palette/jump_to_members_only"
          data-supported-modes="[&quot;@&quot;,&quot;@&quot;,&quot;&quot;,&quot;&quot;]"
            data-supported-scope-types="[&quot;&quot;,&quot;owner&quot;]"
          
          data-targets="command-palette.serverDefinedProviderElements"
          ></server-defined-provider>
        <server-defined-provider
          data-type="prefetched"
          data-fetch-debounce="0"
            data-src="/command_palette/jump_to_members_only_prefetched"
          data-supported-modes="[&quot;@&quot;,&quot;@&quot;,&quot;&quot;,&quot;&quot;]"
            data-supported-scope-types="[&quot;&quot;,&quot;owner&quot;]"
          
          data-targets="command-palette.serverDefinedProviderElements"
          ></server-defined-provider>
        <server-defined-provider
          data-type="files"
          data-fetch-debounce="0"
            data-src="/command_palette/files"
          data-supported-modes="[&quot;/&quot;]"
            data-supported-scope-types="[&quot;repository&quot;]"
          
          data-targets="command-palette.serverDefinedProviderElements"
          ></server-defined-provider>
        <server-defined-provider
          data-type="remote"
          data-fetch-debounce="200"
            data-src="/command_palette/discussions"
          data-supported-modes="[&quot;#&quot;]"
            data-supported-scope-types="[&quot;owner&quot;,&quot;repository&quot;]"
          
          data-targets="command-palette.serverDefinedProviderElements"
          ></server-defined-provider>
        <server-defined-provider
          data-type="remote"
          data-fetch-debounce="200"
            data-src="/command_palette/projects"
          data-supported-modes="[&quot;#&quot;,&quot;!&quot;]"
            data-supported-scope-types="[&quot;owner&quot;,&quot;repository&quot;]"
          
          data-targets="command-palette.serverDefinedProviderElements"
          ></server-defined-provider>
        <server-defined-provider
          data-type="prefetched"
          data-fetch-debounce="0"
            data-src="/command_palette/recent_issues"
          data-supported-modes="[&quot;#&quot;,&quot;#&quot;]"
            data-supported-scope-types="[&quot;owner&quot;,&quot;repository&quot;,&quot;&quot;]"
          
          data-targets="command-palette.serverDefinedProviderElements"
          ></server-defined-provider>
        <server-defined-provider
          data-type="remote"
          data-fetch-debounce="200"
            data-src="/command_palette/teams"
          data-supported-modes="[&quot;@&quot;,&quot;&quot;]"
            data-supported-scope-types="[&quot;owner&quot;]"
          
          data-targets="command-palette.serverDefinedProviderElements"
          ></server-defined-provider>
        <server-defined-provider
          data-type="remote"
          data-fetch-debounce="200"
            data-src="/command_palette/name_with_owner_repository"
          data-supported-modes="[&quot;@&quot;,&quot;@&quot;,&quot;&quot;,&quot;&quot;]"
            data-supported-scope-types="[&quot;&quot;,&quot;owner&quot;]"
          
          data-targets="command-palette.serverDefinedProviderElements"
          ></server-defined-provider>
    </command-palette>
  </details-dialog>
</details>

<div class="position-fixed bottom-0 left-0 ml-5 mb-5 js-command-palette-toasts" style="z-index: 1000">
  <div hidden class="Toast Toast--loading">
    <span class="Toast-icon">
      <svg class="Toast--spinner" viewBox="0 0 32 32" width="18" height="18" aria-hidden="true">
        <path
          fill="#959da5"
          d="M16 0 A16 16 0 0 0 16 32 A16 16 0 0 0 16 0 M16 4 A12 12 0 0 1 16 28 A12 12 0 0 1 16 4"
        />
        <path fill="#ffffff" d="M16 0 A16 16 0 0 1 32 16 L28 16 A12 12 0 0 0 16 4z"></path>
      </svg>
    </span>
    <span class="Toast-content"></span>
  </div>

  <div hidden class="anim-fade-in fast Toast Toast--error">
    <span class="Toast-icon">
      <svg aria-hidden="true" height="16" viewBox="0 0 16 16" version="1.1" width="16" data-view-component="true" class="octicon octicon-stop">
    <path d="M4.47.22A.749.749 0 0 1 5 0h6c.199 0 .389.079.53.22l4.25 4.25c.141.14.22.331.22.53v6a.749.749 0 0 1-.22.53l-4.25 4.25A.749.749 0 0 1 11 16H5a.749.749 0 0 1-.53-.22L.22 11.53A.749.749 0 0 1 0 11V5c0-.199.079-.389.22-.53Zm.84 1.28L1.5 5.31v5.38l3.81 3.81h5.38l3.81-3.81V5.31L10.69 1.5ZM8 4a.75.75 0 0 1 .75.75v3.5a.75.75 0 0 1-1.5 0v-3.5A.75.75 0 0 1 8 4Zm0 8a1 1 0 1 1 0-2 1 1 0 0 1 0 2Z"></path>
</svg>
    </span>
    <span class="Toast-content"></span>
  </div>

  <div hidden class="anim-fade-in fast Toast Toast--warning">
    <span class="Toast-icon">
      <svg aria-hidden="true" height="16" viewBox="0 0 16 16" version="1.1" width="16" data-view-component="true" class="octicon octicon-alert">
    <path d="M6.457 1.047c.659-1.234 2.427-1.234 3.086 0l6.082 11.378A1.75 1.75 0 0 1 14.082 15H1.918a1.75 1.75 0 0 1-1.543-2.575Zm1.763.707a.25.25 0 0 0-.44 0L1.698 13.132a.25.25 0 0 0 .22.368h12.164a.25.25 0 0 0 .22-.368Zm.53 3.996v2.5a.75.75 0 0 1-1.5 0v-2.5a.75.75 0 0 1 1.5 0ZM9 11a1 1 0 1 1-2 0 1 1 0 0 1 2 0Z"></path>
</svg>
    </span>
    <span class="Toast-content"></span>
  </div>


  <div hidden class="anim-fade-in fast Toast Toast--success">
    <span class="Toast-icon">
      <svg aria-hidden="true" height="16" viewBox="0 0 16 16" version="1.1" width="16" data-view-component="true" class="octicon octicon-check">
    <path d="M13.78 4.22a.75.75 0 0 1 0 1.06l-7.25 7.25a.75.75 0 0 1-1.06 0L2.22 9.28a.751.751 0 0 1 .018-1.042.751.751 0 0 1 1.042-.018L6 10.94l6.72-6.72a.75.75 0 0 1 1.06 0Z"></path>
</svg>
    </span>
    <span class="Toast-content"></span>
  </div>

  <div hidden class="anim-fade-in fast Toast">
    <span class="Toast-icon">
      <svg aria-hidden="true" height="16" viewBox="0 0 16 16" version="1.1" width="16" data-view-component="true" class="octicon octicon-info">
    <path d="M0 8a8 8 0 1 1 16 0A8 8 0 0 1 0 8Zm8-6.5a6.5 6.5 0 1 0 0 13 6.5 6.5 0 0 0 0-13ZM6.5 7.75A.75.75 0 0 1 7.25 7h1a.75.75 0 0 1 .75.75v2.75h.25a.75.75 0 0 1 0 1.5h-2a.75.75 0 0 1 0-1.5h.25v-2h-.25a.75.75 0 0 1-.75-.75ZM8 6a1 1 0 1 1 0-2 1 1 0 0 1 0 2Z"></path>
</svg>
    </span>
    <span class="Toast-content"></span>
  </div>
</div>


  <div
    class="application-main "
    data-commit-hovercards-enabled
    data-discussion-hovercards-enabled
    data-issue-and-pr-hovercards-enabled
  >
        <div itemscope itemtype="http://schema.org/SoftwareSourceCode" class="">
    <main id="js-repo-pjax-container" >
      
      






    
  <div id="repository-container-header" data-turbo-replace hidden></div>




<turbo-frame id="repo-content-turbo-frame" target="_top" data-turbo-action="advance" class="">
    <div id="repo-content-pjax-container" class="repository-content " >
      <a href="https://github.dev/" class="d-none js-github-dev-shortcut" data-hotkey=".,Mod+Alt+.">Open in github.dev</a>
  <a href="https://github.dev/" class="d-none js-github-dev-new-tab-shortcut" data-hotkey="Shift+.,Shift+&gt;,&gt;" target="_blank" rel="noopener noreferrer">Open in a new github.dev tab</a>
    <a class="d-none" data-hotkey=",,Mod+Alt+," target="_blank" href="/codespaces/new/ShadarRim/MISiSAI1/tree/main?resume=1">Open in codespace</a>



    
      
    





<react-app
  app-name="react-code-view"
  initial-path="/ShadarRim/MISiSAI1/blob/main/13_%D0%9E%D0%B1%D1%83%D1%87%D0%B5%D0%BD%D0%B8%D0%B5_%D0%B1%D0%B5%D0%B7_%D0%B3%D1%80%D0%B0%D0%B4%D0%B8%D0%B5%D0%BD%D1%82%D0%B0.ipynb"
  style="min-height: calc(100vh - 64px)" 
  data-ssr="true"
  data-lazy="false"
  data-alternate="false"
>
  
  <script type="application/json" data-target="react-app.embeddedData">{"payload":{"allShortcutsEnabled":true,"fileTree":{"":{"items":[{"name":"Вторая обязательная домашняя работа","path":"Вторая обязательная домашняя работа","contentType":"directory"},{"name":"Первая обязательная домашняя работа","path":"Первая обязательная домашняя работа","contentType":"directory"},{"name":"Первый обязательный коллоквиум","path":"Первый обязательный коллоквиум","contentType":"directory"},{"name":"Пятая обязательная домашняя работа","path":"Пятая обязательная домашняя работа","contentType":"directory"},{"name":"Третья обязательная домашняя работа","path":"Третья обязательная домашняя работа","contentType":"directory"},{"name":"Четвертая обязательная домашняя работа","path":"Четвертая обязательная домашняя работа","contentType":"directory"},{"name":"00_Основы_Python_1.ipynb","path":"00_Основы_Python_1.ipynb","contentType":"file"},{"name":"01_Основы_Python_2.ipynb","path":"01_Основы_Python_2.ipynb","contentType":"file"},{"name":"02_Знакомство с элементами ТВиМС.ipynb","path":"02_Знакомство с элементами ТВиМС.ipynb","contentType":"file"},{"name":"03_Numpy.ipynb","path":"03_Numpy.ipynb","contentType":"file"},{"name":"04_Pandas.ipynb","path":"04_Pandas.ipynb","contentType":"file"},{"name":"05_Matplotlib.ipynb","path":"05_Matplotlib.ipynb","contentType":"file"},{"name":"06_Условная вероятность.ipynb","path":"06_Условная вероятность.ipynb","contentType":"file"},{"name":"07_Точечные оценки ТВиМС.ipynb","path":"07_Точечные оценки ТВиМС.ipynb","contentType":"file"},{"name":"08_Гипотезы и ошибки.ipynb","path":"08_Гипотезы и ошибки.ipynb","contentType":"file"},{"name":"09_Доверительный интервал.ipynb","path":"09_Доверительный интервал.ipynb","contentType":"file"},{"name":"10_Пример решения первого обязательного дз.ipynb","path":"10_Пример решения первого обязательного дз.ipynb","contentType":"file"},{"name":"11_Линейные_методы_регрессии_Линейная_регрессия_1.ipynb","path":"11_Линейные_методы_регрессии_Линейная_регрессия_1.ipynb","contentType":"file"},{"name":"12_Линейные_методы_регрессии_Линейная_регрессия_2.ipynb","path":"12_Линейные_методы_регрессии_Линейная_регрессия_2.ipynb","contentType":"file"},{"name":"13_Обучение_без_градиента.ipynb","path":"13_Обучение_без_градиента.ipynb","contentType":"file"},{"name":"14_Градиентный спуск.ipynb","path":"14_Градиентный спуск.ipynb","contentType":"file"},{"name":"15_Логистическая регрессия.ipynb","path":"15_Логистическая регрессия.ipynb","contentType":"file"},{"name":"16_Оценка_качества_классификации.ipynb","path":"16_Оценка_качества_классификации.ipynb","contentType":"file"},{"name":"17_Кластеризация.ipynb","path":"17_Кластеризация.ipynb","contentType":"file"},{"name":"18_Работа_с_категориальными_данными.ipynb","path":"18_Работа_с_категориальными_данными.ipynb","contentType":"file"},{"name":"19_Дерево_решения.ipynb","path":"19_Дерево_решения.ipynb","contentType":"file"},{"name":"20_Случайный_лес.ipynb","path":"20_Случайный_лес.ipynb","contentType":"file"},{"name":"21_Сравнение_леса_и_дерева_+_подбор_параметров.ipynb","path":"21_Сравнение_леса_и_дерева_+_подбор_параметров.ipynb","contentType":"file"},{"name":"22_Бустинг.ipynb","path":"22_Бустинг.ipynb","contentType":"file"},{"name":"23_Наивный_баес.ipynb","path":"23_Наивный_баес.ipynb","contentType":"file"},{"name":"README.md","path":"README.md","contentType":"file"},{"name":"Коллоквиум_1_Вариант_1_МИСиС.ipynb","path":"Коллоквиум_1_Вариант_1_МИСиС.ipynb","contentType":"file"},{"name":"Коллоквиум_1_Вариант_2_МИСиС.ipynb","path":"Коллоквиум_1_Вариант_2_МИСиС.ipynb","contentType":"file"},{"name":"Коллоквиум_1_Вариант_3_МИСиС.ipynb","path":"Коллоквиум_1_Вариант_3_МИСиС.ipynb","contentType":"file"},{"name":"Коллоквиум_1_Вариант_4_МИСиС.ipynb","path":"Коллоквиум_1_Вариант_4_МИСиС.ipynb","contentType":"file"},{"name":"Коллоквиум_1_Вариант_5_МИСиС.ipynb","path":"Коллоквиум_1_Вариант_5_МИСиС.ipynb","contentType":"file"}],"totalCount":36}},"fileTreeProcessingTime":1.723548,"foldersToFetch":[],"reducedMotionEnabled":"system","repo":{"id":610465109,"defaultBranch":"main","name":"MISiSAI1","ownerLogin":"ShadarRim","currentUserCanPush":true,"isFork":false,"isEmpty":false,"createdAt":"2023-03-06T23:36:41.000+03:00","ownerAvatar":"https://avatars.githubusercontent.com/u/2856046?v=4","public":true,"private":false,"isOrgOwned":false},"symbolsExpanded":false,"treeExpanded":true,"refInfo":{"name":"main","listCacheKey":"v0:1685954378.350403","canEdit":true,"refType":"branch","currentOid":"bdd3aba562c4ab1eef1f2ea78ab3c9d0e12acf94"},"path":"13_Обучение_без_градиента.ipynb","currentUser":{"id":2856046,"login":"ShadarRim","userEmail":"EgorovAlexeyD@gmail.com"},"blob":{"rawLines":["{","  \"nbformat\": 4,","  \"nbformat_minor\": 0,","  \"metadata\": {","    \"colab\": {","      \"provenance\": []","    },","    \"kernelspec\": {","      \"name\": \"python3\",","      \"display_name\": \"Python 3\"","    },","    \"language_info\": {","      \"name\": \"python\"","    }","  },","  \"cells\": [","    {","      \"cell_type\": \"markdown\",","      \"source\": [","        \"# Модель, обучаемая без использования градиентного спуска\\n\",","        \"\\n\",","        \"Перспектрон Розенбалат - это простейшая математическая модель искусственного нейрона, которая при правильном использовании может разделять два линейно разделимых множества. \\n\",","        \"\\n\"","      ],","      \"metadata\": {","        \"id\": \"zqXgvAkw2xgb\"","      }","    },","    {","      \"cell_type\": \"markdown\",","      \"source\": [","        \"Для начала рассмотрим как устроен искусственный математический нейрон.\\n\",","        \"![img-GX3C7_.png](data:image/png;base64,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)\"","      ],","      \"metadata\": {","        \"id\": \"MJ7Kb_MU393F\"","      }","    },","    {","      \"cell_type\": \"markdown\",","      \"source\": [","        \"На самом деле, нейрон - это просто сумматор и функция, которая генерирует единственный выход - цифровое значение. \\n\",","        \"\\n\",","        \"$y_k = \\\\phi(x_1*w_1+x_2*w_2+...+w_n*x_n+b_0) = \\\\phi(\\\\sum_{i=1}^{n}(w_i*x_i)+b_0)$, где\\n\",","        \"\\n\",","        \"$w_i$ - это вес, с которым будет учитываться $i$-ый сигнал. \\\\\\\\\\n\",","        \"$x_i$ - входной сигнал. \\\\\\\\\\n\",","        \"$b_0$ - порог, сдвиг или смещение.\\n\",","        \"\\n\",","        \"При этом для удобства использования математическо аппарата $b_0$ принято считать весом для некоего входного сигнала $x_0$, который всегда равен единице. Таким образом формулу можно упростить:\\n\",","        \"\\n\",","        \"$y_k = \\\\phi(\\\\sum_{i=0}^{n}(w_i*x_i))$\"","      ],","      \"metadata\": {","        \"id\": \"C4TemofO4C6E\"","      }","    },","    {","      \"cell_type\": \"markdown\",","      \"source\": [","        \"Рассмотрим независимый пример.\\n\",","        \"\\n\",","        \"$y = k*x+b$ - ничего не напоминает? \\n\",","        \"\\n\",","        \"Таким образом, простой математический нейрон является гиперплоскостью в $n+1$-мерном пространстве. \"","      ],","      \"metadata\": {","        \"id\": \"UYgR-YZ27lck\"","      }","    },","    {","      \"cell_type\": \"markdown\",","      \"source\": [","        \"Известно, что модуль значения $res = sgn(w_1*x-w_2*y+b)$ позволяет определить к какой части полуплоскости отностся конкретная точка $(x, y)$.\\n\",","        \"\\n\",","        \"Таким образом, простейший нейрон может использоваться для линейного разделения пространства, если в качестве функции $\\\\phi$ использовать функцию $sgn$.\"","      ],","      \"metadata\": {","        \"id\": \"1a81CUdI9OHd\"","      }","    },","    {","      \"cell_type\": \"markdown\",","      \"source\": [","        \"В этом случае может быть реализована простейшая процедура обучения, в которой подбор весовых коэффициентов осуществляется с учителем на основании сравнения исходных данных с результатом исследования и \\\"подкручиванием\\\" коэффициентов с определённым шагом. \"","      ],","      \"metadata\": {","        \"id\": \"3U_4n3FPAfVi\"","      }","    },","    {","      \"cell_type\": \"markdown\",","      \"source\": [","        \"## Практика\"","      ],","      \"metadata\": {","        \"id\": \"ZbxGSS1T_KkH\"","      }","    },","    {","      \"cell_type\": \"markdown\",","      \"source\": [","        \"### Генерация данных\"","      ],","      \"metadata\": {","        \"id\": \"8ECIZEeX_OCq\"","      }","    },","    {","      \"cell_type\": \"code\",","      \"execution_count\": null,","      \"metadata\": {","        \"id\": \"7EyFFpInz8_Z\"","      },","      \"outputs\": [],","      \"source\": [","        \"import matplotlib.pyplot as plt\\n\",","        \"import numpy as np\\n\",","        \"import random\\n\",","        \"import math\\n\",","        \" \\n\",","        \" \\n\",","        \"class SemicircleGenerator(object):\\n\",","        \" \\n\",","        \"    def __init__(self, StartLocation, RadiusList, Orientation):\\n\",","        \"        super(SemicircleGenerator, self).__init__()\\n\",","        \"        self.StartLocation = StartLocation\\n\",","        \"        self.MaxRadius = max(RadiusList)\\n\",","        \"        self.MinRadius = min(RadiusList)\\n\",","        \"        self.Orientation = Orientation\\n\",","        \"\\n\",","        \"    def Gen_SemicircleData(self, BatchSize):\\n\",","        \"        for _ in range(BatchSize):\\n\",","        \"            Radius = random.uniform(self.MinRadius, self.MaxRadius)\\n\",","        \"            BiasX = random.uniform(- Radius, Radius)\\n\",","        \"            BiasY = math.sqrt(Radius * Radius - BiasX * BiasX)\\n\",","        \"            if self.Orientation == \\\"+\\\":\\n\",","        \"                yield [BiasX + self.StartLocation[0], BiasY\\n\",","        \"                       + self.StartLocation[1]]\\n\",","        \"            else:\\n\",","        \"                yield [self.StartLocation[0] - BiasX, self.StartLocation[1] - BiasY]\"","      ]","    },","    {","      \"cell_type\": \"markdown\",","      \"source\": [","        \"### Нейрон\"","      ],","      \"metadata\": {","        \"id\": \"IXJkg0JO_RNj\"","      }","    },","    {","      \"cell_type\": \"code\",","      \"source\": [","        \"\\n\",","        \"import numpy as np\\n\",","        \" \\n\",","        \" \\n\",","        \"class Neuron(object):\\n\",","        \" \\n\",","        \"    def __init__(self, InputNum):\\n\",","        \"        super(Neuron, self).__init__()\\n\",","        \"        self.Weight = np.zeros([InputNum + 1, 1])\\n\",","        \"        self.TrainRaito = 1\\n\",","        \"    \\n\",","        \"    # Функция активации (символьная функция)\\n\",","        \"    def ActivitionFunction(self, InputData):\\n\",","        \"        if (InputData \u003e np.zeros(InputData.shape)).all() == True:\\n\",","        \"            return 1\\n\",","        \"        else:\\n\",","        \"            return -1\\n\",","        \"\\n\",","        \"    # Прямое распространение\\n\",","        \"    def Feedforward(self, InputData):\\n\",","        \"        return self.ActivitionFunction(\\n\",","        \"            np.matmul(self.Weight.T, np.hstack((np.ones([1, 1]), InputData)).T))\\n\",","        \"        \\n\",","        \"    # Обучение\\n\",","        \"    def TrainOneStep(self, InputData, RightResult):\\n\",","        \"        Result = self.Feedforward(InputData)\\n\",","        \"        if Result != RightResult:\\n\",","        \"            self.ChangeWeight(InputData, RightResult, Result)\\n\",","        \"    \\n\",","        \"    # Изменить вес\\n\",","        \"    def ChangeWeight(self, InputData, RightResult, Result):\\n\",","        \"        self.Weight += self.TrainRaito * \\\\\\n\",","        \"            (RightResult - Result) * np.hstack((np.ones([1, 1]), InputData)).T\\n\",","        \" \\n\",","        \"    # Устанавливаем скорость обучения\\n\",","        \"    def SetTrainRatio(self, Ratio):\\n\",","        \"        self.TrainRaito = Ratio\"","      ],","      \"metadata\": {","        \"id\": \"HRTQ5x4S0Sj3\"","      },","      \"execution_count\": null,","      \"outputs\": []","    },","    {","      \"cell_type\": \"markdown\",","      \"source\": [","        \"### Реализация\"","      ],","      \"metadata\": {","        \"id\": \"9cTNSTDQAu0M\"","      }","    },","    {","      \"cell_type\": \"code\",","      \"source\": [","        \"neural = Neuron(2)\\n\",","        \"dataset1 = SemicircleGenerator([0, 0], [4, 6], \\\"+\\\")\\n\",","        \"dataset2 = SemicircleGenerator([7, -2], [4, 6], \\\"-\\\")\\n\",","        \"testdata_x, testdata_y = [], []\"","      ],","      \"metadata\": {","        \"id\": \"TnO9m1zI0ns7\"","      },","      \"execution_count\": null,","      \"outputs\": []","    },","    {","      \"cell_type\": \"code\",","      \"source\": [","        \"for data in dataset1.Gen_SemicircleData(1000):\\n\",","        \"    neural.TrainOneStep(np.array([data]), 1)\\n\",","        \"    testdata_x.append(data[0])\\n\",","        \"    testdata_y.append(data[1])\\n\",","        \"for data in dataset2.Gen_SemicircleData(1000):\\n\",","        \"    neural.TrainOneStep(np.array([data]), -1)\\n\",","        \"    testdata_x.append(data[0])\\n\",","        \"    testdata_y.append(data[1])\"","      ],","      \"metadata\": {","        \"id\": \"MjdTl60D0nIX\"","      },","      \"execution_count\": null,","      \"outputs\": []","    },","    {","      \"cell_type\": \"code\",","      \"source\": [","        \"print(neural.Weight)\\n\",","        \"x_data, y_data = [-6, 13], []\\n\",","        \"print(neural.Weight[1][0])\\n\",","        \"for i in x_data:\\n\",","        \"    y_data.append(- (neural.Weight[0][0] + i *\\n\",","        \"                     neural.Weight[1][0]) / (neural.Weight[2][0]))\"","      ],","      \"metadata\": {","        \"colab\": {","          \"base_uri\": \"https://localhost:8080/\"","        },","        \"id\": \"Bf8ryWgg0u8B\",","        \"outputId\": \"07274fae-5537-44bd-ea34-44d76e82b4b5\"","      },","      \"execution_count\": null,","      \"outputs\": [","        {","          \"output_type\": \"stream\",","          \"name\": \"stdout\",","          \"text\": [","            \"[[ 10.        ]\\n\",","            \" [-22.0178501 ]\\n\",","            \" [ 22.33357604]]\\n\",","            \"-22.017850100045216\\n\"","          ]","        }","      ]","    },","    {","      \"cell_type\": \"code\",","      \"source\": [","        \"plt.plot(x_data, y_data, color=\\\"red\\\")\\n\",","        \"plt.scatter(testdata_x, testdata_y)\\n\",","        \"plt.show()\"","      ],","      \"metadata\": {","        \"colab\": {","          \"base_uri\": \"https://localhost:8080/\",","          \"height\": 430","        },","        \"id\": \"9AR5Wg6Q0yOa\",","        \"outputId\": \"9c5317ca-4967-4f02-906a-4a57e1964685\"","      },","      \"execution_count\": null,","      \"outputs\": [","        {","          \"output_type\": \"display_data\",","          \"data\": {","            \"text/plain\": [","              \"\u003cFigure size 640x480 with 1 Axes\u003e\"","            ],","            \"image/png\": \"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\\n\"","          },","          \"metadata\": {}","        }","      ]","    }","  ]","}"],"stylingDirectives":null,"csv":null,"csvError":null,"dependabotInfo":{"showConfigurationBanner":null,"configFilePath":null,"networkDependabotPath":"/ShadarRim/MISiSAI1/network/updates","dismissConfigurationNoticePath":"/settings/dismiss-notice/dependabot_configuration_notice","configurationNoticeDismissed":false,"repoAlertsPath":"/ShadarRim/MISiSAI1/security/dependabot","repoSecurityAndAnalysisPath":"/ShadarRim/MISiSAI1/settings/security_analysis","repoOwnerIsOrg":false,"currentUserCanAdminRepo":true},"displayName":"13_Обучение_без_градиента.ipynb","displayUrl":"https://notebooks.githubusercontent.com/view/ipynb?browser=chrome\u0026bypass_fastly=true\u0026color_mode=auto\u0026commit=bdd3aba562c4ab1eef1f2ea78ab3c9d0e12acf94\u0026device=unknown_device\u0026docs_host=https%3A%2F%2Fdocs.github.com\u0026enc_url=68747470733a2f2f7261772e67697468756275736572636f6e74656e742e636f6d2f53686164617252696d2f4d495369534149312f626464336162613536326334616231656566316632656137386162336339643065313261636639342f31335fd09ed0b1d183d187d0b5d0bdd0b8d0b55fd0b1d0b5d0b75fd0b3d180d0b0d0b4d0b8d0b5d0bdd182d0b02e6970796e62\u0026logged_in=true\u0026nwo=ShadarRim%2FMISiSAI1\u0026path=13_%D0%9E%D0%B1%D1%83%D1%87%D0%B5%D0%BD%D0%B8%D0%B5_%D0%B1%D0%B5%D0%B7_%D0%B3%D1%80%D0%B0%D0%B4%D0%B8%D0%B5%D0%BD%D1%82%D0%B0.ipynb\u0026platform=windows\u0026repository_id=610465109\u0026repository_type=Repository\u0026version=120","headerInfo":{"blobSize":"106 KB","deleteInfo":{"deleteTooltip":"Delete this file"},"editInfo":{"editTooltip":"Edit this file"},"ghDesktopPath":"x-github-client://openRepo/https://github.com/ShadarRim/MISiSAI1?branch=main\u0026filepath=13_%D0%9E%D0%B1%D1%83%D1%87%D0%B5%D0%BD%D0%B8%D0%B5_%D0%B1%D0%B5%D0%B7_%D0%B3%D1%80%D0%B0%D0%B4%D0%B8%D0%B5%D0%BD%D1%82%D0%B0.ipynb","gitLfsPath":null,"onBranch":true,"shortPath":"d590a75","siteNavLoginPath":"/login?return_to=https%3A%2F%2Fgithub.com%2FShadarRim%2FMISiSAI1%2Fblob%2Fmain%2F13_%25D0%259E%25D0%25B1%25D1%2583%25D1%2587%25D0%25B5%25D0%25BD%25D0%25B8%25D0%25B5_%25D0%25B1%25D0%25B5%25D0%25B7_%25D0%25B3%25D1%2580%25D0%25B0%25D0%25B4%25D0%25B8%25D0%25B5%25D0%25BD%25D1%2582%25D0%25B0.ipynb","isCSV":false,"isRichtext":false,"toc":null,"lineInfo":{"truncatedLoc":"302","truncatedSloc":"302"},"mode":"file"},"image":false,"isCodeownersFile":null,"isPlain":false,"isValidLegacyIssueTemplate":false,"issueTemplateHelpUrl":"https://docs.github.com/articles/about-issue-and-pull-request-templates","issueTemplate":null,"discussionTemplate":null,"language":"Jupyter Notebook","languageID":185,"large":false,"loggedIn":true,"newDiscussionPath":"/ShadarRim/MISiSAI1/discussions/new","newIssuePath":"/ShadarRim/MISiSAI1/issues/new","planSupportInfo":{"repoIsFork":null,"repoOwnedByCurrentUser":null,"requestFullPath":"/ShadarRim/MISiSAI1/blob/main/13_%D0%9E%D0%B1%D1%83%D1%87%D0%B5%D0%BD%D0%B8%D0%B5_%D0%B1%D0%B5%D0%B7_%D0%B3%D1%80%D0%B0%D0%B4%D0%B8%D0%B5%D0%BD%D1%82%D0%B0.ipynb","showFreeOrgGatedFeatureMessage":null,"showPlanSupportBanner":null,"upgradeDataAttributes":null,"upgradePath":null},"publishBannersInfo":{"dismissActionNoticePath":"/settings/dismiss-notice/publish_action_from_dockerfile","dismissStackNoticePath":"/settings/dismiss-notice/publish_stack_from_file","releasePath":"/ShadarRim/MISiSAI1/releases/new?marketplace=true","showPublishActionBanner":false,"showPublishStackBanner":false},"rawBlobUrl":"https://github.com/ShadarRim/MISiSAI1/raw/main/13_%D0%9E%D0%B1%D1%83%D1%87%D0%B5%D0%BD%D0%B8%D0%B5_%D0%B1%D0%B5%D0%B7_%D0%B3%D1%80%D0%B0%D0%B4%D0%B8%D0%B5%D0%BD%D1%82%D0%B0.ipynb","renderImageOrRaw":false,"richText":null,"renderedFileInfo":{"identityUUID":"c65ed28c-d4c7-4268-b5cd-b6982c845217","renderFileType":"ipynb","size":108615},"shortPath":null,"symbolsEnabled":true,"tabSize":8,"topBannersInfo":{"overridingGlobalFundingFile":false,"globalPreferredFundingPath":null,"repoOwner":"ShadarRim","repoName":"MISiSAI1","showInvalidCitationWarning":false,"citationHelpUrl":"https://docs.github.com/en/github/creating-cloning-and-archiving-repositories/creating-a-repository-on-github/about-citation-files","showDependabotConfigurationBanner":null,"actionsOnboardingTip":null},"truncated":false,"viewable":true,"workflowRedirectUrl":null,"symbols":{"timed_out":false,"not_analyzed":true,"symbols":[]}},"copilotInfo":{"documentationUrl":"https://docs.github.com/copilot/overview-of-github-copilot/about-github-copilot-for-individuals","notices":{"codeViewPopover":{"dismissed":false,"dismissPath":"/settings/dismiss-notice/code_view_copilot_popover"}},"userAccess":{"accessAllowed":false,"hasSubscriptionEnded":false,"orgHasCFBAccess":false,"userHasCFIAccess":false,"userHasOrgs":false,"userIsOrgAdmin":false,"userIsOrgMember":false,"business":null,"featureRequestInfo":null}},"copilotAccessAllowed":false,"csrf_tokens":{"/ShadarRim/MISiSAI1/branches":{"post":"mzNdgN0WTRiADujIElCEB0z99qSfgv9HkjCo4sgQjlk4e-ygbLEG0pj5uzd8i-iZrl7rFklhx_ivN3YC23AU6g"},"/repos/preferences":{"post":"WSk4Udrq1iAIPRjzPDAb2EOm8edBpSHFnVLJooEBm8e3IKw2SqM2xPm1_il2oplWElgLgVOiJOThTZRv1JVcHw"}}},"title":"MISiSAI1/13_Обучение_без_градиента.ipynb at main · ShadarRim/MISiSAI1","appPayload":{"helpUrl":"https://docs.github.com","findFileWorkerPath":"/assets-cdn/worker/find-file-worker-32bb159cc57c.js","findInFileWorkerPath":"/assets-cdn/worker/find-in-file-worker-c6704d501c10.js","githubDevUrl":"https://github.dev/","enabled_features":{"code_nav_ui_events":false,"copilot_conversational_ux":false,"copilot_conversational_ux_embedding_update":false,"copilot_popover_file_editor_header":true,"copilot_smell_icebreaker_ux":false}}}</script>
  <div data-target="react-app.reactRoot"><style data-styled="true" data-styled-version="5.3.6">.fNPcqd{font-weight:600;font-size:32px;margin:0;font-size:14px;}/*!sc*/
.imcwCi{font-weight:600;font-size:32px;margin:0;font-size:16px;margin-left:8px;}/*!sc*/
.cgQnMS{font-weight:600;font-size:32px;margin:0;}/*!sc*/
.diwsLq{font-weight:600;font-size:32px;margin:0;font-weight:600;display:inline-block;max-width:100%;font-size:16px;}/*!sc*/
.jAEDJk{font-weight:600;font-size:32px;margin:0;font-weight:600;display:inline-block;max-width:100%;font-size:14px;}/*!sc*/
data-styled.g1[id="Heading__StyledHeading-sc-1c1dgg0-0"]{content:"fNPcqd,imcwCi,cgQnMS,diwsLq,jAEDJk,"}/*!sc*/
.fSWWem{padding:0;}/*!sc*/
.kPPmzM{max-width:100%;margin-left:auto;margin-right:auto;display:-webkit-box;display:-webkit-flex;display:-ms-flexbox;display:flex;-webkit-flex-wrap:wrap;-ms-flex-wrap:wrap;flex-wrap:wrap;}/*!sc*/
.cIAPDV{display:-webkit-box;display:-webkit-flex;display:-ms-flexbox;display:flex;-webkit-flex:1 1 100%;-ms-flex:1 1 100%;flex:1 1 100%;-webkit-flex-wrap:wrap;-ms-flex-wrap:wrap;flex-wrap:wrap;max-width:100%;}/*!sc*/
.gvCnwW{width:100%;}/*!sc*/
@media screen and (min-width:544px){.gvCnwW{width:100%;}}/*!sc*/
@media screen and (min-width:768px){.gvCnwW{width:auto;}}/*!sc*/
.xEgty{display:-webkit-box;display:-webkit-flex;display:-ms-flexbox;display:flex;-webkit-order:1;-ms-flex-order:1;order:1;width:100%;margin-left:0;margin-right:0;-webkit-flex-direction:column;-ms-flex-direction:column;flex-direction:column;margin-bottom:0;min-width:0;}/*!sc*/
@media screen and (min-width:544px){.xEgty{-webkit-flex-direction:column;-ms-flex-direction:column;flex-direction:column;}}/*!sc*/
@media screen and (min-width:768px){.xEgty{width:auto;margin-top:0 !important;margin-bottom:0 !important;position:-webkit-sticky;position:sticky;top:0px;max-height:var(--sticky-pane-height);-webkit-flex-direction:row;-ms-flex-direction:row;flex-direction:row;margin-right:0;}}/*!sc*/
@media screen and (min-width:769px){.xEgty{height:100vh;max-height:100vh !important;}}/*!sc*/
@media print,screen and (max-width:1011px) and (min-width:768px){.xEgty{display:none;}}/*!sc*/
.eUyHuk{margin-left:0;margin-right:0;display:none;margin-top:0;}/*!sc*/
@media screen and (min-width:768px){.eUyHuk{margin-left:0 !important;margin-right:0 !important;}}/*!sc*/
.gNdDUH{--pane-min-width:256px;--pane-max-width-diff:511px;--pane-max-width:calc(100vw - var(--pane-max-width-diff));width:100%;padding:0;}/*!sc*/
@media screen and (min-width:544px){}/*!sc*/
@media screen and (min-width:768px){.gNdDUH{width:clamp(var(--pane-min-width),var(--pane-width),var(--pane-max-width));overflow:auto;}}/*!sc*/
@media screen and (min-width:1280px){.gNdDUH{--pane-max-width-diff:959px;}}/*!sc*/
.jywUSN{max-height:100%;height:100%;display:-webkit-box;display:-webkit-flex;display:-ms-flexbox;display:flex;-webkit-flex-direction:column;-ms-flex-direction:column;flex-direction:column;}/*!sc*/
@media screen and (max-width:768px){.jywUSN{display:none;}}/*!sc*/
@media screen and (min-width:768px){.jywUSN{max-height:100vh;height:100vh;}}/*!sc*/
.hBSSUC{display:-webkit-box;display:-webkit-flex;display:-ms-flexbox;display:flex;-webkit-flex-direction:column;-ms-flex-direction:column;flex-direction:column;-webkit-align-items:center;-webkit-box-align:center;-ms-flex-align:center;align-items:center;padding-left:16px;padding-right:16px;padding-bottom:8px;padding-top:16px;}/*!sc*/
.iPurHz{display:-webkit-box;display:-webkit-flex;display:-ms-flexbox;display:flex;width:100%;margin-bottom:16px;-webkit-align-items:center;-webkit-box-align:center;-ms-flex-align:center;align-items:center;}/*!sc*/
.kkrdEu{-webkit-box-pack:center;-webkit-justify-content:center;-ms-flex-pack:center;justify-content:center;}/*!sc*/
.trpoQ{display:-webkit-box;display:-webkit-flex;display:-ms-flexbox;display:flex;pointer-events:none;}/*!sc*/
.hVHHYa{margin-left:24px;margin-right:24px;display:-webkit-box;display:-webkit-flex;display:-ms-flexbox;display:flex;width:100%;}/*!sc*/
.idZfsJ{-webkit-box-flex:1;-webkit-flex-grow:1;-ms-flex-positive:1;flex-grow:1;}/*!sc*/
.bKgizp{display:-webkit-box;display:-webkit-flex;display:-ms-flexbox;display:flex;width:100%;}/*!sc*/
.kYlvBX{margin-right:4px;color:#656d76;}/*!sc*/
.caeYDk{font-size:14px;min-width:0;overflow:hidden;text-overflow:ellipsis;white-space:nowrap;}/*!sc*/
.jahcnb{margin-left:8px;white-space:nowrap;}/*!sc*/
.jahcnb:hover button:not(:hover){border-left-color:var(--button-default-borderColor-hover,var(--color-btn-hover-border));}/*!sc*/
.ccToMy{margin-left:16px;margin-right:16px;margin-bottom:12px;}/*!sc*/
@media screen and (max-width:768px){.ccToMy{display:none;}}/*!sc*/
.cNvKlH{margin-right:-6px;}/*!sc*/
.cLfAnm{-webkit-box-flex:1;-webkit-flex-grow:1;-ms-flex-positive:1;flex-grow:1;max-height:100% !important;overflow-y:auto;-webkit-scrollbar-gutter:stable;-moz-scrollbar-gutter:stable;-ms-scrollbar-gutter:stable;scrollbar-gutter:stable;}/*!sc*/
@media screen and (max-width:768px){.cLfAnm{display:none;}}/*!sc*/
.erWCJP{padding-left:16px;padding-right:16px;padding-bottom:8px;}/*!sc*/
.hAeDYA{height:100%;position:relative;display:none;margin-left:0;}/*!sc*/
.ekKrwo{position:absolute;inset:0 -2px;cursor:col-resize;background-color:transparent;-webkit-transition-delay:0.1s;transition-delay:0.1s;}/*!sc*/
.ekKrwo:hover{background-color:rgba(175,184,193,0.2);}/*!sc*/
.emFMJu{display:-webkit-box;display:-webkit-flex;display:-ms-flexbox;display:flex;-webkit-flex-direction:column;-ms-flex-direction:column;flex-direction:column;-webkit-order:2;-ms-flex-order:2;order:2;-webkit-flex-basis:0;-ms-flex-preferred-size:0;flex-basis:0;-webkit-box-flex:1;-webkit-flex-grow:1;-ms-flex-positive:1;flex-grow:1;-webkit-flex-shrink:1;-ms-flex-negative:1;flex-shrink:1;min-width:1px;margin-right:auto;}/*!sc*/
@media print{.emFMJu{display:-webkit-box !important;display:-webkit-flex !important;display:-ms-flexbox !important;display:flex !important;}}/*!sc*/
.hlUAHL{width:100%;max-width:100%;margin-left:auto;margin-right:auto;-webkit-box-flex:1;-webkit-flex-grow:1;-ms-flex-positive:1;flex-grow:1;padding:0;}/*!sc*/
.iStsmI{margin-left:auto;margin-right:auto;-webkit-flex-direction:column;-ms-flex-direction:column;flex-direction:column;padding-bottom:40px;max-width:100%;margin-top:0;}/*!sc*/
.eIgvIk{display:inherit;}/*!sc*/
.eVFfWF{width:100%;}/*!sc*/
.kgXdnT{padding:16px;padding-bottom:0;}/*!sc*/
.kzTa-dF{display:-webkit-box;display:-webkit-flex;display:-ms-flexbox;display:flex;-webkit-flex-direction:column;-ms-flex-direction:column;flex-direction:column;-webkit-box-pack:justify;-webkit-justify-content:space-between;-ms-flex-pack:justify;justify-content:space-between;gap:16px;width:100%;}/*!sc*/
.bbXCl{display:-webkit-box;display:-webkit-flex;display:-ms-flexbox;display:flex;-webkit-flex-direction:row;-ms-flex-direction:row;flex-direction:row;-webkit-align-items:start;-webkit-box-align:start;-ms-flex-align:start;align-items:start;-webkit-box-pack:justify;-webkit-justify-content:space-between;-ms-flex-pack:justify;justify-content:space-between;}/*!sc*/
.hGGMNu{display:-webkit-box;display:-webkit-flex;display:-ms-flexbox;display:flex;-webkit-flex-direction:row;-ms-flex-direction:row;flex-direction:row;-webkit-align-items:start;-webkit-box-align:start;-ms-flex-align:start;align-items:start;-webkit-box-pack:justify;-webkit-justify-content:space-between;-ms-flex-pack:justify;justify-content:space-between;justify-self:flex-end;}/*!sc*/
.eHRrYV{margin-left:8px;margin-right:8px;}/*!sc*/
.dKmYfk{font-size:14px;min-width:0;max-width:125px;overflow:hidden;text-overflow:ellipsis;white-space:nowrap;}/*!sc*/
.hSNzKh{justify-self:end;max-width:100%;}/*!sc*/
.eTvGbF{display:-webkit-box;display:-webkit-flex;display:-ms-flexbox;display:flex;-webkit-flex-direction:row;-ms-flex-direction:row;flex-direction:row;font-size:16px;min-width:0;-webkit-flex-shrink:1;-ms-flex-negative:1;flex-shrink:1;-webkit-flex-wrap:wrap;-ms-flex-wrap:wrap;flex-wrap:wrap;max-width:100%;-webkit-align-items:center;-webkit-box-align:center;-ms-flex-align:center;align-items:center;}/*!sc*/
.kzRgrI{max-width:100%;}/*!sc*/
.cmAPIB{max-width:100%;list-style:none;display:inline-block;}/*!sc*/
.jwXCBK{display:inline-block;max-width:100%;}/*!sc*/
.bDwCYs{padding:16px;padding-bottom:0;padding-left:16px;padding-right:16px;}/*!sc*/
.fywjmm{display:-webkit-box;display:-webkit-flex;display:-ms-flexbox;display:flex;gap:8px;-webkit-flex-direction:column;-ms-flex-direction:column;flex-direction:column;width:100%;}/*!sc*/
.dyczTK{display:-webkit-box;display:-webkit-flex;display:-ms-flexbox;display:flex;-webkit-align-items:start;-webkit-box-align:start;-ms-flex-align:start;align-items:start;-webkit-box-pack:justify;-webkit-justify-content:space-between;-ms-flex-pack:justify;justify-content:space-between;gap:8px;}/*!sc*/
.kszRgZ{-webkit-align-self:center;-ms-flex-item-align:center;align-self:center;display:-webkit-box;display:-webkit-flex;display:-ms-flexbox;display:flex;padding-right:8px;min-width:0;}/*!sc*/
.gtBUEp{min-height:32px;display:-webkit-box;display:-webkit-flex;display:-ms-flexbox;display:flex;-webkit-align-items:start;-webkit-box-align:start;-ms-flex-align:start;align-items:start;}/*!sc*/
.MERGN{margin-left:16px;margin-right:16px;}/*!sc*/
@media screen and (min-width:1440px){.MERGN{margin-left:16px;}}/*!sc*/
.cMYnca{display:-webkit-box;display:-webkit-flex;display:-ms-flexbox;display:flex;-webkit-flex-direction:column;-ms-flex-direction:column;flex-direction:column;}/*!sc*/
.kLxXov{display:-webkit-box;display:-webkit-flex;display:-ms-flexbox;display:flex;-webkit-flex-direction:column;-ms-flex-direction:column;flex-direction:column;border:1px solid;border-color:#d0d7de;border-radius:6px;margin-bottom:16px;}/*!sc*/
.eYedVD{display:-webkit-box;display:-webkit-flex;display:-ms-flexbox;display:flex;-webkit-flex-direction:row;-ms-flex-direction:row;flex-direction:row;-webkit-box-pack:justify;-webkit-justify-content:space-between;-ms-flex-pack:justify;justify-content:space-between;-webkit-align-items:center;-webkit-box-align:center;-ms-flex-align:center;align-items:center;gap:8px;min-width:273px;padding-right:8px;padding-left:16px;padding-top:8px;padding-bottom:8px;}/*!sc*/
.jGfYmh{display:-webkit-box;display:-webkit-flex;display:-ms-flexbox;display:flex;gap:8px;}/*!sc*/
.lhFvfi{display:-webkit-box;display:-webkit-flex;display:-ms-flexbox;display:flex;-webkit-align-items:center;-webkit-box-align:center;-ms-flex-align:center;align-items:center;}/*!sc*/
.bqgLjk{display:inherit;}/*!sc*/
@media screen and (min-width:544px){.bqgLjk{display:none;}}/*!sc*/
@media screen and (min-width:768px){.bqgLjk{display:none;}}/*!sc*/
.iJmJly{display:-webkit-box;display:-webkit-flex;display:-ms-flexbox;display:flex;-webkit-flex-direction:row;-ms-flex-direction:row;flex-direction:row;}/*!sc*/
.jACbi{width:100%;height:-webkit-fit-content;height:-moz-fit-content;height:fit-content;min-width:0;margin-right:0;}/*!sc*/
.gIJuDf{height:40px;padding-left:4px;padding-bottom:16px;}/*!sc*/
.fleZSW{-webkit-align-items:center;-webkit-box-align:center;-ms-flex-align:center;align-items:center;}/*!sc*/
.bZpGqz{font-size:12px;-webkit-flex:auto;-ms-flex:auto;flex:auto;padding-right:16px;color:#656d76;min-width:0;}/*!sc*/
.VHzRk{top:0px;z-index:4;background:var(--bgColor-default,var(--color-canvas-default));position:-webkit-sticky;position:sticky;}/*!sc*/
.ePiodO{display:-webkit-box;display:-webkit-flex;display:-ms-flexbox;display:flex;-webkit-flex-direction:column;-ms-flex-direction:column;flex-direction:column;width:100%;position:absolute;}/*!sc*/
.kQJlnf{display:none;min-width:0;padding-top:8px;padding-bottom:8px;}/*!sc*/
.gJICKO{margin-right:8px;margin-left:16px;text-overflow:ellipsis;overflow:hidden;display:-webkit-box;display:-webkit-flex;display:-ms-flexbox;display:flex;-webkit-flex-direction:row;-ms-flex-direction:row;flex-direction:row;-webkit-align-items:center;-webkit-box-align:center;-ms-flex-align:center;align-items:center;-webkit-box-pack:justify;-webkit-justify-content:space-between;-ms-flex-pack:justify;justify-content:space-between;width:100%;}/*!sc*/
.iZJewz{display:-webkit-box;display:-webkit-flex;display:-ms-flexbox;display:flex;-webkit-flex-direction:row;-ms-flex-direction:row;flex-direction:row;font-size:14px;min-width:0;-webkit-flex-shrink:1;-ms-flex-negative:1;flex-shrink:1;-webkit-flex-wrap:wrap;-ms-flex-wrap:wrap;flex-wrap:wrap;max-width:100%;-webkit-align-items:center;-webkit-box-align:center;-ms-flex-align:center;align-items:center;}/*!sc*/
.bvEDG{padding-left:8px;padding-top:8px;padding-bottom:8px;display:-webkit-box;display:-webkit-flex;display:-ms-flexbox;display:flex;-webkit-flex:1;-ms-flex:1;flex:1;-webkit-align-items:center;-webkit-box-align:center;-ms-flex-align:center;align-items:center;-webkit-box-pack:justify;-webkit-justify-content:space-between;-ms-flex-pack:justify;justify-content:space-between;background-color:#f6f8fa;border:1px solid var(--borderColor-default,var(--color-border-default));border-radius:6px 6px 0px 0px;}/*!sc*/
.bfkNRF{display:-webkit-box;display:-webkit-flex;display:-ms-flexbox;display:flex;-webkit-align-items:center;-webkit-box-align:center;-ms-flex-align:center;align-items:center;gap:8px;min-width:0;}/*!sc*/
.fXBLEV{display:block;position:relative;-webkit-box-flex:1;-webkit-flex-grow:1;-ms-flex-positive:1;flex-grow:1;margin-top:-1px;margin-bottom:-1px;--separator-color:transparent;}/*!sc*/
.fXBLEV:not(:last-child){margin-right:1px;}/*!sc*/
.fXBLEV:not(:last-child):after{background-color:var(--separator-color);content:"";position:absolute;right:-2px;top:8px;bottom:8px;width:1px;}/*!sc*/
.fXBLEV:focus-within:has(:focus-visible){--separator-color:transparent;}/*!sc*/
.fXBLEV:first-child{margin-left:-1px;}/*!sc*/
.fXBLEV:last-child{margin-right:-1px;}/*!sc*/
.jkTWSe{display:block;position:relative;-webkit-box-flex:1;-webkit-flex-grow:1;-ms-flex-positive:1;flex-grow:1;margin-top:-1px;margin-bottom:-1px;--separator-color:#d0d7de;}/*!sc*/
.jkTWSe:not(:last-child){margin-right:1px;}/*!sc*/
.jkTWSe:not(:last-child):after{background-color:var(--separator-color);content:"";position:absolute;right:-2px;top:8px;bottom:8px;width:1px;}/*!sc*/
.jkTWSe:focus-within:has(:focus-visible){--separator-color:transparent;}/*!sc*/
.jkTWSe:first-child{margin-left:-1px;}/*!sc*/
.jkTWSe:last-child{margin-right:-1px;}/*!sc*/
.iBylDf{display:-webkit-box;display:-webkit-flex;display:-ms-flexbox;display:flex;-webkit-align-items:center;-webkit-box-align:center;-ms-flex-align:center;align-items:center;gap:8px;margin-right:8px;}/*!sc*/
.kSGBPx{gap:8px;}/*!sc*/
.flDsrw{border:1px solid;border-top:none;border-color:#d0d7de;border-radius:0px 0px 6px 6px;min-width:273px;}/*!sc*/
.eJsjkT{background-color:var(--bgColor-default,var(--color-canvas-default));border:0px;border-width:0;border-radius:0px 0px 6px 6px;padding:0;min-width:0;margin-top:46px;overflow:auto;}/*!sc*/
.aZrVR{position:fixed;top:0;right:0;height:100%;width:15px;-webkit-transition:-webkit-transform 0.3s;-webkit-transition:transform 0.3s;transition:transform 0.3s;z-index:1;}/*!sc*/
.aZrVR:hover{-webkit-transform:scaleX(1.5);-ms-transform:scaleX(1.5);transform:scaleX(1.5);}/*!sc*/
.bAzdCq{display:-webkit-box;display:-webkit-flex;display:-ms-flexbox;display:flex;-webkit-flex-direction:column;-ms-flex-direction:column;flex-direction:column;-webkit-align-items:center;-webkit-box-align:center;-ms-flex-align:center;align-items:center;padding-top:16px;padding-bottom:16px;}/*!sc*/
data-styled.g2[id="Box-sc-g0xbh4-0"]{content:"fSWWem,kPPmzM,cIAPDV,gvCnwW,xEgty,eUyHuk,gNdDUH,jywUSN,hBSSUC,iPurHz,kkrdEu,trpoQ,hVHHYa,idZfsJ,bKgizp,kYlvBX,caeYDk,jahcnb,ccToMy,cNvKlH,cLfAnm,erWCJP,hAeDYA,ekKrwo,emFMJu,hlUAHL,iStsmI,eIgvIk,eVFfWF,kgXdnT,kzTa-dF,bbXCl,hGGMNu,eHRrYV,dKmYfk,hSNzKh,eTvGbF,kzRgrI,cmAPIB,jwXCBK,bDwCYs,fywjmm,dyczTK,kszRgZ,gtBUEp,MERGN,cMYnca,kLxXov,eYedVD,jGfYmh,lhFvfi,bqgLjk,iJmJly,jACbi,gIJuDf,fleZSW,bZpGqz,VHzRk,ePiodO,kQJlnf,gJICKO,iZJewz,bvEDG,bfkNRF,fXBLEV,jkTWSe,iBylDf,kSGBPx,flDsrw,eJsjkT,aZrVR,bAzdCq,"}/*!sc*/
body[data-page-layout-dragging="true"]{cursor:col-resize;}/*!sc*/
body[data-page-layout-dragging="true"] *{-webkit-user-select:none;-moz-user-select:none;-ms-user-select:none;user-select:none;}/*!sc*/
data-styled.g3[id="sc-global-gbKrvU1"]{content:"sc-global-gbKrvU1,"}/*!sc*/
.bOMzPg{min-width:0;}/*!sc*/
.ivLLle{padding-left:4px;padding-right:4px;font-weight:400;color:#656d76;font-size:16px;}/*!sc*/
.ghRVGj{color:#1F2328;}/*!sc*/
.dZAxGI{padding-left:4px;padding-right:4px;font-weight:400;color:#656d76;font-size:14px;}/*!sc*/
data-styled.g6[id="Text-sc-17v1xeu-0"]{content:"bOMzPg,ivLLle,ghRVGj,gPDEWA,dZAxGI,"}/*!sc*/
.bNUcdA{color:#0969da;-webkit-text-decoration:none;text-decoration:none;font-weight:600;}/*!sc*/
[data-a11y-link-underlines='true'] .Link__StyledLink-sc-14289xe-0[data-inline='true']{-webkit-text-decoration:underline;text-decoration:underline;}/*!sc*/
.bNUcdA:hover{-webkit-text-decoration:underline;text-decoration:underline;}/*!sc*/
.bNUcdA:is(button){display:inline-block;padding:0;font-size:inherit;white-space:nowrap;cursor:pointer;-webkit-user-select:none;-moz-user-select:none;-ms-user-select:none;user-select:none;background-color:transparent;border:0;-webkit-appearance:none;-moz-appearance:none;appearance:none;}/*!sc*/
.bKUZnR{color:#0969da;-webkit-text-decoration:none;text-decoration:none;}/*!sc*/
[data-a11y-link-underlines='true'] .Link__StyledLink-sc-14289xe-0[data-inline='true']{-webkit-text-decoration:underline;text-decoration:underline;}/*!sc*/
.bKUZnR:hover{-webkit-text-decoration:underline;text-decoration:underline;}/*!sc*/
.bKUZnR:is(button){display:inline-block;padding:0;font-size:inherit;white-space:nowrap;cursor:pointer;-webkit-user-select:none;-moz-user-select:none;-ms-user-select:none;user-select:none;background-color:transparent;border:0;-webkit-appearance:none;-moz-appearance:none;appearance:none;}/*!sc*/
data-styled.g8[id="Link__StyledLink-sc-14289xe-0"]{content:"bNUcdA,bKUZnR,"}/*!sc*/
.dpmVDB{border-radius:6px;border:1px solid;border-color:transparent;font-family:inherit;font-weight:500;font-size:14px;cursor:pointer;-webkit-appearance:none;-moz-appearance:none;appearance:none;-webkit-user-select:none;-moz-user-select:none;-ms-user-select:none;user-select:none;-webkit-text-decoration:none;text-decoration:none;text-align:center;display:-webkit-box;display:-webkit-flex;display:-ms-flexbox;display:flex;-webkit-align-items:center;-webkit-box-align:center;-ms-flex-align:center;align-items:center;-webkit-box-pack:justify;-webkit-justify-content:space-between;-ms-flex-pack:justify;justify-content:space-between;height:32px;padding:0 12px;gap:8px;min-width:-webkit-max-content;min-width:-moz-max-content;min-width:max-content;-webkit-transition:80ms cubic-bezier(0.65,0,0.35,1);transition:80ms cubic-bezier(0.65,0,0.35,1);-webkit-transition-property:color,fill,background-color,border-color;transition-property:color,fill,background-color,border-color;color:#24292f;background-color:transparent;box-shadow:none;}/*!sc*/
.dpmVDB:focus:not(:disabled){box-shadow:none;outline:2px solid #0969da;outline-offset:-2px;}/*!sc*/
.dpmVDB:focus:not(:disabled):not(:focus-visible){outline:solid 1px transparent;}/*!sc*/
.dpmVDB:focus-visible:not(:disabled){box-shadow:none;outline:2px solid #0969da;outline-offset:-2px;}/*!sc*/
.dpmVDB[href]{display:-webkit-inline-box;display:-webkit-inline-flex;display:-ms-inline-flexbox;display:inline-flex;}/*!sc*/
.dpmVDB[href]:hover{-webkit-text-decoration:none;text-decoration:none;}/*!sc*/
.dpmVDB:hover{-webkit-transition-duration:80ms;transition-duration:80ms;}/*!sc*/
.dpmVDB:active{-webkit-transition:none;transition:none;}/*!sc*/
.dpmVDB[data-inactive]{cursor:auto;}/*!sc*/
.dpmVDB:disabled{cursor:not-allowed;box-shadow:none;color:#8c959f;}/*!sc*/
.dpmVDB:disabled [data-component=ButtonCounter],.dpmVDB:disabled [data-component="leadingVisual"],.dpmVDB:disabled [data-component="trailingAction"]{color:inherit;}/*!sc*/
@media (forced-colors:active){.dpmVDB:focus{outline:solid 1px transparent;}}/*!sc*/
.dpmVDB [data-component=ButtonCounter]{font-size:12px;}/*!sc*/
.dpmVDB[data-component=IconButton]{display:inline-grid;padding:unset;place-content:center;width:32px;min-width:unset;}/*!sc*/
.dpmVDB[data-size="small"]{padding:0 8px;height:28px;gap:4px;font-size:12px;}/*!sc*/
.dpmVDB[data-size="small"] [data-component="text"]{line-height:calc(20 / 12);}/*!sc*/
.dpmVDB[data-size="small"] [data-component=ButtonCounter]{font-size:12px;}/*!sc*/
.dpmVDB[data-size="small"] [data-component="buttonContent"] > :not(:last-child){margin-right:4px;}/*!sc*/
.dpmVDB[data-size="small"][data-component=IconButton]{width:28px;padding:unset;}/*!sc*/
.dpmVDB[data-size="large"]{padding:0 16px;height:40px;gap:8px;}/*!sc*/
.dpmVDB[data-size="large"] [data-component="buttonContent"] > :not(:last-child){margin-right:8px;}/*!sc*/
.dpmVDB[data-size="large"][data-component=IconButton]{width:40px;padding:unset;}/*!sc*/
.dpmVDB[data-block="block"]{width:100%;}/*!sc*/
.dpmVDB[data-inactive]:not([disabled]){background-color:var(--button-inactive-bgColor,#eaeef2);border-color:var(--button-inactive-bgColor,#eaeef2);color:var(--button-inactive-fgColor,#57606a);}/*!sc*/
.dpmVDB[data-inactive]:not([disabled]):focus-visible{box-shadow:none;}/*!sc*/
.dpmVDB [data-component="leadingVisual"]{grid-area:leadingVisual;color:#656d76;}/*!sc*/
.dpmVDB [data-component="text"]{grid-area:text;line-height:calc(20/14);white-space:nowrap;}/*!sc*/
.dpmVDB [data-component="trailingVisual"]{grid-area:trailingVisual;}/*!sc*/
.dpmVDB [data-component="trailingAction"]{margin-right:-4px;color:#656d76;}/*!sc*/
.dpmVDB [data-component="buttonContent"]{-webkit-flex:1 0 auto;-ms-flex:1 0 auto;flex:1 0 auto;display:grid;grid-template-areas:"leadingVisual text trailingVisual";grid-template-columns:min-content minmax(0,auto) min-content;-webkit-align-items:center;-webkit-box-align:center;-ms-flex-align:center;align-items:center;-webkit-align-content:center;-ms-flex-line-pack:center;align-content:center;}/*!sc*/
.dpmVDB [data-component="buttonContent"] > :not(:last-child){margin-right:8px;}/*!sc*/
.dpmVDB:hover:not([disabled]){background-color:rgba(208,215,222,0.32);}/*!sc*/
.dpmVDB:active:not([disabled]){background-color:rgba(208,215,222,0.48);}/*!sc*/
.dpmVDB[aria-expanded=true]{background-color:rgba(208,215,222,0.24);}/*!sc*/
.dpmVDB[data-component="IconButton"][data-no-visuals]{color:#656d76;}/*!sc*/
.dpmVDB[data-no-visuals]{color:#0969da;}/*!sc*/
.dpmVDB:has([data-component="ButtonCounter"]){color:#24292f;}/*!sc*/
.dpmVDB:disabled[data-no-visuals]{color:#8c959f;}/*!sc*/
.dpmVDB:disabled[data-no-visuals] [data-component=ButtonCounter]{color:inherit;}/*!sc*/
.dpmVDB{color:#656d76;padding-left:8px;padding-right:8px;display:none;}/*!sc*/
@media screen and (max-width:768px){.dpmVDB{display:block;}}/*!sc*/
.kuQWBL{border-radius:6px;border:1px solid;border-color:transparent;font-family:inherit;font-weight:500;font-size:14px;cursor:pointer;-webkit-appearance:none;-moz-appearance:none;appearance:none;-webkit-user-select:none;-moz-user-select:none;-ms-user-select:none;user-select:none;-webkit-text-decoration:none;text-decoration:none;text-align:center;display:-webkit-box;display:-webkit-flex;display:-ms-flexbox;display:flex;-webkit-align-items:center;-webkit-box-align:center;-ms-flex-align:center;align-items:center;-webkit-box-pack:justify;-webkit-justify-content:space-between;-ms-flex-pack:justify;justify-content:space-between;height:32px;padding:0 12px;gap:8px;min-width:-webkit-max-content;min-width:-moz-max-content;min-width:max-content;-webkit-transition:80ms cubic-bezier(0.65,0,0.35,1);transition:80ms cubic-bezier(0.65,0,0.35,1);-webkit-transition-property:color,fill,background-color,border-color;transition-property:color,fill,background-color,border-color;color:#24292f;background-color:transparent;box-shadow:none;}/*!sc*/
.kuQWBL:focus:not(:disabled){box-shadow:none;outline:2px solid #0969da;outline-offset:-2px;}/*!sc*/
.kuQWBL:focus:not(:disabled):not(:focus-visible){outline:solid 1px transparent;}/*!sc*/
.kuQWBL:focus-visible:not(:disabled){box-shadow:none;outline:2px solid #0969da;outline-offset:-2px;}/*!sc*/
.kuQWBL[href]{display:-webkit-inline-box;display:-webkit-inline-flex;display:-ms-inline-flexbox;display:inline-flex;}/*!sc*/
.kuQWBL[href]:hover{-webkit-text-decoration:none;text-decoration:none;}/*!sc*/
.kuQWBL:hover{-webkit-transition-duration:80ms;transition-duration:80ms;}/*!sc*/
.kuQWBL:active{-webkit-transition:none;transition:none;}/*!sc*/
.kuQWBL[data-inactive]{cursor:auto;}/*!sc*/
.kuQWBL:disabled{cursor:not-allowed;box-shadow:none;color:#8c959f;}/*!sc*/
.kuQWBL:disabled [data-component=ButtonCounter],.kuQWBL:disabled [data-component="leadingVisual"],.kuQWBL:disabled [data-component="trailingAction"]{color:inherit;}/*!sc*/
@media (forced-colors:active){.kuQWBL:focus{outline:solid 1px transparent;}}/*!sc*/
.kuQWBL [data-component=ButtonCounter]{font-size:12px;}/*!sc*/
.kuQWBL[data-component=IconButton]{display:inline-grid;padding:unset;place-content:center;width:32px;min-width:unset;}/*!sc*/
.kuQWBL[data-size="small"]{padding:0 8px;height:28px;gap:4px;font-size:12px;}/*!sc*/
.kuQWBL[data-size="small"] [data-component="text"]{line-height:calc(20 / 12);}/*!sc*/
.kuQWBL[data-size="small"] [data-component=ButtonCounter]{font-size:12px;}/*!sc*/
.kuQWBL[data-size="small"] [data-component="buttonContent"] > :not(:last-child){margin-right:4px;}/*!sc*/
.kuQWBL[data-size="small"][data-component=IconButton]{width:28px;padding:unset;}/*!sc*/
.kuQWBL[data-size="large"]{padding:0 16px;height:40px;gap:8px;}/*!sc*/
.kuQWBL[data-size="large"] [data-component="buttonContent"] > :not(:last-child){margin-right:8px;}/*!sc*/
.kuQWBL[data-size="large"][data-component=IconButton]{width:40px;padding:unset;}/*!sc*/
.kuQWBL[data-block="block"]{width:100%;}/*!sc*/
.kuQWBL[data-inactive]:not([disabled]){background-color:var(--button-inactive-bgColor,#eaeef2);border-color:var(--button-inactive-bgColor,#eaeef2);color:var(--button-inactive-fgColor,#57606a);}/*!sc*/
.kuQWBL[data-inactive]:not([disabled]):focus-visible{box-shadow:none;}/*!sc*/
.kuQWBL [data-component="leadingVisual"]{grid-area:leadingVisual;color:#656d76;}/*!sc*/
.kuQWBL [data-component="text"]{grid-area:text;line-height:calc(20/14);white-space:nowrap;}/*!sc*/
.kuQWBL [data-component="trailingVisual"]{grid-area:trailingVisual;}/*!sc*/
.kuQWBL [data-component="trailingAction"]{margin-right:-4px;color:#656d76;}/*!sc*/
.kuQWBL [data-component="buttonContent"]{-webkit-flex:1 0 auto;-ms-flex:1 0 auto;flex:1 0 auto;display:grid;grid-template-areas:"leadingVisual text trailingVisual";grid-template-columns:min-content minmax(0,auto) min-content;-webkit-align-items:center;-webkit-box-align:center;-ms-flex-align:center;align-items:center;-webkit-align-content:center;-ms-flex-line-pack:center;align-content:center;}/*!sc*/
.kuQWBL [data-component="buttonContent"] > :not(:last-child){margin-right:8px;}/*!sc*/
.kuQWBL:hover:not([disabled]){background-color:rgba(208,215,222,0.32);}/*!sc*/
.kuQWBL:active:not([disabled]){background-color:rgba(208,215,222,0.48);}/*!sc*/
.kuQWBL[aria-expanded=true]{background-color:rgba(208,215,222,0.24);}/*!sc*/
.kuQWBL[data-component="IconButton"][data-no-visuals]{color:#656d76;}/*!sc*/
.kuQWBL[data-no-visuals]{color:#656d76;height:32px;position:relative;}/*!sc*/
@media screen and (max-width:768px){.kuQWBL[data-no-visuals]{display:none;}}/*!sc*/
.kuQWBL:has([data-component="ButtonCounter"]){color:#24292f;}/*!sc*/
.kuQWBL:disabled[data-no-visuals]{color:#8c959f;}/*!sc*/
.kuQWBL:disabled[data-no-visuals] [data-component=ButtonCounter]{color:inherit;}/*!sc*/
.cTlePa{border-radius:6px;border:1px solid;border-color:var(--button-default-borderColor-rest,rgba(31,35,40,0.15));font-family:inherit;font-weight:500;font-size:14px;cursor:pointer;-webkit-appearance:none;-moz-appearance:none;appearance:none;-webkit-user-select:none;-moz-user-select:none;-ms-user-select:none;user-select:none;-webkit-text-decoration:none;text-decoration:none;text-align:center;display:-webkit-box;display:-webkit-flex;display:-ms-flexbox;display:flex;-webkit-align-items:center;-webkit-box-align:center;-ms-flex-align:center;align-items:center;-webkit-box-pack:justify;-webkit-justify-content:space-between;-ms-flex-pack:justify;justify-content:space-between;height:32px;padding:0 12px;gap:8px;min-width:-webkit-max-content;min-width:-moz-max-content;min-width:max-content;-webkit-transition:80ms cubic-bezier(0.65,0,0.35,1);transition:80ms cubic-bezier(0.65,0,0.35,1);-webkit-transition-property:color,fill,background-color,border-color;transition-property:color,fill,background-color,border-color;color:#24292f;background-color:#f6f8fa;box-shadow:0 1px 0 rgba(31,35,40,0.04),inset 0 1px 0 rgba(255,255,255,0.25);}/*!sc*/
.cTlePa:focus:not(:disabled){box-shadow:none;outline:2px solid #0969da;outline-offset:-2px;}/*!sc*/
.cTlePa:focus:not(:disabled):not(:focus-visible){outline:solid 1px transparent;}/*!sc*/
.cTlePa:focus-visible:not(:disabled){box-shadow:none;outline:2px solid #0969da;outline-offset:-2px;}/*!sc*/
.cTlePa[href]{display:-webkit-inline-box;display:-webkit-inline-flex;display:-ms-inline-flexbox;display:inline-flex;}/*!sc*/
.cTlePa[href]:hover{-webkit-text-decoration:none;text-decoration:none;}/*!sc*/
.cTlePa:hover{-webkit-transition-duration:80ms;transition-duration:80ms;}/*!sc*/
.cTlePa:active{-webkit-transition:none;transition:none;}/*!sc*/
.cTlePa[data-inactive]{cursor:auto;}/*!sc*/
.cTlePa:disabled{cursor:not-allowed;box-shadow:none;color:#8c959f;}/*!sc*/
.cTlePa:disabled [data-component=ButtonCounter]{color:inherit;}/*!sc*/
@media (forced-colors:active){.cTlePa:focus{outline:solid 1px transparent;}}/*!sc*/
.cTlePa [data-component=ButtonCounter]{font-size:12px;}/*!sc*/
.cTlePa[data-component=IconButton]{display:inline-grid;padding:unset;place-content:center;width:32px;min-width:unset;}/*!sc*/
.cTlePa[data-size="small"]{padding:0 8px;height:28px;gap:4px;font-size:12px;}/*!sc*/
.cTlePa[data-size="small"] [data-component="text"]{line-height:calc(20 / 12);}/*!sc*/
.cTlePa[data-size="small"] [data-component=ButtonCounter]{font-size:12px;}/*!sc*/
.cTlePa[data-size="small"] [data-component="buttonContent"] > :not(:last-child){margin-right:4px;}/*!sc*/
.cTlePa[data-size="small"][data-component=IconButton]{width:28px;padding:unset;}/*!sc*/
.cTlePa[data-size="large"]{padding:0 16px;height:40px;gap:8px;}/*!sc*/
.cTlePa[data-size="large"] [data-component="buttonContent"] > :not(:last-child){margin-right:8px;}/*!sc*/
.cTlePa[data-size="large"][data-component=IconButton]{width:40px;padding:unset;}/*!sc*/
.cTlePa[data-block="block"]{width:100%;}/*!sc*/
.cTlePa[data-inactive]:not([disabled]){background-color:var(--button-inactive-bgColor,#eaeef2);border-color:var(--button-inactive-bgColor,#eaeef2);color:var(--button-inactive-fgColor,#57606a);}/*!sc*/
.cTlePa[data-inactive]:not([disabled]):focus-visible{box-shadow:none;}/*!sc*/
.cTlePa [data-component="leadingVisual"]{grid-area:leadingVisual;}/*!sc*/
.cTlePa [data-component="text"]{grid-area:text;line-height:calc(20/14);white-space:nowrap;}/*!sc*/
.cTlePa [data-component="trailingVisual"]{grid-area:trailingVisual;}/*!sc*/
.cTlePa [data-component="trailingAction"]{margin-right:-4px;}/*!sc*/
.cTlePa [data-component="buttonContent"]{-webkit-flex:1 0 auto;-ms-flex:1 0 auto;flex:1 0 auto;display:grid;grid-template-areas:"leadingVisual text trailingVisual";grid-template-columns:min-content minmax(0,auto) min-content;-webkit-align-items:center;-webkit-box-align:center;-ms-flex-align:center;align-items:center;-webkit-align-content:center;-ms-flex-line-pack:center;align-content:center;}/*!sc*/
.cTlePa [data-component="buttonContent"] > :not(:last-child){margin-right:8px;}/*!sc*/
.cTlePa:hover:not([disabled]):not([data-inactive]){background-color:#f3f4f6;border-color:var(--button-default-borderColor-hover,rgba(31,35,40,0.15));}/*!sc*/
.cTlePa:active:not([disabled]):not([data-inactive]){background-color:hsla(220,14%,93%,1);border-color:var(--button-default-borderColor-active,rgba(31,35,40,0.15));}/*!sc*/
.cTlePa[aria-expanded=true]{background-color:hsla(220,14%,93%,1);border-color:var(--button-default-borderColor-active,rgba(31,35,40,0.15));}/*!sc*/
.cTlePa [data-component="leadingVisual"],.cTlePa [data-component="trailingVisual"],.cTlePa [data-component="trailingAction"]{color:var(--button-color,#656d76);}/*!sc*/
.cTlePa{display:-webkit-box;display:-webkit-flex;display:-ms-flexbox;display:flex;min-width:0;}/*!sc*/
.cTlePa svg{color:#656d76;}/*!sc*/
.cTlePa > span{width:inherit;}/*!sc*/
.hAUDdO{border-radius:6px;border:1px solid;border-color:var(--button-default-borderColor-rest,rgba(31,35,40,0.15));font-family:inherit;font-weight:500;font-size:14px;cursor:pointer;-webkit-appearance:none;-moz-appearance:none;appearance:none;-webkit-user-select:none;-moz-user-select:none;-ms-user-select:none;user-select:none;-webkit-text-decoration:none;text-decoration:none;text-align:center;display:-webkit-box;display:-webkit-flex;display:-ms-flexbox;display:flex;-webkit-align-items:center;-webkit-box-align:center;-ms-flex-align:center;align-items:center;-webkit-box-pack:justify;-webkit-justify-content:space-between;-ms-flex-pack:justify;justify-content:space-between;height:32px;padding:0 12px;gap:8px;min-width:-webkit-max-content;min-width:-moz-max-content;min-width:max-content;-webkit-transition:80ms cubic-bezier(0.65,0,0.35,1);transition:80ms cubic-bezier(0.65,0,0.35,1);-webkit-transition-property:color,fill,background-color,border-color;transition-property:color,fill,background-color,border-color;color:#24292f;background-color:#f6f8fa;box-shadow:0 1px 0 rgba(31,35,40,0.04),inset 0 1px 0 rgba(255,255,255,0.25);}/*!sc*/
.hAUDdO:focus:not(:disabled){box-shadow:none;outline:2px solid #0969da;outline-offset:-2px;}/*!sc*/
.hAUDdO:focus:not(:disabled):not(:focus-visible){outline:solid 1px transparent;}/*!sc*/
.hAUDdO:focus-visible:not(:disabled){box-shadow:none;outline:2px solid #0969da;outline-offset:-2px;}/*!sc*/
.hAUDdO[href]{display:-webkit-inline-box;display:-webkit-inline-flex;display:-ms-inline-flexbox;display:inline-flex;}/*!sc*/
.hAUDdO[href]:hover{-webkit-text-decoration:none;text-decoration:none;}/*!sc*/
.hAUDdO:hover{-webkit-transition-duration:80ms;transition-duration:80ms;}/*!sc*/
.hAUDdO:active{-webkit-transition:none;transition:none;}/*!sc*/
.hAUDdO[data-inactive]{cursor:auto;}/*!sc*/
.hAUDdO:disabled{cursor:not-allowed;box-shadow:none;color:#8c959f;}/*!sc*/
.hAUDdO:disabled [data-component=ButtonCounter]{color:inherit;}/*!sc*/
@media (forced-colors:active){.hAUDdO:focus{outline:solid 1px transparent;}}/*!sc*/
.hAUDdO [data-component=ButtonCounter]{font-size:12px;}/*!sc*/
.hAUDdO[data-component=IconButton]{display:inline-grid;padding:unset;place-content:center;width:32px;min-width:unset;}/*!sc*/
.hAUDdO[data-size="small"]{padding:0 8px;height:28px;gap:4px;font-size:12px;}/*!sc*/
.hAUDdO[data-size="small"] [data-component="text"]{line-height:calc(20 / 12);}/*!sc*/
.hAUDdO[data-size="small"] [data-component=ButtonCounter]{font-size:12px;}/*!sc*/
.hAUDdO[data-size="small"] [data-component="buttonContent"] > :not(:last-child){margin-right:4px;}/*!sc*/
.hAUDdO[data-size="small"][data-component=IconButton]{width:28px;padding:unset;}/*!sc*/
.hAUDdO[data-size="large"]{padding:0 16px;height:40px;gap:8px;}/*!sc*/
.hAUDdO[data-size="large"] [data-component="buttonContent"] > :not(:last-child){margin-right:8px;}/*!sc*/
.hAUDdO[data-size="large"][data-component=IconButton]{width:40px;padding:unset;}/*!sc*/
.hAUDdO[data-block="block"]{width:100%;}/*!sc*/
.hAUDdO[data-inactive]:not([disabled]){background-color:var(--button-inactive-bgColor,#eaeef2);border-color:var(--button-inactive-bgColor,#eaeef2);color:var(--button-inactive-fgColor,#57606a);}/*!sc*/
.hAUDdO[data-inactive]:not([disabled]):focus-visible{box-shadow:none;}/*!sc*/
.hAUDdO [data-component="leadingVisual"]{grid-area:leadingVisual;}/*!sc*/
.hAUDdO [data-component="text"]{grid-area:text;line-height:calc(20/14);white-space:nowrap;}/*!sc*/
.hAUDdO [data-component="trailingVisual"]{grid-area:trailingVisual;}/*!sc*/
.hAUDdO [data-component="trailingAction"]{margin-right:-4px;}/*!sc*/
.hAUDdO [data-component="buttonContent"]{-webkit-flex:1 0 auto;-ms-flex:1 0 auto;flex:1 0 auto;display:grid;grid-template-areas:"leadingVisual text trailingVisual";grid-template-columns:min-content minmax(0,auto) min-content;-webkit-align-items:center;-webkit-box-align:center;-ms-flex-align:center;align-items:center;-webkit-align-content:center;-ms-flex-line-pack:center;align-content:center;}/*!sc*/
.hAUDdO [data-component="buttonContent"] > :not(:last-child){margin-right:8px;}/*!sc*/
.hAUDdO:hover:not([disabled]):not([data-inactive]){background-color:#f3f4f6;border-color:var(--button-default-borderColor-hover,rgba(31,35,40,0.15));}/*!sc*/
.hAUDdO:active:not([disabled]):not([data-inactive]){background-color:hsla(220,14%,93%,1);border-color:var(--button-default-borderColor-active,rgba(31,35,40,0.15));}/*!sc*/
.hAUDdO[aria-expanded=true]{background-color:hsla(220,14%,93%,1);border-color:var(--button-default-borderColor-active,rgba(31,35,40,0.15));}/*!sc*/
.hAUDdO [data-component="leadingVisual"],.hAUDdO [data-component="trailingVisual"],.hAUDdO [data-component="trailingAction"]{color:var(--button-color,#656d76);}/*!sc*/
.hAUDdO[data-no-visuals]{color:#6e7781;border-top-right-radius:0;border-bottom-right-radius:0;border-right:0;}/*!sc*/
.bRhdlk{border-radius:6px;border:1px solid;border-color:var(--button-default-borderColor-rest,rgba(31,35,40,0.15));font-family:inherit;font-weight:500;font-size:14px;cursor:pointer;-webkit-appearance:none;-moz-appearance:none;appearance:none;-webkit-user-select:none;-moz-user-select:none;-ms-user-select:none;user-select:none;-webkit-text-decoration:none;text-decoration:none;text-align:center;display:-webkit-box;display:-webkit-flex;display:-ms-flexbox;display:flex;-webkit-align-items:center;-webkit-box-align:center;-ms-flex-align:center;align-items:center;-webkit-box-pack:justify;-webkit-justify-content:space-between;-ms-flex-pack:justify;justify-content:space-between;height:32px;padding:0 12px;gap:8px;min-width:-webkit-max-content;min-width:-moz-max-content;min-width:max-content;-webkit-transition:80ms cubic-bezier(0.65,0,0.35,1);transition:80ms cubic-bezier(0.65,0,0.35,1);-webkit-transition-property:color,fill,background-color,border-color;transition-property:color,fill,background-color,border-color;color:#24292f;background-color:#f6f8fa;box-shadow:0 1px 0 rgba(31,35,40,0.04),inset 0 1px 0 rgba(255,255,255,0.25);}/*!sc*/
.bRhdlk:focus:not(:disabled){box-shadow:none;outline:2px solid #0969da;outline-offset:-2px;}/*!sc*/
.bRhdlk:focus:not(:disabled):not(:focus-visible){outline:solid 1px transparent;}/*!sc*/
.bRhdlk:focus-visible:not(:disabled){box-shadow:none;outline:2px solid #0969da;outline-offset:-2px;}/*!sc*/
.bRhdlk[href]{display:-webkit-inline-box;display:-webkit-inline-flex;display:-ms-inline-flexbox;display:inline-flex;}/*!sc*/
.bRhdlk[href]:hover{-webkit-text-decoration:none;text-decoration:none;}/*!sc*/
.bRhdlk:hover{-webkit-transition-duration:80ms;transition-duration:80ms;}/*!sc*/
.bRhdlk:active{-webkit-transition:none;transition:none;}/*!sc*/
.bRhdlk[data-inactive]{cursor:auto;}/*!sc*/
.bRhdlk:disabled{cursor:not-allowed;box-shadow:none;color:#8c959f;}/*!sc*/
.bRhdlk:disabled [data-component=ButtonCounter]{color:inherit;}/*!sc*/
@media (forced-colors:active){.bRhdlk:focus{outline:solid 1px transparent;}}/*!sc*/
.bRhdlk [data-component=ButtonCounter]{font-size:12px;}/*!sc*/
.bRhdlk[data-component=IconButton]{display:inline-grid;padding:unset;place-content:center;width:32px;min-width:unset;}/*!sc*/
.bRhdlk[data-size="small"]{padding:0 8px;height:28px;gap:4px;font-size:12px;}/*!sc*/
.bRhdlk[data-size="small"] [data-component="text"]{line-height:calc(20 / 12);}/*!sc*/
.bRhdlk[data-size="small"] [data-component=ButtonCounter]{font-size:12px;}/*!sc*/
.bRhdlk[data-size="small"] [data-component="buttonContent"] > :not(:last-child){margin-right:4px;}/*!sc*/
.bRhdlk[data-size="small"][data-component=IconButton]{width:28px;padding:unset;}/*!sc*/
.bRhdlk[data-size="large"]{padding:0 16px;height:40px;gap:8px;}/*!sc*/
.bRhdlk[data-size="large"] [data-component="buttonContent"] > :not(:last-child){margin-right:8px;}/*!sc*/
.bRhdlk[data-size="large"][data-component=IconButton]{width:40px;padding:unset;}/*!sc*/
.bRhdlk[data-block="block"]{width:100%;}/*!sc*/
.bRhdlk[data-inactive]:not([disabled]){background-color:var(--button-inactive-bgColor,#eaeef2);border-color:var(--button-inactive-bgColor,#eaeef2);color:var(--button-inactive-fgColor,#57606a);}/*!sc*/
.bRhdlk[data-inactive]:not([disabled]):focus-visible{box-shadow:none;}/*!sc*/
.bRhdlk [data-component="leadingVisual"]{grid-area:leadingVisual;}/*!sc*/
.bRhdlk [data-component="text"]{grid-area:text;line-height:calc(20/14);white-space:nowrap;}/*!sc*/
.bRhdlk [data-component="trailingVisual"]{grid-area:trailingVisual;}/*!sc*/
.bRhdlk [data-component="trailingAction"]{margin-right:-4px;}/*!sc*/
.bRhdlk [data-component="buttonContent"]{-webkit-flex:1 0 auto;-ms-flex:1 0 auto;flex:1 0 auto;display:grid;grid-template-areas:"leadingVisual text trailingVisual";grid-template-columns:min-content minmax(0,auto) min-content;-webkit-align-items:center;-webkit-box-align:center;-ms-flex-align:center;align-items:center;-webkit-align-content:center;-ms-flex-line-pack:center;align-content:center;}/*!sc*/
.bRhdlk [data-component="buttonContent"] > :not(:last-child){margin-right:8px;}/*!sc*/
.bRhdlk:hover:not([disabled]):not([data-inactive]){background-color:#f3f4f6;border-color:var(--button-default-borderColor-hover,rgba(31,35,40,0.15));}/*!sc*/
.bRhdlk:active:not([disabled]):not([data-inactive]){background-color:hsla(220,14%,93%,1);border-color:var(--button-default-borderColor-active,rgba(31,35,40,0.15));}/*!sc*/
.bRhdlk[aria-expanded=true]{background-color:hsla(220,14%,93%,1);border-color:var(--button-default-borderColor-active,rgba(31,35,40,0.15));}/*!sc*/
.bRhdlk [data-component="leadingVisual"],.bRhdlk [data-component="trailingVisual"],.bRhdlk [data-component="trailingAction"]{color:var(--button-color,#656d76);}/*!sc*/
.bRhdlk[data-no-visuals]{color:#6e7781;font-size:14px;font-weight:400;-webkit-flex-shrink:0;-ms-flex-negative:0;flex-shrink:0;border-top-left-radius:0;border-bottom-left-radius:0;}/*!sc*/
.gDcRcS{border-radius:6px;border:1px solid;border-color:var(--button-default-borderColor-rest,rgba(31,35,40,0.15));font-family:inherit;font-weight:500;font-size:14px;cursor:pointer;-webkit-appearance:none;-moz-appearance:none;appearance:none;-webkit-user-select:none;-moz-user-select:none;-ms-user-select:none;user-select:none;-webkit-text-decoration:none;text-decoration:none;text-align:center;display:-webkit-box;display:-webkit-flex;display:-ms-flexbox;display:flex;-webkit-align-items:center;-webkit-box-align:center;-ms-flex-align:center;align-items:center;-webkit-box-pack:justify;-webkit-justify-content:space-between;-ms-flex-pack:justify;justify-content:space-between;height:32px;padding:0 12px;gap:8px;min-width:-webkit-max-content;min-width:-moz-max-content;min-width:max-content;-webkit-transition:80ms cubic-bezier(0.65,0,0.35,1);transition:80ms cubic-bezier(0.65,0,0.35,1);-webkit-transition-property:color,fill,background-color,border-color;transition-property:color,fill,background-color,border-color;color:#24292f;background-color:#f6f8fa;box-shadow:0 1px 0 rgba(31,35,40,0.04),inset 0 1px 0 rgba(255,255,255,0.25);}/*!sc*/
.gDcRcS:focus:not(:disabled){box-shadow:none;outline:2px solid #0969da;outline-offset:-2px;}/*!sc*/
.gDcRcS:focus:not(:disabled):not(:focus-visible){outline:solid 1px transparent;}/*!sc*/
.gDcRcS:focus-visible:not(:disabled){box-shadow:none;outline:2px solid #0969da;outline-offset:-2px;}/*!sc*/
.gDcRcS[href]{display:-webkit-inline-box;display:-webkit-inline-flex;display:-ms-inline-flexbox;display:inline-flex;}/*!sc*/
.gDcRcS[href]:hover{-webkit-text-decoration:none;text-decoration:none;}/*!sc*/
.gDcRcS:hover{-webkit-transition-duration:80ms;transition-duration:80ms;}/*!sc*/
.gDcRcS:active{-webkit-transition:none;transition:none;}/*!sc*/
.gDcRcS[data-inactive]{cursor:auto;}/*!sc*/
.gDcRcS:disabled{cursor:not-allowed;box-shadow:none;color:#8c959f;}/*!sc*/
.gDcRcS:disabled [data-component=ButtonCounter]{color:inherit;}/*!sc*/
@media (forced-colors:active){.gDcRcS:focus{outline:solid 1px transparent;}}/*!sc*/
.gDcRcS [data-component=ButtonCounter]{font-size:12px;}/*!sc*/
.gDcRcS[data-component=IconButton]{display:inline-grid;padding:unset;place-content:center;width:32px;min-width:unset;}/*!sc*/
.gDcRcS[data-size="small"]{padding:0 8px;height:28px;gap:4px;font-size:12px;}/*!sc*/
.gDcRcS[data-size="small"] [data-component="text"]{line-height:calc(20 / 12);}/*!sc*/
.gDcRcS[data-size="small"] [data-component=ButtonCounter]{font-size:12px;}/*!sc*/
.gDcRcS[data-size="small"] [data-component="buttonContent"] > :not(:last-child){margin-right:4px;}/*!sc*/
.gDcRcS[data-size="small"][data-component=IconButton]{width:28px;padding:unset;}/*!sc*/
.gDcRcS[data-size="large"]{padding:0 16px;height:40px;gap:8px;}/*!sc*/
.gDcRcS[data-size="large"] [data-component="buttonContent"] > :not(:last-child){margin-right:8px;}/*!sc*/
.gDcRcS[data-size="large"][data-component=IconButton]{width:40px;padding:unset;}/*!sc*/
.gDcRcS[data-block="block"]{width:100%;}/*!sc*/
.gDcRcS[data-inactive]:not([disabled]){background-color:var(--button-inactive-bgColor,#eaeef2);border-color:var(--button-inactive-bgColor,#eaeef2);color:var(--button-inactive-fgColor,#57606a);}/*!sc*/
.gDcRcS[data-inactive]:not([disabled]):focus-visible{box-shadow:none;}/*!sc*/
.gDcRcS [data-component="leadingVisual"]{grid-area:leadingVisual;}/*!sc*/
.gDcRcS [data-component="text"]{grid-area:text;line-height:calc(20/14);white-space:nowrap;}/*!sc*/
.gDcRcS [data-component="trailingVisual"]{grid-area:trailingVisual;}/*!sc*/
.gDcRcS [data-component="trailingAction"]{margin-right:-4px;}/*!sc*/
.gDcRcS [data-component="buttonContent"]{-webkit-flex:1 0 auto;-ms-flex:1 0 auto;flex:1 0 auto;display:grid;grid-template-areas:"leadingVisual text trailingVisual";grid-template-columns:min-content minmax(0,auto) min-content;-webkit-align-items:center;-webkit-box-align:center;-ms-flex-align:center;align-items:center;-webkit-align-content:center;-ms-flex-line-pack:center;align-content:center;}/*!sc*/
.gDcRcS [data-component="buttonContent"] > :not(:last-child){margin-right:8px;}/*!sc*/
.gDcRcS:hover:not([disabled]):not([data-inactive]){background-color:#f3f4f6;border-color:var(--button-default-borderColor-hover,rgba(31,35,40,0.15));}/*!sc*/
.gDcRcS:active:not([disabled]):not([data-inactive]){background-color:hsla(220,14%,93%,1);border-color:var(--button-default-borderColor-active,rgba(31,35,40,0.15));}/*!sc*/
.gDcRcS[aria-expanded=true]{background-color:hsla(220,14%,93%,1);border-color:var(--button-default-borderColor-active,rgba(31,35,40,0.15));}/*!sc*/
.gDcRcS [data-component="leadingVisual"],.gDcRcS [data-component="trailingVisual"],.gDcRcS [data-component="trailingAction"]{color:var(--button-color,#656d76);}/*!sc*/
.gDcRcS{display:-webkit-box;display:-webkit-flex;display:-ms-flexbox;display:flex;}/*!sc*/
.gDcRcS svg{color:#656d76;}/*!sc*/
.gDcRcS > span{width:inherit;}/*!sc*/
.dfaHcy{border-radius:6px;border:1px solid;border-color:var(--button-default-borderColor-rest,rgba(31,35,40,0.15));font-family:inherit;font-weight:500;font-size:14px;cursor:pointer;-webkit-appearance:none;-moz-appearance:none;appearance:none;-webkit-user-select:none;-moz-user-select:none;-ms-user-select:none;user-select:none;-webkit-text-decoration:none;text-decoration:none;text-align:center;display:-webkit-box;display:-webkit-flex;display:-ms-flexbox;display:flex;-webkit-align-items:center;-webkit-box-align:center;-ms-flex-align:center;align-items:center;-webkit-box-pack:justify;-webkit-justify-content:space-between;-ms-flex-pack:justify;justify-content:space-between;height:32px;padding:0 12px;gap:8px;min-width:-webkit-max-content;min-width:-moz-max-content;min-width:max-content;-webkit-transition:80ms cubic-bezier(0.65,0,0.35,1);transition:80ms cubic-bezier(0.65,0,0.35,1);-webkit-transition-property:color,fill,background-color,border-color;transition-property:color,fill,background-color,border-color;color:#24292f;background-color:#f6f8fa;box-shadow:0 1px 0 rgba(31,35,40,0.04),inset 0 1px 0 rgba(255,255,255,0.25);}/*!sc*/
.dfaHcy:focus:not(:disabled){box-shadow:none;outline:2px solid #0969da;outline-offset:-2px;}/*!sc*/
.dfaHcy:focus:not(:disabled):not(:focus-visible){outline:solid 1px transparent;}/*!sc*/
.dfaHcy:focus-visible:not(:disabled){box-shadow:none;outline:2px solid #0969da;outline-offset:-2px;}/*!sc*/
.dfaHcy[href]{display:-webkit-inline-box;display:-webkit-inline-flex;display:-ms-inline-flexbox;display:inline-flex;}/*!sc*/
.dfaHcy[href]:hover{-webkit-text-decoration:none;text-decoration:none;}/*!sc*/
.dfaHcy:hover{-webkit-transition-duration:80ms;transition-duration:80ms;}/*!sc*/
.dfaHcy:active{-webkit-transition:none;transition:none;}/*!sc*/
.dfaHcy[data-inactive]{cursor:auto;}/*!sc*/
.dfaHcy:disabled{cursor:not-allowed;box-shadow:none;color:#8c959f;}/*!sc*/
.dfaHcy:disabled [data-component=ButtonCounter]{color:inherit;}/*!sc*/
@media (forced-colors:active){.dfaHcy:focus{outline:solid 1px transparent;}}/*!sc*/
.dfaHcy [data-component=ButtonCounter]{font-size:12px;}/*!sc*/
.dfaHcy[data-component=IconButton]{display:inline-grid;padding:unset;place-content:center;width:32px;min-width:unset;}/*!sc*/
.dfaHcy[data-size="small"]{padding:0 8px;height:28px;gap:4px;font-size:12px;}/*!sc*/
.dfaHcy[data-size="small"] [data-component="text"]{line-height:calc(20 / 12);}/*!sc*/
.dfaHcy[data-size="small"] [data-component=ButtonCounter]{font-size:12px;}/*!sc*/
.dfaHcy[data-size="small"] [data-component="buttonContent"] > :not(:last-child){margin-right:4px;}/*!sc*/
.dfaHcy[data-size="small"][data-component=IconButton]{width:28px;padding:unset;}/*!sc*/
.dfaHcy[data-size="large"]{padding:0 16px;height:40px;gap:8px;}/*!sc*/
.dfaHcy[data-size="large"] [data-component="buttonContent"] > :not(:last-child){margin-right:8px;}/*!sc*/
.dfaHcy[data-size="large"][data-component=IconButton]{width:40px;padding:unset;}/*!sc*/
.dfaHcy[data-block="block"]{width:100%;}/*!sc*/
.dfaHcy[data-inactive]:not([disabled]){background-color:var(--button-inactive-bgColor,#eaeef2);border-color:var(--button-inactive-bgColor,#eaeef2);color:var(--button-inactive-fgColor,#57606a);}/*!sc*/
.dfaHcy[data-inactive]:not([disabled]):focus-visible{box-shadow:none;}/*!sc*/
.dfaHcy [data-component="leadingVisual"]{grid-area:leadingVisual;}/*!sc*/
.dfaHcy [data-component="text"]{grid-area:text;line-height:calc(20/14);white-space:nowrap;}/*!sc*/
.dfaHcy [data-component="trailingVisual"]{grid-area:trailingVisual;}/*!sc*/
.dfaHcy [data-component="trailingAction"]{margin-right:-4px;}/*!sc*/
.dfaHcy [data-component="buttonContent"]{-webkit-flex:1 0 auto;-ms-flex:1 0 auto;flex:1 0 auto;display:grid;grid-template-areas:"leadingVisual text trailingVisual";grid-template-columns:min-content minmax(0,auto) min-content;-webkit-align-items:center;-webkit-box-align:center;-ms-flex-align:center;align-items:center;-webkit-align-content:center;-ms-flex-line-pack:center;align-content:center;}/*!sc*/
.dfaHcy [data-component="buttonContent"] > :not(:last-child){margin-right:8px;}/*!sc*/
.dfaHcy:hover:not([disabled]):not([data-inactive]){background-color:#f3f4f6;border-color:var(--button-default-borderColor-hover,rgba(31,35,40,0.15));}/*!sc*/
.dfaHcy:active:not([disabled]):not([data-inactive]){background-color:hsla(220,14%,93%,1);border-color:var(--button-default-borderColor-active,rgba(31,35,40,0.15));}/*!sc*/
.dfaHcy[aria-expanded=true]{background-color:hsla(220,14%,93%,1);border-color:var(--button-default-borderColor-active,rgba(31,35,40,0.15));}/*!sc*/
.dfaHcy [data-component="leadingVisual"],.dfaHcy [data-component="trailingVisual"],.dfaHcy [data-component="trailingAction"]{color:var(--button-color,#656d76);}/*!sc*/
.dfaHcy[data-no-visuals]{border-top-left-radius:0;border-bottom-left-radius:0;display:none;}/*!sc*/
.iNXtMc{border-radius:6px;border:1px solid;border-color:var(--button-default-borderColor-rest,rgba(31,35,40,0.15));font-family:inherit;font-weight:500;font-size:14px;cursor:pointer;-webkit-appearance:none;-moz-appearance:none;appearance:none;-webkit-user-select:none;-moz-user-select:none;-ms-user-select:none;user-select:none;-webkit-text-decoration:none;text-decoration:none;text-align:center;display:-webkit-box;display:-webkit-flex;display:-ms-flexbox;display:flex;-webkit-align-items:center;-webkit-box-align:center;-ms-flex-align:center;align-items:center;-webkit-box-pack:justify;-webkit-justify-content:space-between;-ms-flex-pack:justify;justify-content:space-between;height:32px;padding:0 12px;gap:8px;min-width:-webkit-max-content;min-width:-moz-max-content;min-width:max-content;-webkit-transition:80ms cubic-bezier(0.65,0,0.35,1);transition:80ms cubic-bezier(0.65,0,0.35,1);-webkit-transition-property:color,fill,background-color,border-color;transition-property:color,fill,background-color,border-color;color:#24292f;background-color:#f6f8fa;box-shadow:0 1px 0 rgba(31,35,40,0.04),inset 0 1px 0 rgba(255,255,255,0.25);}/*!sc*/
.iNXtMc:focus:not(:disabled){box-shadow:none;outline:2px solid #0969da;outline-offset:-2px;}/*!sc*/
.iNXtMc:focus:not(:disabled):not(:focus-visible){outline:solid 1px transparent;}/*!sc*/
.iNXtMc:focus-visible:not(:disabled){box-shadow:none;outline:2px solid #0969da;outline-offset:-2px;}/*!sc*/
.iNXtMc[href]{display:-webkit-inline-box;display:-webkit-inline-flex;display:-ms-inline-flexbox;display:inline-flex;}/*!sc*/
.iNXtMc[href]:hover{-webkit-text-decoration:none;text-decoration:none;}/*!sc*/
.iNXtMc:hover{-webkit-transition-duration:80ms;transition-duration:80ms;}/*!sc*/
.iNXtMc:active{-webkit-transition:none;transition:none;}/*!sc*/
.iNXtMc[data-inactive]{cursor:auto;}/*!sc*/
.iNXtMc:disabled{cursor:not-allowed;box-shadow:none;color:#8c959f;}/*!sc*/
.iNXtMc:disabled [data-component=ButtonCounter]{color:inherit;}/*!sc*/
@media (forced-colors:active){.iNXtMc:focus{outline:solid 1px transparent;}}/*!sc*/
.iNXtMc [data-component=ButtonCounter]{font-size:12px;}/*!sc*/
.iNXtMc[data-component=IconButton]{display:inline-grid;padding:unset;place-content:center;width:32px;min-width:unset;}/*!sc*/
.iNXtMc[data-size="small"]{padding:0 8px;height:28px;gap:4px;font-size:12px;}/*!sc*/
.iNXtMc[data-size="small"] [data-component="text"]{line-height:calc(20 / 12);}/*!sc*/
.iNXtMc[data-size="small"] [data-component=ButtonCounter]{font-size:12px;}/*!sc*/
.iNXtMc[data-size="small"] [data-component="buttonContent"] > :not(:last-child){margin-right:4px;}/*!sc*/
.iNXtMc[data-size="small"][data-component=IconButton]{width:28px;padding:unset;}/*!sc*/
.iNXtMc[data-size="large"]{padding:0 16px;height:40px;gap:8px;}/*!sc*/
.iNXtMc[data-size="large"] [data-component="buttonContent"] > :not(:last-child){margin-right:8px;}/*!sc*/
.iNXtMc[data-size="large"][data-component=IconButton]{width:40px;padding:unset;}/*!sc*/
.iNXtMc[data-block="block"]{width:100%;}/*!sc*/
.iNXtMc[data-inactive]:not([disabled]){background-color:var(--button-inactive-bgColor,#eaeef2);border-color:var(--button-inactive-bgColor,#eaeef2);color:var(--button-inactive-fgColor,#57606a);}/*!sc*/
.iNXtMc[data-inactive]:not([disabled]):focus-visible{box-shadow:none;}/*!sc*/
.iNXtMc [data-component="leadingVisual"]{grid-area:leadingVisual;}/*!sc*/
.iNXtMc [data-component="text"]{grid-area:text;line-height:calc(20/14);white-space:nowrap;}/*!sc*/
.iNXtMc [data-component="trailingVisual"]{grid-area:trailingVisual;}/*!sc*/
.iNXtMc [data-component="trailingAction"]{margin-right:-4px;}/*!sc*/
.iNXtMc [data-component="buttonContent"]{-webkit-flex:1 0 auto;-ms-flex:1 0 auto;flex:1 0 auto;display:grid;grid-template-areas:"leadingVisual text trailingVisual";grid-template-columns:min-content minmax(0,auto) min-content;-webkit-align-items:center;-webkit-box-align:center;-ms-flex-align:center;align-items:center;-webkit-align-content:center;-ms-flex-line-pack:center;align-content:center;}/*!sc*/
.iNXtMc [data-component="buttonContent"] > :not(:last-child){margin-right:8px;}/*!sc*/
.iNXtMc:hover:not([disabled]):not([data-inactive]){background-color:#f3f4f6;border-color:var(--button-default-borderColor-hover,rgba(31,35,40,0.15));}/*!sc*/
.iNXtMc:active:not([disabled]):not([data-inactive]){background-color:hsla(220,14%,93%,1);border-color:var(--button-default-borderColor-active,rgba(31,35,40,0.15));}/*!sc*/
.iNXtMc[aria-expanded=true]{background-color:hsla(220,14%,93%,1);border-color:var(--button-default-borderColor-active,rgba(31,35,40,0.15));}/*!sc*/
.iNXtMc [data-component="leadingVisual"],.iNXtMc [data-component="trailingVisual"],.iNXtMc [data-component="trailingAction"]{color:var(--button-color,#656d76);}/*!sc*/
.iNXtMc[data-no-visuals]{color:#656d76;}/*!sc*/
.fFejDP{border-radius:6px;border:1px solid;border-color:transparent;font-family:inherit;font-weight:500;font-size:14px;cursor:pointer;-webkit-appearance:none;-moz-appearance:none;appearance:none;-webkit-user-select:none;-moz-user-select:none;-ms-user-select:none;user-select:none;-webkit-text-decoration:none;text-decoration:none;text-align:center;display:-webkit-box;display:-webkit-flex;display:-ms-flexbox;display:flex;-webkit-align-items:center;-webkit-box-align:center;-ms-flex-align:center;align-items:center;-webkit-box-pack:justify;-webkit-justify-content:space-between;-ms-flex-pack:justify;justify-content:space-between;height:32px;padding:0 12px;gap:8px;min-width:-webkit-max-content;min-width:-moz-max-content;min-width:max-content;-webkit-transition:80ms cubic-bezier(0.65,0,0.35,1);transition:80ms cubic-bezier(0.65,0,0.35,1);-webkit-transition-property:color,fill,background-color,border-color;transition-property:color,fill,background-color,border-color;color:#24292f;background-color:transparent;box-shadow:none;}/*!sc*/
.fFejDP:focus:not(:disabled){box-shadow:none;outline:2px solid #0969da;outline-offset:-2px;}/*!sc*/
.fFejDP:focus:not(:disabled):not(:focus-visible){outline:solid 1px transparent;}/*!sc*/
.fFejDP:focus-visible:not(:disabled){box-shadow:none;outline:2px solid #0969da;outline-offset:-2px;}/*!sc*/
.fFejDP[href]{display:-webkit-inline-box;display:-webkit-inline-flex;display:-ms-inline-flexbox;display:inline-flex;}/*!sc*/
.fFejDP[href]:hover{-webkit-text-decoration:none;text-decoration:none;}/*!sc*/
.fFejDP:hover{-webkit-transition-duration:80ms;transition-duration:80ms;}/*!sc*/
.fFejDP:active{-webkit-transition:none;transition:none;}/*!sc*/
.fFejDP[data-inactive]{cursor:auto;}/*!sc*/
.fFejDP:disabled{cursor:not-allowed;box-shadow:none;color:#8c959f;}/*!sc*/
.fFejDP:disabled [data-component=ButtonCounter],.fFejDP:disabled [data-component="leadingVisual"],.fFejDP:disabled [data-component="trailingAction"]{color:inherit;}/*!sc*/
@media (forced-colors:active){.fFejDP:focus{outline:solid 1px transparent;}}/*!sc*/
.fFejDP [data-component=ButtonCounter]{font-size:12px;}/*!sc*/
.fFejDP[data-component=IconButton]{display:inline-grid;padding:unset;place-content:center;width:32px;min-width:unset;}/*!sc*/
.fFejDP[data-size="small"]{padding:0 8px;height:28px;gap:4px;font-size:12px;}/*!sc*/
.fFejDP[data-size="small"] [data-component="text"]{line-height:calc(20 / 12);}/*!sc*/
.fFejDP[data-size="small"] [data-component=ButtonCounter]{font-size:12px;}/*!sc*/
.fFejDP[data-size="small"] [data-component="buttonContent"] > :not(:last-child){margin-right:4px;}/*!sc*/
.fFejDP[data-size="small"][data-component=IconButton]{width:28px;padding:unset;}/*!sc*/
.fFejDP[data-size="large"]{padding:0 16px;height:40px;gap:8px;}/*!sc*/
.fFejDP[data-size="large"] [data-component="buttonContent"] > :not(:last-child){margin-right:8px;}/*!sc*/
.fFejDP[data-size="large"][data-component=IconButton]{width:40px;padding:unset;}/*!sc*/
.fFejDP[data-block="block"]{width:100%;}/*!sc*/
.fFejDP[data-inactive]:not([disabled]){background-color:var(--button-inactive-bgColor,#eaeef2);border-color:var(--button-inactive-bgColor,#eaeef2);color:var(--button-inactive-fgColor,#57606a);}/*!sc*/
.fFejDP[data-inactive]:not([disabled]):focus-visible{box-shadow:none;}/*!sc*/
.fFejDP [data-component="leadingVisual"]{grid-area:leadingVisual;color:#656d76;}/*!sc*/
.fFejDP [data-component="text"]{grid-area:text;line-height:calc(20/14);white-space:nowrap;}/*!sc*/
.fFejDP [data-component="trailingVisual"]{grid-area:trailingVisual;}/*!sc*/
.fFejDP [data-component="trailingAction"]{margin-right:-4px;color:#656d76;}/*!sc*/
.fFejDP [data-component="buttonContent"]{-webkit-flex:1 0 auto;-ms-flex:1 0 auto;flex:1 0 auto;display:grid;grid-template-areas:"leadingVisual text trailingVisual";grid-template-columns:min-content minmax(0,auto) min-content;-webkit-align-items:center;-webkit-box-align:center;-ms-flex-align:center;align-items:center;-webkit-align-content:center;-ms-flex-line-pack:center;align-content:center;}/*!sc*/
.fFejDP [data-component="buttonContent"] > :not(:last-child){margin-right:8px;}/*!sc*/
.fFejDP:hover:not([disabled]){background-color:rgba(208,215,222,0.32);}/*!sc*/
.fFejDP:active:not([disabled]){background-color:rgba(208,215,222,0.48);}/*!sc*/
.fFejDP[aria-expanded=true]{background-color:rgba(208,215,222,0.24);}/*!sc*/
.fFejDP[data-component="IconButton"][data-no-visuals]{color:#656d76;}/*!sc*/
.fFejDP[data-no-visuals]{color:#0969da;}/*!sc*/
.fFejDP:has([data-component="ButtonCounter"]){color:#24292f;}/*!sc*/
.fFejDP:disabled[data-no-visuals]{color:#8c959f;}/*!sc*/
.fFejDP:disabled[data-no-visuals] [data-component=ButtonCounter]{color:inherit;}/*!sc*/
.fFejDP[data-size="small"][data-no-visuals]{margin-left:8px;}/*!sc*/
.hsBZZU{border-radius:6px;border:1px solid;border-color:transparent;font-family:inherit;font-weight:500;font-size:14px;cursor:pointer;-webkit-appearance:none;-moz-appearance:none;appearance:none;-webkit-user-select:none;-moz-user-select:none;-ms-user-select:none;user-select:none;-webkit-text-decoration:none;text-decoration:none;text-align:center;display:-webkit-box;display:-webkit-flex;display:-ms-flexbox;display:flex;-webkit-align-items:center;-webkit-box-align:center;-ms-flex-align:center;align-items:center;-webkit-box-pack:justify;-webkit-justify-content:space-between;-ms-flex-pack:justify;justify-content:space-between;height:32px;padding:0 12px;gap:8px;min-width:-webkit-max-content;min-width:-moz-max-content;min-width:max-content;-webkit-transition:80ms cubic-bezier(0.65,0,0.35,1);transition:80ms cubic-bezier(0.65,0,0.35,1);-webkit-transition-property:color,fill,background-color,border-color;transition-property:color,fill,background-color,border-color;color:#1F2328;background-color:transparent;box-shadow:none;}/*!sc*/
.hsBZZU:focus:not(:disabled){box-shadow:none;outline:2px solid #0969da;outline-offset:-2px;}/*!sc*/
.hsBZZU:focus:not(:disabled):not(:focus-visible){outline:solid 1px transparent;}/*!sc*/
.hsBZZU:focus-visible:not(:disabled){box-shadow:none;outline:2px solid #0969da;outline-offset:-2px;}/*!sc*/
.hsBZZU[href]{display:-webkit-inline-box;display:-webkit-inline-flex;display:-ms-inline-flexbox;display:inline-flex;}/*!sc*/
.hsBZZU[href]:hover{-webkit-text-decoration:none;text-decoration:none;}/*!sc*/
.hsBZZU:hover{-webkit-transition-duration:80ms;transition-duration:80ms;}/*!sc*/
.hsBZZU:active{-webkit-transition:none;transition:none;}/*!sc*/
.hsBZZU[data-inactive]{cursor:auto;}/*!sc*/
.hsBZZU:disabled{cursor:not-allowed;box-shadow:none;color:#8c959f;}/*!sc*/
.hsBZZU:disabled [data-component=ButtonCounter],.hsBZZU:disabled [data-component="leadingVisual"],.hsBZZU:disabled [data-component="trailingAction"]{color:inherit;}/*!sc*/
@media (forced-colors:active){.hsBZZU:focus{outline:solid 1px transparent;}}/*!sc*/
.hsBZZU [data-component=ButtonCounter]{font-size:12px;}/*!sc*/
.hsBZZU[data-component=IconButton]{display:inline-grid;padding:unset;place-content:center;width:32px;min-width:unset;}/*!sc*/
.hsBZZU[data-size="small"]{padding:0 8px;height:28px;gap:4px;font-size:12px;}/*!sc*/
.hsBZZU[data-size="small"] [data-component="text"]{line-height:calc(20 / 12);}/*!sc*/
.hsBZZU[data-size="small"] [data-component=ButtonCounter]{font-size:12px;}/*!sc*/
.hsBZZU[data-size="small"] [data-component="buttonContent"] > :not(:last-child){margin-right:4px;}/*!sc*/
.hsBZZU[data-size="small"][data-component=IconButton]{width:28px;padding:unset;}/*!sc*/
.hsBZZU[data-size="large"]{padding:0 16px;height:40px;gap:8px;}/*!sc*/
.hsBZZU[data-size="large"] [data-component="buttonContent"] > :not(:last-child){margin-right:8px;}/*!sc*/
.hsBZZU[data-size="large"][data-component=IconButton]{width:40px;padding:unset;}/*!sc*/
.hsBZZU[data-block="block"]{width:100%;}/*!sc*/
.hsBZZU[data-inactive]:not([disabled]){background-color:var(--button-inactive-bgColor,#eaeef2);border-color:var(--button-inactive-bgColor,#eaeef2);color:var(--button-inactive-fgColor,#57606a);}/*!sc*/
.hsBZZU[data-inactive]:not([disabled]):focus-visible{box-shadow:none;}/*!sc*/
.hsBZZU [data-component="leadingVisual"]{grid-area:leadingVisual;color:#656d76;}/*!sc*/
.hsBZZU [data-component="text"]{grid-area:text;line-height:calc(20/14);white-space:nowrap;}/*!sc*/
.hsBZZU [data-component="trailingVisual"]{grid-area:trailingVisual;}/*!sc*/
.hsBZZU [data-component="trailingAction"]{margin-right:-4px;color:#656d76;}/*!sc*/
.hsBZZU [data-component="buttonContent"]{-webkit-flex:1 0 auto;-ms-flex:1 0 auto;flex:1 0 auto;display:grid;grid-template-areas:"leadingVisual text trailingVisual";grid-template-columns:min-content minmax(0,auto) min-content;-webkit-align-items:center;-webkit-box-align:center;-ms-flex-align:center;align-items:center;-webkit-align-content:center;-ms-flex-line-pack:center;align-content:center;}/*!sc*/
.hsBZZU [data-component="buttonContent"] > :not(:last-child){margin-right:8px;}/*!sc*/
.hsBZZU:hover:not([disabled]){background-color:rgba(208,215,222,0.32);-webkit-text-decoration:none;text-decoration:none;}/*!sc*/
.hsBZZU:active:not([disabled]){background-color:rgba(208,215,222,0.48);-webkit-text-decoration:none;text-decoration:none;}/*!sc*/
.hsBZZU[aria-expanded=true]{background-color:rgba(208,215,222,0.24);}/*!sc*/
.hsBZZU[data-component="IconButton"][data-no-visuals]{color:#656d76;}/*!sc*/
.hsBZZU[data-no-visuals]{color:#0969da;}/*!sc*/
.hsBZZU:has([data-component="ButtonCounter"]){color:#24292f;}/*!sc*/
.hsBZZU:disabled[data-no-visuals]{color:#8c959f;}/*!sc*/
.hsBZZU:disabled[data-no-visuals] [data-component=ButtonCounter]{color:inherit;}/*!sc*/
.hsBZZU:focus:not([disabled]){-webkit-text-decoration:none;text-decoration:none;}/*!sc*/
.ctemji{border-radius:6px;border:1px solid;border-color:transparent;font-family:inherit;font-weight:500;font-size:14px;cursor:pointer;-webkit-appearance:none;-moz-appearance:none;appearance:none;-webkit-user-select:none;-moz-user-select:none;-ms-user-select:none;user-select:none;-webkit-text-decoration:none;text-decoration:none;text-align:center;display:-webkit-box;display:-webkit-flex;display:-ms-flexbox;display:flex;-webkit-align-items:center;-webkit-box-align:center;-ms-flex-align:center;align-items:center;-webkit-box-pack:justify;-webkit-justify-content:space-between;-ms-flex-pack:justify;justify-content:space-between;height:32px;padding:0 12px;gap:8px;min-width:-webkit-max-content;min-width:-moz-max-content;min-width:max-content;-webkit-transition:80ms cubic-bezier(0.65,0,0.35,1);transition:80ms cubic-bezier(0.65,0,0.35,1);-webkit-transition-property:color,fill,background-color,border-color;transition-property:color,fill,background-color,border-color;color:#24292f;background-color:transparent;box-shadow:none;}/*!sc*/
.ctemji:focus:not(:disabled){box-shadow:none;outline:2px solid #0969da;outline-offset:-2px;}/*!sc*/
.ctemji:focus:not(:disabled):not(:focus-visible){outline:solid 1px transparent;}/*!sc*/
.ctemji:focus-visible:not(:disabled){box-shadow:none;outline:2px solid #0969da;outline-offset:-2px;}/*!sc*/
.ctemji[href]{display:-webkit-inline-box;display:-webkit-inline-flex;display:-ms-inline-flexbox;display:inline-flex;}/*!sc*/
.ctemji[href]:hover{-webkit-text-decoration:none;text-decoration:none;}/*!sc*/
.ctemji:hover{-webkit-transition-duration:80ms;transition-duration:80ms;}/*!sc*/
.ctemji:active{-webkit-transition:none;transition:none;}/*!sc*/
.ctemji[data-inactive]{cursor:auto;}/*!sc*/
.ctemji:disabled{cursor:not-allowed;box-shadow:none;color:#8c959f;}/*!sc*/
.ctemji:disabled [data-component=ButtonCounter],.ctemji:disabled [data-component="leadingVisual"],.ctemji:disabled [data-component="trailingAction"]{color:inherit;}/*!sc*/
@media (forced-colors:active){.ctemji:focus{outline:solid 1px transparent;}}/*!sc*/
.ctemji [data-component=ButtonCounter]{font-size:12px;}/*!sc*/
.ctemji[data-component=IconButton]{display:inline-grid;padding:unset;place-content:center;width:32px;min-width:unset;}/*!sc*/
.ctemji[data-size="small"]{padding:0 8px;height:28px;gap:4px;font-size:12px;color:#1F2328;display:none;}/*!sc*/
.ctemji[data-size="small"] [data-component="text"]{line-height:calc(20 / 12);}/*!sc*/
.ctemji[data-size="small"] [data-component=ButtonCounter]{font-size:12px;}/*!sc*/
.ctemji[data-size="small"] [data-component="buttonContent"] > :not(:last-child){margin-right:4px;}/*!sc*/
.ctemji[data-size="small"][data-component=IconButton]{width:28px;padding:unset;}/*!sc*/
@media screen and (min-width:544px){.ctemji[data-size="small"]{display:none;}}/*!sc*/
@media screen and (min-width:768px){.ctemji[data-size="small"]{display:none;}}/*!sc*/
@media screen and (min-width:1012px){.ctemji[data-size="small"]{display:none;}}/*!sc*/
@media screen and (min-width:1280px){.ctemji[data-size="small"]{display:block;}}/*!sc*/
.ctemji[data-size="large"]{padding:0 16px;height:40px;gap:8px;}/*!sc*/
.ctemji[data-size="large"] [data-component="buttonContent"] > :not(:last-child){margin-right:8px;}/*!sc*/
.ctemji[data-size="large"][data-component=IconButton]{width:40px;padding:unset;}/*!sc*/
.ctemji[data-block="block"]{width:100%;}/*!sc*/
.ctemji[data-inactive]:not([disabled]){background-color:var(--button-inactive-bgColor,#eaeef2);border-color:var(--button-inactive-bgColor,#eaeef2);color:var(--button-inactive-fgColor,#57606a);}/*!sc*/
.ctemji[data-inactive]:not([disabled]):focus-visible{box-shadow:none;}/*!sc*/
.ctemji [data-component="leadingVisual"]{grid-area:leadingVisual;color:#656d76;}/*!sc*/
.ctemji [data-component="text"]{grid-area:text;line-height:calc(20/14);white-space:nowrap;}/*!sc*/
.ctemji [data-component="trailingVisual"]{grid-area:trailingVisual;}/*!sc*/
.ctemji [data-component="trailingAction"]{margin-right:-4px;color:#656d76;}/*!sc*/
.ctemji [data-component="buttonContent"]{-webkit-flex:1 0 auto;-ms-flex:1 0 auto;flex:1 0 auto;display:grid;grid-template-areas:"leadingVisual text trailingVisual";grid-template-columns:min-content minmax(0,auto) min-content;-webkit-align-items:center;-webkit-box-align:center;-ms-flex-align:center;align-items:center;-webkit-align-content:center;-ms-flex-line-pack:center;align-content:center;}/*!sc*/
.ctemji [data-component="buttonContent"] > :not(:last-child){margin-right:8px;}/*!sc*/
.ctemji:hover:not([disabled]){background-color:rgba(208,215,222,0.32);}/*!sc*/
.ctemji:active:not([disabled]){background-color:rgba(208,215,222,0.48);}/*!sc*/
.ctemji[aria-expanded=true]{background-color:rgba(208,215,222,0.24);}/*!sc*/
.ctemji[data-component="IconButton"][data-no-visuals]{color:#656d76;}/*!sc*/
.ctemji[data-no-visuals]{color:#0969da;}/*!sc*/
.ctemji:has([data-component="ButtonCounter"]){color:#24292f;}/*!sc*/
.ctemji:disabled[data-no-visuals]{color:#8c959f;}/*!sc*/
.ctemji:disabled[data-no-visuals] [data-component=ButtonCounter]{color:inherit;}/*!sc*/
.iukPok{border-radius:6px;border:1px solid;border-color:transparent;font-family:inherit;font-weight:500;font-size:14px;cursor:pointer;-webkit-appearance:none;-moz-appearance:none;appearance:none;-webkit-user-select:none;-moz-user-select:none;-ms-user-select:none;user-select:none;-webkit-text-decoration:none;text-decoration:none;text-align:center;display:-webkit-box;display:-webkit-flex;display:-ms-flexbox;display:flex;-webkit-align-items:center;-webkit-box-align:center;-ms-flex-align:center;align-items:center;-webkit-box-pack:justify;-webkit-justify-content:space-between;-ms-flex-pack:justify;justify-content:space-between;height:32px;padding:0 12px;gap:8px;min-width:-webkit-max-content;min-width:-moz-max-content;min-width:max-content;-webkit-transition:80ms cubic-bezier(0.65,0,0.35,1);transition:80ms cubic-bezier(0.65,0,0.35,1);-webkit-transition-property:color,fill,background-color,border-color;transition-property:color,fill,background-color,border-color;color:#24292f;background-color:transparent;box-shadow:none;}/*!sc*/
.iukPok:focus:not(:disabled){box-shadow:none;outline:2px solid #0969da;outline-offset:-2px;}/*!sc*/
.iukPok:focus:not(:disabled):not(:focus-visible){outline:solid 1px transparent;}/*!sc*/
.iukPok:focus-visible:not(:disabled){box-shadow:none;outline:2px solid #0969da;outline-offset:-2px;}/*!sc*/
.iukPok[href]{display:-webkit-inline-box;display:-webkit-inline-flex;display:-ms-inline-flexbox;display:inline-flex;}/*!sc*/
.iukPok[href]:hover{-webkit-text-decoration:none;text-decoration:none;}/*!sc*/
.iukPok:hover{-webkit-transition-duration:80ms;transition-duration:80ms;}/*!sc*/
.iukPok:active{-webkit-transition:none;transition:none;}/*!sc*/
.iukPok[data-inactive]{cursor:auto;}/*!sc*/
.iukPok:disabled{cursor:not-allowed;box-shadow:none;color:#8c959f;}/*!sc*/
.iukPok:disabled [data-component=ButtonCounter],.iukPok:disabled [data-component="leadingVisual"],.iukPok:disabled [data-component="trailingAction"]{color:inherit;}/*!sc*/
@media (forced-colors:active){.iukPok:focus{outline:solid 1px transparent;}}/*!sc*/
.iukPok [data-component=ButtonCounter]{font-size:12px;}/*!sc*/
.iukPok[data-component=IconButton]{display:inline-grid;padding:unset;place-content:center;width:32px;min-width:unset;}/*!sc*/
.iukPok[data-size="small"]{padding:0 8px;height:28px;gap:4px;font-size:12px;color:#1F2328;margin-left:8px;}/*!sc*/
.iukPok[data-size="small"] [data-component="text"]{line-height:calc(20 / 12);}/*!sc*/
.iukPok[data-size="small"] [data-component=ButtonCounter]{font-size:12px;}/*!sc*/
.iukPok[data-size="small"] [data-component="buttonContent"] > :not(:last-child){margin-right:4px;}/*!sc*/
.iukPok[data-size="small"][data-component=IconButton]{width:28px;padding:unset;}/*!sc*/
.iukPok[data-size="large"]{padding:0 16px;height:40px;gap:8px;}/*!sc*/
.iukPok[data-size="large"] [data-component="buttonContent"] > :not(:last-child){margin-right:8px;}/*!sc*/
.iukPok[data-size="large"][data-component=IconButton]{width:40px;padding:unset;}/*!sc*/
.iukPok[data-block="block"]{width:100%;}/*!sc*/
.iukPok[data-inactive]:not([disabled]){background-color:var(--button-inactive-bgColor,#eaeef2);border-color:var(--button-inactive-bgColor,#eaeef2);color:var(--button-inactive-fgColor,#57606a);}/*!sc*/
.iukPok[data-inactive]:not([disabled]):focus-visible{box-shadow:none;}/*!sc*/
.iukPok [data-component="leadingVisual"]{grid-area:leadingVisual;color:#656d76;}/*!sc*/
.iukPok [data-component="text"]{grid-area:text;line-height:calc(20/14);white-space:nowrap;}/*!sc*/
.iukPok [data-component="trailingVisual"]{grid-area:trailingVisual;}/*!sc*/
.iukPok [data-component="trailingAction"]{margin-right:-4px;color:#656d76;}/*!sc*/
.iukPok [data-component="buttonContent"]{-webkit-flex:1 0 auto;-ms-flex:1 0 auto;flex:1 0 auto;display:grid;grid-template-areas:"leadingVisual text trailingVisual";grid-template-columns:min-content minmax(0,auto) min-content;-webkit-align-items:center;-webkit-box-align:center;-ms-flex-align:center;align-items:center;-webkit-align-content:center;-ms-flex-line-pack:center;align-content:center;}/*!sc*/
.iukPok [data-component="buttonContent"] > :not(:last-child){margin-right:8px;}/*!sc*/
.iukPok:hover:not([disabled]){background-color:rgba(208,215,222,0.32);}/*!sc*/
.iukPok:active:not([disabled]){background-color:rgba(208,215,222,0.48);}/*!sc*/
.iukPok[aria-expanded=true]{background-color:rgba(208,215,222,0.24);}/*!sc*/
.iukPok[data-component="IconButton"][data-no-visuals]{color:#656d76;}/*!sc*/
.iukPok[data-no-visuals]{color:#0969da;}/*!sc*/
.iukPok:has([data-component="ButtonCounter"]){color:#24292f;}/*!sc*/
.iukPok:disabled[data-no-visuals]{color:#8c959f;}/*!sc*/
.iukPok:disabled[data-no-visuals] [data-component=ButtonCounter]{color:inherit;}/*!sc*/
.cCLqJS{border-radius:6px;border:1px solid;border-color:var(--button-default-borderColor-rest,rgba(31,35,40,0.15));font-family:inherit;font-weight:500;font-size:14px;cursor:pointer;-webkit-appearance:none;-moz-appearance:none;appearance:none;-webkit-user-select:none;-moz-user-select:none;-ms-user-select:none;user-select:none;-webkit-text-decoration:none;text-decoration:none;text-align:center;display:-webkit-box;display:-webkit-flex;display:-ms-flexbox;display:flex;-webkit-align-items:center;-webkit-box-align:center;-ms-flex-align:center;align-items:center;-webkit-box-pack:justify;-webkit-justify-content:space-between;-ms-flex-pack:justify;justify-content:space-between;height:32px;padding:0 12px;gap:8px;min-width:-webkit-max-content;min-width:-moz-max-content;min-width:max-content;-webkit-transition:80ms cubic-bezier(0.65,0,0.35,1);transition:80ms cubic-bezier(0.65,0,0.35,1);-webkit-transition-property:color,fill,background-color,border-color;transition-property:color,fill,background-color,border-color;color:#24292f;background-color:#f6f8fa;box-shadow:0 1px 0 rgba(31,35,40,0.04),inset 0 1px 0 rgba(255,255,255,0.25);padding-left:8px;padding-right:8px;}/*!sc*/
.cCLqJS:focus:not(:disabled){box-shadow:none;outline:2px solid #0969da;outline-offset:-2px;}/*!sc*/
.cCLqJS:focus:not(:disabled):not(:focus-visible){outline:solid 1px transparent;}/*!sc*/
.cCLqJS:focus-visible:not(:disabled){box-shadow:none;outline:2px solid #0969da;outline-offset:-2px;}/*!sc*/
.cCLqJS[href]{display:-webkit-inline-box;display:-webkit-inline-flex;display:-ms-inline-flexbox;display:inline-flex;}/*!sc*/
.cCLqJS[href]:hover{-webkit-text-decoration:none;text-decoration:none;}/*!sc*/
.cCLqJS:hover{-webkit-transition-duration:80ms;transition-duration:80ms;}/*!sc*/
.cCLqJS:active{-webkit-transition:none;transition:none;}/*!sc*/
.cCLqJS[data-inactive]{cursor:auto;}/*!sc*/
.cCLqJS:disabled{cursor:not-allowed;box-shadow:none;color:#8c959f;}/*!sc*/
.cCLqJS:disabled [data-component=ButtonCounter]{color:inherit;}/*!sc*/
@media (forced-colors:active){.cCLqJS:focus{outline:solid 1px transparent;}}/*!sc*/
.cCLqJS [data-component=ButtonCounter]{font-size:12px;}/*!sc*/
.cCLqJS[data-component=IconButton]{display:inline-grid;padding:unset;place-content:center;width:32px;min-width:unset;}/*!sc*/
.cCLqJS[data-size="small"]{padding:0 8px;height:28px;gap:4px;font-size:12px;}/*!sc*/
.cCLqJS[data-size="small"] [data-component="text"]{line-height:calc(20 / 12);}/*!sc*/
.cCLqJS[data-size="small"] [data-component=ButtonCounter]{font-size:12px;}/*!sc*/
.cCLqJS[data-size="small"] [data-component="buttonContent"] > :not(:last-child){margin-right:4px;}/*!sc*/
.cCLqJS[data-size="small"][data-component=IconButton]{width:28px;padding:unset;}/*!sc*/
.cCLqJS[data-size="large"]{padding:0 16px;height:40px;gap:8px;}/*!sc*/
.cCLqJS[data-size="large"] [data-component="buttonContent"] > :not(:last-child){margin-right:8px;}/*!sc*/
.cCLqJS[data-size="large"][data-component=IconButton]{width:40px;padding:unset;}/*!sc*/
.cCLqJS[data-block="block"]{width:100%;}/*!sc*/
.cCLqJS[data-inactive]:not([disabled]){background-color:var(--button-inactive-bgColor,#eaeef2);border-color:var(--button-inactive-bgColor,#eaeef2);color:var(--button-inactive-fgColor,#57606a);}/*!sc*/
.cCLqJS[data-inactive]:not([disabled]):focus-visible{box-shadow:none;}/*!sc*/
.cCLqJS [data-component="leadingVisual"]{grid-area:leadingVisual;}/*!sc*/
.cCLqJS [data-component="text"]{grid-area:text;line-height:calc(20/14);white-space:nowrap;}/*!sc*/
.cCLqJS [data-component="trailingVisual"]{grid-area:trailingVisual;}/*!sc*/
.cCLqJS [data-component="trailingAction"]{margin-right:-4px;}/*!sc*/
.cCLqJS [data-component="buttonContent"]{-webkit-flex:1 0 auto;-ms-flex:1 0 auto;flex:1 0 auto;display:grid;grid-template-areas:"leadingVisual text trailingVisual";grid-template-columns:min-content minmax(0,auto) min-content;-webkit-align-items:center;-webkit-box-align:center;-ms-flex-align:center;align-items:center;-webkit-align-content:center;-ms-flex-line-pack:center;align-content:center;}/*!sc*/
.cCLqJS [data-component="buttonContent"] > :not(:last-child){margin-right:8px;}/*!sc*/
.cCLqJS:hover:not([disabled]):not([data-inactive]){background-color:#f3f4f6;border-color:var(--button-default-borderColor-hover,rgba(31,35,40,0.15));}/*!sc*/
.cCLqJS:active:not([disabled]):not([data-inactive]){background-color:hsla(220,14%,93%,1);border-color:var(--button-default-borderColor-active,rgba(31,35,40,0.15));}/*!sc*/
.cCLqJS[aria-expanded=true]{background-color:hsla(220,14%,93%,1);border-color:var(--button-default-borderColor-active,rgba(31,35,40,0.15));}/*!sc*/
.cCLqJS [data-component="leadingVisual"],.cCLqJS [data-component="trailingVisual"],.cCLqJS [data-component="trailingAction"]{color:var(--button-color,#656d76);}/*!sc*/
.cCLqJS linkButtonSx:hover:not([disabled]){-webkit-text-decoration:none;text-decoration:none;}/*!sc*/
.cCLqJS linkButtonSx:focus:not([disabled]){-webkit-text-decoration:none;text-decoration:none;}/*!sc*/
.cCLqJS linkButtonSx:active:not([disabled]){-webkit-text-decoration:none;text-decoration:none;}/*!sc*/
.crfMWv{border-radius:6px;border:1px solid;border-color:var(--button-default-borderColor-rest,rgba(31,35,40,0.15));font-family:inherit;font-weight:500;font-size:14px;cursor:pointer;-webkit-appearance:none;-moz-appearance:none;appearance:none;-webkit-user-select:none;-moz-user-select:none;-ms-user-select:none;user-select:none;-webkit-text-decoration:none;text-decoration:none;text-align:center;display:-webkit-box;display:-webkit-flex;display:-ms-flexbox;display:flex;-webkit-align-items:center;-webkit-box-align:center;-ms-flex-align:center;align-items:center;-webkit-box-pack:justify;-webkit-justify-content:space-between;-ms-flex-pack:justify;justify-content:space-between;height:32px;padding:0 12px;gap:8px;min-width:-webkit-max-content;min-width:-moz-max-content;min-width:max-content;-webkit-transition:80ms cubic-bezier(0.65,0,0.35,1);transition:80ms cubic-bezier(0.65,0,0.35,1);-webkit-transition-property:color,fill,background-color,border-color;transition-property:color,fill,background-color,border-color;color:#24292f;background-color:#f6f8fa;box-shadow:0 1px 0 rgba(31,35,40,0.04),inset 0 1px 0 rgba(255,255,255,0.25);}/*!sc*/
.crfMWv:focus:not(:disabled){box-shadow:none;outline:2px solid #0969da;outline-offset:-2px;}/*!sc*/
.crfMWv:focus:not(:disabled):not(:focus-visible){outline:solid 1px transparent;}/*!sc*/
.crfMWv:focus-visible:not(:disabled){box-shadow:none;outline:2px solid #0969da;outline-offset:-2px;}/*!sc*/
.crfMWv[href]{display:-webkit-inline-box;display:-webkit-inline-flex;display:-ms-inline-flexbox;display:inline-flex;}/*!sc*/
.crfMWv[href]:hover{-webkit-text-decoration:none;text-decoration:none;}/*!sc*/
.crfMWv:hover{-webkit-transition-duration:80ms;transition-duration:80ms;}/*!sc*/
.crfMWv:active{-webkit-transition:none;transition:none;}/*!sc*/
.crfMWv[data-inactive]{cursor:auto;}/*!sc*/
.crfMWv:disabled{cursor:not-allowed;box-shadow:none;color:#8c959f;}/*!sc*/
.crfMWv:disabled [data-component=ButtonCounter]{color:inherit;}/*!sc*/
@media (forced-colors:active){.crfMWv:focus{outline:solid 1px transparent;}}/*!sc*/
.crfMWv [data-component=ButtonCounter]{font-size:12px;}/*!sc*/
.crfMWv[data-component=IconButton]{display:inline-grid;padding:unset;place-content:center;width:32px;min-width:unset;}/*!sc*/
.crfMWv[data-size="small"]{padding:0 8px;height:28px;gap:4px;font-size:12px;}/*!sc*/
.crfMWv[data-size="small"] [data-component="text"]{line-height:calc(20 / 12);}/*!sc*/
.crfMWv[data-size="small"] [data-component=ButtonCounter]{font-size:12px;}/*!sc*/
.crfMWv[data-size="small"] [data-component="buttonContent"] > :not(:last-child){margin-right:4px;}/*!sc*/
.crfMWv[data-size="small"][data-component=IconButton]{width:28px;padding:unset;}/*!sc*/
.crfMWv[data-size="large"]{padding:0 16px;height:40px;gap:8px;}/*!sc*/
.crfMWv[data-size="large"] [data-component="buttonContent"] > :not(:last-child){margin-right:8px;}/*!sc*/
.crfMWv[data-size="large"][data-component=IconButton]{width:40px;padding:unset;}/*!sc*/
.crfMWv[data-block="block"]{width:100%;}/*!sc*/
.crfMWv[data-inactive]:not([disabled]){background-color:var(--button-inactive-bgColor,#eaeef2);border-color:var(--button-inactive-bgColor,#eaeef2);color:var(--button-inactive-fgColor,#57606a);}/*!sc*/
.crfMWv[data-inactive]:not([disabled]):focus-visible{box-shadow:none;}/*!sc*/
.crfMWv [data-component="leadingVisual"]{grid-area:leadingVisual;}/*!sc*/
.crfMWv [data-component="text"]{grid-area:text;line-height:calc(20/14);white-space:nowrap;}/*!sc*/
.crfMWv [data-component="trailingVisual"]{grid-area:trailingVisual;}/*!sc*/
.crfMWv [data-component="trailingAction"]{margin-right:-4px;}/*!sc*/
.crfMWv [data-component="buttonContent"]{-webkit-flex:1 0 auto;-ms-flex:1 0 auto;flex:1 0 auto;display:grid;grid-template-areas:"leadingVisual text trailingVisual";grid-template-columns:min-content minmax(0,auto) min-content;-webkit-align-items:center;-webkit-box-align:center;-ms-flex-align:center;align-items:center;-webkit-align-content:center;-ms-flex-line-pack:center;align-content:center;}/*!sc*/
.crfMWv [data-component="buttonContent"] > :not(:last-child){margin-right:8px;}/*!sc*/
.crfMWv:hover:not([disabled]):not([data-inactive]){background-color:#f3f4f6;border-color:var(--button-default-borderColor-hover,rgba(31,35,40,0.15));}/*!sc*/
.crfMWv:active:not([disabled]):not([data-inactive]){background-color:hsla(220,14%,93%,1);border-color:var(--button-default-borderColor-active,rgba(31,35,40,0.15));}/*!sc*/
.crfMWv[aria-expanded=true]{background-color:hsla(220,14%,93%,1);border-color:var(--button-default-borderColor-active,rgba(31,35,40,0.15));}/*!sc*/
.crfMWv [data-component="leadingVisual"],.crfMWv [data-component="trailingVisual"],.crfMWv [data-component="trailingAction"]{color:var(--button-color,#656d76);}/*!sc*/
.dKBeSn{border-radius:6px;border:1px solid;border-color:var(--button-default-borderColor-rest,rgba(31,35,40,0.15));font-family:inherit;font-weight:500;font-size:14px;cursor:pointer;-webkit-appearance:none;-moz-appearance:none;appearance:none;-webkit-user-select:none;-moz-user-select:none;-ms-user-select:none;user-select:none;-webkit-text-decoration:none;text-decoration:none;text-align:center;display:-webkit-box;display:-webkit-flex;display:-ms-flexbox;display:flex;-webkit-align-items:center;-webkit-box-align:center;-ms-flex-align:center;align-items:center;-webkit-box-pack:justify;-webkit-justify-content:space-between;-ms-flex-pack:justify;justify-content:space-between;height:32px;padding:0 12px;gap:8px;min-width:-webkit-max-content;min-width:-moz-max-content;min-width:max-content;-webkit-transition:80ms cubic-bezier(0.65,0,0.35,1);transition:80ms cubic-bezier(0.65,0,0.35,1);-webkit-transition-property:color,fill,background-color,border-color;transition-property:color,fill,background-color,border-color;color:#24292f;background-color:#f6f8fa;box-shadow:0 1px 0 rgba(31,35,40,0.04),inset 0 1px 0 rgba(255,255,255,0.25);}/*!sc*/
.dKBeSn:focus:not(:disabled){box-shadow:none;outline:2px solid #0969da;outline-offset:-2px;}/*!sc*/
.dKBeSn:focus:not(:disabled):not(:focus-visible){outline:solid 1px transparent;}/*!sc*/
.dKBeSn:focus-visible:not(:disabled){box-shadow:none;outline:2px solid #0969da;outline-offset:-2px;}/*!sc*/
.dKBeSn[href]{display:-webkit-inline-box;display:-webkit-inline-flex;display:-ms-inline-flexbox;display:inline-flex;}/*!sc*/
.dKBeSn[href]:hover{-webkit-text-decoration:none;text-decoration:none;}/*!sc*/
.dKBeSn:hover{-webkit-transition-duration:80ms;transition-duration:80ms;}/*!sc*/
.dKBeSn:active{-webkit-transition:none;transition:none;}/*!sc*/
.dKBeSn[data-inactive]{cursor:auto;}/*!sc*/
.dKBeSn:disabled{cursor:not-allowed;box-shadow:none;color:#8c959f;}/*!sc*/
.dKBeSn:disabled [data-component=ButtonCounter]{color:inherit;}/*!sc*/
@media (forced-colors:active){.dKBeSn:focus{outline:solid 1px transparent;}}/*!sc*/
.dKBeSn [data-component=ButtonCounter]{font-size:12px;}/*!sc*/
.dKBeSn[data-component=IconButton]{display:inline-grid;padding:unset;place-content:center;width:32px;min-width:unset;}/*!sc*/
.dKBeSn[data-size="small"]{padding:0 8px;height:28px;gap:4px;font-size:12px;}/*!sc*/
.dKBeSn[data-size="small"] [data-component="text"]{line-height:calc(20 / 12);}/*!sc*/
.dKBeSn[data-size="small"] [data-component=ButtonCounter]{font-size:12px;}/*!sc*/
.dKBeSn[data-size="small"] [data-component="buttonContent"] > :not(:last-child){margin-right:4px;}/*!sc*/
.dKBeSn[data-size="small"][data-component=IconButton]{width:28px;padding:unset;}/*!sc*/
.dKBeSn[data-size="large"]{padding:0 16px;height:40px;gap:8px;}/*!sc*/
.dKBeSn[data-size="large"] [data-component="buttonContent"] > :not(:last-child){margin-right:8px;}/*!sc*/
.dKBeSn[data-size="large"][data-component=IconButton]{width:40px;padding:unset;}/*!sc*/
.dKBeSn[data-block="block"]{width:100%;}/*!sc*/
.dKBeSn[data-inactive]:not([disabled]){background-color:var(--button-inactive-bgColor,#eaeef2);border-color:var(--button-inactive-bgColor,#eaeef2);color:var(--button-inactive-fgColor,#57606a);}/*!sc*/
.dKBeSn[data-inactive]:not([disabled]):focus-visible{box-shadow:none;}/*!sc*/
.dKBeSn [data-component="leadingVisual"]{grid-area:leadingVisual;}/*!sc*/
.dKBeSn [data-component="text"]{grid-area:text;line-height:calc(20/14);white-space:nowrap;}/*!sc*/
.dKBeSn [data-component="trailingVisual"]{grid-area:trailingVisual;}/*!sc*/
.dKBeSn [data-component="trailingAction"]{margin-right:-4px;}/*!sc*/
.dKBeSn [data-component="buttonContent"]{-webkit-flex:1 0 auto;-ms-flex:1 0 auto;flex:1 0 auto;display:grid;grid-template-areas:"leadingVisual text trailingVisual";grid-template-columns:min-content minmax(0,auto) min-content;-webkit-align-items:center;-webkit-box-align:center;-ms-flex-align:center;align-items:center;-webkit-align-content:center;-ms-flex-line-pack:center;align-content:center;}/*!sc*/
.dKBeSn [data-component="buttonContent"] > :not(:last-child){margin-right:8px;}/*!sc*/
.dKBeSn:hover:not([disabled]):not([data-inactive]){background-color:#f3f4f6;border-color:var(--button-default-borderColor-hover,rgba(31,35,40,0.15));}/*!sc*/
.dKBeSn:active:not([disabled]):not([data-inactive]){background-color:hsla(220,14%,93%,1);border-color:var(--button-default-borderColor-active,rgba(31,35,40,0.15));}/*!sc*/
.dKBeSn[aria-expanded=true]{background-color:hsla(220,14%,93%,1);border-color:var(--button-default-borderColor-active,rgba(31,35,40,0.15));}/*!sc*/
.dKBeSn [data-component="leadingVisual"],.dKBeSn [data-component="trailingVisual"],.dKBeSn [data-component="trailingAction"]{color:var(--button-color,#656d76);}/*!sc*/
.dKBeSn[data-size="small"][data-no-visuals]{border-top-left-radius:0;border-bottom-left-radius:0;}/*!sc*/
.cPmGel{border-radius:6px;border:1px solid;border-color:var(--button-default-borderColor-rest,rgba(31,35,40,0.15));font-family:inherit;font-weight:500;font-size:14px;cursor:pointer;-webkit-appearance:none;-moz-appearance:none;appearance:none;-webkit-user-select:none;-moz-user-select:none;-ms-user-select:none;user-select:none;-webkit-text-decoration:none;text-decoration:none;text-align:center;display:-webkit-box;display:-webkit-flex;display:-ms-flexbox;display:flex;-webkit-align-items:center;-webkit-box-align:center;-ms-flex-align:center;align-items:center;-webkit-box-pack:justify;-webkit-justify-content:space-between;-ms-flex-pack:justify;justify-content:space-between;height:32px;padding:0 12px;gap:8px;min-width:-webkit-max-content;min-width:-moz-max-content;min-width:max-content;-webkit-transition:80ms cubic-bezier(0.65,0,0.35,1);transition:80ms cubic-bezier(0.65,0,0.35,1);-webkit-transition-property:color,fill,background-color,border-color;transition-property:color,fill,background-color,border-color;color:#24292f;background-color:#f6f8fa;box-shadow:0 1px 0 rgba(31,35,40,0.04),inset 0 1px 0 rgba(255,255,255,0.25);}/*!sc*/
.cPmGel:focus:not(:disabled){box-shadow:none;outline:2px solid #0969da;outline-offset:-2px;}/*!sc*/
.cPmGel:focus:not(:disabled):not(:focus-visible){outline:solid 1px transparent;}/*!sc*/
.cPmGel:focus-visible:not(:disabled){box-shadow:none;outline:2px solid #0969da;outline-offset:-2px;}/*!sc*/
.cPmGel[href]{display:-webkit-inline-box;display:-webkit-inline-flex;display:-ms-inline-flexbox;display:inline-flex;}/*!sc*/
.cPmGel[href]:hover{-webkit-text-decoration:none;text-decoration:none;}/*!sc*/
.cPmGel:hover{-webkit-transition-duration:80ms;transition-duration:80ms;}/*!sc*/
.cPmGel:active{-webkit-transition:none;transition:none;}/*!sc*/
.cPmGel[data-inactive]{cursor:auto;}/*!sc*/
.cPmGel:disabled{cursor:not-allowed;box-shadow:none;color:#8c959f;}/*!sc*/
.cPmGel:disabled [data-component=ButtonCounter]{color:inherit;}/*!sc*/
@media (forced-colors:active){.cPmGel:focus{outline:solid 1px transparent;}}/*!sc*/
.cPmGel [data-component=ButtonCounter]{font-size:12px;}/*!sc*/
.cPmGel[data-component=IconButton]{display:inline-grid;padding:unset;place-content:center;width:32px;min-width:unset;}/*!sc*/
.cPmGel[data-size="small"]{padding:0 8px;height:28px;gap:4px;font-size:12px;}/*!sc*/
.cPmGel[data-size="small"] [data-component="text"]{line-height:calc(20 / 12);}/*!sc*/
.cPmGel[data-size="small"] [data-component=ButtonCounter]{font-size:12px;}/*!sc*/
.cPmGel[data-size="small"] [data-component="buttonContent"] > :not(:last-child){margin-right:4px;}/*!sc*/
.cPmGel[data-size="small"][data-component=IconButton]{width:28px;padding:unset;}/*!sc*/
.cPmGel[data-size="large"]{padding:0 16px;height:40px;gap:8px;}/*!sc*/
.cPmGel[data-size="large"] [data-component="buttonContent"] > :not(:last-child){margin-right:8px;}/*!sc*/
.cPmGel[data-size="large"][data-component=IconButton]{width:40px;padding:unset;}/*!sc*/
.cPmGel[data-block="block"]{width:100%;}/*!sc*/
.cPmGel[data-inactive]:not([disabled]){background-color:var(--button-inactive-bgColor,#eaeef2);border-color:var(--button-inactive-bgColor,#eaeef2);color:var(--button-inactive-fgColor,#57606a);}/*!sc*/
.cPmGel[data-inactive]:not([disabled]):focus-visible{box-shadow:none;}/*!sc*/
.cPmGel [data-component="leadingVisual"]{grid-area:leadingVisual;}/*!sc*/
.cPmGel [data-component="text"]{grid-area:text;line-height:calc(20/14);white-space:nowrap;}/*!sc*/
.cPmGel [data-component="trailingVisual"]{grid-area:trailingVisual;}/*!sc*/
.cPmGel [data-component="trailingAction"]{margin-right:-4px;}/*!sc*/
.cPmGel [data-component="buttonContent"]{-webkit-flex:1 0 auto;-ms-flex:1 0 auto;flex:1 0 auto;display:grid;grid-template-areas:"leadingVisual text trailingVisual";grid-template-columns:min-content minmax(0,auto) min-content;-webkit-align-items:center;-webkit-box-align:center;-ms-flex-align:center;align-items:center;-webkit-align-content:center;-ms-flex-line-pack:center;align-content:center;}/*!sc*/
.cPmGel [data-component="buttonContent"] > :not(:last-child){margin-right:8px;}/*!sc*/
.cPmGel:hover:not([disabled]):not([data-inactive]){background-color:#f3f4f6;border-color:var(--button-default-borderColor-hover,rgba(31,35,40,0.15));}/*!sc*/
.cPmGel:active:not([disabled]):not([data-inactive]){background-color:hsla(220,14%,93%,1);border-color:var(--button-default-borderColor-active,rgba(31,35,40,0.15));}/*!sc*/
.cPmGel[aria-expanded=true]{background-color:hsla(220,14%,93%,1);border-color:var(--button-default-borderColor-active,rgba(31,35,40,0.15));}/*!sc*/
.cPmGel [data-component="leadingVisual"],.cPmGel [data-component="trailingVisual"],.cPmGel [data-component="trailingAction"]{color:var(--button-color,#656d76);}/*!sc*/
.cPmGel[data-size="small"][data-no-visuals]{border-top-right-radius:0;border-bottom-right-radius:0;border-right-width:0;}/*!sc*/
.cPmGel[data-size="small"][data-no-visuals]:hover:not([disabled]){-webkit-text-decoration:none;text-decoration:none;}/*!sc*/
.cPmGel[data-size="small"][data-no-visuals]:focus:not([disabled]){-webkit-text-decoration:none;text-decoration:none;}/*!sc*/
.cPmGel[data-size="small"][data-no-visuals]:active:not([disabled]){-webkit-text-decoration:none;text-decoration:none;}/*!sc*/
.lhbNLx{border-radius:6px;border:1px solid;border-color:transparent;font-family:inherit;font-weight:500;font-size:14px;cursor:pointer;-webkit-appearance:none;-moz-appearance:none;appearance:none;-webkit-user-select:none;-moz-user-select:none;-ms-user-select:none;user-select:none;-webkit-text-decoration:none;text-decoration:none;text-align:center;display:-webkit-box;display:-webkit-flex;display:-ms-flexbox;display:flex;-webkit-align-items:center;-webkit-box-align:center;-ms-flex-align:center;align-items:center;-webkit-box-pack:justify;-webkit-justify-content:space-between;-ms-flex-pack:justify;justify-content:space-between;height:32px;padding:0 12px;gap:8px;min-width:-webkit-max-content;min-width:-moz-max-content;min-width:max-content;-webkit-transition:80ms cubic-bezier(0.65,0,0.35,1);transition:80ms cubic-bezier(0.65,0,0.35,1);-webkit-transition-property:color,fill,background-color,border-color;transition-property:color,fill,background-color,border-color;color:#24292f;background-color:transparent;box-shadow:none;}/*!sc*/
.lhbNLx:focus:not(:disabled){box-shadow:none;outline:2px solid #0969da;outline-offset:-2px;}/*!sc*/
.lhbNLx:focus:not(:disabled):not(:focus-visible){outline:solid 1px transparent;}/*!sc*/
.lhbNLx:focus-visible:not(:disabled){box-shadow:none;outline:2px solid #0969da;outline-offset:-2px;}/*!sc*/
.lhbNLx[href]{display:-webkit-inline-box;display:-webkit-inline-flex;display:-ms-inline-flexbox;display:inline-flex;}/*!sc*/
.lhbNLx[href]:hover{-webkit-text-decoration:none;text-decoration:none;}/*!sc*/
.lhbNLx:hover{-webkit-transition-duration:80ms;transition-duration:80ms;}/*!sc*/
.lhbNLx:active{-webkit-transition:none;transition:none;}/*!sc*/
.lhbNLx[data-inactive]{cursor:auto;}/*!sc*/
.lhbNLx:disabled{cursor:not-allowed;box-shadow:none;color:#8c959f;}/*!sc*/
.lhbNLx:disabled [data-component=ButtonCounter],.lhbNLx:disabled [data-component="leadingVisual"],.lhbNLx:disabled [data-component="trailingAction"]{color:inherit;}/*!sc*/
@media (forced-colors:active){.lhbNLx:focus{outline:solid 1px transparent;}}/*!sc*/
.lhbNLx [data-component=ButtonCounter]{font-size:12px;}/*!sc*/
.lhbNLx[data-component=IconButton]{display:inline-grid;padding:unset;place-content:center;width:32px;min-width:unset;}/*!sc*/
.lhbNLx[data-size="small"]{padding:0 8px;height:28px;gap:4px;font-size:12px;}/*!sc*/
.lhbNLx[data-size="small"] [data-component="text"]{line-height:calc(20 / 12);}/*!sc*/
.lhbNLx[data-size="small"] [data-component=ButtonCounter]{font-size:12px;}/*!sc*/
.lhbNLx[data-size="small"] [data-component="buttonContent"] > :not(:last-child){margin-right:4px;}/*!sc*/
.lhbNLx[data-size="small"][data-component=IconButton]{width:28px;padding:unset;}/*!sc*/
.lhbNLx[data-size="large"]{padding:0 16px;height:40px;gap:8px;}/*!sc*/
.lhbNLx[data-size="large"] [data-component="buttonContent"] > :not(:last-child){margin-right:8px;}/*!sc*/
.lhbNLx[data-size="large"][data-component=IconButton]{width:40px;padding:unset;}/*!sc*/
.lhbNLx[data-block="block"]{width:100%;}/*!sc*/
.lhbNLx[data-inactive]:not([disabled]){background-color:var(--button-inactive-bgColor,#eaeef2);border-color:var(--button-inactive-bgColor,#eaeef2);color:var(--button-inactive-fgColor,#57606a);}/*!sc*/
.lhbNLx[data-inactive]:not([disabled]):focus-visible{box-shadow:none;}/*!sc*/
.lhbNLx [data-component="leadingVisual"]{grid-area:leadingVisual;color:#656d76;}/*!sc*/
.lhbNLx [data-component="text"]{grid-area:text;line-height:calc(20/14);white-space:nowrap;}/*!sc*/
.lhbNLx [data-component="trailingVisual"]{grid-area:trailingVisual;}/*!sc*/
.lhbNLx [data-component="trailingAction"]{margin-right:-4px;color:#656d76;}/*!sc*/
.lhbNLx [data-component="buttonContent"]{-webkit-flex:1 0 auto;-ms-flex:1 0 auto;flex:1 0 auto;display:grid;grid-template-areas:"leadingVisual text trailingVisual";grid-template-columns:min-content minmax(0,auto) min-content;-webkit-align-items:center;-webkit-box-align:center;-ms-flex-align:center;align-items:center;-webkit-align-content:center;-ms-flex-line-pack:center;align-content:center;}/*!sc*/
.lhbNLx [data-component="buttonContent"] > :not(:last-child){margin-right:8px;}/*!sc*/
.lhbNLx:hover:not([disabled]){background-color:rgba(208,215,222,0.32);}/*!sc*/
.lhbNLx:active:not([disabled]){background-color:rgba(208,215,222,0.48);}/*!sc*/
.lhbNLx[aria-expanded=true]{background-color:rgba(208,215,222,0.24);}/*!sc*/
.lhbNLx[data-component="IconButton"][data-no-visuals]{color:#656d76;}/*!sc*/
.lhbNLx[data-no-visuals]{color:#0969da;}/*!sc*/
.lhbNLx:has([data-component="ButtonCounter"]){color:#24292f;}/*!sc*/
.lhbNLx:disabled[data-no-visuals]{color:#8c959f;}/*!sc*/
.lhbNLx:disabled[data-no-visuals] [data-component=ButtonCounter]{color:inherit;}/*!sc*/
.lhbNLx[data-size="small"][data-no-visuals]{color:#656d76;}/*!sc*/
data-styled.g9[id="types__StyledButton-sc-ws60qy-0"]{content:"dpmVDB,kuQWBL,cTlePa,hAUDdO,bRhdlk,gDcRcS,dfaHcy,iNXtMc,fFejDP,hsBZZU,ctemji,iukPok,cCLqJS,crfMWv,dKBeSn,cPmGel,lhbNLx,"}/*!sc*/
.rTZSs{position:absolute;width:1px;height:1px;padding:0;margin:-1px;overflow:hidden;-webkit-clip:rect(0,0,0,0);clip:rect(0,0,0,0);white-space:nowrap;border-width:0;}/*!sc*/
data-styled.g10[id="_VisuallyHidden__VisuallyHidden-sc-11jhm7a-0"]{content:"rTZSs,"}/*!sc*/
.fUpWeN{display:inline-block;overflow:hidden;text-overflow:ellipsis;vertical-align:top;white-space:nowrap;max-width:125px;max-width:100%;}/*!sc*/
data-styled.g15[id="Truncate__StyledTruncate-sc-23o1d2-0"]{content:"fUpWeN,"}/*!sc*/
.cXRxE{position:relative;display:inline-block;}/*!sc*/
.cXRxE::before{position:absolute;z-index:1000001;display:none;width:0px;height:0px;color:#24292f;pointer-events:none;content:'';border:6px solid transparent;opacity:0;}/*!sc*/
.cXRxE::after{position:absolute;z-index:1000000;display:none;padding:0.5em 0.75em;font:normal normal 11px/1.5 -apple-system,BlinkMacSystemFont,"Segoe UI","Noto Sans",Helvetica,Arial,sans-serif,"Apple Color Emoji","Segoe UI Emoji";-webkit-font-smoothing:subpixel-antialiased;color:#ffffff;text-align:center;-webkit-text-decoration:none;text-decoration:none;text-shadow:none;text-transform:none;-webkit-letter-spacing:normal;-moz-letter-spacing:normal;-ms-letter-spacing:normal;letter-spacing:normal;word-wrap:break-word;white-space:pre;pointer-events:none;content:attr(aria-label);background:#24292f;border-radius:3px;opacity:0;}/*!sc*/
@-webkit-keyframes tooltip-appear{from{opacity:0;}to{opacity:1;}}/*!sc*/
@keyframes tooltip-appear{from{opacity:0;}to{opacity:1;}}/*!sc*/
.cXRxE:hover::before,.cXRxE:active::before,.cXRxE:focus::before,.cXRxE:focus-within::before,.cXRxE:hover::after,.cXRxE:active::after,.cXRxE:focus::after,.cXRxE:focus-within::after{display:inline-block;-webkit-text-decoration:none;text-decoration:none;-webkit-animation-name:tooltip-appear;animation-name:tooltip-appear;-webkit-animation-duration:0.1s;animation-duration:0.1s;-webkit-animation-fill-mode:forwards;animation-fill-mode:forwards;-webkit-animation-timing-function:ease-in;animation-timing-function:ease-in;-webkit-animation-delay:0.4s;animation-delay:0.4s;}/*!sc*/
.cXRxE.tooltipped-no-delay:hover::before,.cXRxE.tooltipped-no-delay:active::before,.cXRxE.tooltipped-no-delay:focus::before,.cXRxE.tooltipped-no-delay:focus-within::before,.cXRxE.tooltipped-no-delay:hover::after,.cXRxE.tooltipped-no-delay:active::after,.cXRxE.tooltipped-no-delay:focus::after,.cXRxE.tooltipped-no-delay:focus-within::after{-webkit-animation-delay:0s;animation-delay:0s;}/*!sc*/
.cXRxE.tooltipped-multiline:hover::after,.cXRxE.tooltipped-multiline:active::after,.cXRxE.tooltipped-multiline:focus::after,.cXRxE.tooltipped-multiline:focus-within::after{display:table-cell;}/*!sc*/
.cXRxE.tooltipped-s::after,.cXRxE.tooltipped-se::after,.cXRxE.tooltipped-sw::after{top:100%;right:50%;margin-top:6px;}/*!sc*/
.cXRxE.tooltipped-s::before,.cXRxE.tooltipped-se::before,.cXRxE.tooltipped-sw::before{top:auto;right:50%;bottom:-7px;margin-right:-6px;border-bottom-color:#24292f;}/*!sc*/
.cXRxE.tooltipped-se::after{right:auto;left:50%;margin-left:-16px;}/*!sc*/
.cXRxE.tooltipped-sw::after{margin-right:-16px;}/*!sc*/
.cXRxE.tooltipped-n::after,.cXRxE.tooltipped-ne::after,.cXRxE.tooltipped-nw::after{right:50%;bottom:100%;margin-bottom:6px;}/*!sc*/
.cXRxE.tooltipped-n::before,.cXRxE.tooltipped-ne::before,.cXRxE.tooltipped-nw::before{top:-7px;right:50%;bottom:auto;margin-right:-6px;border-top-color:#24292f;}/*!sc*/
.cXRxE.tooltipped-ne::after{right:auto;left:50%;margin-left:-16px;}/*!sc*/
.cXRxE.tooltipped-nw::after{margin-right:-16px;}/*!sc*/
.cXRxE.tooltipped-s::after,.cXRxE.tooltipped-n::after{-webkit-transform:translateX(50%);-ms-transform:translateX(50%);transform:translateX(50%);}/*!sc*/
.cXRxE.tooltipped-w::after{right:100%;bottom:50%;margin-right:6px;-webkit-transform:translateY(50%);-ms-transform:translateY(50%);transform:translateY(50%);}/*!sc*/
.cXRxE.tooltipped-w::before{top:50%;bottom:50%;left:-7px;margin-top:-6px;border-left-color:#24292f;}/*!sc*/
.cXRxE.tooltipped-e::after{bottom:50%;left:100%;margin-left:6px;-webkit-transform:translateY(50%);-ms-transform:translateY(50%);transform:translateY(50%);}/*!sc*/
.cXRxE.tooltipped-e::before{top:50%;right:-7px;bottom:50%;margin-top:-6px;border-right-color:#24292f;}/*!sc*/
.cXRxE.tooltipped-multiline::after{width:-webkit-max-content;width:-moz-max-content;width:max-content;max-width:250px;word-wrap:break-word;white-space:pre-line;border-collapse:separate;}/*!sc*/
.cXRxE.tooltipped-multiline.tooltipped-s::after,.cXRxE.tooltipped-multiline.tooltipped-n::after{right:auto;left:50%;-webkit-transform:translateX(-50%);-ms-transform:translateX(-50%);transform:translateX(-50%);}/*!sc*/
.cXRxE.tooltipped-multiline.tooltipped-w::after,.cXRxE.tooltipped-multiline.tooltipped-e::after{right:100%;}/*!sc*/
.cXRxE.tooltipped-align-right-2::after{right:0;margin-right:0;}/*!sc*/
.cXRxE.tooltipped-align-right-2::before{right:15px;}/*!sc*/
.cXRxE.tooltipped-align-left-2::after{left:0;margin-left:0;}/*!sc*/
.cXRxE.tooltipped-align-left-2::before{left:10px;}/*!sc*/
data-styled.g18[id="Tooltip__TooltipBase-sc-17tf59c-0"]{content:"cXRxE,"}/*!sc*/
.hPEVNM{-webkit-animation:rotate-keyframes 1s linear infinite;animation:rotate-keyframes 1s linear infinite;}/*!sc*/
@-webkit-keyframes rotate-keyframes{100%{-webkit-transform:rotate(360deg);-ms-transform:rotate(360deg);transform:rotate(360deg);}}/*!sc*/
@keyframes rotate-keyframes{100%{-webkit-transform:rotate(360deg);-ms-transform:rotate(360deg);transform:rotate(360deg);}}/*!sc*/
data-styled.g28[id="Spinner__StyledSpinner-sc-1knt686-0"]{content:"hPEVNM,"}/*!sc*/
.bdRwrl{font-size:14px;line-height:20px;color:#1F2328;vertical-align:middle;background-color:#ffffff;border:1px solid var(--control-borderColor-rest,#d0d7de);border-radius:6px;outline:none;box-shadow:inset 0 1px 0 rgba(208,215,222,0.2);display:-webkit-inline-box;display:-webkit-inline-flex;display:-ms-inline-flexbox;display:inline-flex;-webkit-align-items:stretch;-webkit-box-align:stretch;-ms-flex-align:stretch;align-items:stretch;min-height:32px;overflow:hidden;display:-webkit-box;display:-webkit-flex;display:-ms-flexbox;display:flex;min-width:160px;}/*!sc*/
.bdRwrl input,.bdRwrl textarea{cursor:text;}/*!sc*/
.bdRwrl select{cursor:pointer;}/*!sc*/
.bdRwrl::-webkit-input-placeholder{color:#6e7781;}/*!sc*/
.bdRwrl::-moz-placeholder{color:#6e7781;}/*!sc*/
.bdRwrl:-ms-input-placeholder{color:#6e7781;}/*!sc*/
.bdRwrl::placeholder{color:#6e7781;}/*!sc*/
.bdRwrl:focus-within{border-color:#0969da;outline:2px solid #0969da;outline-offset:-1px;}/*!sc*/
.bdRwrl > textarea{padding:12px;}/*!sc*/
@media (min-width:768px){.bdRwrl{font-size:14px;}}/*!sc*/
data-styled.g37[id="TextInputWrapper__TextInputBaseWrapper-sc-1mqhpbi-0"]{content:"bdRwrl,"}/*!sc*/
.eDtNTN{background-repeat:no-repeat;background-position:right 8px center;padding-left:12px;padding-right:12px;display:-webkit-box;display:-webkit-flex;display:-ms-flexbox;display:flex;min-width:160px;}/*!sc*/
.eDtNTN > :not(:last-child){margin-right:8px;}/*!sc*/
.eDtNTN .TextInput-icon,.eDtNTN .TextInput-action{-webkit-align-self:center;-ms-flex-item-align:center;align-self:center;color:#656d76;-webkit-flex-shrink:0;-ms-flex-negative:0;flex-shrink:0;}/*!sc*/
.eDtNTN > input,.eDtNTN > select{padding-left:0;padding-right:0;}/*!sc*/
data-styled.g38[id="TextInputWrapper-sc-1mqhpbi-1"]{content:"eDtNTN,"}/*!sc*/
.cDLBls{border:0;font-size:inherit;font-family:inherit;background-color:transparent;-webkit-appearance:none;color:inherit;width:100%;}/*!sc*/
.cDLBls:focus{outline:0;}/*!sc*/
data-styled.g39[id="UnstyledTextInput-sc-14ypya-0"]{content:"cDLBls,"}/*!sc*/
.bDmUQT{--segmented-control-button-inner-padding:12px;--segmented-control-button-bg-inset:4px;--segmented-control-outer-radius:6px;background-color:transparent;border-color:transparent;border-radius:var(--segmented-control-outer-radius);border-width:0;color:currentColor;cursor:pointer;font-family:inherit;font-size:inherit;font-weight:600;padding:0;height:100%;width:100%;}/*!sc*/
.bDmUQT .segmentedControl-content{-webkit-align-items:center;-webkit-box-align:center;-ms-flex-align:center;align-items:center;background-color:#ffffff;border-color:#8c959f;border-style:solid;border-width:1px;border-radius:var(--segmented-control-outer-radius);display:-webkit-box;display:-webkit-flex;display:-ms-flexbox;display:flex;height:100%;-webkit-box-pack:center;-webkit-justify-content:center;-ms-flex-pack:center;justify-content:center;padding-left:var(--segmented-control-button-inner-padding);padding-right:var(--segmented-control-button-inner-padding);}/*!sc*/
.bDmUQT svg{fill:#656d76;}/*!sc*/
.bDmUQT:focus:focus-visible:not(:last-child):after{width:0;}/*!sc*/
.bDmUQT .segmentedControl-text:after{content:"Preview";display:block;font-weight:600;height:0;overflow:hidden;pointer-events:none;-webkit-user-select:none;-moz-user-select:none;-ms-user-select:none;user-select:none;visibility:hidden;}/*!sc*/
@media (pointer:coarse){.bDmUQT:before{content:"";position:absolute;left:0;right:0;-webkit-transform:translateY(-50%);-ms-transform:translateY(-50%);transform:translateY(-50%);top:50%;min-height:44px;}}/*!sc*/
.fzMylw{--segmented-control-button-inner-padding:12px;--segmented-control-button-bg-inset:4px;--segmented-control-outer-radius:6px;background-color:transparent;border-color:transparent;border-radius:var(--segmented-control-outer-radius);border-width:0;color:currentColor;cursor:pointer;font-family:inherit;font-size:inherit;font-weight:400;padding:var(--segmented-control-button-bg-inset);height:100%;width:100%;}/*!sc*/
.fzMylw .segmentedControl-content{-webkit-align-items:center;-webkit-box-align:center;-ms-flex-align:center;align-items:center;background-color:transparent;border-color:transparent;border-style:solid;border-width:1px;border-radius:calc(var(--segmented-control-outer-radius) - var(--segmented-control-button-bg-inset) / 2);display:-webkit-box;display:-webkit-flex;display:-ms-flexbox;display:flex;height:100%;-webkit-box-pack:center;-webkit-justify-content:center;-ms-flex-pack:center;justify-content:center;padding-left:calc(var(--segmented-control-button-inner-padding) - var(--segmented-control-button-bg-inset));padding-right:calc(var(--segmented-control-button-inner-padding) - var(--segmented-control-button-bg-inset));}/*!sc*/
.fzMylw svg{fill:#656d76;}/*!sc*/
.fzMylw:hover .segmentedControl-content{background-color:rgba(175,184,193,0.2);}/*!sc*/
.fzMylw:active .segmentedControl-content{background-color:rgba(175,184,193,0.4);}/*!sc*/
.fzMylw:focus:focus-visible:not(:last-child):after{width:0;}/*!sc*/
.fzMylw .segmentedControl-text:after{content:"Code";display:block;font-weight:600;height:0;overflow:hidden;pointer-events:none;-webkit-user-select:none;-moz-user-select:none;-ms-user-select:none;user-select:none;visibility:hidden;}/*!sc*/
@media (pointer:coarse){.fzMylw:before{content:"";position:absolute;left:0;right:0;-webkit-transform:translateY(-50%);-ms-transform:translateY(-50%);transform:translateY(-50%);top:50%;min-height:44px;}}/*!sc*/
.hBvGcq{--segmented-control-button-inner-padding:12px;--segmented-control-button-bg-inset:4px;--segmented-control-outer-radius:6px;background-color:transparent;border-color:transparent;border-radius:var(--segmented-control-outer-radius);border-width:0;color:currentColor;cursor:pointer;font-family:inherit;font-size:inherit;font-weight:400;padding:var(--segmented-control-button-bg-inset);height:100%;width:100%;}/*!sc*/
.hBvGcq .segmentedControl-content{-webkit-align-items:center;-webkit-box-align:center;-ms-flex-align:center;align-items:center;background-color:transparent;border-color:transparent;border-style:solid;border-width:1px;border-radius:calc(var(--segmented-control-outer-radius) - var(--segmented-control-button-bg-inset) / 2);display:-webkit-box;display:-webkit-flex;display:-ms-flexbox;display:flex;height:100%;-webkit-box-pack:center;-webkit-justify-content:center;-ms-flex-pack:center;justify-content:center;padding-left:calc(var(--segmented-control-button-inner-padding) - var(--segmented-control-button-bg-inset));padding-right:calc(var(--segmented-control-button-inner-padding) - var(--segmented-control-button-bg-inset));}/*!sc*/
.hBvGcq svg{fill:#656d76;}/*!sc*/
.hBvGcq:hover .segmentedControl-content{background-color:rgba(175,184,193,0.2);}/*!sc*/
.hBvGcq:active .segmentedControl-content{background-color:rgba(175,184,193,0.4);}/*!sc*/
.hBvGcq:focus:focus-visible:not(:last-child):after{width:0;}/*!sc*/
.hBvGcq .segmentedControl-text:after{content:"Blame";display:block;font-weight:600;height:0;overflow:hidden;pointer-events:none;-webkit-user-select:none;-moz-user-select:none;-ms-user-select:none;user-select:none;visibility:hidden;}/*!sc*/
@media (pointer:coarse){.hBvGcq:before{content:"";position:absolute;left:0;right:0;-webkit-transform:translateY(-50%);-ms-transform:translateY(-50%);transform:translateY(-50%);top:50%;min-height:44px;}}/*!sc*/
data-styled.g69[id="SegmentedControlButton__SegmentedControlButtonStyled-sc-8lkgxl-0"]{content:"bDmUQT,fzMylw,hBvGcq,"}/*!sc*/
.iYVwMz{background-color:#eaeef2;border-radius:6px;display:-webkit-inline-box;display:-webkit-inline-flex;display:-ms-inline-flexbox;display:inline-flex;font-size:14px;height:28px;margin:0;padding:0;}/*!sc*/
data-styled.g71[id="SegmentedControl__SegmentedControlList-sc-1rzig82-0"]{content:"iYVwMz,"}/*!sc*/
.gtekST{list-style:none;padding:0;margin:0;}/*!sc*/
.gtekST .PRIVATE_TreeView-item{outline:none;}/*!sc*/
.gtekST .PRIVATE_TreeView-item:focus-visible > div,.gtekST .PRIVATE_TreeView-item.focus-visible > div{box-shadow:inset 0 0 0 2px #0969da;}/*!sc*/
@media (forced-colors:active){.gtekST .PRIVATE_TreeView-item:focus-visible > div,.gtekST .PRIVATE_TreeView-item.focus-visible > div{outline:2px solid HighlightText;outline-offset:-2;}}/*!sc*/
.gtekST .PRIVATE_TreeView-item-container{--level:1;--toggle-width:1rem;position:relative;display:grid;grid-template-columns:calc(calc(var(--level) - 1) * (var(--toggle-width) / 2)) var(--toggle-width) 1fr;grid-template-areas:'spacer toggle content';width:100%;min-height:2rem;font-size:14px;color:#1F2328;border-radius:6px;cursor:pointer;}/*!sc*/
.gtekST .PRIVATE_TreeView-item-container:hover{background-color:rgba(208,215,222,0.32);}/*!sc*/
@media (forced-colors:active){.gtekST .PRIVATE_TreeView-item-container:hover{outline:2px solid transparent;outline-offset:-2px;}}/*!sc*/
@media (pointer:coarse){.gtekST .PRIVATE_TreeView-item-container{--toggle-width:1.5rem;min-height:2.75rem;}}/*!sc*/
.gtekST .PRIVATE_TreeView-item-container:has(.PRIVATE_TreeView-item-skeleton):hover{background-color:transparent;cursor:default;}/*!sc*/
@media (forced-colors:active){.gtekST .PRIVATE_TreeView-item-container:has(.PRIVATE_TreeView-item-skeleton):hover{outline:none;}}/*!sc*/
.gtekST[data-omit-spacer='true'] .PRIVATE_TreeView-item-container{grid-template-columns:0 0 1fr;}/*!sc*/
.gtekST .PRIVATE_TreeView-item[aria-current='true'] > .PRIVATE_TreeView-item-container{background-color:rgba(208,215,222,0.24);}/*!sc*/
.gtekST .PRIVATE_TreeView-item[aria-current='true'] > .PRIVATE_TreeView-item-container::after{content:'';position:absolute;top:calc(50% - 0.75rem);left:-8px;width:0.25rem;height:1.5rem;background-color:#0969da;border-radius:6px;}/*!sc*/
@media (forced-colors:active){.gtekST .PRIVATE_TreeView-item[aria-current='true'] > .PRIVATE_TreeView-item-container::after{background-color:HighlightText;}}/*!sc*/
.gtekST .PRIVATE_TreeView-item-toggle{grid-area:toggle;display:-webkit-box;display:-webkit-flex;display:-ms-flexbox;display:flex;-webkit-align-items:center;-webkit-box-align:center;-ms-flex-align:center;align-items:center;-webkit-box-pack:center;-webkit-justify-content:center;-ms-flex-pack:center;justify-content:center;height:100%;color:#656d76;}/*!sc*/
.gtekST .PRIVATE_TreeView-item-toggle--hover:hover{background-color:rgba(208,215,222,0.32);}/*!sc*/
.gtekST .PRIVATE_TreeView-item-toggle--end{border-top-left-radius:6px;border-bottom-left-radius:6px;}/*!sc*/
.gtekST .PRIVATE_TreeView-item-content{grid-area:content;display:-webkit-box;display:-webkit-flex;display:-ms-flexbox;display:flex;-webkit-align-items:center;-webkit-box-align:center;-ms-flex-align:center;align-items:center;height:100%;padding:0 8px;gap:8px;}/*!sc*/
.gtekST .PRIVATE_TreeView-item-content-text{-webkit-flex:1 1 auto;-ms-flex:1 1 auto;flex:1 1 auto;width:0;overflow:hidden;white-space:nowrap;text-overflow:ellipsis;}/*!sc*/
.gtekST .PRIVATE_TreeView-item-visual{display:-webkit-box;display:-webkit-flex;display:-ms-flexbox;display:flex;color:#656d76;}/*!sc*/
.gtekST .PRIVATE_TreeView-item-level-line{width:100%;height:100%;border-right:1px solid;border-color:rgba(31,35,40,0.15);}/*!sc*/
@media (hover:hover){.gtekST .PRIVATE_TreeView-item-level-line{border-color:transparent;}.gtekST:hover .PRIVATE_TreeView-item-level-line,.gtekST:focus-within .PRIVATE_TreeView-item-level-line{border-color:rgba(31,35,40,0.15);}}/*!sc*/
.gtekST .PRIVATE_TreeView-directory-icon{display:grid;color:#54aeff;}/*!sc*/
.gtekST .PRIVATE_VisuallyHidden{position:absolute;width:1px;height:1px;padding:0;margin:-1px;overflow:hidden;-webkit-clip:rect(0,0,0,0);clip:rect(0,0,0,0);white-space:nowrap;border-width:0;}/*!sc*/
data-styled.g85[id="TreeView__UlBox-sc-4ex6b6-0"]{content:"gtekST,"}/*!sc*/
.cjbBGq{display:-webkit-inline-box;display:-webkit-inline-flex;display:-ms-inline-flexbox;display:inline-flex;vertical-align:middle;isolation:isolate;}/*!sc*/
.cjbBGq.cjbBGq > *{margin-inline-end:-1px;position:relative;border-radius:0;}/*!sc*/
.cjbBGq.cjbBGq > *:first-child{border-top-left-radius:6px;border-bottom-left-radius:6px;}/*!sc*/
.cjbBGq.cjbBGq > *:last-child{border-top-right-radius:6px;border-bottom-right-radius:6px;}/*!sc*/
.cjbBGq.cjbBGq > *:focus,.cjbBGq.cjbBGq > *:active,.cjbBGq.cjbBGq > *:hover{z-index:1;}/*!sc*/
data-styled.g87[id="ButtonGroup-sc-1gxhls1-0"]{content:"cjbBGq,"}/*!sc*/
</style><meta data-hydrostats="publish"/> <!-- --> <!-- --> <!-- --> <button hidden="" data-testid="header-permalink-button" data-hotkey-scope="read-only-cursor-text-area"></button><button hidden=""></button><div class="Box-sc-g0xbh4-0"><div style="--sticky-pane-height:100vh" class="Box-sc-g0xbh4-0 fSWWem"><div class="Box-sc-g0xbh4-0 kPPmzM"><div class="Box-sc-g0xbh4-0 cIAPDV"><div tabindex="0" class="Box-sc-g0xbh4-0 gvCnwW"><div class="Box-sc-g0xbh4-0 xEgty"><div class="Box-sc-g0xbh4-0 eUyHuk"></div><div style="--pane-width:320px" class="Box-sc-g0xbh4-0 gNdDUH"><div class="Box-sc-g0xbh4-0 react-tree-pane-contents"><div id="repos-file-tree" class="Box-sc-g0xbh4-0 jywUSN"><div class="Box-sc-g0xbh4-0 hBSSUC"><div class="Box-sc-g0xbh4-0 iPurHz"><h2 class="Heading__StyledHeading-sc-1c1dgg0-0 fNPcqd"><button style="--button-color:fg.muted" type="button" aria-label="Expand file tree" data-testid="expand-file-tree-button-mobile" class="types__StyledButton-sc-ws60qy-0 dpmVDB"><span data-component="buttonContent" class="Box-sc-g0xbh4-0 kkrdEu"><span data-component="leadingVisual" class="Box-sc-g0xbh4-0 trpoQ"><svg aria-hidden="true" focusable="false" role="img" class="octicon octicon-arrow-left" viewBox="0 0 16 16" width="16" height="16" fill="currentColor" style="display:inline-block;user-select:none;vertical-align:text-bottom;overflow:visible"><path d="M7.78 12.53a.75.75 0 0 1-1.06 0L2.47 8.28a.75.75 0 0 1 0-1.06l4.25-4.25a.751.751 0 0 1 1.042.018.751.751 0 0 1 .018 1.042L4.81 7h7.44a.75.75 0 0 1 0 1.5H4.81l2.97 2.97a.75.75 0 0 1 0 1.06Z"></path></svg></span><span data-component="text">Files</span></span></button><span role="tooltip" aria-label="Collapse file tree" id="expand-button-file-tree-button" class="Tooltip__TooltipBase-sc-17tf59c-0 cXRxE tooltipped-se"><button data-component="IconButton" type="button" data-testid="collapse-file-tree-button" aria-labelledby="expand-button-file-tree-button" aria-expanded="true" aria-controls="repos-file-tree" class="types__StyledButton-sc-ws60qy-0 kuQWBL" data-no-visuals="true"><svg aria-hidden="true" focusable="false" role="img" class="octicon octicon-sidebar-expand" viewBox="0 0 16 16" width="16" height="16" fill="currentColor" style="display:inline-block;user-select:none;vertical-align:text-bottom;overflow:visible"><path d="m4.177 7.823 2.396-2.396A.25.25 0 0 1 7 5.604v4.792a.25.25 0 0 1-.427.177L4.177 8.177a.25.25 0 0 1 0-.354Z"></path><path d="M0 1.75C0 .784.784 0 1.75 0h12.5C15.216 0 16 .784 16 1.75v12.5A1.75 1.75 0 0 1 14.25 16H1.75A1.75 1.75 0 0 1 0 14.25Zm1.75-.25a.25.25 0 0 0-.25.25v12.5c0 .138.112.25.25.25H9.5v-13Zm12.5 13a.25.25 0 0 0 .25-.25V1.75a.25.25 0 0 0-.25-.25H11v13Z"></path></svg></button></span><button hidden="" data-testid="" data-hotkey-scope="read-only-cursor-text-area"></button></h2><h2 class="Heading__StyledHeading-sc-1c1dgg0-0 imcwCi">Files</h2></div><div class="Box-sc-g0xbh4-0 hVHHYa"><div class="Box-sc-g0xbh4-0 idZfsJ"><button type="button" id="branch-picker-repos-header-ref-selector" aria-haspopup="true" tabindex="0" aria-label="main branch" data-testid="anchor-button" class="types__StyledButton-sc-ws60qy-0 cTlePa react-repos-tree-pane-ref-selector width-full ref-selector-class"><span data-component="buttonContent" class="Box-sc-g0xbh4-0 kkrdEu"><span data-component="text"><div class="Box-sc-g0xbh4-0 bKgizp"><div class="Box-sc-g0xbh4-0 kYlvBX"><svg aria-hidden="true" focusable="false" role="img" class="octicon octicon-git-branch" viewBox="0 0 16 16" width="16" height="16" fill="currentColor" style="display:inline-block;user-select:none;vertical-align:text-bottom;overflow:visible"><path d="M9.5 3.25a2.25 2.25 0 1 1 3 2.122V6A2.5 2.5 0 0 1 10 8.5H6a1 1 0 0 0-1 1v1.128a2.251 2.251 0 1 1-1.5 0V5.372a2.25 2.25 0 1 1 1.5 0v1.836A2.493 2.493 0 0 1 6 7h4a1 1 0 0 0 1-1v-.628A2.25 2.25 0 0 1 9.5 3.25Zm-6 0a.75.75 0 1 0 1.5 0 .75.75 0 0 0-1.5 0Zm8.25-.75a.75.75 0 1 0 0 1.5.75.75 0 0 0 0-1.5ZM4.25 12a.75.75 0 1 0 0 1.5.75.75 0 0 0 0-1.5Z"></path></svg></div><div class="Box-sc-g0xbh4-0 caeYDk ref-selector-button-text-container"><span class="Text-sc-17v1xeu-0 bOMzPg"> <!-- -->main</span></div></div></span><span data-component="trailingVisual" class="Box-sc-g0xbh4-0 trpoQ"><svg aria-hidden="true" focusable="false" role="img" class="octicon octicon-triangle-down" viewBox="0 0 16 16" width="16" height="16" fill="currentColor" style="display:inline-block;user-select:none;vertical-align:text-bottom;overflow:visible"><path d="m4.427 7.427 3.396 3.396a.25.25 0 0 0 .354 0l3.396-3.396A.25.25 0 0 0 11.396 7H4.604a.25.25 0 0 0-.177.427Z"></path></svg></span></span></button><button hidden="" data-hotkey-scope="read-only-cursor-text-area"></button></div><div class="Box-sc-g0xbh4-0 jahcnb"><span role="tooltip" aria-label="Add file" class="Tooltip__TooltipBase-sc-17tf59c-0 cXRxE tooltipped-s"><a sx="[object Object]" data-component="IconButton" type="button" aria-label="Add file" data-no-visuals="true" class="types__StyledButton-sc-ws60qy-0 hAUDdO" href="/ShadarRim/MISiSAI1/new/main"><svg aria-hidden="true" focusable="false" role="img" class="octicon octicon-plus" viewBox="0 0 16 16" width="16" height="16" fill="currentColor" style="display:inline-block;user-select:none;vertical-align:text-bottom;overflow:visible"><path d="M7.75 2a.75.75 0 0 1 .75.75V7h4.25a.75.75 0 0 1 0 1.5H8.5v4.25a.75.75 0 0 1-1.5 0V8.5H2.75a.75.75 0 0 1 0-1.5H7V2.75A.75.75 0 0 1 7.75 2Z"></path></svg></a></span><button data-component="IconButton" type="button" aria-label="Search this repository" data-no-visuals="true" class="types__StyledButton-sc-ws60qy-0 bRhdlk"><svg aria-hidden="true" focusable="false" role="img" class="octicon octicon-search" viewBox="0 0 16 16" width="16" height="16" fill="currentColor" style="display:inline-block;user-select:none;vertical-align:text-bottom;overflow:visible"><path d="M10.68 11.74a6 6 0 0 1-7.922-8.982 6 6 0 0 1 8.982 7.922l3.04 3.04a.749.749 0 0 1-.326 1.275.749.749 0 0 1-.734-.215ZM11.5 7a4.499 4.499 0 1 0-8.997 0A4.499 4.499 0 0 0 11.5 7Z"></path></svg></button><button hidden="" data-testid="" data-hotkey-scope="read-only-cursor-text-area"></button></div></div></div><div class="Box-sc-g0xbh4-0 ccToMy"><button hidden="" data-testid="" data-hotkey-scope="read-only-cursor-text-area"></button><button hidden=""></button><span class="TextInputWrapper__TextInputBaseWrapper-sc-1mqhpbi-0 TextInputWrapper-sc-1mqhpbi-1 bdRwrl eDtNTN TextInput-wrapper" aria-busy="false"><span class="TextInput-icon"><svg aria-hidden="true" focusable="false" role="img" class="octicon octicon-search" viewBox="0 0 16 16" width="16" height="16" fill="currentColor" style="display:inline-block;user-select:none;vertical-align:text-bottom;overflow:visible"><path d="M10.68 11.74a6 6 0 0 1-7.922-8.982 6 6 0 0 1 8.982 7.922l3.04 3.04a.749.749 0 0 1-.326 1.275.749.749 0 0 1-.734-.215ZM11.5 7a4.499 4.499 0 1 0-8.997 0A4.499 4.499 0 0 0 11.5 7Z"></path></svg></span><input type="text" aria-label="Go to file" role="combobox" aria-controls="file-results-list" aria-expanded="false" aria-haspopup="dialog" autoCorrect="off" spellcheck="false" placeholder="Go to file" data-component="input" class="UnstyledTextInput-sc-14ypya-0 cDLBls" value=""/><span class="TextInput-icon"><div class="Box-sc-g0xbh4-0 cNvKlH"><kbd>t</kbd></div></span></span></div><div class="Box-sc-g0xbh4-0 cLfAnm"><div class="react-tree-show-tree-items"><div data-testid="repos-file-tree-container" class="Box-sc-g0xbh4-0 erWCJP"><nav aria-label="File Tree Navigation"><span role="status" aria-live="polite" aria-atomic="true" class="_VisuallyHidden__VisuallyHidden-sc-11jhm7a-0 rTZSs"></span><ul role="tree" aria-label="Files" class="TreeView__UlBox-sc-4ex6b6-0 gtekST"><li class="PRIVATE_TreeView-item" tabindex="0" id="Вторая обязательная домашняя работа-item" role="treeitem" aria-labelledby=":Rqclmdaj5:" aria-describedby=":Rqclmdaj5H1: :Rqclmdaj5H2:" aria-level="1" aria-expanded="false" aria-selected="false"><div class="PRIVATE_TreeView-item-container" style="--level:1;content-visibility:auto;contain-intrinsic-size:auto 2rem"><div style="grid-area:spacer;display:flex"><div style="width:100%;display:flex"></div></div><div class="PRIVATE_TreeView-item-toggle PRIVATE_TreeView-item-toggle--hover PRIVATE_TreeView-item-toggle--end"><svg aria-hidden="true" focusable="false" role="img" class="octicon octicon-chevron-right" viewBox="0 0 12 12" width="12" height="12" fill="currentColor" style="display:inline-block;user-select:none;vertical-align:text-bottom;overflow:visible"><path d="M4.7 10c-.2 0-.4-.1-.5-.2-.3-.3-.3-.8 0-1.1L6.9 6 4.2 3.3c-.3-.3-.3-.8 0-1.1.3-.3.8-.3 1.1 0l3.3 3.2c.3.3.3.8 0 1.1L5.3 9.7c-.2.2-.4.3-.6.3Z"></path></svg></div><div id=":Rqclmdaj5:" class="PRIVATE_TreeView-item-content"><div class="PRIVATE_VisuallyHidden" aria-hidden="true" id=":Rqclmdaj5H1:"></div><div class="PRIVATE_TreeView-item-visual" aria-hidden="true"><div class="PRIVATE_TreeView-directory-icon"><svg aria-hidden="true" focusable="false" role="img" class="octicon octicon-file-directory-fill" viewBox="0 0 16 16" width="16" height="16" fill="currentColor" style="display:inline-block;user-select:none;vertical-align:text-bottom;overflow:visible"><path d="M1.75 1A1.75 1.75 0 0 0 0 2.75v10.5C0 14.216.784 15 1.75 15h12.5A1.75 1.75 0 0 0 16 13.25v-8.5A1.75 1.75 0 0 0 14.25 3H7.5a.25.25 0 0 1-.2-.1l-.9-1.2C6.07 1.26 5.55 1 5 1H1.75Z"></path></svg></div></div><span class="PRIVATE_TreeView-item-content-text"><span>Вторая обязательная домашняя работа</span></span></div></div></li><li class="PRIVATE_TreeView-item" tabindex="0" id="Первая обязательная домашняя работа-item" role="treeitem" aria-labelledby=":R1aclmdaj5:" aria-describedby=":R1aclmdaj5H1: :R1aclmdaj5H2:" aria-level="1" aria-expanded="false" aria-selected="false"><div class="PRIVATE_TreeView-item-container" style="--level:1;content-visibility:auto;contain-intrinsic-size:auto 2rem"><div style="grid-area:spacer;display:flex"><div style="width:100%;display:flex"></div></div><div class="PRIVATE_TreeView-item-toggle PRIVATE_TreeView-item-toggle--hover PRIVATE_TreeView-item-toggle--end"><svg aria-hidden="true" focusable="false" role="img" class="octicon octicon-chevron-right" viewBox="0 0 12 12" width="12" height="12" fill="currentColor" style="display:inline-block;user-select:none;vertical-align:text-bottom;overflow:visible"><path d="M4.7 10c-.2 0-.4-.1-.5-.2-.3-.3-.3-.8 0-1.1L6.9 6 4.2 3.3c-.3-.3-.3-.8 0-1.1.3-.3.8-.3 1.1 0l3.3 3.2c.3.3.3.8 0 1.1L5.3 9.7c-.2.2-.4.3-.6.3Z"></path></svg></div><div id=":R1aclmdaj5:" class="PRIVATE_TreeView-item-content"><div class="PRIVATE_VisuallyHidden" aria-hidden="true" id=":R1aclmdaj5H1:"></div><div class="PRIVATE_TreeView-item-visual" aria-hidden="true"><div class="PRIVATE_TreeView-directory-icon"><svg aria-hidden="true" focusable="false" role="img" class="octicon octicon-file-directory-fill" viewBox="0 0 16 16" width="16" height="16" fill="currentColor" style="display:inline-block;user-select:none;vertical-align:text-bottom;overflow:visible"><path d="M1.75 1A1.75 1.75 0 0 0 0 2.75v10.5C0 14.216.784 15 1.75 15h12.5A1.75 1.75 0 0 0 16 13.25v-8.5A1.75 1.75 0 0 0 14.25 3H7.5a.25.25 0 0 1-.2-.1l-.9-1.2C6.07 1.26 5.55 1 5 1H1.75Z"></path></svg></div></div><span class="PRIVATE_TreeView-item-content-text"><span>Первая обязательная домашняя работа</span></span></div></div></li><li class="PRIVATE_TreeView-item" tabindex="0" id="Первый обязательный коллоквиум-item" role="treeitem" aria-labelledby=":R1qclmdaj5:" aria-describedby=":R1qclmdaj5H1: :R1qclmdaj5H2:" aria-level="1" aria-expanded="false" aria-selected="false"><div class="PRIVATE_TreeView-item-container" style="--level:1;content-visibility:auto;contain-intrinsic-size:auto 2rem"><div style="grid-area:spacer;display:flex"><div style="width:100%;display:flex"></div></div><div class="PRIVATE_TreeView-item-toggle PRIVATE_TreeView-item-toggle--hover PRIVATE_TreeView-item-toggle--end"><svg aria-hidden="true" focusable="false" role="img" class="octicon octicon-chevron-right" viewBox="0 0 12 12" width="12" height="12" fill="currentColor" style="display:inline-block;user-select:none;vertical-align:text-bottom;overflow:visible"><path d="M4.7 10c-.2 0-.4-.1-.5-.2-.3-.3-.3-.8 0-1.1L6.9 6 4.2 3.3c-.3-.3-.3-.8 0-1.1.3-.3.8-.3 1.1 0l3.3 3.2c.3.3.3.8 0 1.1L5.3 9.7c-.2.2-.4.3-.6.3Z"></path></svg></div><div id=":R1qclmdaj5:" class="PRIVATE_TreeView-item-content"><div class="PRIVATE_VisuallyHidden" aria-hidden="true" id=":R1qclmdaj5H1:"></div><div class="PRIVATE_TreeView-item-visual" aria-hidden="true"><div class="PRIVATE_TreeView-directory-icon"><svg aria-hidden="true" focusable="false" role="img" class="octicon octicon-file-directory-fill" viewBox="0 0 16 16" width="16" height="16" fill="currentColor" style="display:inline-block;user-select:none;vertical-align:text-bottom;overflow:visible"><path d="M1.75 1A1.75 1.75 0 0 0 0 2.75v10.5C0 14.216.784 15 1.75 15h12.5A1.75 1.75 0 0 0 16 13.25v-8.5A1.75 1.75 0 0 0 14.25 3H7.5a.25.25 0 0 1-.2-.1l-.9-1.2C6.07 1.26 5.55 1 5 1H1.75Z"></path></svg></div></div><span class="PRIVATE_TreeView-item-content-text"><span>Первый обязательный коллоквиум</span></span></div></div></li><li class="PRIVATE_TreeView-item" tabindex="0" id="Пятая обязательная домашняя работа-item" role="treeitem" aria-labelledby=":R2aclmdaj5:" aria-describedby=":R2aclmdaj5H1: :R2aclmdaj5H2:" aria-level="1" aria-expanded="false" aria-selected="false"><div class="PRIVATE_TreeView-item-container" style="--level:1;content-visibility:auto;contain-intrinsic-size:auto 2rem"><div style="grid-area:spacer;display:flex"><div style="width:100%;display:flex"></div></div><div class="PRIVATE_TreeView-item-toggle PRIVATE_TreeView-item-toggle--hover PRIVATE_TreeView-item-toggle--end"><svg aria-hidden="true" focusable="false" role="img" class="octicon octicon-chevron-right" viewBox="0 0 12 12" width="12" height="12" fill="currentColor" style="display:inline-block;user-select:none;vertical-align:text-bottom;overflow:visible"><path d="M4.7 10c-.2 0-.4-.1-.5-.2-.3-.3-.3-.8 0-1.1L6.9 6 4.2 3.3c-.3-.3-.3-.8 0-1.1.3-.3.8-.3 1.1 0l3.3 3.2c.3.3.3.8 0 1.1L5.3 9.7c-.2.2-.4.3-.6.3Z"></path></svg></div><div id=":R2aclmdaj5:" class="PRIVATE_TreeView-item-content"><div class="PRIVATE_VisuallyHidden" aria-hidden="true" id=":R2aclmdaj5H1:"></div><div class="PRIVATE_TreeView-item-visual" aria-hidden="true"><div class="PRIVATE_TreeView-directory-icon"><svg aria-hidden="true" focusable="false" role="img" class="octicon octicon-file-directory-fill" viewBox="0 0 16 16" width="16" height="16" fill="currentColor" style="display:inline-block;user-select:none;vertical-align:text-bottom;overflow:visible"><path d="M1.75 1A1.75 1.75 0 0 0 0 2.75v10.5C0 14.216.784 15 1.75 15h12.5A1.75 1.75 0 0 0 16 13.25v-8.5A1.75 1.75 0 0 0 14.25 3H7.5a.25.25 0 0 1-.2-.1l-.9-1.2C6.07 1.26 5.55 1 5 1H1.75Z"></path></svg></div></div><span class="PRIVATE_TreeView-item-content-text"><span>Пятая обязательная домашняя работа</span></span></div></div></li><li class="PRIVATE_TreeView-item" tabindex="0" id="Третья обязательная домашняя работа-item" role="treeitem" aria-labelledby=":R2qclmdaj5:" aria-describedby=":R2qclmdaj5H1: :R2qclmdaj5H2:" aria-level="1" aria-expanded="false" aria-selected="false"><div class="PRIVATE_TreeView-item-container" style="--level:1;content-visibility:auto;contain-intrinsic-size:auto 2rem"><div style="grid-area:spacer;display:flex"><div style="width:100%;display:flex"></div></div><div class="PRIVATE_TreeView-item-toggle PRIVATE_TreeView-item-toggle--hover PRIVATE_TreeView-item-toggle--end"><svg aria-hidden="true" focusable="false" role="img" class="octicon octicon-chevron-right" viewBox="0 0 12 12" width="12" height="12" fill="currentColor" style="display:inline-block;user-select:none;vertical-align:text-bottom;overflow:visible"><path d="M4.7 10c-.2 0-.4-.1-.5-.2-.3-.3-.3-.8 0-1.1L6.9 6 4.2 3.3c-.3-.3-.3-.8 0-1.1.3-.3.8-.3 1.1 0l3.3 3.2c.3.3.3.8 0 1.1L5.3 9.7c-.2.2-.4.3-.6.3Z"></path></svg></div><div id=":R2qclmdaj5:" class="PRIVATE_TreeView-item-content"><div class="PRIVATE_VisuallyHidden" aria-hidden="true" id=":R2qclmdaj5H1:"></div><div class="PRIVATE_TreeView-item-visual" aria-hidden="true"><div class="PRIVATE_TreeView-directory-icon"><svg aria-hidden="true" focusable="false" role="img" class="octicon octicon-file-directory-fill" viewBox="0 0 16 16" width="16" height="16" fill="currentColor" style="display:inline-block;user-select:none;vertical-align:text-bottom;overflow:visible"><path d="M1.75 1A1.75 1.75 0 0 0 0 2.75v10.5C0 14.216.784 15 1.75 15h12.5A1.75 1.75 0 0 0 16 13.25v-8.5A1.75 1.75 0 0 0 14.25 3H7.5a.25.25 0 0 1-.2-.1l-.9-1.2C6.07 1.26 5.55 1 5 1H1.75Z"></path></svg></div></div><span class="PRIVATE_TreeView-item-content-text"><span>Третья обязательная домашняя работа</span></span></div></div></li><li class="PRIVATE_TreeView-item" tabindex="0" id="Четвертая обязательная домашняя работа-item" role="treeitem" aria-labelledby=":R3aclmdaj5:" aria-describedby=":R3aclmdaj5H1: :R3aclmdaj5H2:" aria-level="1" aria-expanded="false" aria-selected="false"><div class="PRIVATE_TreeView-item-container" style="--level:1;content-visibility:auto;contain-intrinsic-size:auto 2rem"><div style="grid-area:spacer;display:flex"><div style="width:100%;display:flex"></div></div><div class="PRIVATE_TreeView-item-toggle PRIVATE_TreeView-item-toggle--hover PRIVATE_TreeView-item-toggle--end"><svg aria-hidden="true" focusable="false" role="img" class="octicon octicon-chevron-right" viewBox="0 0 12 12" width="12" height="12" fill="currentColor" style="display:inline-block;user-select:none;vertical-align:text-bottom;overflow:visible"><path d="M4.7 10c-.2 0-.4-.1-.5-.2-.3-.3-.3-.8 0-1.1L6.9 6 4.2 3.3c-.3-.3-.3-.8 0-1.1.3-.3.8-.3 1.1 0l3.3 3.2c.3.3.3.8 0 1.1L5.3 9.7c-.2.2-.4.3-.6.3Z"></path></svg></div><div id=":R3aclmdaj5:" class="PRIVATE_TreeView-item-content"><div class="PRIVATE_VisuallyHidden" aria-hidden="true" id=":R3aclmdaj5H1:"></div><div class="PRIVATE_TreeView-item-visual" aria-hidden="true"><div class="PRIVATE_TreeView-directory-icon"><svg aria-hidden="true" focusable="false" role="img" class="octicon octicon-file-directory-fill" viewBox="0 0 16 16" width="16" height="16" fill="currentColor" style="display:inline-block;user-select:none;vertical-align:text-bottom;overflow:visible"><path d="M1.75 1A1.75 1.75 0 0 0 0 2.75v10.5C0 14.216.784 15 1.75 15h12.5A1.75 1.75 0 0 0 16 13.25v-8.5A1.75 1.75 0 0 0 14.25 3H7.5a.25.25 0 0 1-.2-.1l-.9-1.2C6.07 1.26 5.55 1 5 1H1.75Z"></path></svg></div></div><span class="PRIVATE_TreeView-item-content-text"><span>Четвертая обязательная домашняя работа</span></span></div></div></li><li class="PRIVATE_TreeView-item" tabindex="0" id="00_Основы_Python_1.ipynb-item" role="treeitem" aria-labelledby=":R3qclmdaj5:" aria-describedby=":R3qclmdaj5H1: :R3qclmdaj5H2:" aria-level="1" aria-selected="false"><div class="PRIVATE_TreeView-item-container" style="--level:1;content-visibility:auto;contain-intrinsic-size:auto 2rem"><div style="grid-area:spacer;display:flex"><div style="width:100%;display:flex"></div></div><div id=":R3qclmdaj5:" class="PRIVATE_TreeView-item-content"><div class="PRIVATE_VisuallyHidden" aria-hidden="true" id=":R3qclmdaj5H1:"></div><div class="PRIVATE_TreeView-item-visual" aria-hidden="true"><svg aria-hidden="true" focusable="false" role="img" class="octicon octicon-file" viewBox="0 0 16 16" width="16" height="16" fill="currentColor" style="display:inline-block;user-select:none;vertical-align:text-bottom;overflow:visible"><path d="M2 1.75C2 .784 2.784 0 3.75 0h6.586c.464 0 .909.184 1.237.513l2.914 2.914c.329.328.513.773.513 1.237v9.586A1.75 1.75 0 0 1 13.25 16h-9.5A1.75 1.75 0 0 1 2 14.25Zm1.75-.25a.25.25 0 0 0-.25.25v12.5c0 .138.112.25.25.25h9.5a.25.25 0 0 0 .25-.25V6h-2.75A1.75 1.75 0 0 1 9 4.25V1.5Zm6.75.062V4.25c0 .138.112.25.25.25h2.688l-.011-.013-2.914-2.914-.013-.011Z"></path></svg></div><span class="PRIVATE_TreeView-item-content-text"><span>00_Основы_Python_1.ipynb</span></span></div></div></li><li class="PRIVATE_TreeView-item" tabindex="0" id="01_Основы_Python_2.ipynb-item" role="treeitem" aria-labelledby=":R4aclmdaj5:" aria-describedby=":R4aclmdaj5H1: :R4aclmdaj5H2:" aria-level="1" aria-selected="false"><div class="PRIVATE_TreeView-item-container" style="--level:1;content-visibility:auto;contain-intrinsic-size:auto 2rem"><div style="grid-area:spacer;display:flex"><div style="width:100%;display:flex"></div></div><div id=":R4aclmdaj5:" class="PRIVATE_TreeView-item-content"><div class="PRIVATE_VisuallyHidden" aria-hidden="true" id=":R4aclmdaj5H1:"></div><div class="PRIVATE_TreeView-item-visual" aria-hidden="true"><svg aria-hidden="true" focusable="false" role="img" class="octicon octicon-file" viewBox="0 0 16 16" width="16" height="16" fill="currentColor" style="display:inline-block;user-select:none;vertical-align:text-bottom;overflow:visible"><path d="M2 1.75C2 .784 2.784 0 3.75 0h6.586c.464 0 .909.184 1.237.513l2.914 2.914c.329.328.513.773.513 1.237v9.586A1.75 1.75 0 0 1 13.25 16h-9.5A1.75 1.75 0 0 1 2 14.25Zm1.75-.25a.25.25 0 0 0-.25.25v12.5c0 .138.112.25.25.25h9.5a.25.25 0 0 0 .25-.25V6h-2.75A1.75 1.75 0 0 1 9 4.25V1.5Zm6.75.062V4.25c0 .138.112.25.25.25h2.688l-.011-.013-2.914-2.914-.013-.011Z"></path></svg></div><span class="PRIVATE_TreeView-item-content-text"><span>01_Основы_Python_2.ipynb</span></span></div></div></li><li class="PRIVATE_TreeView-item" tabindex="0" id="02_Знакомство с элементами ТВиМС.ipynb-item" role="treeitem" aria-labelledby=":R4qclmdaj5:" aria-describedby=":R4qclmdaj5H1: :R4qclmdaj5H2:" aria-level="1" aria-selected="false"><div class="PRIVATE_TreeView-item-container" style="--level:1;content-visibility:auto;contain-intrinsic-size:auto 2rem"><div style="grid-area:spacer;display:flex"><div style="width:100%;display:flex"></div></div><div id=":R4qclmdaj5:" class="PRIVATE_TreeView-item-content"><div class="PRIVATE_VisuallyHidden" aria-hidden="true" id=":R4qclmdaj5H1:"></div><div class="PRIVATE_TreeView-item-visual" aria-hidden="true"><svg aria-hidden="true" focusable="false" role="img" class="octicon octicon-file" viewBox="0 0 16 16" width="16" height="16" fill="currentColor" style="display:inline-block;user-select:none;vertical-align:text-bottom;overflow:visible"><path d="M2 1.75C2 .784 2.784 0 3.75 0h6.586c.464 0 .909.184 1.237.513l2.914 2.914c.329.328.513.773.513 1.237v9.586A1.75 1.75 0 0 1 13.25 16h-9.5A1.75 1.75 0 0 1 2 14.25Zm1.75-.25a.25.25 0 0 0-.25.25v12.5c0 .138.112.25.25.25h9.5a.25.25 0 0 0 .25-.25V6h-2.75A1.75 1.75 0 0 1 9 4.25V1.5Zm6.75.062V4.25c0 .138.112.25.25.25h2.688l-.011-.013-2.914-2.914-.013-.011Z"></path></svg></div><span class="PRIVATE_TreeView-item-content-text"><span>02_Знакомство с элементами ТВиМС.ipynb</span></span></div></div></li><li class="PRIVATE_TreeView-item" tabindex="0" id="03_Numpy.ipynb-item" role="treeitem" aria-labelledby=":R5aclmdaj5:" aria-describedby=":R5aclmdaj5H1: :R5aclmdaj5H2:" aria-level="1" aria-selected="false"><div class="PRIVATE_TreeView-item-container" style="--level:1;content-visibility:auto;contain-intrinsic-size:auto 2rem"><div style="grid-area:spacer;display:flex"><div style="width:100%;display:flex"></div></div><div id=":R5aclmdaj5:" class="PRIVATE_TreeView-item-content"><div class="PRIVATE_VisuallyHidden" aria-hidden="true" id=":R5aclmdaj5H1:"></div><div class="PRIVATE_TreeView-item-visual" aria-hidden="true"><svg aria-hidden="true" focusable="false" role="img" class="octicon octicon-file" viewBox="0 0 16 16" width="16" height="16" fill="currentColor" style="display:inline-block;user-select:none;vertical-align:text-bottom;overflow:visible"><path d="M2 1.75C2 .784 2.784 0 3.75 0h6.586c.464 0 .909.184 1.237.513l2.914 2.914c.329.328.513.773.513 1.237v9.586A1.75 1.75 0 0 1 13.25 16h-9.5A1.75 1.75 0 0 1 2 14.25Zm1.75-.25a.25.25 0 0 0-.25.25v12.5c0 .138.112.25.25.25h9.5a.25.25 0 0 0 .25-.25V6h-2.75A1.75 1.75 0 0 1 9 4.25V1.5Zm6.75.062V4.25c0 .138.112.25.25.25h2.688l-.011-.013-2.914-2.914-.013-.011Z"></path></svg></div><span class="PRIVATE_TreeView-item-content-text"><span>03_Numpy.ipynb</span></span></div></div></li><li class="PRIVATE_TreeView-item" tabindex="0" id="04_Pandas.ipynb-item" role="treeitem" aria-labelledby=":R5qclmdaj5:" aria-describedby=":R5qclmdaj5H1: :R5qclmdaj5H2:" aria-level="1" aria-selected="false"><div class="PRIVATE_TreeView-item-container" style="--level:1;content-visibility:auto;contain-intrinsic-size:auto 2rem"><div style="grid-area:spacer;display:flex"><div style="width:100%;display:flex"></div></div><div id=":R5qclmdaj5:" class="PRIVATE_TreeView-item-content"><div class="PRIVATE_VisuallyHidden" aria-hidden="true" id=":R5qclmdaj5H1:"></div><div class="PRIVATE_TreeView-item-visual" aria-hidden="true"><svg aria-hidden="true" focusable="false" role="img" class="octicon octicon-file" viewBox="0 0 16 16" width="16" height="16" fill="currentColor" style="display:inline-block;user-select:none;vertical-align:text-bottom;overflow:visible"><path d="M2 1.75C2 .784 2.784 0 3.75 0h6.586c.464 0 .909.184 1.237.513l2.914 2.914c.329.328.513.773.513 1.237v9.586A1.75 1.75 0 0 1 13.25 16h-9.5A1.75 1.75 0 0 1 2 14.25Zm1.75-.25a.25.25 0 0 0-.25.25v12.5c0 .138.112.25.25.25h9.5a.25.25 0 0 0 .25-.25V6h-2.75A1.75 1.75 0 0 1 9 4.25V1.5Zm6.75.062V4.25c0 .138.112.25.25.25h2.688l-.011-.013-2.914-2.914-.013-.011Z"></path></svg></div><span class="PRIVATE_TreeView-item-content-text"><span>04_Pandas.ipynb</span></span></div></div></li><li class="PRIVATE_TreeView-item" tabindex="0" id="05_Matplotlib.ipynb-item" role="treeitem" aria-labelledby=":R6aclmdaj5:" aria-describedby=":R6aclmdaj5H1: :R6aclmdaj5H2:" aria-level="1" aria-selected="false"><div class="PRIVATE_TreeView-item-container" style="--level:1;content-visibility:auto;contain-intrinsic-size:auto 2rem"><div style="grid-area:spacer;display:flex"><div style="width:100%;display:flex"></div></div><div id=":R6aclmdaj5:" class="PRIVATE_TreeView-item-content"><div class="PRIVATE_VisuallyHidden" aria-hidden="true" id=":R6aclmdaj5H1:"></div><div class="PRIVATE_TreeView-item-visual" aria-hidden="true"><svg aria-hidden="true" focusable="false" role="img" class="octicon octicon-file" viewBox="0 0 16 16" width="16" height="16" fill="currentColor" style="display:inline-block;user-select:none;vertical-align:text-bottom;overflow:visible"><path d="M2 1.75C2 .784 2.784 0 3.75 0h6.586c.464 0 .909.184 1.237.513l2.914 2.914c.329.328.513.773.513 1.237v9.586A1.75 1.75 0 0 1 13.25 16h-9.5A1.75 1.75 0 0 1 2 14.25Zm1.75-.25a.25.25 0 0 0-.25.25v12.5c0 .138.112.25.25.25h9.5a.25.25 0 0 0 .25-.25V6h-2.75A1.75 1.75 0 0 1 9 4.25V1.5Zm6.75.062V4.25c0 .138.112.25.25.25h2.688l-.011-.013-2.914-2.914-.013-.011Z"></path></svg></div><span class="PRIVATE_TreeView-item-content-text"><span>05_Matplotlib.ipynb</span></span></div></div></li><li class="PRIVATE_TreeView-item" tabindex="0" id="06_Условная вероятность.ipynb-item" role="treeitem" aria-labelledby=":R6qclmdaj5:" aria-describedby=":R6qclmdaj5H1: :R6qclmdaj5H2:" aria-level="1" aria-selected="false"><div class="PRIVATE_TreeView-item-container" style="--level:1;content-visibility:auto;contain-intrinsic-size:auto 2rem"><div style="grid-area:spacer;display:flex"><div style="width:100%;display:flex"></div></div><div id=":R6qclmdaj5:" class="PRIVATE_TreeView-item-content"><div class="PRIVATE_VisuallyHidden" aria-hidden="true" id=":R6qclmdaj5H1:"></div><div class="PRIVATE_TreeView-item-visual" aria-hidden="true"><svg aria-hidden="true" focusable="false" role="img" class="octicon octicon-file" viewBox="0 0 16 16" width="16" height="16" fill="currentColor" style="display:inline-block;user-select:none;vertical-align:text-bottom;overflow:visible"><path d="M2 1.75C2 .784 2.784 0 3.75 0h6.586c.464 0 .909.184 1.237.513l2.914 2.914c.329.328.513.773.513 1.237v9.586A1.75 1.75 0 0 1 13.25 16h-9.5A1.75 1.75 0 0 1 2 14.25Zm1.75-.25a.25.25 0 0 0-.25.25v12.5c0 .138.112.25.25.25h9.5a.25.25 0 0 0 .25-.25V6h-2.75A1.75 1.75 0 0 1 9 4.25V1.5Zm6.75.062V4.25c0 .138.112.25.25.25h2.688l-.011-.013-2.914-2.914-.013-.011Z"></path></svg></div><span class="PRIVATE_TreeView-item-content-text"><span>06_Условная вероятность.ipynb</span></span></div></div></li><li class="PRIVATE_TreeView-item" tabindex="0" id="07_Точечные оценки ТВиМС.ipynb-item" role="treeitem" aria-labelledby=":R7aclmdaj5:" aria-describedby=":R7aclmdaj5H1: :R7aclmdaj5H2:" aria-level="1" aria-selected="false"><div class="PRIVATE_TreeView-item-container" style="--level:1;content-visibility:auto;contain-intrinsic-size:auto 2rem"><div style="grid-area:spacer;display:flex"><div style="width:100%;display:flex"></div></div><div id=":R7aclmdaj5:" class="PRIVATE_TreeView-item-content"><div class="PRIVATE_VisuallyHidden" aria-hidden="true" id=":R7aclmdaj5H1:"></div><div class="PRIVATE_TreeView-item-visual" aria-hidden="true"><svg aria-hidden="true" focusable="false" role="img" class="octicon octicon-file" viewBox="0 0 16 16" width="16" height="16" fill="currentColor" style="display:inline-block;user-select:none;vertical-align:text-bottom;overflow:visible"><path d="M2 1.75C2 .784 2.784 0 3.75 0h6.586c.464 0 .909.184 1.237.513l2.914 2.914c.329.328.513.773.513 1.237v9.586A1.75 1.75 0 0 1 13.25 16h-9.5A1.75 1.75 0 0 1 2 14.25Zm1.75-.25a.25.25 0 0 0-.25.25v12.5c0 .138.112.25.25.25h9.5a.25.25 0 0 0 .25-.25V6h-2.75A1.75 1.75 0 0 1 9 4.25V1.5Zm6.75.062V4.25c0 .138.112.25.25.25h2.688l-.011-.013-2.914-2.914-.013-.011Z"></path></svg></div><span class="PRIVATE_TreeView-item-content-text"><span>07_Точечные оценки ТВиМС.ipynb</span></span></div></div></li><li class="PRIVATE_TreeView-item" tabindex="0" id="08_Гипотезы и ошибки.ipynb-item" role="treeitem" aria-labelledby=":R7qclmdaj5:" aria-describedby=":R7qclmdaj5H1: :R7qclmdaj5H2:" aria-level="1" aria-selected="false"><div class="PRIVATE_TreeView-item-container" style="--level:1;content-visibility:auto;contain-intrinsic-size:auto 2rem"><div style="grid-area:spacer;display:flex"><div style="width:100%;display:flex"></div></div><div id=":R7qclmdaj5:" class="PRIVATE_TreeView-item-content"><div class="PRIVATE_VisuallyHidden" aria-hidden="true" id=":R7qclmdaj5H1:"></div><div class="PRIVATE_TreeView-item-visual" aria-hidden="true"><svg aria-hidden="true" focusable="false" role="img" class="octicon octicon-file" viewBox="0 0 16 16" width="16" height="16" fill="currentColor" style="display:inline-block;user-select:none;vertical-align:text-bottom;overflow:visible"><path d="M2 1.75C2 .784 2.784 0 3.75 0h6.586c.464 0 .909.184 1.237.513l2.914 2.914c.329.328.513.773.513 1.237v9.586A1.75 1.75 0 0 1 13.25 16h-9.5A1.75 1.75 0 0 1 2 14.25Zm1.75-.25a.25.25 0 0 0-.25.25v12.5c0 .138.112.25.25.25h9.5a.25.25 0 0 0 .25-.25V6h-2.75A1.75 1.75 0 0 1 9 4.25V1.5Zm6.75.062V4.25c0 .138.112.25.25.25h2.688l-.011-.013-2.914-2.914-.013-.011Z"></path></svg></div><span class="PRIVATE_TreeView-item-content-text"><span>08_Гипотезы и ошибки.ipynb</span></span></div></div></li><li class="PRIVATE_TreeView-item" tabindex="0" id="09_Доверительный интервал.ipynb-item" role="treeitem" aria-labelledby=":R8aclmdaj5:" aria-describedby=":R8aclmdaj5H1: :R8aclmdaj5H2:" aria-level="1" aria-selected="false"><div class="PRIVATE_TreeView-item-container" style="--level:1;content-visibility:auto;contain-intrinsic-size:auto 2rem"><div style="grid-area:spacer;display:flex"><div style="width:100%;display:flex"></div></div><div id=":R8aclmdaj5:" class="PRIVATE_TreeView-item-content"><div class="PRIVATE_VisuallyHidden" aria-hidden="true" id=":R8aclmdaj5H1:"></div><div class="PRIVATE_TreeView-item-visual" aria-hidden="true"><svg aria-hidden="true" focusable="false" role="img" class="octicon octicon-file" viewBox="0 0 16 16" width="16" height="16" fill="currentColor" style="display:inline-block;user-select:none;vertical-align:text-bottom;overflow:visible"><path d="M2 1.75C2 .784 2.784 0 3.75 0h6.586c.464 0 .909.184 1.237.513l2.914 2.914c.329.328.513.773.513 1.237v9.586A1.75 1.75 0 0 1 13.25 16h-9.5A1.75 1.75 0 0 1 2 14.25Zm1.75-.25a.25.25 0 0 0-.25.25v12.5c0 .138.112.25.25.25h9.5a.25.25 0 0 0 .25-.25V6h-2.75A1.75 1.75 0 0 1 9 4.25V1.5Zm6.75.062V4.25c0 .138.112.25.25.25h2.688l-.011-.013-2.914-2.914-.013-.011Z"></path></svg></div><span class="PRIVATE_TreeView-item-content-text"><span>09_Доверительный интервал.ipynb</span></span></div></div></li><li class="PRIVATE_TreeView-item" tabindex="0" id="10_Пример решения первого обязательного дз.ipynb-item" role="treeitem" aria-labelledby=":R8qclmdaj5:" aria-describedby=":R8qclmdaj5H1: :R8qclmdaj5H2:" aria-level="1" aria-selected="false"><div class="PRIVATE_TreeView-item-container" style="--level:1;content-visibility:auto;contain-intrinsic-size:auto 2rem"><div style="grid-area:spacer;display:flex"><div style="width:100%;display:flex"></div></div><div id=":R8qclmdaj5:" class="PRIVATE_TreeView-item-content"><div class="PRIVATE_VisuallyHidden" aria-hidden="true" id=":R8qclmdaj5H1:"></div><div class="PRIVATE_TreeView-item-visual" aria-hidden="true"><svg aria-hidden="true" focusable="false" role="img" class="octicon octicon-file" viewBox="0 0 16 16" width="16" height="16" fill="currentColor" style="display:inline-block;user-select:none;vertical-align:text-bottom;overflow:visible"><path d="M2 1.75C2 .784 2.784 0 3.75 0h6.586c.464 0 .909.184 1.237.513l2.914 2.914c.329.328.513.773.513 1.237v9.586A1.75 1.75 0 0 1 13.25 16h-9.5A1.75 1.75 0 0 1 2 14.25Zm1.75-.25a.25.25 0 0 0-.25.25v12.5c0 .138.112.25.25.25h9.5a.25.25 0 0 0 .25-.25V6h-2.75A1.75 1.75 0 0 1 9 4.25V1.5Zm6.75.062V4.25c0 .138.112.25.25.25h2.688l-.011-.013-2.914-2.914-.013-.011Z"></path></svg></div><span class="PRIVATE_TreeView-item-content-text"><span>10_Пример решения первого обязательного дз.ipynb</span></span></div></div></li><li class="PRIVATE_TreeView-item" tabindex="0" id="11_Линейные_методы_регрессии_Линейная_регрессия_1.ipynb-item" role="treeitem" aria-labelledby=":R9aclmdaj5:" aria-describedby=":R9aclmdaj5H1: :R9aclmdaj5H2:" aria-level="1" aria-selected="false"><div class="PRIVATE_TreeView-item-container" style="--level:1;content-visibility:auto;contain-intrinsic-size:auto 2rem"><div style="grid-area:spacer;display:flex"><div style="width:100%;display:flex"></div></div><div id=":R9aclmdaj5:" class="PRIVATE_TreeView-item-content"><div class="PRIVATE_VisuallyHidden" aria-hidden="true" id=":R9aclmdaj5H1:"></div><div class="PRIVATE_TreeView-item-visual" aria-hidden="true"><svg aria-hidden="true" focusable="false" role="img" class="octicon octicon-file" viewBox="0 0 16 16" width="16" height="16" fill="currentColor" style="display:inline-block;user-select:none;vertical-align:text-bottom;overflow:visible"><path d="M2 1.75C2 .784 2.784 0 3.75 0h6.586c.464 0 .909.184 1.237.513l2.914 2.914c.329.328.513.773.513 1.237v9.586A1.75 1.75 0 0 1 13.25 16h-9.5A1.75 1.75 0 0 1 2 14.25Zm1.75-.25a.25.25 0 0 0-.25.25v12.5c0 .138.112.25.25.25h9.5a.25.25 0 0 0 .25-.25V6h-2.75A1.75 1.75 0 0 1 9 4.25V1.5Zm6.75.062V4.25c0 .138.112.25.25.25h2.688l-.011-.013-2.914-2.914-.013-.011Z"></path></svg></div><span class="PRIVATE_TreeView-item-content-text"><span>11_Линейные_методы_регрессии_Линейная_регрессия_1.ipynb</span></span></div></div></li><li class="PRIVATE_TreeView-item" tabindex="0" id="12_Линейные_методы_регрессии_Линейная_регрессия_2.ipynb-item" role="treeitem" aria-labelledby=":R9qclmdaj5:" aria-describedby=":R9qclmdaj5H1: :R9qclmdaj5H2:" aria-level="1" aria-selected="false"><div class="PRIVATE_TreeView-item-container" style="--level:1;content-visibility:auto;contain-intrinsic-size:auto 2rem"><div style="grid-area:spacer;display:flex"><div style="width:100%;display:flex"></div></div><div id=":R9qclmdaj5:" class="PRIVATE_TreeView-item-content"><div class="PRIVATE_VisuallyHidden" aria-hidden="true" id=":R9qclmdaj5H1:"></div><div class="PRIVATE_TreeView-item-visual" aria-hidden="true"><svg aria-hidden="true" focusable="false" role="img" class="octicon octicon-file" viewBox="0 0 16 16" width="16" height="16" fill="currentColor" style="display:inline-block;user-select:none;vertical-align:text-bottom;overflow:visible"><path d="M2 1.75C2 .784 2.784 0 3.75 0h6.586c.464 0 .909.184 1.237.513l2.914 2.914c.329.328.513.773.513 1.237v9.586A1.75 1.75 0 0 1 13.25 16h-9.5A1.75 1.75 0 0 1 2 14.25Zm1.75-.25a.25.25 0 0 0-.25.25v12.5c0 .138.112.25.25.25h9.5a.25.25 0 0 0 .25-.25V6h-2.75A1.75 1.75 0 0 1 9 4.25V1.5Zm6.75.062V4.25c0 .138.112.25.25.25h2.688l-.011-.013-2.914-2.914-.013-.011Z"></path></svg></div><span class="PRIVATE_TreeView-item-content-text"><span>12_Линейные_методы_регрессии_Линейная_регрессия_2.ipynb</span></span></div></div></li><li class="PRIVATE_TreeView-item" tabindex="0" id="13_Обучение_без_градиента.ipynb-item" role="treeitem" aria-labelledby=":Raaclmdaj5:" aria-describedby=":Raaclmdaj5H1: :Raaclmdaj5H2:" aria-level="1" aria-current="true" aria-selected="false"><div class="PRIVATE_TreeView-item-container" style="--level:1"><div style="grid-area:spacer;display:flex"><div style="width:100%;display:flex"></div></div><div id=":Raaclmdaj5:" class="PRIVATE_TreeView-item-content"><div class="PRIVATE_VisuallyHidden" aria-hidden="true" id=":Raaclmdaj5H1:"></div><div class="PRIVATE_TreeView-item-visual" aria-hidden="true"><svg aria-hidden="true" focusable="false" role="img" class="octicon octicon-file" viewBox="0 0 16 16" width="16" height="16" fill="currentColor" style="display:inline-block;user-select:none;vertical-align:text-bottom;overflow:visible"><path d="M2 1.75C2 .784 2.784 0 3.75 0h6.586c.464 0 .909.184 1.237.513l2.914 2.914c.329.328.513.773.513 1.237v9.586A1.75 1.75 0 0 1 13.25 16h-9.5A1.75 1.75 0 0 1 2 14.25Zm1.75-.25a.25.25 0 0 0-.25.25v12.5c0 .138.112.25.25.25h9.5a.25.25 0 0 0 .25-.25V6h-2.75A1.75 1.75 0 0 1 9 4.25V1.5Zm6.75.062V4.25c0 .138.112.25.25.25h2.688l-.011-.013-2.914-2.914-.013-.011Z"></path></svg></div><span class="PRIVATE_TreeView-item-content-text"><span>13_Обучение_без_градиента.ipynb</span></span></div></div></li><li class="PRIVATE_TreeView-item" tabindex="0" id="14_Градиентный спуск.ipynb-item" role="treeitem" aria-labelledby=":Raqclmdaj5:" aria-describedby=":Raqclmdaj5H1: :Raqclmdaj5H2:" aria-level="1" aria-selected="false"><div class="PRIVATE_TreeView-item-container" style="--level:1;content-visibility:auto;contain-intrinsic-size:auto 2rem"><div style="grid-area:spacer;display:flex"><div style="width:100%;display:flex"></div></div><div id=":Raqclmdaj5:" class="PRIVATE_TreeView-item-content"><div class="PRIVATE_VisuallyHidden" aria-hidden="true" id=":Raqclmdaj5H1:"></div><div class="PRIVATE_TreeView-item-visual" aria-hidden="true"><svg aria-hidden="true" focusable="false" role="img" class="octicon octicon-file" viewBox="0 0 16 16" width="16" height="16" fill="currentColor" style="display:inline-block;user-select:none;vertical-align:text-bottom;overflow:visible"><path d="M2 1.75C2 .784 2.784 0 3.75 0h6.586c.464 0 .909.184 1.237.513l2.914 2.914c.329.328.513.773.513 1.237v9.586A1.75 1.75 0 0 1 13.25 16h-9.5A1.75 1.75 0 0 1 2 14.25Zm1.75-.25a.25.25 0 0 0-.25.25v12.5c0 .138.112.25.25.25h9.5a.25.25 0 0 0 .25-.25V6h-2.75A1.75 1.75 0 0 1 9 4.25V1.5Zm6.75.062V4.25c0 .138.112.25.25.25h2.688l-.011-.013-2.914-2.914-.013-.011Z"></path></svg></div><span class="PRIVATE_TreeView-item-content-text"><span>14_Градиентный спуск.ipynb</span></span></div></div></li><li class="PRIVATE_TreeView-item" tabindex="0" id="15_Логистическая регрессия.ipynb-item" role="treeitem" aria-labelledby=":Rbaclmdaj5:" aria-describedby=":Rbaclmdaj5H1: :Rbaclmdaj5H2:" aria-level="1" aria-selected="false"><div class="PRIVATE_TreeView-item-container" style="--level:1;content-visibility:auto;contain-intrinsic-size:auto 2rem"><div style="grid-area:spacer;display:flex"><div style="width:100%;display:flex"></div></div><div id=":Rbaclmdaj5:" class="PRIVATE_TreeView-item-content"><div class="PRIVATE_VisuallyHidden" aria-hidden="true" id=":Rbaclmdaj5H1:"></div><div class="PRIVATE_TreeView-item-visual" aria-hidden="true"><svg aria-hidden="true" focusable="false" role="img" class="octicon octicon-file" viewBox="0 0 16 16" width="16" height="16" fill="currentColor" style="display:inline-block;user-select:none;vertical-align:text-bottom;overflow:visible"><path d="M2 1.75C2 .784 2.784 0 3.75 0h6.586c.464 0 .909.184 1.237.513l2.914 2.914c.329.328.513.773.513 1.237v9.586A1.75 1.75 0 0 1 13.25 16h-9.5A1.75 1.75 0 0 1 2 14.25Zm1.75-.25a.25.25 0 0 0-.25.25v12.5c0 .138.112.25.25.25h9.5a.25.25 0 0 0 .25-.25V6h-2.75A1.75 1.75 0 0 1 9 4.25V1.5Zm6.75.062V4.25c0 .138.112.25.25.25h2.688l-.011-.013-2.914-2.914-.013-.011Z"></path></svg></div><span class="PRIVATE_TreeView-item-content-text"><span>15_Логистическая регрессия.ipynb</span></span></div></div></li><li class="PRIVATE_TreeView-item" tabindex="0" id="16_Оценка_качества_классификации.ipynb-item" role="treeitem" aria-labelledby=":Rbqclmdaj5:" aria-describedby=":Rbqclmdaj5H1: :Rbqclmdaj5H2:" aria-level="1" aria-selected="false"><div class="PRIVATE_TreeView-item-container" style="--level:1;content-visibility:auto;contain-intrinsic-size:auto 2rem"><div style="grid-area:spacer;display:flex"><div style="width:100%;display:flex"></div></div><div id=":Rbqclmdaj5:" class="PRIVATE_TreeView-item-content"><div class="PRIVATE_VisuallyHidden" aria-hidden="true" id=":Rbqclmdaj5H1:"></div><div class="PRIVATE_TreeView-item-visual" aria-hidden="true"><svg aria-hidden="true" focusable="false" role="img" class="octicon octicon-file" viewBox="0 0 16 16" width="16" height="16" fill="currentColor" style="display:inline-block;user-select:none;vertical-align:text-bottom;overflow:visible"><path d="M2 1.75C2 .784 2.784 0 3.75 0h6.586c.464 0 .909.184 1.237.513l2.914 2.914c.329.328.513.773.513 1.237v9.586A1.75 1.75 0 0 1 13.25 16h-9.5A1.75 1.75 0 0 1 2 14.25Zm1.75-.25a.25.25 0 0 0-.25.25v12.5c0 .138.112.25.25.25h9.5a.25.25 0 0 0 .25-.25V6h-2.75A1.75 1.75 0 0 1 9 4.25V1.5Zm6.75.062V4.25c0 .138.112.25.25.25h2.688l-.011-.013-2.914-2.914-.013-.011Z"></path></svg></div><span class="PRIVATE_TreeView-item-content-text"><span>16_Оценка_качества_классификации.ipynb</span></span></div></div></li><li class="PRIVATE_TreeView-item" tabindex="0" id="17_Кластеризация.ipynb-item" role="treeitem" aria-labelledby=":Rcaclmdaj5:" aria-describedby=":Rcaclmdaj5H1: :Rcaclmdaj5H2:" aria-level="1" aria-selected="false"><div class="PRIVATE_TreeView-item-container" style="--level:1;content-visibility:auto;contain-intrinsic-size:auto 2rem"><div style="grid-area:spacer;display:flex"><div style="width:100%;display:flex"></div></div><div id=":Rcaclmdaj5:" class="PRIVATE_TreeView-item-content"><div class="PRIVATE_VisuallyHidden" aria-hidden="true" id=":Rcaclmdaj5H1:"></div><div class="PRIVATE_TreeView-item-visual" aria-hidden="true"><svg aria-hidden="true" focusable="false" role="img" class="octicon octicon-file" viewBox="0 0 16 16" width="16" height="16" fill="currentColor" style="display:inline-block;user-select:none;vertical-align:text-bottom;overflow:visible"><path d="M2 1.75C2 .784 2.784 0 3.75 0h6.586c.464 0 .909.184 1.237.513l2.914 2.914c.329.328.513.773.513 1.237v9.586A1.75 1.75 0 0 1 13.25 16h-9.5A1.75 1.75 0 0 1 2 14.25Zm1.75-.25a.25.25 0 0 0-.25.25v12.5c0 .138.112.25.25.25h9.5a.25.25 0 0 0 .25-.25V6h-2.75A1.75 1.75 0 0 1 9 4.25V1.5Zm6.75.062V4.25c0 .138.112.25.25.25h2.688l-.011-.013-2.914-2.914-.013-.011Z"></path></svg></div><span class="PRIVATE_TreeView-item-content-text"><span>17_Кластеризация.ipynb</span></span></div></div></li><li class="PRIVATE_TreeView-item" tabindex="0" id="18_Работа_с_категориальными_данными.ipynb-item" role="treeitem" aria-labelledby=":Rcqclmdaj5:" aria-describedby=":Rcqclmdaj5H1: :Rcqclmdaj5H2:" aria-level="1" aria-selected="false"><div class="PRIVATE_TreeView-item-container" style="--level:1;content-visibility:auto;contain-intrinsic-size:auto 2rem"><div style="grid-area:spacer;display:flex"><div style="width:100%;display:flex"></div></div><div id=":Rcqclmdaj5:" class="PRIVATE_TreeView-item-content"><div class="PRIVATE_VisuallyHidden" aria-hidden="true" id=":Rcqclmdaj5H1:"></div><div class="PRIVATE_TreeView-item-visual" aria-hidden="true"><svg aria-hidden="true" focusable="false" role="img" class="octicon octicon-file" viewBox="0 0 16 16" width="16" height="16" fill="currentColor" style="display:inline-block;user-select:none;vertical-align:text-bottom;overflow:visible"><path d="M2 1.75C2 .784 2.784 0 3.75 0h6.586c.464 0 .909.184 1.237.513l2.914 2.914c.329.328.513.773.513 1.237v9.586A1.75 1.75 0 0 1 13.25 16h-9.5A1.75 1.75 0 0 1 2 14.25Zm1.75-.25a.25.25 0 0 0-.25.25v12.5c0 .138.112.25.25.25h9.5a.25.25 0 0 0 .25-.25V6h-2.75A1.75 1.75 0 0 1 9 4.25V1.5Zm6.75.062V4.25c0 .138.112.25.25.25h2.688l-.011-.013-2.914-2.914-.013-.011Z"></path></svg></div><span class="PRIVATE_TreeView-item-content-text"><span>18_Работа_с_категориальными_данными.ipynb</span></span></div></div></li><li class="PRIVATE_TreeView-item" tabindex="0" id="19_Дерево_решения.ipynb-item" role="treeitem" aria-labelledby=":Rdaclmdaj5:" aria-describedby=":Rdaclmdaj5H1: :Rdaclmdaj5H2:" aria-level="1" aria-selected="false"><div class="PRIVATE_TreeView-item-container" style="--level:1;content-visibility:auto;contain-intrinsic-size:auto 2rem"><div style="grid-area:spacer;display:flex"><div style="width:100%;display:flex"></div></div><div id=":Rdaclmdaj5:" class="PRIVATE_TreeView-item-content"><div class="PRIVATE_VisuallyHidden" aria-hidden="true" id=":Rdaclmdaj5H1:"></div><div class="PRIVATE_TreeView-item-visual" aria-hidden="true"><svg aria-hidden="true" focusable="false" role="img" class="octicon octicon-file" viewBox="0 0 16 16" width="16" height="16" fill="currentColor" style="display:inline-block;user-select:none;vertical-align:text-bottom;overflow:visible"><path d="M2 1.75C2 .784 2.784 0 3.75 0h6.586c.464 0 .909.184 1.237.513l2.914 2.914c.329.328.513.773.513 1.237v9.586A1.75 1.75 0 0 1 13.25 16h-9.5A1.75 1.75 0 0 1 2 14.25Zm1.75-.25a.25.25 0 0 0-.25.25v12.5c0 .138.112.25.25.25h9.5a.25.25 0 0 0 .25-.25V6h-2.75A1.75 1.75 0 0 1 9 4.25V1.5Zm6.75.062V4.25c0 .138.112.25.25.25h2.688l-.011-.013-2.914-2.914-.013-.011Z"></path></svg></div><span class="PRIVATE_TreeView-item-content-text"><span>19_Дерево_решения.ipynb</span></span></div></div></li><li class="PRIVATE_TreeView-item" tabindex="0" id="20_Случайный_лес.ipynb-item" role="treeitem" aria-labelledby=":Rdqclmdaj5:" aria-describedby=":Rdqclmdaj5H1: :Rdqclmdaj5H2:" aria-level="1" aria-selected="false"><div class="PRIVATE_TreeView-item-container" style="--level:1;content-visibility:auto;contain-intrinsic-size:auto 2rem"><div style="grid-area:spacer;display:flex"><div style="width:100%;display:flex"></div></div><div id=":Rdqclmdaj5:" class="PRIVATE_TreeView-item-content"><div class="PRIVATE_VisuallyHidden" aria-hidden="true" id=":Rdqclmdaj5H1:"></div><div class="PRIVATE_TreeView-item-visual" aria-hidden="true"><svg aria-hidden="true" focusable="false" role="img" class="octicon octicon-file" viewBox="0 0 16 16" width="16" height="16" fill="currentColor" style="display:inline-block;user-select:none;vertical-align:text-bottom;overflow:visible"><path d="M2 1.75C2 .784 2.784 0 3.75 0h6.586c.464 0 .909.184 1.237.513l2.914 2.914c.329.328.513.773.513 1.237v9.586A1.75 1.75 0 0 1 13.25 16h-9.5A1.75 1.75 0 0 1 2 14.25Zm1.75-.25a.25.25 0 0 0-.25.25v12.5c0 .138.112.25.25.25h9.5a.25.25 0 0 0 .25-.25V6h-2.75A1.75 1.75 0 0 1 9 4.25V1.5Zm6.75.062V4.25c0 .138.112.25.25.25h2.688l-.011-.013-2.914-2.914-.013-.011Z"></path></svg></div><span class="PRIVATE_TreeView-item-content-text"><span>20_Случайный_лес.ipynb</span></span></div></div></li><li class="PRIVATE_TreeView-item" tabindex="0" id="21_Сравнение_леса_и_дерева_+_подбор_параметров.ipynb-item" role="treeitem" aria-labelledby=":Reaclmdaj5:" aria-describedby=":Reaclmdaj5H1: :Reaclmdaj5H2:" aria-level="1" aria-selected="false"><div class="PRIVATE_TreeView-item-container" style="--level:1;content-visibility:auto;contain-intrinsic-size:auto 2rem"><div style="grid-area:spacer;display:flex"><div style="width:100%;display:flex"></div></div><div id=":Reaclmdaj5:" class="PRIVATE_TreeView-item-content"><div class="PRIVATE_VisuallyHidden" aria-hidden="true" id=":Reaclmdaj5H1:"></div><div class="PRIVATE_TreeView-item-visual" aria-hidden="true"><svg aria-hidden="true" focusable="false" role="img" class="octicon octicon-file" viewBox="0 0 16 16" width="16" height="16" fill="currentColor" style="display:inline-block;user-select:none;vertical-align:text-bottom;overflow:visible"><path d="M2 1.75C2 .784 2.784 0 3.75 0h6.586c.464 0 .909.184 1.237.513l2.914 2.914c.329.328.513.773.513 1.237v9.586A1.75 1.75 0 0 1 13.25 16h-9.5A1.75 1.75 0 0 1 2 14.25Zm1.75-.25a.25.25 0 0 0-.25.25v12.5c0 .138.112.25.25.25h9.5a.25.25 0 0 0 .25-.25V6h-2.75A1.75 1.75 0 0 1 9 4.25V1.5Zm6.75.062V4.25c0 .138.112.25.25.25h2.688l-.011-.013-2.914-2.914-.013-.011Z"></path></svg></div><span class="PRIVATE_TreeView-item-content-text"><span>21_Сравнение_леса_и_дерева_+_подбор_параметров.ipynb</span></span></div></div></li><li class="PRIVATE_TreeView-item" tabindex="0" id="22_Бустинг.ipynb-item" role="treeitem" aria-labelledby=":Reqclmdaj5:" aria-describedby=":Reqclmdaj5H1: :Reqclmdaj5H2:" aria-level="1" aria-selected="false"><div class="PRIVATE_TreeView-item-container" style="--level:1;content-visibility:auto;contain-intrinsic-size:auto 2rem"><div style="grid-area:spacer;display:flex"><div style="width:100%;display:flex"></div></div><div id=":Reqclmdaj5:" class="PRIVATE_TreeView-item-content"><div class="PRIVATE_VisuallyHidden" aria-hidden="true" id=":Reqclmdaj5H1:"></div><div class="PRIVATE_TreeView-item-visual" aria-hidden="true"><svg aria-hidden="true" focusable="false" role="img" class="octicon octicon-file" viewBox="0 0 16 16" width="16" height="16" fill="currentColor" style="display:inline-block;user-select:none;vertical-align:text-bottom;overflow:visible"><path d="M2 1.75C2 .784 2.784 0 3.75 0h6.586c.464 0 .909.184 1.237.513l2.914 2.914c.329.328.513.773.513 1.237v9.586A1.75 1.75 0 0 1 13.25 16h-9.5A1.75 1.75 0 0 1 2 14.25Zm1.75-.25a.25.25 0 0 0-.25.25v12.5c0 .138.112.25.25.25h9.5a.25.25 0 0 0 .25-.25V6h-2.75A1.75 1.75 0 0 1 9 4.25V1.5Zm6.75.062V4.25c0 .138.112.25.25.25h2.688l-.011-.013-2.914-2.914-.013-.011Z"></path></svg></div><span class="PRIVATE_TreeView-item-content-text"><span>22_Бустинг.ipynb</span></span></div></div></li><li class="PRIVATE_TreeView-item" tabindex="0" id="23_Наивный_баес.ipynb-item" role="treeitem" aria-labelledby=":Rfaclmdaj5:" aria-describedby=":Rfaclmdaj5H1: :Rfaclmdaj5H2:" aria-level="1" aria-selected="false"><div class="PRIVATE_TreeView-item-container" style="--level:1;content-visibility:auto;contain-intrinsic-size:auto 2rem"><div style="grid-area:spacer;display:flex"><div style="width:100%;display:flex"></div></div><div id=":Rfaclmdaj5:" class="PRIVATE_TreeView-item-content"><div class="PRIVATE_VisuallyHidden" aria-hidden="true" id=":Rfaclmdaj5H1:"></div><div class="PRIVATE_TreeView-item-visual" aria-hidden="true"><svg aria-hidden="true" focusable="false" role="img" class="octicon octicon-file" viewBox="0 0 16 16" width="16" height="16" fill="currentColor" style="display:inline-block;user-select:none;vertical-align:text-bottom;overflow:visible"><path d="M2 1.75C2 .784 2.784 0 3.75 0h6.586c.464 0 .909.184 1.237.513l2.914 2.914c.329.328.513.773.513 1.237v9.586A1.75 1.75 0 0 1 13.25 16h-9.5A1.75 1.75 0 0 1 2 14.25Zm1.75-.25a.25.25 0 0 0-.25.25v12.5c0 .138.112.25.25.25h9.5a.25.25 0 0 0 .25-.25V6h-2.75A1.75 1.75 0 0 1 9 4.25V1.5Zm6.75.062V4.25c0 .138.112.25.25.25h2.688l-.011-.013-2.914-2.914-.013-.011Z"></path></svg></div><span class="PRIVATE_TreeView-item-content-text"><span>23_Наивный_баес.ipynb</span></span></div></div></li><li class="PRIVATE_TreeView-item" tabindex="0" id="README.md-item" role="treeitem" aria-labelledby=":Rfqclmdaj5:" aria-describedby=":Rfqclmdaj5H1: :Rfqclmdaj5H2:" aria-level="1" aria-selected="false"><div class="PRIVATE_TreeView-item-container" style="--level:1;content-visibility:auto;contain-intrinsic-size:auto 2rem"><div style="grid-area:spacer;display:flex"><div style="width:100%;display:flex"></div></div><div id=":Rfqclmdaj5:" class="PRIVATE_TreeView-item-content"><div class="PRIVATE_VisuallyHidden" aria-hidden="true" id=":Rfqclmdaj5H1:"></div><div class="PRIVATE_TreeView-item-visual" aria-hidden="true"><svg aria-hidden="true" focusable="false" role="img" class="octicon octicon-file" viewBox="0 0 16 16" width="16" height="16" fill="currentColor" style="display:inline-block;user-select:none;vertical-align:text-bottom;overflow:visible"><path d="M2 1.75C2 .784 2.784 0 3.75 0h6.586c.464 0 .909.184 1.237.513l2.914 2.914c.329.328.513.773.513 1.237v9.586A1.75 1.75 0 0 1 13.25 16h-9.5A1.75 1.75 0 0 1 2 14.25Zm1.75-.25a.25.25 0 0 0-.25.25v12.5c0 .138.112.25.25.25h9.5a.25.25 0 0 0 .25-.25V6h-2.75A1.75 1.75 0 0 1 9 4.25V1.5Zm6.75.062V4.25c0 .138.112.25.25.25h2.688l-.011-.013-2.914-2.914-.013-.011Z"></path></svg></div><span class="PRIVATE_TreeView-item-content-text"><span>README.md</span></span></div></div></li><li class="PRIVATE_TreeView-item" tabindex="0" id="Коллоквиум_1_Вариант_1_МИСиС.ipynb-item" role="treeitem" aria-labelledby=":Rgaclmdaj5:" aria-describedby=":Rgaclmdaj5H1: :Rgaclmdaj5H2:" aria-level="1" aria-selected="false"><div class="PRIVATE_TreeView-item-container" style="--level:1;content-visibility:auto;contain-intrinsic-size:auto 2rem"><div style="grid-area:spacer;display:flex"><div style="width:100%;display:flex"></div></div><div id=":Rgaclmdaj5:" class="PRIVATE_TreeView-item-content"><div class="PRIVATE_VisuallyHidden" aria-hidden="true" id=":Rgaclmdaj5H1:"></div><div class="PRIVATE_TreeView-item-visual" aria-hidden="true"><svg aria-hidden="true" focusable="false" role="img" class="octicon octicon-file" viewBox="0 0 16 16" width="16" height="16" fill="currentColor" style="display:inline-block;user-select:none;vertical-align:text-bottom;overflow:visible"><path d="M2 1.75C2 .784 2.784 0 3.75 0h6.586c.464 0 .909.184 1.237.513l2.914 2.914c.329.328.513.773.513 1.237v9.586A1.75 1.75 0 0 1 13.25 16h-9.5A1.75 1.75 0 0 1 2 14.25Zm1.75-.25a.25.25 0 0 0-.25.25v12.5c0 .138.112.25.25.25h9.5a.25.25 0 0 0 .25-.25V6h-2.75A1.75 1.75 0 0 1 9 4.25V1.5Zm6.75.062V4.25c0 .138.112.25.25.25h2.688l-.011-.013-2.914-2.914-.013-.011Z"></path></svg></div><span class="PRIVATE_TreeView-item-content-text"><span>Коллоквиум_1_Вариант_1_МИСиС.ipynb</span></span></div></div></li><li class="PRIVATE_TreeView-item" tabindex="0" id="Коллоквиум_1_Вариант_2_МИСиС.ipynb-item" role="treeitem" aria-labelledby=":Rgqclmdaj5:" aria-describedby=":Rgqclmdaj5H1: :Rgqclmdaj5H2:" aria-level="1" aria-selected="false"><div class="PRIVATE_TreeView-item-container" style="--level:1;content-visibility:auto;contain-intrinsic-size:auto 2rem"><div style="grid-area:spacer;display:flex"><div style="width:100%;display:flex"></div></div><div id=":Rgqclmdaj5:" class="PRIVATE_TreeView-item-content"><div class="PRIVATE_VisuallyHidden" aria-hidden="true" id=":Rgqclmdaj5H1:"></div><div class="PRIVATE_TreeView-item-visual" aria-hidden="true"><svg aria-hidden="true" focusable="false" role="img" class="octicon octicon-file" viewBox="0 0 16 16" width="16" height="16" fill="currentColor" style="display:inline-block;user-select:none;vertical-align:text-bottom;overflow:visible"><path d="M2 1.75C2 .784 2.784 0 3.75 0h6.586c.464 0 .909.184 1.237.513l2.914 2.914c.329.328.513.773.513 1.237v9.586A1.75 1.75 0 0 1 13.25 16h-9.5A1.75 1.75 0 0 1 2 14.25Zm1.75-.25a.25.25 0 0 0-.25.25v12.5c0 .138.112.25.25.25h9.5a.25.25 0 0 0 .25-.25V6h-2.75A1.75 1.75 0 0 1 9 4.25V1.5Zm6.75.062V4.25c0 .138.112.25.25.25h2.688l-.011-.013-2.914-2.914-.013-.011Z"></path></svg></div><span class="PRIVATE_TreeView-item-content-text"><span>Коллоквиум_1_Вариант_2_МИСиС.ipynb</span></span></div></div></li><li class="PRIVATE_TreeView-item" tabindex="0" id="Коллоквиум_1_Вариант_3_МИСиС.ipynb-item" role="treeitem" aria-labelledby=":Rhaclmdaj5:" aria-describedby=":Rhaclmdaj5H1: :Rhaclmdaj5H2:" aria-level="1" aria-selected="false"><div class="PRIVATE_TreeView-item-container" style="--level:1;content-visibility:auto;contain-intrinsic-size:auto 2rem"><div style="grid-area:spacer;display:flex"><div style="width:100%;display:flex"></div></div><div id=":Rhaclmdaj5:" class="PRIVATE_TreeView-item-content"><div class="PRIVATE_VisuallyHidden" aria-hidden="true" id=":Rhaclmdaj5H1:"></div><div class="PRIVATE_TreeView-item-visual" aria-hidden="true"><svg aria-hidden="true" focusable="false" role="img" class="octicon octicon-file" viewBox="0 0 16 16" width="16" height="16" fill="currentColor" style="display:inline-block;user-select:none;vertical-align:text-bottom;overflow:visible"><path d="M2 1.75C2 .784 2.784 0 3.75 0h6.586c.464 0 .909.184 1.237.513l2.914 2.914c.329.328.513.773.513 1.237v9.586A1.75 1.75 0 0 1 13.25 16h-9.5A1.75 1.75 0 0 1 2 14.25Zm1.75-.25a.25.25 0 0 0-.25.25v12.5c0 .138.112.25.25.25h9.5a.25.25 0 0 0 .25-.25V6h-2.75A1.75 1.75 0 0 1 9 4.25V1.5Zm6.75.062V4.25c0 .138.112.25.25.25h2.688l-.011-.013-2.914-2.914-.013-.011Z"></path></svg></div><span class="PRIVATE_TreeView-item-content-text"><span>Коллоквиум_1_Вариант_3_МИСиС.ipynb</span></span></div></div></li><li class="PRIVATE_TreeView-item" tabindex="0" id="Коллоквиум_1_Вариант_4_МИСиС.ipynb-item" role="treeitem" aria-labelledby=":Rhqclmdaj5:" aria-describedby=":Rhqclmdaj5H1: :Rhqclmdaj5H2:" aria-level="1" aria-selected="false"><div class="PRIVATE_TreeView-item-container" style="--level:1;content-visibility:auto;contain-intrinsic-size:auto 2rem"><div style="grid-area:spacer;display:flex"><div style="width:100%;display:flex"></div></div><div id=":Rhqclmdaj5:" class="PRIVATE_TreeView-item-content"><div class="PRIVATE_VisuallyHidden" aria-hidden="true" id=":Rhqclmdaj5H1:"></div><div class="PRIVATE_TreeView-item-visual" aria-hidden="true"><svg aria-hidden="true" focusable="false" role="img" class="octicon octicon-file" viewBox="0 0 16 16" width="16" height="16" fill="currentColor" style="display:inline-block;user-select:none;vertical-align:text-bottom;overflow:visible"><path d="M2 1.75C2 .784 2.784 0 3.75 0h6.586c.464 0 .909.184 1.237.513l2.914 2.914c.329.328.513.773.513 1.237v9.586A1.75 1.75 0 0 1 13.25 16h-9.5A1.75 1.75 0 0 1 2 14.25Zm1.75-.25a.25.25 0 0 0-.25.25v12.5c0 .138.112.25.25.25h9.5a.25.25 0 0 0 .25-.25V6h-2.75A1.75 1.75 0 0 1 9 4.25V1.5Zm6.75.062V4.25c0 .138.112.25.25.25h2.688l-.011-.013-2.914-2.914-.013-.011Z"></path></svg></div><span class="PRIVATE_TreeView-item-content-text"><span>Коллоквиум_1_Вариант_4_МИСиС.ipynb</span></span></div></div></li><li class="PRIVATE_TreeView-item" tabindex="0" id="Коллоквиум_1_Вариант_5_МИСиС.ipynb-item" role="treeitem" aria-labelledby=":Riaclmdaj5:" aria-describedby=":Riaclmdaj5H1: :Riaclmdaj5H2:" aria-level="1" aria-selected="false"><div class="PRIVATE_TreeView-item-container" style="--level:1;content-visibility:auto;contain-intrinsic-size:auto 2rem"><div style="grid-area:spacer;display:flex"><div style="width:100%;display:flex"></div></div><div id=":Riaclmdaj5:" class="PRIVATE_TreeView-item-content"><div class="PRIVATE_VisuallyHidden" aria-hidden="true" id=":Riaclmdaj5H1:"></div><div class="PRIVATE_TreeView-item-visual" aria-hidden="true"><svg aria-hidden="true" focusable="false" role="img" class="octicon octicon-file" viewBox="0 0 16 16" width="16" height="16" fill="currentColor" style="display:inline-block;user-select:none;vertical-align:text-bottom;overflow:visible"><path d="M2 1.75C2 .784 2.784 0 3.75 0h6.586c.464 0 .909.184 1.237.513l2.914 2.914c.329.328.513.773.513 1.237v9.586A1.75 1.75 0 0 1 13.25 16h-9.5A1.75 1.75 0 0 1 2 14.25Zm1.75-.25a.25.25 0 0 0-.25.25v12.5c0 .138.112.25.25.25h9.5a.25.25 0 0 0 .25-.25V6h-2.75A1.75 1.75 0 0 1 9 4.25V1.5Zm6.75.062V4.25c0 .138.112.25.25.25h2.688l-.011-.013-2.914-2.914-.013-.011Z"></path></svg></div><span class="PRIVATE_TreeView-item-content-text"><span>Коллоквиум_1_Вариант_5_МИСиС.ipynb</span></span></div></div></li></ul></nav></div></div></div></div></div></div><div class="Box-sc-g0xbh4-0 hAeDYA"><div role="slider" aria-label="Draggable pane splitter" aria-valuemin="0" aria-valuemax="0" aria-valuenow="0" aria-valuetext="Pane width 0 pixels" tabindex="0" class="Box-sc-g0xbh4-0 ekKrwo"></div></div></div></div><div class="Box-sc-g0xbh4-0 emFMJu"><div class="Box-sc-g0xbh4-0"></div><div class="Box-sc-g0xbh4-0 hlUAHL"><div data-selector="repos-split-pane-content" tabindex="0" class="Box-sc-g0xbh4-0 iStsmI"><div class="Box-sc-g0xbh4-0 eIgvIk"><div class="Box-sc-g0xbh4-0 eVFfWF container"><div class="Box-sc-g0xbh4-0 kgXdnT react-code-view-header--narrow"><div class="Box-sc-g0xbh4-0 kzTa-dF"><div class="Box-sc-g0xbh4-0 bbXCl"><h2 class="Heading__StyledHeading-sc-1c1dgg0-0 fNPcqd"><button style="--button-color:fg.muted" type="button" aria-label="Expand file tree" data-testid="expand-file-tree-button-mobile" class="types__StyledButton-sc-ws60qy-0 dpmVDB"><span data-component="buttonContent" class="Box-sc-g0xbh4-0 kkrdEu"><span data-component="leadingVisual" class="Box-sc-g0xbh4-0 trpoQ"><svg aria-hidden="true" focusable="false" role="img" class="octicon octicon-arrow-left" viewBox="0 0 16 16" width="16" height="16" fill="currentColor" style="display:inline-block;user-select:none;vertical-align:text-bottom;overflow:visible"><path d="M7.78 12.53a.75.75 0 0 1-1.06 0L2.47 8.28a.75.75 0 0 1 0-1.06l4.25-4.25a.751.751 0 0 1 1.042.018.751.751 0 0 1 .018 1.042L4.81 7h7.44a.75.75 0 0 1 0 1.5H4.81l2.97 2.97a.75.75 0 0 1 0 1.06Z"></path></svg></span><span data-component="text">Files</span></span></button><span role="tooltip" aria-label="Collapse file tree" id="expand-button-file-tree-button" class="Tooltip__TooltipBase-sc-17tf59c-0 cXRxE tooltipped-se"><button data-component="IconButton" type="button" data-testid="collapse-file-tree-button" aria-labelledby="expand-button-file-tree-button" aria-expanded="true" aria-controls="repos-file-tree" class="types__StyledButton-sc-ws60qy-0 kuQWBL" data-no-visuals="true"><svg aria-hidden="true" focusable="false" role="img" class="octicon octicon-sidebar-expand" viewBox="0 0 16 16" width="16" height="16" fill="currentColor" style="display:inline-block;user-select:none;vertical-align:text-bottom;overflow:visible"><path d="m4.177 7.823 2.396-2.396A.25.25 0 0 1 7 5.604v4.792a.25.25 0 0 1-.427.177L4.177 8.177a.25.25 0 0 1 0-.354Z"></path><path d="M0 1.75C0 .784.784 0 1.75 0h12.5C15.216 0 16 .784 16 1.75v12.5A1.75 1.75 0 0 1 14.25 16H1.75A1.75 1.75 0 0 1 0 14.25Zm1.75-.25a.25.25 0 0 0-.25.25v12.5c0 .138.112.25.25.25H9.5v-13Zm12.5 13a.25.25 0 0 0 .25-.25V1.75a.25.25 0 0 0-.25-.25H11v13Z"></path></svg></button></span><button hidden="" data-testid="" data-hotkey-scope="read-only-cursor-text-area"></button></h2><div class="Box-sc-g0xbh4-0 hGGMNu"><div class="Box-sc-g0xbh4-0 eHRrYV"><button type="button" id="branch-picker-repos-header-ref-selector-narrow" aria-haspopup="true" tabindex="0" aria-label="main branch" data-testid="anchor-button" class="types__StyledButton-sc-ws60qy-0 gDcRcS ref-selector-class"><span data-component="buttonContent" class="Box-sc-g0xbh4-0 kkrdEu"><span data-component="text"><div class="Box-sc-g0xbh4-0 bKgizp"><div class="Box-sc-g0xbh4-0 kYlvBX"><svg aria-hidden="true" focusable="false" role="img" class="octicon octicon-git-branch" viewBox="0 0 16 16" width="16" height="16" fill="currentColor" style="display:inline-block;user-select:none;vertical-align:text-bottom;overflow:visible"><path d="M9.5 3.25a2.25 2.25 0 1 1 3 2.122V6A2.5 2.5 0 0 1 10 8.5H6a1 1 0 0 0-1 1v1.128a2.251 2.251 0 1 1-1.5 0V5.372a2.25 2.25 0 1 1 1.5 0v1.836A2.493 2.493 0 0 1 6 7h4a1 1 0 0 0 1-1v-.628A2.25 2.25 0 0 1 9.5 3.25Zm-6 0a.75.75 0 1 0 1.5 0 .75.75 0 0 0-1.5 0Zm8.25-.75a.75.75 0 1 0 0 1.5.75.75 0 0 0 0-1.5ZM4.25 12a.75.75 0 1 0 0 1.5.75.75 0 0 0 0-1.5Z"></path></svg></div><div class="Box-sc-g0xbh4-0 dKmYfk ref-selector-button-text-container"><span class="Text-sc-17v1xeu-0 bOMzPg"> <!-- -->main</span></div></div></span><span data-component="trailingVisual" class="Box-sc-g0xbh4-0 trpoQ"><svg aria-hidden="true" focusable="false" role="img" class="octicon octicon-triangle-down" viewBox="0 0 16 16" width="16" height="16" fill="currentColor" style="display:inline-block;user-select:none;vertical-align:text-bottom;overflow:visible"><path d="m4.427 7.427 3.396 3.396a.25.25 0 0 0 .354 0l3.396-3.396A.25.25 0 0 0 11.396 7H4.604a.25.25 0 0 0-.177.427Z"></path></svg></span></span></button><button hidden="" data-hotkey-scope="read-only-cursor-text-area"></button></div> <button type="button" data-no-visuals="true" class="types__StyledButton-sc-ws60qy-0 dfaHcy"><span data-component="buttonContent" class="Box-sc-g0xbh4-0 kkrdEu"><span data-component="text">Blame</span></span></button><button hidden="" data-testid="" data-hotkey-scope="read-only-cursor-text-area"></button><button data-component="IconButton" type="button" aria-label="More file actions" class="types__StyledButton-sc-ws60qy-0 iNXtMc js-blob-dropdown-click" title="More file actions" data-testid="more-file-actions-button-nav-menu-narrow" id=":R159badaj5:" aria-haspopup="true" tabindex="0" data-no-visuals="true"><svg aria-hidden="true" focusable="false" role="img" class="octicon octicon-kebab-horizontal" viewBox="0 0 16 16" width="16" height="16" fill="currentColor" style="display:inline-block;user-select:none;vertical-align:text-bottom;overflow:visible"><path d="M8 9a1.5 1.5 0 1 0 0-3 1.5 1.5 0 0 0 0 3ZM1.5 9a1.5 1.5 0 1 0 0-3 1.5 1.5 0 0 0 0 3Zm13 0a1.5 1.5 0 1 0 0-3 1.5 1.5 0 0 0 0 3Z"></path></svg></button> </div></div><div class="Box-sc-g0xbh4-0 hSNzKh"><div class="Box-sc-g0xbh4-0 eTvGbF"><nav data-testid="breadcrumbs" aria-labelledby="repos-header-breadcrumb-mobile-heading" id="repos-header-breadcrumb-mobile" class="Box-sc-g0xbh4-0 kzRgrI"><h2 class="Heading__StyledHeading-sc-1c1dgg0-0 cgQnMS sr-only" data-testid="screen-reader-heading" id="repos-header-breadcrumb-mobile-heading">Breadcrumbs</h2><ol class="Box-sc-g0xbh4-0 cmAPIB"><li class="Box-sc-g0xbh4-0 jwXCBK"><a sx="[object Object]" data-testid="breadcrumbs-repo-link" class="Link__StyledLink-sc-14289xe-0 bNUcdA" href="/ShadarRim/MISiSAI1/tree/main">MISiSAI1</a></li></ol></nav><div data-testid="breadcrumbs-filename" class="Box-sc-g0xbh4-0 jwXCBK"><span aria-hidden="true" class="Text-sc-17v1xeu-0 ivLLle">/</span><h1 tabindex="-1" id="file-name-id-mobile" class="Heading__StyledHeading-sc-1c1dgg0-0 diwsLq">13_Обучение_без_градиента.ipynb</h1></div><button data-component="IconButton" type="button" aria-label="Copy path" data-testid="breadcrumb-copy-path-button" data-size="small" data-no-visuals="true" class="types__StyledButton-sc-ws60qy-0 fFejDP"><svg aria-hidden="true" focusable="false" role="img" class="octicon octicon-copy" viewBox="0 0 16 16" width="16" height="16" fill="currentColor" style="display:inline-block;user-select:none;vertical-align:text-bottom;overflow:visible"><path d="M0 6.75C0 5.784.784 5 1.75 5h1.5a.75.75 0 0 1 0 1.5h-1.5a.25.25 0 0 0-.25.25v7.5c0 .138.112.25.25.25h7.5a.25.25 0 0 0 .25-.25v-1.5a.75.75 0 0 1 1.5 0v1.5A1.75 1.75 0 0 1 9.25 16h-7.5A1.75 1.75 0 0 1 0 14.25Z"></path><path d="M5 1.75C5 .784 5.784 0 6.75 0h7.5C15.216 0 16 .784 16 1.75v7.5A1.75 1.75 0 0 1 14.25 11h-7.5A1.75 1.75 0 0 1 5 9.25Zm1.75-.25a.25.25 0 0 0-.25.25v7.5c0 .138.112.25.25.25h7.5a.25.25 0 0 0 .25-.25v-7.5a.25.25 0 0 0-.25-.25Z"></path></svg></button></div></div></div></div><div id="StickyHeader" class="Box-sc-g0xbh4-0 bDwCYs react-code-view-header--wide"><div class="Box-sc-g0xbh4-0 fywjmm"><div class="Box-sc-g0xbh4-0 dyczTK"><div class="Box-sc-g0xbh4-0 kszRgZ"><div class="Box-sc-g0xbh4-0 eTvGbF"><nav data-testid="breadcrumbs" aria-labelledby="repos-header-breadcrumb-wide-heading" id="repos-header-breadcrumb-wide" class="Box-sc-g0xbh4-0 kzRgrI"><h2 class="Heading__StyledHeading-sc-1c1dgg0-0 cgQnMS sr-only" data-testid="screen-reader-heading" id="repos-header-breadcrumb-wide-heading">Breadcrumbs</h2><ol class="Box-sc-g0xbh4-0 cmAPIB"><li class="Box-sc-g0xbh4-0 jwXCBK"><a sx="[object Object]" data-testid="breadcrumbs-repo-link" class="Link__StyledLink-sc-14289xe-0 bNUcdA" href="/ShadarRim/MISiSAI1/tree/main">MISiSAI1</a></li></ol></nav><div data-testid="breadcrumbs-filename" class="Box-sc-g0xbh4-0 jwXCBK"><span aria-hidden="true" class="Text-sc-17v1xeu-0 ivLLle">/</span><h1 tabindex="-1" id="file-name-id-wide" class="Heading__StyledHeading-sc-1c1dgg0-0 diwsLq">13_Обучение_без_градиента.ipynb</h1></div><button data-component="IconButton" type="button" aria-label="Copy path" data-testid="breadcrumb-copy-path-button" data-size="small" data-no-visuals="true" class="types__StyledButton-sc-ws60qy-0 fFejDP"><svg aria-hidden="true" focusable="false" role="img" class="octicon octicon-copy" viewBox="0 0 16 16" width="16" height="16" fill="currentColor" style="display:inline-block;user-select:none;vertical-align:text-bottom;overflow:visible"><path d="M0 6.75C0 5.784.784 5 1.75 5h1.5a.75.75 0 0 1 0 1.5h-1.5a.25.25 0 0 0-.25.25v7.5c0 .138.112.25.25.25h7.5a.25.25 0 0 0 .25-.25v-1.5a.75.75 0 0 1 1.5 0v1.5A1.75 1.75 0 0 1 9.25 16h-7.5A1.75 1.75 0 0 1 0 14.25Z"></path><path d="M5 1.75C5 .784 5.784 0 6.75 0h7.5C15.216 0 16 .784 16 1.75v7.5A1.75 1.75 0 0 1 14.25 11h-7.5A1.75 1.75 0 0 1 5 9.25Zm1.75-.25a.25.25 0 0 0-.25.25v7.5c0 .138.112.25.25.25h7.5a.25.25 0 0 0 .25-.25v-7.5a.25.25 0 0 0-.25-.25Z"></path></svg></button></div></div><div class="Box-sc-g0xbh4-0 gtBUEp"><div class="d-flex gap-2"> <button type="button" data-no-visuals="true" class="types__StyledButton-sc-ws60qy-0 dfaHcy"><span data-component="buttonContent" class="Box-sc-g0xbh4-0 kkrdEu"><span data-component="text">Blame</span></span></button><button hidden="" data-testid="" data-hotkey-scope="read-only-cursor-text-area"></button><button data-component="IconButton" type="button" aria-label="More file actions" class="types__StyledButton-sc-ws60qy-0 iNXtMc js-blob-dropdown-click" title="More file actions" data-testid="more-file-actions-button-nav-menu-wide" id=":R176jadaj5:" aria-haspopup="true" tabindex="0" data-no-visuals="true"><svg aria-hidden="true" focusable="false" role="img" class="octicon octicon-kebab-horizontal" viewBox="0 0 16 16" width="16" height="16" fill="currentColor" style="display:inline-block;user-select:none;vertical-align:text-bottom;overflow:visible"><path d="M8 9a1.5 1.5 0 1 0 0-3 1.5 1.5 0 0 0 0 3ZM1.5 9a1.5 1.5 0 1 0 0-3 1.5 1.5 0 0 0 0 3Zm13 0a1.5 1.5 0 1 0 0-3 1.5 1.5 0 0 0 0 3Z"></path></svg></button> </div></div></div></div></div></div></div><div class="Box-sc-g0xbh4-0 MERGN react-code-view-bottom-padding"> <div class="Box-sc-g0xbh4-0 cMYnca"></div><div class="Box-sc-g0xbh4-0"></div> <!-- --> <!-- --> </div><div class="Box-sc-g0xbh4-0 MERGN"> <!-- --> <!-- --> <div class="Box-sc-g0xbh4-0 kLxXov"><div class="Box-sc-g0xbh4-0 eYedVD"><h2 class="Heading__StyledHeading-sc-1c1dgg0-0 cgQnMS sr-only" data-testid="screen-reader-heading">Latest commit</h2><div style="width:120px" class="Skeleton Skeleton--text" data-testid="loading"> </div><div class="Box-sc-g0xbh4-0 jGfYmh"><div data-testid="latest-commit-details" class="Box-sc-g0xbh4-0 lhFvfi"></div><h2 class="Heading__StyledHeading-sc-1c1dgg0-0 cgQnMS sr-only" data-testid="screen-reader-heading">History</h2><a class="types__StyledButton-sc-ws60qy-0 hsBZZU react-last-commit-history-group" href="/ShadarRim/MISiSAI1/commits/main/13_%D0%9E%D0%B1%D1%83%D1%87%D0%B5%D0%BD%D0%B8%D0%B5_%D0%B1%D0%B5%D0%B7_%D0%B3%D1%80%D0%B0%D0%B4%D0%B8%D0%B5%D0%BD%D1%82%D0%B0.ipynb" data-size="small"><span data-component="buttonContent" class="Box-sc-g0xbh4-0 kkrdEu"><span data-component="leadingVisual" class="Box-sc-g0xbh4-0 trpoQ"><svg aria-hidden="true" focusable="false" role="img" class="octicon octicon-history" viewBox="0 0 16 16" width="16" height="16" fill="currentColor" style="display:inline-block;user-select:none;vertical-align:text-bottom;overflow:visible"><path d="m.427 1.927 1.215 1.215a8.002 8.002 0 1 1-1.6 5.685.75.75 0 1 1 1.493-.154 6.5 6.5 0 1 0 1.18-4.458l1.358 1.358A.25.25 0 0 1 3.896 6H.25A.25.25 0 0 1 0 5.75V2.104a.25.25 0 0 1 .427-.177ZM7.75 4a.75.75 0 0 1 .75.75v2.992l2.028.812a.75.75 0 0 1-.557 1.392l-2.5-1A.751.751 0 0 1 7 8.25v-3.5A.75.75 0 0 1 7.75 4Z"></path></svg></span><span data-component="text"><span class="Text-sc-17v1xeu-0 ghRVGj">History</span></span></span></a><div class="Box-sc-g0xbh4-0 bqgLjk"></div><span role="tooltip" aria-label="Commit history" class="Tooltip__TooltipBase-sc-17tf59c-0 cXRxE tooltipped-n"><a class="types__StyledButton-sc-ws60qy-0 hsBZZU react-last-commit-history-icon" href="/ShadarRim/MISiSAI1/commits/main/13_%D0%9E%D0%B1%D1%83%D1%87%D0%B5%D0%BD%D0%B8%D0%B5_%D0%B1%D0%B5%D0%B7_%D0%B3%D1%80%D0%B0%D0%B4%D0%B8%D0%B5%D0%BD%D1%82%D0%B0.ipynb"><span data-component="buttonContent" class="Box-sc-g0xbh4-0 kkrdEu"><span data-component="leadingVisual" class="Box-sc-g0xbh4-0 trpoQ"><svg aria-hidden="true" focusable="false" role="img" class="octicon octicon-history" viewBox="0 0 16 16" width="16" height="16" fill="currentColor" style="display:inline-block;user-select:none;vertical-align:text-bottom;overflow:visible"><path d="m.427 1.927 1.215 1.215a8.002 8.002 0 1 1-1.6 5.685.75.75 0 1 1 1.493-.154 6.5 6.5 0 1 0 1.18-4.458l1.358 1.358A.25.25 0 0 1 3.896 6H.25A.25.25 0 0 1 0 5.75V2.104a.25.25 0 0 1 .427-.177ZM7.75 4a.75.75 0 0 1 .75.75v2.992l2.028.812a.75.75 0 0 1-.557 1.392l-2.5-1A.751.751 0 0 1 7 8.25v-3.5A.75.75 0 0 1 7.75 4Z"></path></svg></span></span></a></span></div></div></div><div class="Box-sc-g0xbh4-0 iJmJly"><div class="Box-sc-g0xbh4-0 jACbi container"><div class="Box-sc-g0xbh4-0 gIJuDf react-code-size-details-banner"><div class="Box-sc-g0xbh4-0 fleZSW react-code-size-details-banner"><div class="Box-sc-g0xbh4-0 bZpGqz text-mono"><div title="106 KB" data-testid="blob-size" class="Truncate__StyledTruncate-sc-23o1d2-0 fUpWeN"><span class="Text-sc-17v1xeu-0 gPDEWA">302 lines (302 loc) · 106 KB</span></div></div></div><div class="Box-sc-g0xbh4-0 react-code-size-details-banner"><button style="--button-color:fg.default" type="button" id=":R9faladaj5:" aria-haspopup="true" tabindex="0" data-testid="copilot-popover-button" data-size="small" class="types__StyledButton-sc-ws60qy-0 ctemji"><span data-component="buttonContent" class="Box-sc-g0xbh4-0 kkrdEu"><span data-component="leadingVisual" class="Box-sc-g0xbh4-0 trpoQ"><svg aria-hidden="true" focusable="false" role="img" class="octicon octicon-copilot" viewBox="0 0 16 16" width="16" height="16" fill="currentColor" style="display:inline-block;user-select:none;vertical-align:text-bottom;overflow:visible"><path d="M7.998 15.035c-4.562 0-7.873-2.914-7.998-3.749V9.338c.085-.628.677-1.686 1.588-2.065.013-.07.024-.143.036-.218.029-.183.06-.384.126-.612-.201-.508-.254-1.084-.254-1.656 0-.87.128-1.769.693-2.484.579-.733 1.494-1.124 2.724-1.261 1.206-.134 2.262.034 2.944.765.05.053.096.108.139.165.044-.057.094-.112.143-.165.682-.731 1.738-.899 2.944-.765 1.23.137 2.145.528 2.724 1.261.566.715.693 1.614.693 2.484 0 .572-.053 1.148-.254 1.656.066.228.098.429.126.612.012.076.024.148.037.218.924.385 1.522 1.471 1.591 2.095v1.872c0 .766-3.351 3.795-8.002 3.795Zm0-1.485c2.28 0 4.584-1.11 5.002-1.433V7.862l-.023-.116c-.49.21-1.075.291-1.727.291-1.146 0-2.059-.327-2.71-.991A3.222 3.222 0 0 1 8 6.303a3.24 3.24 0 0 1-.544.743c-.65.664-1.563.991-2.71.991-.652 0-1.236-.081-1.727-.291l-.023.116v4.255c.419.323 2.722 1.433 5.002 1.433ZM6.762 2.83c-.193-.206-.637-.413-1.682-.297-1.019.113-1.479.404-1.713.7-.247.312-.369.789-.369 1.554 0 .793.129 1.171.308 1.371.162.181.519.379 1.442.379.853 0 1.339-.235 1.638-.54.315-.322.527-.827.617-1.553.117-.935-.037-1.395-.241-1.614Zm4.155-.297c-1.044-.116-1.488.091-1.681.297-.204.219-.359.679-.242 1.614.091.726.303 1.231.618 1.553.299.305.784.54 1.638.54.922 0 1.28-.198 1.442-.379.179-.2.308-.578.308-1.371 0-.765-.123-1.242-.37-1.554-.233-.296-.693-.587-1.713-.7Z"></path><path d="M6.25 9.037a.75.75 0 0 1 .75.75v1.501a.75.75 0 0 1-1.5 0V9.787a.75.75 0 0 1 .75-.75Zm4.25.75v1.501a.75.75 0 0 1-1.5 0V9.787a.75.75 0 0 1 1.5 0Z"></path></svg></span><span data-component="text">Code 55% faster with GitHub Copilot</span></span></button></div></div><div class="Box-sc-g0xbh4-0 VHzRk react-blob-view-header-sticky" id="repos-sticky-header"><div class="Box-sc-g0xbh4-0 ePiodO"><div class="Box-sc-g0xbh4-0 react-blob-sticky-header"><div class="Box-sc-g0xbh4-0 kQJlnf"><div class="Box-sc-g0xbh4-0 gJICKO"><div class="Box-sc-g0xbh4-0 iZJewz"><nav data-testid="breadcrumbs" aria-labelledby="sticky-breadcrumb-heading" id="sticky-breadcrumb" class="Box-sc-g0xbh4-0 kzRgrI"><h2 class="Heading__StyledHeading-sc-1c1dgg0-0 cgQnMS sr-only" data-testid="screen-reader-heading" id="sticky-breadcrumb-heading">Breadcrumbs</h2><ol class="Box-sc-g0xbh4-0 cmAPIB"><li class="Box-sc-g0xbh4-0 jwXCBK"><a sx="[object Object]" data-testid="breadcrumbs-repo-link" class="Link__StyledLink-sc-14289xe-0 bNUcdA" href="/ShadarRim/MISiSAI1/tree/main">MISiSAI1</a></li></ol></nav><div data-testid="breadcrumbs-filename" class="Box-sc-g0xbh4-0 jwXCBK"><span aria-hidden="true" class="Text-sc-17v1xeu-0 dZAxGI">/</span><h1 tabindex="-1" id="sticky-file-name-id" class="Heading__StyledHeading-sc-1c1dgg0-0 jAEDJk">13_Обучение_без_градиента.ipynb</h1></div></div><button style="--button-color:fg.default" type="button" data-size="small" class="types__StyledButton-sc-ws60qy-0 iukPok"><span data-component="buttonContent" class="Box-sc-g0xbh4-0 kkrdEu"><span data-component="leadingVisual" class="Box-sc-g0xbh4-0 trpoQ"><svg aria-hidden="true" focusable="false" role="img" class="octicon octicon-arrow-up" viewBox="0 0 16 16" width="16" height="16" fill="currentColor" style="display:inline-block;user-select:none;vertical-align:text-bottom;overflow:visible"><path d="M3.47 7.78a.75.75 0 0 1 0-1.06l4.25-4.25a.75.75 0 0 1 1.06 0l4.25 4.25a.751.751 0 0 1-.018 1.042.751.751 0 0 1-1.042.018L9 4.81v7.44a.75.75 0 0 1-1.5 0V4.81L4.53 7.78a.75.75 0 0 1-1.06 0Z"></path></svg></span><span data-component="text">Top</span></span></button></div></div></div><div class="Box-sc-g0xbh4-0 bvEDG"><h2 class="Heading__StyledHeading-sc-1c1dgg0-0 cgQnMS sr-only" data-testid="screen-reader-heading">File metadata and controls</h2><div class="Box-sc-g0xbh4-0 bfkNRF"><ul aria-label="File view" class="SegmentedControl__SegmentedControlList-sc-1rzig82-0 iYVwMz"><li class="Box-sc-g0xbh4-0 fXBLEV"><button aria-current="true" class="SegmentedControlButton__SegmentedControlButtonStyled-sc-8lkgxl-0 bDmUQT"><span class="segmentedControl-content"><div class="Box-sc-g0xbh4-0 segmentedControl-text">Preview</div></span></button></li><li class="Box-sc-g0xbh4-0 jkTWSe"><button aria-current="false" class="SegmentedControlButton__SegmentedControlButtonStyled-sc-8lkgxl-0 fzMylw"><span class="segmentedControl-content"><div class="Box-sc-g0xbh4-0 segmentedControl-text">Code</div></span></button></li><li class="Box-sc-g0xbh4-0 jkTWSe"><button aria-current="false" class="SegmentedControlButton__SegmentedControlButtonStyled-sc-8lkgxl-0 hBvGcq"><span class="segmentedControl-content"><div class="Box-sc-g0xbh4-0 segmentedControl-text">Blame</div></span></button></li></ul><button hidden="" data-testid="" data-hotkey-scope="read-only-cursor-text-area"></button><button hidden="" data-testid="" data-hotkey-scope="read-only-cursor-text-area"></button><button hidden="" data-testid="" data-hotkey-scope="read-only-cursor-text-area"></button><div class="Box-sc-g0xbh4-0 fleZSW react-code-size-details-in-header"><div class="Box-sc-g0xbh4-0 bZpGqz text-mono"><div title="106 KB" data-testid="blob-size" class="Truncate__StyledTruncate-sc-23o1d2-0 fUpWeN"><span class="Text-sc-17v1xeu-0 gPDEWA">302 lines (302 loc) · 106 KB</span></div></div></div><div class="Box-sc-g0xbh4-0 react-code-size-details-in-header"><button style="--button-color:fg.default" type="button" id=":Rt6faladaj5:" aria-haspopup="true" tabindex="0" data-testid="copilot-popover-button" data-size="small" class="types__StyledButton-sc-ws60qy-0 ctemji"><span data-component="buttonContent" class="Box-sc-g0xbh4-0 kkrdEu"><span data-component="leadingVisual" class="Box-sc-g0xbh4-0 trpoQ"><svg aria-hidden="true" focusable="false" role="img" class="octicon octicon-copilot" viewBox="0 0 16 16" width="16" height="16" fill="currentColor" style="display:inline-block;user-select:none;vertical-align:text-bottom;overflow:visible"><path d="M7.998 15.035c-4.562 0-7.873-2.914-7.998-3.749V9.338c.085-.628.677-1.686 1.588-2.065.013-.07.024-.143.036-.218.029-.183.06-.384.126-.612-.201-.508-.254-1.084-.254-1.656 0-.87.128-1.769.693-2.484.579-.733 1.494-1.124 2.724-1.261 1.206-.134 2.262.034 2.944.765.05.053.096.108.139.165.044-.057.094-.112.143-.165.682-.731 1.738-.899 2.944-.765 1.23.137 2.145.528 2.724 1.261.566.715.693 1.614.693 2.484 0 .572-.053 1.148-.254 1.656.066.228.098.429.126.612.012.076.024.148.037.218.924.385 1.522 1.471 1.591 2.095v1.872c0 .766-3.351 3.795-8.002 3.795Zm0-1.485c2.28 0 4.584-1.11 5.002-1.433V7.862l-.023-.116c-.49.21-1.075.291-1.727.291-1.146 0-2.059-.327-2.71-.991A3.222 3.222 0 0 1 8 6.303a3.24 3.24 0 0 1-.544.743c-.65.664-1.563.991-2.71.991-.652 0-1.236-.081-1.727-.291l-.023.116v4.255c.419.323 2.722 1.433 5.002 1.433ZM6.762 2.83c-.193-.206-.637-.413-1.682-.297-1.019.113-1.479.404-1.713.7-.247.312-.369.789-.369 1.554 0 .793.129 1.171.308 1.371.162.181.519.379 1.442.379.853 0 1.339-.235 1.638-.54.315-.322.527-.827.617-1.553.117-.935-.037-1.395-.241-1.614Zm4.155-.297c-1.044-.116-1.488.091-1.681.297-.204.219-.359.679-.242 1.614.091.726.303 1.231.618 1.553.299.305.784.54 1.638.54.922 0 1.28-.198 1.442-.379.179-.2.308-.578.308-1.371 0-.765-.123-1.242-.37-1.554-.233-.296-.693-.587-1.713-.7Z"></path><path d="M6.25 9.037a.75.75 0 0 1 .75.75v1.501a.75.75 0 0 1-1.5 0V9.787a.75.75 0 0 1 .75-.75Zm4.25.75v1.501a.75.75 0 0 1-1.5 0V9.787a.75.75 0 0 1 1.5 0Z"></path></svg></span><span data-component="text">Code 55% faster with GitHub Copilot</span></span></button></div></div><div class="Box-sc-g0xbh4-0 iBylDf"><div class="Box-sc-g0xbh4-0 kSGBPx react-blob-header-edit-and-raw-actions"><div class="ButtonGroup-sc-1gxhls1-0 cjbBGq"><a href="https://github.com/ShadarRim/MISiSAI1/raw/main/13_%D0%9E%D0%B1%D1%83%D1%87%D0%B5%D0%BD%D0%B8%D0%B5_%D0%B1%D0%B5%D0%B7_%D0%B3%D1%80%D0%B0%D0%B4%D0%B8%D0%B5%D0%BD%D1%82%D0%B0.ipynb" data-testid="raw-button" data-size="small" data-no-visuals="true" class="types__StyledButton-sc-ws60qy-0 cCLqJS"><span data-component="buttonContent" class="Box-sc-g0xbh4-0 kkrdEu"><span data-component="text">Raw</span></span></a><button data-component="IconButton" type="button" aria-label="Copy raw content" data-testid="copy-raw-button" data-size="small" data-no-visuals="true" class="types__StyledButton-sc-ws60qy-0 crfMWv"><svg aria-hidden="true" focusable="false" role="img" class="octicon octicon-copy" viewBox="0 0 16 16" width="16" height="16" fill="currentColor" style="display:inline-block;user-select:none;vertical-align:text-bottom;overflow:visible"><path d="M0 6.75C0 5.784.784 5 1.75 5h1.5a.75.75 0 0 1 0 1.5h-1.5a.25.25 0 0 0-.25.25v7.5c0 .138.112.25.25.25h7.5a.25.25 0 0 0 .25-.25v-1.5a.75.75 0 0 1 1.5 0v1.5A1.75 1.75 0 0 1 9.25 16h-7.5A1.75 1.75 0 0 1 0 14.25Z"></path><path d="M5 1.75C5 .784 5.784 0 6.75 0h7.5C15.216 0 16 .784 16 1.75v7.5A1.75 1.75 0 0 1 14.25 11h-7.5A1.75 1.75 0 0 1 5 9.25Zm1.75-.25a.25.25 0 0 0-.25.25v7.5c0 .138.112.25.25.25h7.5a.25.25 0 0 0 .25-.25v-7.5a.25.25 0 0 0-.25-.25Z"></path></svg></button><span role="tooltip" aria-label="Download raw file" class="Tooltip__TooltipBase-sc-17tf59c-0 cXRxE tooltipped-n"><button data-component="IconButton" type="button" aria-label="Download raw content" data-testid="download-raw-button" data-size="small" data-no-visuals="true" class="types__StyledButton-sc-ws60qy-0 dKBeSn"><svg aria-hidden="true" focusable="false" role="img" class="octicon octicon-download" viewBox="0 0 16 16" width="16" height="16" fill="currentColor" style="display:inline-block;user-select:none;vertical-align:text-bottom;overflow:visible"><path d="M2.75 14A1.75 1.75 0 0 1 1 12.25v-2.5a.75.75 0 0 1 1.5 0v2.5c0 .138.112.25.25.25h10.5a.25.25 0 0 0 .25-.25v-2.5a.75.75 0 0 1 1.5 0v2.5A1.75 1.75 0 0 1 13.25 14Z"></path><path d="M7.25 7.689V2a.75.75 0 0 1 1.5 0v5.689l1.97-1.969a.749.749 0 1 1 1.06 1.06l-3.25 3.25a.749.749 0 0 1-1.06 0L4.22 6.78a.749.749 0 1 1 1.06-1.06l1.97 1.969Z"></path></svg></button></span></div><button hidden="" data-testid="raw-button-shortcut" data-hotkey-scope="read-only-cursor-text-area"></button><button hidden="" data-testid="copy-raw-button-shortcut" data-hotkey-scope="read-only-cursor-text-area"></button><button hidden="" data-testid="download-raw-button-shortcut" data-hotkey-scope="read-only-cursor-text-area"></button><a class="Link__StyledLink-sc-14289xe-0 bKUZnR js-github-dev-shortcut d-none" href="https://github.dev/"></a><button hidden="" data-testid="" data-hotkey-scope="read-only-cursor-text-area"></button><a class="Link__StyledLink-sc-14289xe-0 bKUZnR js-github-dev-new-tab-shortcut d-none" href="https://github.dev/" target="_blank"></a><button hidden="" data-testid="" data-hotkey-scope="read-only-cursor-text-area"></button><div class="ButtonGroup-sc-1gxhls1-0 cjbBGq"><span role="tooltip" aria-label="Edit this file" class="Tooltip__TooltipBase-sc-17tf59c-0 cXRxE tooltipped-nw"><a sx="[object Object]" data-component="IconButton" type="button" aria-label="Edit file" data-testid="edit-button" data-size="small" data-no-visuals="true" class="types__StyledButton-sc-ws60qy-0 cPmGel" href="/ShadarRim/MISiSAI1/edit/main/13_%D0%9E%D0%B1%D1%83%D1%87%D0%B5%D0%BD%D0%B8%D0%B5_%D0%B1%D0%B5%D0%B7_%D0%B3%D1%80%D0%B0%D0%B4%D0%B8%D0%B5%D0%BD%D1%82%D0%B0.ipynb"><svg aria-hidden="true" focusable="false" role="img" class="octicon octicon-pencil" viewBox="0 0 16 16" width="16" height="16" fill="currentColor" style="display:inline-block;user-select:none;vertical-align:text-bottom;overflow:visible"><path d="M11.013 1.427a1.75 1.75 0 0 1 2.474 0l1.086 1.086a1.75 1.75 0 0 1 0 2.474l-8.61 8.61c-.21.21-.47.364-.756.445l-3.251.93a.75.75 0 0 1-.927-.928l.929-3.25c.081-.286.235-.547.445-.758l8.61-8.61Zm.176 4.823L9.75 4.81l-6.286 6.287a.253.253 0 0 0-.064.108l-.558 1.953 1.953-.558a.253.253 0 0 0 .108-.064Zm1.238-3.763a.25.25 0 0 0-.354 0L10.811 3.75l1.439 1.44 1.263-1.263a.25.25 0 0 0 0-.354Z"></path></svg></a></span><button data-component="IconButton" type="button" aria-label="More edit options" data-testid="more-edit-button" id=":R2l76faladaj5:" aria-haspopup="true" tabindex="0" data-size="small" data-no-visuals="true" class="types__StyledButton-sc-ws60qy-0 crfMWv"><svg aria-hidden="true" focusable="false" role="img" class="octicon octicon-triangle-down" viewBox="0 0 16 16" width="16" height="16" fill="currentColor" style="display:inline-block;user-select:none;vertical-align:text-bottom;overflow:visible"><path d="m4.427 7.427 3.396 3.396a.25.25 0 0 0 .354 0l3.396-3.396A.25.25 0 0 0 11.396 7H4.604a.25.25 0 0 0-.177.427Z"></path></svg></button></div><button hidden="" data-testid="" data-hotkey="e,Shift+E" data-hotkey-scope="read-only-cursor-text-area"></button></div><div class="Box-sc-g0xbh4-0 react-blob-header-edit-and-raw-actions-combined"><button data-component="IconButton" type="button" aria-label="Edit and raw actions" class="types__StyledButton-sc-ws60qy-0 lhbNLx js-blob-dropdown-click" title="More file actions" data-testid="more-file-actions-button" id=":R5v6faladaj5:" aria-haspopup="true" tabindex="0" data-size="small" data-no-visuals="true"><svg aria-hidden="true" focusable="false" role="img" class="octicon octicon-kebab-horizontal" viewBox="0 0 16 16" width="16" height="16" fill="currentColor" style="display:inline-block;user-select:none;vertical-align:text-bottom;overflow:visible"><path d="M8 9a1.5 1.5 0 1 0 0-3 1.5 1.5 0 0 0 0 3ZM1.5 9a1.5 1.5 0 1 0 0-3 1.5 1.5 0 0 0 0 3Zm13 0a1.5 1.5 0 1 0 0-3 1.5 1.5 0 0 0 0 3Z"></path></svg></button></div></div></div></div><div class="Box-sc-g0xbh4-0"></div></div><div class="Box-sc-g0xbh4-0 flDsrw"><section aria-labelledby="file-name-id-wide file-name-id-mobile" class="Box-sc-g0xbh4-0 eJsjkT"><!--$!--><template></template><div data-testid="suspense-spinner" class="Box-sc-g0xbh4-0 bAzdCq"><svg height="32px" width="32px" viewBox="0 0 16 16" fill="none" aria-label="Loading" class="Spinner__StyledSpinner-sc-1knt686-0 hPEVNM"><circle cx="8" cy="8" r="7" stroke="currentColor" stroke-opacity="0.25" stroke-width="2" vector-effect="non-scaling-stroke"></circle><path d="M15 8a7.002 7.002 0 00-7-7" stroke="currentColor" stroke-width="2" stroke-linecap="round" vector-effect="non-scaling-stroke"></path></svg></div><!--/$--></section></div></div></div> <!-- --> <!-- --> </div></div></div><div class="Box-sc-g0xbh4-0"></div></div></div></div></div><div id="find-result-marks-container" class="Box-sc-g0xbh4-0 aZrVR"></div><button hidden="" data-testid="" data-hotkey-scope="read-only-cursor-text-area"></button><button hidden=""></button></div> <!-- --> <!-- --> <!-- --> <script type="application/json" id="__PRIMER_DATA__">{"resolvedServerColorMode":"day"}</script></div>
</react-app>
</turbo-frame>



  </div>

</turbo-frame>

    </main>
  </div>

  </div>

          <footer class="footer pt-8 pb-6 f6 color-fg-muted p-responsive" role="contentinfo" >
  <h2 class='sr-only'>Footer</h2>

  


  <div class="d-flex flex-justify-center flex-items-center flex-column-reverse flex-lg-row flex-wrap flex-lg-nowrap">
    <div class="d-flex flex-items-center flex-shrink-0 mx-2">
      <a aria-label="Homepage" title="GitHub" class="footer-octicon mr-2" href="https://github.com">
        <svg aria-hidden="true" height="24" viewBox="0 0 16 16" version="1.1" width="24" data-view-component="true" class="octicon octicon-mark-github">
    <path d="M8 0c4.42 0 8 3.58 8 8a8.013 8.013 0 0 1-5.45 7.59c-.4.08-.55-.17-.55-.38 0-.27.01-1.13.01-2.2 0-.75-.25-1.23-.54-1.48 1.78-.2 3.65-.88 3.65-3.95 0-.88-.31-1.59-.82-2.15.08-.2.36-1.02-.08-2.12 0 0-.67-.22-2.2.82-.64-.18-1.32-.27-2-.27-.68 0-1.36.09-2 .27-1.53-1.03-2.2-.82-2.2-.82-.44 1.1-.16 1.92-.08 2.12-.51.56-.82 1.28-.82 2.15 0 3.06 1.86 3.75 3.64 3.95-.23.2-.44.55-.51 1.07-.46.21-1.61.55-2.33-.66-.15-.24-.6-.83-1.23-.82-.67.01-.27.38.01.53.34.19.73.9.82 1.13.16.45.68 1.31 2.69.94 0 .67.01 1.3.01 1.49 0 .21-.15.45-.55.38A7.995 7.995 0 0 1 0 8c0-4.42 3.58-8 8-8Z"></path>
</svg>
</a>
      <span>
        &copy; 2024 GitHub,&nbsp;Inc.
      </span>
    </div>

    <nav aria-label="Footer">
      <h3 class="sr-only" id="sr-footer-heading">Footer navigation</h3>

      <ul class="list-style-none d-flex flex-justify-center flex-wrap mb-2 mb-lg-0" aria-labelledby="sr-footer-heading">

          <li class="mx-2">
            <a data-analytics-event="{&quot;category&quot;:&quot;Footer&quot;,&quot;action&quot;:&quot;go to Terms&quot;,&quot;label&quot;:&quot;text:terms&quot;}" href="https://docs.github.com/site-policy/github-terms/github-terms-of-service" data-view-component="true" class="Link--secondary Link">Terms</a>
          </li>

          <li class="mx-2">
            <a data-analytics-event="{&quot;category&quot;:&quot;Footer&quot;,&quot;action&quot;:&quot;go to privacy&quot;,&quot;label&quot;:&quot;text:privacy&quot;}" href="https://docs.github.com/site-policy/privacy-policies/github-privacy-statement" data-view-component="true" class="Link--secondary Link">Privacy</a>
          </li>

          <li class="mx-2">
            <a data-analytics-event="{&quot;category&quot;:&quot;Footer&quot;,&quot;action&quot;:&quot;go to security&quot;,&quot;label&quot;:&quot;text:security&quot;}" href="/security" data-view-component="true" class="Link--secondary Link">Security</a>
          </li>

          <li class="mx-2">
            <a data-analytics-event="{&quot;category&quot;:&quot;Footer&quot;,&quot;action&quot;:&quot;go to status&quot;,&quot;label&quot;:&quot;text:status&quot;}" href="https://www.githubstatus.com/" data-view-component="true" class="Link--secondary Link">Status</a>
          </li>

          <li class="mx-2">
            <a data-analytics-event="{&quot;category&quot;:&quot;Footer&quot;,&quot;action&quot;:&quot;go to docs&quot;,&quot;label&quot;:&quot;text:docs&quot;}" href="https://docs.github.com" data-view-component="true" class="Link--secondary Link">Docs</a>
          </li>

          <li class="mx-2">
            <a data-analytics-event="{&quot;category&quot;:&quot;Footer&quot;,&quot;action&quot;:&quot;go to contact&quot;,&quot;label&quot;:&quot;text:contact&quot;}" href="https://support.github.com?tags=dotcom-footer" data-view-component="true" class="Link--secondary Link">Contact</a>
          </li>

          <li class="mx-2" >
  <cookie-consent-link>
    <button type="button" class="Link--secondary underline-on-hover border-0 p-0 color-bg-transparent" data-action="click:cookie-consent-link#showConsentManagement">
      Manage cookies
    </button>
  </cookie-consent-link>
</li>

<li class="mx-2">
  <cookie-consent-link>
    <button type="button" class="Link--secondary underline-on-hover border-0 p-0 color-bg-transparent" data-action="click:cookie-consent-link#showConsentManagement">
      Do not share my personal information
    </button>
  </cookie-consent-link>
</li>

      </ul>
    </nav>
  </div>
</footer>




    <cookie-consent id="cookie-consent-banner" class="position-fixed bottom-0 left-0" style="z-index: 999999" data-initial-cookie-consent-allowed="" data-cookie-consent-required="false"></cookie-consent>


  <div id="ajax-error-message" class="ajax-error-message flash flash-error" hidden>
    <svg aria-hidden="true" height="16" viewBox="0 0 16 16" version="1.1" width="16" data-view-component="true" class="octicon octicon-alert">
    <path d="M6.457 1.047c.659-1.234 2.427-1.234 3.086 0l6.082 11.378A1.75 1.75 0 0 1 14.082 15H1.918a1.75 1.75 0 0 1-1.543-2.575Zm1.763.707a.25.25 0 0 0-.44 0L1.698 13.132a.25.25 0 0 0 .22.368h12.164a.25.25 0 0 0 .22-.368Zm.53 3.996v2.5a.75.75 0 0 1-1.5 0v-2.5a.75.75 0 0 1 1.5 0ZM9 11a1 1 0 1 1-2 0 1 1 0 0 1 2 0Z"></path>
</svg>
    <button type="button" class="flash-close js-ajax-error-dismiss" aria-label="Dismiss error">
      <svg aria-hidden="true" height="16" viewBox="0 0 16 16" version="1.1" width="16" data-view-component="true" class="octicon octicon-x">
    <path d="M3.72 3.72a.75.75 0 0 1 1.06 0L8 6.94l3.22-3.22a.749.749 0 0 1 1.275.326.749.749 0 0 1-.215.734L9.06 8l3.22 3.22a.749.749 0 0 1-.326 1.275.749.749 0 0 1-.734-.215L8 9.06l-3.22 3.22a.751.751 0 0 1-1.042-.018.751.751 0 0 1-.018-1.042L6.94 8 3.72 4.78a.75.75 0 0 1 0-1.06Z"></path>
</svg>
    </button>
    You can’t perform that action at this time.
  </div>

    <template id="site-details-dialog">
  <details class="details-reset details-overlay details-overlay-dark lh-default color-fg-default hx_rsm" open>
    <summary role="button" aria-label="Close dialog"></summary>
    <details-dialog class="Box Box--overlay d-flex flex-column anim-fade-in fast hx_rsm-dialog hx_rsm-modal">
      <button class="Box-btn-octicon m-0 btn-octicon position-absolute right-0 top-0" type="button" aria-label="Close dialog" data-close-dialog>
        <svg aria-hidden="true" height="16" viewBox="0 0 16 16" version="1.1" width="16" data-view-component="true" class="octicon octicon-x">
    <path d="M3.72 3.72a.75.75 0 0 1 1.06 0L8 6.94l3.22-3.22a.749.749 0 0 1 1.275.326.749.749 0 0 1-.215.734L9.06 8l3.22 3.22a.749.749 0 0 1-.326 1.275.749.749 0 0 1-.734-.215L8 9.06l-3.22 3.22a.751.751 0 0 1-1.042-.018.751.751 0 0 1-.018-1.042L6.94 8 3.72 4.78a.75.75 0 0 1 0-1.06Z"></path>
</svg>
      </button>
      <div class="octocat-spinner my-6 js-details-dialog-spinner"></div>
    </details-dialog>
  </details>
</template>

    <div class="Popover js-hovercard-content position-absolute" style="display: none; outline: none;" tabindex="0">
  <div class="Popover-message Popover-message--bottom-left Popover-message--large Box color-shadow-large" style="width:360px;">
  </div>
</div>

    <template id="snippet-clipboard-copy-button">
  <div class="zeroclipboard-container position-absolute right-0 top-0">
    <clipboard-copy aria-label="Copy" class="ClipboardButton btn js-clipboard-copy m-2 p-0 tooltipped-no-delay" data-copy-feedback="Copied!" data-tooltip-direction="w">
      <svg aria-hidden="true" height="16" viewBox="0 0 16 16" version="1.1" width="16" data-view-component="true" class="octicon octicon-copy js-clipboard-copy-icon m-2">
    <path d="M0 6.75C0 5.784.784 5 1.75 5h1.5a.75.75 0 0 1 0 1.5h-1.5a.25.25 0 0 0-.25.25v7.5c0 .138.112.25.25.25h7.5a.25.25 0 0 0 .25-.25v-1.5a.75.75 0 0 1 1.5 0v1.5A1.75 1.75 0 0 1 9.25 16h-7.5A1.75 1.75 0 0 1 0 14.25Z"></path><path d="M5 1.75C5 .784 5.784 0 6.75 0h7.5C15.216 0 16 .784 16 1.75v7.5A1.75 1.75 0 0 1 14.25 11h-7.5A1.75 1.75 0 0 1 5 9.25Zm1.75-.25a.25.25 0 0 0-.25.25v7.5c0 .138.112.25.25.25h7.5a.25.25 0 0 0 .25-.25v-7.5a.25.25 0 0 0-.25-.25Z"></path>
</svg>
      <svg aria-hidden="true" height="16" viewBox="0 0 16 16" version="1.1" width="16" data-view-component="true" class="octicon octicon-check js-clipboard-check-icon color-fg-success d-none m-2">
    <path d="M13.78 4.22a.75.75 0 0 1 0 1.06l-7.25 7.25a.75.75 0 0 1-1.06 0L2.22 9.28a.751.751 0 0 1 .018-1.042.751.751 0 0 1 1.042-.018L6 10.94l6.72-6.72a.75.75 0 0 1 1.06 0Z"></path>
</svg>
    </clipboard-copy>
  </div>
</template>
<template id="snippet-clipboard-copy-button-unpositioned">
  <div class="zeroclipboard-container">
    <clipboard-copy aria-label="Copy" class="ClipboardButton btn btn-invisible js-clipboard-copy m-2 p-0 tooltipped-no-delay d-flex flex-justify-center flex-items-center" data-copy-feedback="Copied!" data-tooltip-direction="w">
      <svg aria-hidden="true" height="16" viewBox="0 0 16 16" version="1.1" width="16" data-view-component="true" class="octicon octicon-copy js-clipboard-copy-icon">
    <path d="M0 6.75C0 5.784.784 5 1.75 5h1.5a.75.75 0 0 1 0 1.5h-1.5a.25.25 0 0 0-.25.25v7.5c0 .138.112.25.25.25h7.5a.25.25 0 0 0 .25-.25v-1.5a.75.75 0 0 1 1.5 0v1.5A1.75 1.75 0 0 1 9.25 16h-7.5A1.75 1.75 0 0 1 0 14.25Z"></path><path d="M5 1.75C5 .784 5.784 0 6.75 0h7.5C15.216 0 16 .784 16 1.75v7.5A1.75 1.75 0 0 1 14.25 11h-7.5A1.75 1.75 0 0 1 5 9.25Zm1.75-.25a.25.25 0 0 0-.25.25v7.5c0 .138.112.25.25.25h7.5a.25.25 0 0 0 .25-.25v-7.5a.25.25 0 0 0-.25-.25Z"></path>
</svg>
      <svg aria-hidden="true" height="16" viewBox="0 0 16 16" version="1.1" width="16" data-view-component="true" class="octicon octicon-check js-clipboard-check-icon color-fg-success d-none">
    <path d="M13.78 4.22a.75.75 0 0 1 0 1.06l-7.25 7.25a.75.75 0 0 1-1.06 0L2.22 9.28a.751.751 0 0 1 .018-1.042.751.751 0 0 1 1.042-.018L6 10.94l6.72-6.72a.75.75 0 0 1 1.06 0Z"></path>
</svg>
    </clipboard-copy>
  </div>
</template>


    <style>
      .user-mention[href$="/ShadarRim"] {
        color: var(--color-user-mention-fg);
        background-color: var(--color-user-mention-bg);
        border-radius: 2px;
        margin-left: -2px;
        margin-right: -2px;
        padding: 0 2px;
      }
    </style>


    </div>

    <div id="js-global-screen-reader-notice" class="sr-only" aria-live="polite" aria-atomic="true" ></div>
    <div id="js-global-screen-reader-notice-assertive" class="sr-only" aria-live="assertive" aria-atomic="true"></div>
  </body>
</html>

