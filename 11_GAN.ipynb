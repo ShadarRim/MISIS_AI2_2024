{
  "cells": [
    {
      "cell_type": "markdown",
      "metadata": {
        "id": "lBjOjt3qSGT3"
      },
      "source": [
        "# GAN (Generative Adversarial Network)\n",
        "## Генеративно-состязательная нейросеть"
      ]
    },
    {
      "cell_type": "markdown",
      "metadata": {
        "id": "KG2K62O3SGT6"
      },
      "source": [
        "#### Генеративно-состязательная сеть (англ. Generative adversarial network)\n",
        "— алгоритм машинного обучения без учителя, построенный на комбинации из двух нейронных сетей, одна из которых (сеть $G$, генератор) генерирует образцы，а другая (сеть $D$, дискриминатор) старается отличить правильные («подлинные») образцы от неправильных. https://ru.wikipedia.org/wiki/%D0%93%D0%B5%D0%BD%D0%B5%D1%80%D0%B0%D1%82%D0%B8%D0%B2%D0%BD%D0%BE-%D1%81%D0%BE%D1%81%D1%82%D1%8F%D0%B7%D0%B0%D1%82%D0%B5%D0%BB%D1%8C%D0%BD%D0%B0%D1%8F_%D1%81%D0%B5%D1%82%D1%8C"
      ]
    },
    {
      "cell_type": "markdown",
      "metadata": {
        "id": "CxlcuSx7SGT6"
      },
      "source": [
        "Если совсем коротко, то:"
      ]
    },
    {
      "cell_type": "markdown",
      "metadata": {
        "id": "_ON-MF9CSGT7"
      },
      "source": [
        "$$\\min _{G} \\max _{D} V(D, G)=\\mathbb{E}_{\\boldsymbol{x} \\sim p_{\\text {data }}(\\boldsymbol{x})}[\\log D(\\boldsymbol{x})]+\\mathbb{E}_{\\boldsymbol{z} \\sim p_{\\boldsymbol{z}}(\\boldsymbol{z})}[\\log (1-D(G(\\boldsymbol{z})))]$$"
      ]
    },
    {
      "cell_type": "markdown",
      "metadata": {
        "id": "rn8jgkzRSGT7"
      },
      "source": [
        "Где:\n",
        "* $x$ - реальные данные из обучающй выборки\n",
        "* $D(x)$ - результат работы дискриминатора, т.е. вероятность того, что перед нами несгенерированные данные\n",
        "* $z$ - случайный вектор фиксированной длины, выбранный из нормального распределения\n",
        "* $G(z)$ - сгенерированные из $z$ данные\n",
        "\n",
        "Задача для $G$ - генерировать данные $p_g$ с таким же распределением как и у реальных данных  $p_{data}$ .\n",
        "Цель $D$ же - отличать сгенерированные данные от оригиналов.\n",
        "Тогда $D(G(z))$ - вероятность того, что данные из генератора являются реальными. Идеальный результат обучения GAN - $p_{data} = p_g$"
      ]
    },
    {
      "cell_type": "markdown",
      "metadata": {
        "id": "6ipUX94VSGT8"
      },
      "source": [
        "### Генератор ($G$)"
      ]
    },
    {
      "cell_type": "markdown",
      "metadata": {
        "id": "71NGDlYwSGT8"
      },
      "source": [
        "Задача генератора - создавать из ничего «поддельные» изображения заданного типа, похожие на те, что в обучающей выборке. Постепенно генератор делает это всё качественнее и качественнее.\n",
        "\n",
        "После завершения обучения модель генератора используется для того, чтобы как раз и создавать новые изображения.\n",
        "\n"
      ]
    },
    {
      "cell_type": "markdown",
      "metadata": {
        "id": "AJESjDstSGT7"
      },
      "source": [
        "### Дискриминатор ($D$)"
      ]
    },
    {
      "cell_type": "markdown",
      "metadata": {
        "id": "p2Mpk03cSGT7"
      },
      "source": [
        "Модель дискриминатора берет входные данные (реальные или сгенерированный) и предсказывает к какому из этих двух классов принадлежат эти данные.\n",
        "Обучение сводится к минимизация функции потерь.\n",
        "\n",
        "После процесса обучения модель дискриминатора отбрасывается, поскольку нас уже интересует только генерация данных."
      ]
    },
    {
      "cell_type": "markdown",
      "source": [
        "### Состязание"
      ],
      "metadata": {
        "id": "tVWU_9uWS9lW"
      }
    },
    {
      "cell_type": "markdown",
      "source": [
        "Генератор постоянно состязается с дискриминатором и пытается его обмануть. То есть обучение генератора и дискриниматора идёт совместно. \\\\\n",
        "\n",
        "В итоге должно получится так, что генератор имеет почти нулевое значение функции потерь, а дискриминатор ошибается всегда и при любом раскладе, а значит его функция потерь максимально возможна."
      ],
      "metadata": {
        "id": "-_KVCIeYS_32"
      }
    },
    {
      "cell_type": "markdown",
      "metadata": {
        "id": "z2swH-Z9SGT8"
      },
      "source": [
        "### Vanilla GAN"
      ]
    },
    {
      "cell_type": "markdown",
      "metadata": {
        "id": "1HAY__62SGT8"
      },
      "source": [
        "Сделаем реализацю самой первой статьи по GAN'ам на классическом датасете MNIST\n",
        "\n",
        "Generative Adversarial Nets Ian J. Goodfellow (2014) https://papers.nips.cc/paper/5423-generative-adversarial-nets.pdf  "
      ]
    },
    {
      "cell_type": "markdown",
      "metadata": {
        "id": "O7mJ4dohSGT8"
      },
      "source": [
        "Подключаем нужные модули и библиотеки"
      ]
    },
    {
      "cell_type": "code",
      "execution_count": null,
      "metadata": {
        "id": "LgboIHUJSGT8"
      },
      "outputs": [],
      "source": [
        "import os\n",
        "import numpy as np\n",
        "import math\n",
        "\n",
        "########### Ключевые библиотеки для работы самой нейронной сети ################################\n",
        "from torch.utils.data import DataLoader\n",
        "import torchvision.transforms as transforms\n",
        "from torchvision import datasets # тут хранятся готовые наборы данных\n",
        "from torch.autograd import Variable\n",
        "\n",
        "import torch.nn as nn\n",
        "import torch\n",
        "\n",
        "########### Вывод изображений и сохранение ################################\n",
        "import matplotlib.pyplot as plt\n",
        "from IPython import display\n",
        "from torchvision.utils import save_image, make_grid"
      ]
    },
    {
      "cell_type": "code",
      "execution_count": null,
      "metadata": {
        "colab": {
          "base_uri": "https://localhost:8080/"
        },
        "id": "mS6W5avMSGT9",
        "outputId": "612c1b6b-8237-4b4c-b5f5-5756fe78cece"
      },
      "outputs": [
        {
          "output_type": "stream",
          "name": "stderr",
          "text": [
            "UsageError: %%time is a cell magic, but the cell body is empty. Did you mean the line magic %time (single %)?\n"
          ]
        }
      ],
      "source": [
        "%%time"
      ]
    },
    {
      "cell_type": "code",
      "execution_count": null,
      "metadata": {
        "colab": {
          "base_uri": "https://localhost:8080/"
        },
        "id": "D6pCYoCTSGT-",
        "outputId": "fd416283-5189-43e1-ef79-071331c78f86"
      },
      "outputs": [
        {
          "output_type": "stream",
          "name": "stdout",
          "text": [
            "cuda\n"
          ]
        }
      ],
      "source": [
        "use_cuda = torch.cuda.is_available()\n",
        "# device = torch.device(\"cpu\")\n",
        "device = torch.device('cuda') if torch.cuda.is_available() else torch.device('cpu')\n",
        "print(device)"
      ]
    },
    {
      "cell_type": "code",
      "execution_count": null,
      "metadata": {
        "id": "PpQoPmwoSGT-"
      },
      "outputs": [],
      "source": [
        "######## функция для вывода и сохранения изображения ########\n",
        "def sample_image(static_sample, save_img = False):\n",
        "    npimg = make_grid(static_sample.data[:25]).cpu().numpy()\n",
        "    fig, ax = plt.subplots(figsize=(7, 7))\n",
        "    ax.imshow(np.transpose(npimg, (1,2,0)), interpolation=\"nearest\")\n",
        "    if save_img:\n",
        "        save_image(gen_imgs.data[:25], \"images/%d.png\" % batches_done, nrow=5, normalize=True)"
      ]
    },
    {
      "cell_type": "markdown",
      "metadata": {
        "id": "BiqJdSpuSGT-"
      },
      "source": [
        "Параметры для обучения обеих моделей"
      ]
    },
    {
      "cell_type": "code",
      "execution_count": null,
      "metadata": {
        "id": "Pk6BwXFVSGT_"
      },
      "outputs": [],
      "source": [
        "n_epochs = 200\n",
        "batch_size = 64\n",
        "lr = 0.0002\n",
        "\n",
        "b1 = 0.5\n",
        "b2 = 0.999\n",
        "\n",
        "latent_dim = 100 # это начальный размер генерируемых данных\n",
        "\n",
        "n_classes = 10 # число классов на выходе\n",
        "img_size = 28 # размер изображения - все изображения в MNIST 28 x 28\n",
        "channels = 1 # изображение в оттенках серого\n",
        "\n",
        "sample_interval = 25\n",
        "\n",
        "img_shape = (channels, img_size, img_size) # итоговый размер 1 x 28 x 28"
      ]
    },
    {
      "cell_type": "markdown",
      "metadata": {
        "id": "7VrNDAOqSGT_"
      },
      "source": [
        "Генератор"
      ]
    },
    {
      "cell_type": "markdown",
      "source": [
        "Это стандратный ход - создание собственного класса для нейронной сети на базе nn.Module.\n",
        "\n",
        "Для создания нужно минимум два метода: \\\\\n",
        "1) __init__ - инициаализация структуры нашей сети   \n",
        "2) forward - метод, который \"прогоняет\" входные данные чере нейронную сеть"
      ],
      "metadata": {
        "id": "k1LfeQ45hwS0"
      }
    },
    {
      "cell_type": "code",
      "execution_count": null,
      "metadata": {
        "id": "VCYqLCDiSGT_"
      },
      "outputs": [],
      "source": [
        "class Generator(nn.Module):\n",
        "    def __init__(self):\n",
        "        super().__init__()\n",
        "\n",
        "        # Использование таких словарей позволяет нам варьировать параметры нашей сети - в данном случае выбор функции активации\n",
        "        self.activations = nn.ModuleDict([\n",
        "                ['lrelu', nn.LeakyReLU(0.2, inplace=True)],\n",
        "                ['relu', nn.ReLU(0.2)]])\n",
        "\n",
        "        # по сути в этом блоке мы задаём параметры простого линейного слоя\n",
        "        def block(in_feat, out_feat, normalize=True, activation='relu'): #activation='relu или 'lrelu' или ...\n",
        "            layers = [nn.Linear(in_feat, out_feat)] # Если мы создаем последовательность слоев - то мы задаем их с помощью списка.\n",
        "            if normalize: #если хотим нормализацию, то тут она будет создана\n",
        "                layers.append(nn.BatchNorm1d(out_feat, 0.8))\n",
        "            layers.append(self.activations[activation]) # Эта сторчка означает тоже самое что и\n",
        "                                                       # layers.append(nn.LeakyReLU(0.2, inplace=True))\n",
        "            return layers\n",
        "\n",
        "        self.model = nn.Sequential(\n",
        "            *block(latent_dim, 128, normalize=False), # Звездочка означает unpacking списка\n",
        "            *block(128, 256, activation='lrelu'),\n",
        "            *block(256, 512),\n",
        "            *block(512, 1024),\n",
        "            nn.Linear(1024, int(np.prod(img_shape))),\n",
        "            nn.Tanh()\n",
        "        )\n",
        "\n",
        "    def forward(self, z):\n",
        "        # изначально мы берём данные в виде 100 цифр, затем они проходят через нейронную сеть и получается столько цифр, сколько нам нужно для картинки - 28*28\n",
        "        img = self.model(z)\n",
        "        # затем мы приобразуем эти цифры в матрицу, которую будем считать изображением\n",
        "        img = img.view(img.size(0), *img_shape)\n",
        "        return img\n"
      ]
    },
    {
      "cell_type": "markdown",
      "source": [
        "Вам так же может встретится создание собственных слоёв в нейронной сети. Это действие ничем не отличается от создания собственной нейронной сети."
      ],
      "metadata": {
        "id": "Nzcif9pIjSgB"
      }
    },
    {
      "cell_type": "code",
      "execution_count": null,
      "metadata": {
        "id": "D_dC05EQSGUA"
      },
      "outputs": [],
      "source": [
        "class CustomLinearLayer(nn.Module):\n",
        "    def __init__(self, size_in, size_out):\n",
        "        super().__init__()\n",
        "        self.size_in, self.size_out = size_in, size_out\n",
        "\n",
        "        weights = torch.Tensor(size_out, size_in)\n",
        "        self.weights = nn.Parameter(weights) # Обьявляем веса как параметры слоя - тогда их автоматически можно будет учить с помощью методов Torch\n",
        "\n",
        "        bias = torch.Tensor(size_out)\n",
        "        self.bias = nn.Parameter(bias)\n",
        "\n",
        "        nn.init.uniform_(self.weights, -0.005, 0.005) # это генерация нормально распределённых слчайных весов\n",
        "        nn.init.uniform_(self.bias, -0.005, 0.005)\n",
        "\n",
        "    def forward(self, x):\n",
        "        # По формуле линейного слоя, нам нужно умножить наши данные на трнспонированные веса и добавить смещение\n",
        "        w_times_x = torch.mm(x, self.weights.t())\n",
        "        return torch.add(w_times_x, self.bias)"
      ]
    },
    {
      "cell_type": "markdown",
      "metadata": {
        "id": "F2RIdJG3SGUA"
      },
      "source": [
        "Дискриминатор:"
      ]
    },
    {
      "cell_type": "code",
      "execution_count": null,
      "metadata": {
        "id": "S6UBBOsLSGUA"
      },
      "outputs": [],
      "source": [
        "class Discriminator(nn.Module):\n",
        "    def __init__(self):\n",
        "        super().__init__()\n",
        "\n",
        "        self.model = nn.Sequential(\n",
        "            CustomLinearLayer(int(np.prod(img_shape)), 512), # используем свои слои, созданные раньше\n",
        "            nn.LeakyReLU(0.2, inplace=True),\n",
        "            CustomLinearLayer(512, 256),\n",
        "            nn.LeakyReLU(0.2, inplace=True),\n",
        "            CustomLinearLayer(256, 1),\n",
        "            nn.Sigmoid(),\n",
        "        )\n",
        "\n",
        "\n",
        "    def forward(self, img):\n",
        "        img_flat = img.view(img.size(0), -1)\n",
        "        validity = self.model(img_flat)\n",
        "\n",
        "        return validity"
      ]
    },
    {
      "cell_type": "markdown",
      "metadata": {
        "id": "K_FQKv1hSGUA"
      },
      "source": [
        "Загрузка датасета"
      ]
    },
    {
      "cell_type": "code",
      "execution_count": null,
      "metadata": {
        "colab": {
          "base_uri": "https://localhost:8080/"
        },
        "id": "qWMQ6YuQSGUA",
        "outputId": "48ec9869-7b9c-4709-9f6b-ad547d7194e1"
      },
      "outputs": [
        {
          "output_type": "stream",
          "name": "stdout",
          "text": [
            "Downloading http://yann.lecun.com/exdb/mnist/train-images-idx3-ubyte.gz\n",
            "Downloading http://yann.lecun.com/exdb/mnist/train-images-idx3-ubyte.gz to ../../data/mnist/MNIST/raw/train-images-idx3-ubyte.gz\n"
          ]
        },
        {
          "output_type": "stream",
          "name": "stderr",
          "text": [
            "100%|██████████| 9912422/9912422 [00:00<00:00, 94662797.29it/s]\n"
          ]
        },
        {
          "output_type": "stream",
          "name": "stdout",
          "text": [
            "Extracting ../../data/mnist/MNIST/raw/train-images-idx3-ubyte.gz to ../../data/mnist/MNIST/raw\n",
            "\n",
            "Downloading http://yann.lecun.com/exdb/mnist/train-labels-idx1-ubyte.gz\n",
            "Downloading http://yann.lecun.com/exdb/mnist/train-labels-idx1-ubyte.gz to ../../data/mnist/MNIST/raw/train-labels-idx1-ubyte.gz\n"
          ]
        },
        {
          "output_type": "stream",
          "name": "stderr",
          "text": [
            "100%|██████████| 28881/28881 [00:00<00:00, 32810317.94it/s]"
          ]
        },
        {
          "output_type": "stream",
          "name": "stdout",
          "text": [
            "Extracting ../../data/mnist/MNIST/raw/train-labels-idx1-ubyte.gz to ../../data/mnist/MNIST/raw\n",
            "\n",
            "Downloading http://yann.lecun.com/exdb/mnist/t10k-images-idx3-ubyte.gz\n",
            "Downloading http://yann.lecun.com/exdb/mnist/t10k-images-idx3-ubyte.gz to ../../data/mnist/MNIST/raw/t10k-images-idx3-ubyte.gz\n"
          ]
        },
        {
          "output_type": "stream",
          "name": "stderr",
          "text": [
            "\n",
            "100%|██████████| 1648877/1648877 [00:00<00:00, 24188627.38it/s]\n"
          ]
        },
        {
          "output_type": "stream",
          "name": "stdout",
          "text": [
            "Extracting ../../data/mnist/MNIST/raw/t10k-images-idx3-ubyte.gz to ../../data/mnist/MNIST/raw\n",
            "\n",
            "Downloading http://yann.lecun.com/exdb/mnist/t10k-labels-idx1-ubyte.gz\n",
            "Downloading http://yann.lecun.com/exdb/mnist/t10k-labels-idx1-ubyte.gz to ../../data/mnist/MNIST/raw/t10k-labels-idx1-ubyte.gz\n"
          ]
        },
        {
          "output_type": "stream",
          "name": "stderr",
          "text": [
            "100%|██████████| 4542/4542 [00:00<00:00, 17070366.28it/s]\n"
          ]
        },
        {
          "output_type": "stream",
          "name": "stdout",
          "text": [
            "Extracting ../../data/mnist/MNIST/raw/t10k-labels-idx1-ubyte.gz to ../../data/mnist/MNIST/raw\n",
            "\n"
          ]
        }
      ],
      "source": [
        "real_data = torch.utils.data.DataLoader(\n",
        "    datasets.MNIST(\n",
        "        \"../../data/mnist\",\n",
        "        train=True,\n",
        "        download=True,\n",
        "        transform=transforms.Compose(\n",
        "            [transforms.Resize(img_size), transforms.ToTensor(), transforms.Normalize([0.5], [0.5])]\n",
        "        ),\n",
        "    ),\n",
        "    batch_size=batch_size,\n",
        "    shuffle=True,\n",
        ")"
      ]
    },
    {
      "cell_type": "code",
      "execution_count": null,
      "metadata": {
        "scrolled": true,
        "colab": {
          "base_uri": "https://localhost:8080/",
          "height": 351
        },
        "id": "DGVJfKoXSGUB",
        "outputId": "22d121db-4018-4e2b-e5bf-eb58c3bea247"
      },
      "outputs": [
        {
          "output_type": "execute_result",
          "data": {
            "text/plain": [
              "<matplotlib.image.AxesImage at 0x7fedd3ddfdc0>"
            ]
          },
          "metadata": {},
          "execution_count": 10
        },
        {
          "output_type": "display_data",
          "data": {
            "text/plain": [
              "<Figure size 1200x400 with 3 Axes>"
            ],
            "image/png": "[encoded data removed]"
          },
          "metadata": {}
        }
      ],
      "source": [
        "dataiter = iter(real_data)\n",
        "images, labels = next(dataiter)\n",
        "images = images.numpy()\n",
        "\n",
        "img = np.squeeze(images[0])\n",
        "img1 = np.squeeze(images[1])\n",
        "img2 = np.squeeze(images[2])\n",
        "\n",
        "fig, (ax1, ax2, ax3) = plt.subplots(1, 3, figsize = (12,4))\n",
        "ax1.imshow(img, cmap='gray')\n",
        "ax2.imshow(img1, cmap='gray')\n",
        "ax3.imshow(img2, cmap='gray')"
      ]
    },
    {
      "cell_type": "markdown",
      "source": [
        "Вот такие цифры мы должны в итоге получать. Размер цифры - 28 х 28."
      ],
      "metadata": {
        "id": "CRFkpjltne03"
      }
    },
    {
      "cell_type": "markdown",
      "metadata": {
        "id": "PFWfZjgtSGUB"
      },
      "source": [
        "Инициализация"
      ]
    },
    {
      "cell_type": "code",
      "execution_count": null,
      "metadata": {
        "id": "TDQmZFmsSGUB"
      },
      "outputs": [],
      "source": [
        "generator = Generator().to(device)\n",
        "discriminator = Discriminator().to(device)\n",
        "\n",
        "# Для каждой нейронки свой опитимизатор\n",
        "optimizer_G = torch.optim.Adam(generator.parameters(), lr=lr, betas=(b1, b2))\n",
        "optimizer_D = torch.optim.Adam(discriminator.parameters(), lr=lr, betas=(b1, b2))\n",
        "\n",
        "# Но вот функция ошибки у нас будет одна общая\n",
        "adversarial_loss = torch.nn.BCELoss()"
      ]
    },
    {
      "cell_type": "code",
      "execution_count": null,
      "metadata": {
        "id": "zoXZld02SGUB"
      },
      "outputs": [],
      "source": [
        "d_loss_history = []\n",
        "g_loss_history = []"
      ]
    },
    {
      "cell_type": "markdown",
      "metadata": {
        "id": "D9eX_Db0SGUB"
      },
      "source": [
        "Процесс обучения:"
      ]
    },
    {
      "cell_type": "code",
      "execution_count": null,
      "metadata": {
        "scrolled": true,
        "colab": {
          "base_uri": "https://localhost:8080/"
        },
        "id": "3Vbwe2D3SGUB",
        "outputId": "9d73296b-2ec7-47c5-deb7-8d6b0b0b9750"
      },
      "outputs": [
        {
          "output_type": "stream",
          "name": "stderr",
          "text": [
            "WARNING:matplotlib.image:Clipping input data to the valid range for imshow with RGB data ([0..1] for floats or [0..255] for integers).\n"
          ]
        },
        {
          "output_type": "stream",
          "name": "stdout",
          "text": [
            "[Epoch 133/200] [Batch 871/938] [D loss: 0.187713] [G loss: 2.833582]\n"
          ]
        },
        {
          "output_type": "display_data",
          "data": {
            "text/plain": [
              "<Figure size 700x700 with 1 Axes>"
            ],
            "image/png": "[encoded data removed]"
          },
          "metadata": {}
        }
      ],
      "source": [
        "for epoch in range(n_epochs):\n",
        "\n",
        "    # наша задача: сгенерировать столько же искусственных данных, сколько и было настоящих, потому цикл проходит по реальным данным\n",
        "    for i, (imgs, labels) in enumerate(real_data):\n",
        "\n",
        "        batch_size = imgs.shape[0] # там, где мы скачивали данные, мы разбивали их по батчам\n",
        "\n",
        "##################### Лейблы для данных: 1 - настоящие, 0 - сгенерированные ########\n",
        "        valid = Variable(torch.FloatTensor(batch_size, 1).fill_(1.0), requires_grad=False).to(device)\n",
        "        fake = Variable(torch.FloatTensor(batch_size, 1).fill_(0.0), requires_grad=False).to(device)\n",
        "\n",
        "        real_imgs = Variable(imgs.type(torch.FloatTensor)).to(device)\n",
        "\n",
        "######################  Тренировка генератора    ##########################\n",
        "\n",
        "        optimizer_G.zero_grad()\n",
        "\n",
        "        #генерация шума\n",
        "        z = Variable(torch.FloatTensor(np.random.normal(0, 1, (batch_size, latent_dim)))).to(device)\n",
        "\n",
        "        # Генерируем даные Генератором на основе шума\n",
        "        gen_imgs = generator(z)\n",
        "\n",
        "        # Подаем сгенерированые данные на Дискриминатор\n",
        "        validity = discriminator(gen_imgs)\n",
        "\n",
        "        # Тут сравниваем предсказанные значения Дискриминатора(на основе сгенерировнных данных) с настоящими\n",
        "        g_loss = adversarial_loss(validity, valid)\n",
        "\n",
        "        # Делаем шаг обучения нашего Генератора\n",
        "        g_loss.backward()\n",
        "        optimizer_G.step()\n",
        "\n",
        "######################  Тренировка дискриминатора    ##########################\n",
        "\n",
        "        optimizer_D.zero_grad()\n",
        "\n",
        "        # Получаем предсказания дискриминатора на основе реальных данных\n",
        "        real_pred = discriminator(real_imgs)\n",
        "\n",
        "        # Тут сравниваем предсказанные значения Дискриминатора(на основе настоящих данных) с настоящими\n",
        "        d_real_loss = adversarial_loss(real_pred, valid)\n",
        "\n",
        "        # Опять делаем предсказание на Дискриминаторе с помощью сгенерированных данных\n",
        "        fake_pred = discriminator(gen_imgs.detach())\n",
        "\n",
        "        # расчитываем ошибку предсказанного с фейковыми лейблами\n",
        "        d_fake_loss = adversarial_loss(fake_pred, fake)\n",
        "\n",
        "        # И усредняем два лосса в один\n",
        "        d_loss = (d_real_loss + d_fake_loss) / 2\n",
        "\n",
        "        d_loss.backward()\n",
        "        optimizer_D.step()\n",
        "\n",
        "######## Отображение процесса обучения и вывод функций потерь ############\n",
        "        batches_done = epoch * len(real_data) + i\n",
        "\n",
        "        if batches_done % sample_interval == 0:\n",
        "            with torch.no_grad():\n",
        "                plt.clf()\n",
        "\n",
        "                display.clear_output(wait=False)\n",
        "                sample_image(gen_imgs)\n",
        "                print(\"[Epoch %d/%d] [Batch %d/%d] [D loss: %f] [G loss: %f]\"% (epoch, n_epochs, i, len(real_data), d_loss.item(), g_loss.item()) )\n",
        "\n",
        "\n",
        "                display.display(plt.gcf())\n",
        "\n",
        "                d_loss = d_loss.cpu().detach()\n",
        "                g_loss = g_loss.cpu().detach()\n",
        "\n",
        "\n",
        "                d_loss_history.append(d_loss)\n",
        "                g_loss_history.append(g_loss)"
      ]
    },
    {
      "cell_type": "markdown",
      "metadata": {
        "id": "Lj4CEF_ySGUC"
      },
      "source": [
        "Анимация первых 88 эпох обучения"
      ]
    },
    {
      "cell_type": "code",
      "execution_count": null,
      "metadata": {
        "id": "HX8TDqqWSGUK"
      },
      "outputs": [],
      "source": [
        "torch.save(generator.state_dict(), \"vanilla_gan.pth\")"
      ]
    }
  ],
  "metadata": {
    "kernelspec": {
      "display_name": "Python 3",
      "name": "python3"
    },
    "language_info": {
      "codemirror_mode": {
        "name": "ipython",
        "version": 3
      },
      "file_extension": ".py",
      "mimetype": "text/x-python",
      "name": "python",
      "nbconvert_exporter": "python",
      "pygments_lexer": "ipython3",
      "version": "3.7.0"
    },
    "colab": {
      "provenance": [],
      "gpuType": "T4"
    },
    "accelerator": "GPU"
  },
  "nbformat": 4,
  "nbformat_minor": 0
}